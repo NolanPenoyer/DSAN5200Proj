{
 "cells": [
  {
   "cell_type": "markdown",
   "metadata": {},
   "source": [
    "# Import Libraries"
   ]
  },
  {
   "cell_type": "code",
   "execution_count": 1,
   "metadata": {
    "vscode": {
     "languageId": "r"
    }
   },
   "outputs": [
    {
     "name": "stderr",
     "output_type": "stream",
     "text": [
      "\n",
      "Attaching package: 'dplyr'\n",
      "\n",
      "\n",
      "The following objects are masked from 'package:stats':\n",
      "\n",
      "    filter, lag\n",
      "\n",
      "\n",
      "The following objects are masked from 'package:base':\n",
      "\n",
      "    intersect, setdiff, setequal, union\n",
      "\n",
      "\n"
     ]
    }
   ],
   "source": [
    "library(dplyr)   # For data manipulation\n",
    "library(tidyr)   # For data tidying\n",
    "library(stringr) # For string manipulation"
   ]
  },
  {
   "cell_type": "markdown",
   "metadata": {},
   "source": [
    "# Personal Income"
   ]
  },
  {
   "cell_type": "code",
   "execution_count": 63,
   "metadata": {
    "vscode": {
     "languageId": "r"
    }
   },
   "outputs": [
    {
     "data": {
      "text/html": [
       "<table class=\"dataframe\">\n",
       "<caption>A data.frame: 6 × 8</caption>\n",
       "<thead>\n",
       "\t<tr><th></th><th scope=col>Table.2..Per.Capita.Personal.Income..by.Metropolitan.Area..2020.2022</th><th scope=col>X</th><th scope=col>X.1</th><th scope=col>X.2</th><th scope=col>X.3</th><th scope=col>X.4</th><th scope=col>X.5</th><th scope=col>X.6</th></tr>\n",
       "\t<tr><th></th><th scope=col>&lt;chr&gt;</th><th scope=col>&lt;chr&gt;</th><th scope=col>&lt;chr&gt;</th><th scope=col>&lt;chr&gt;</th><th scope=col>&lt;chr&gt;</th><th scope=col>&lt;chr&gt;</th><th scope=col>&lt;dbl&gt;</th><th scope=col>&lt;chr&gt;</th></tr>\n",
       "</thead>\n",
       "<tbody>\n",
       "\t<tr><th scope=row>1</th><td>                       </td><td>Per capita personal income1</td><td>      </td><td>      </td><td>                     </td><td>Percent change from preceding period</td><td>    NA</td><td>                     </td></tr>\n",
       "\t<tr><th scope=row>2</th><td>                       </td><td>Dollars                    </td><td>      </td><td>      </td><td>Rank in United States</td><td>Percent change                      </td><td>    NA</td><td>Rank in United States</td></tr>\n",
       "\t<tr><th scope=row>3</th><td>                       </td><td>2020                       </td><td>2021  </td><td>2022  </td><td>2022                 </td><td>2021                                </td><td>2022.0</td><td>2022                 </td></tr>\n",
       "\t<tr><th scope=row>4</th><td>United States          </td><td>59,153                     </td><td>64,430</td><td>65,470</td><td>--                   </td><td>8.9                                 </td><td>   1.6</td><td>--                   </td></tr>\n",
       "\t<tr><th scope=row>5</th><td>Metropolitan portion   </td><td>61,202                     </td><td>66,666</td><td>67,767</td><td>--                   </td><td>8.9                                 </td><td>   1.7</td><td>--                   </td></tr>\n",
       "\t<tr><th scope=row>6</th><td>Nonmetropolitan portion</td><td>46,220                     </td><td>50,312</td><td>50,917</td><td>--                   </td><td>8.9                                 </td><td>   1.2</td><td>--                   </td></tr>\n",
       "</tbody>\n",
       "</table>\n"
      ],
      "text/latex": [
       "A data.frame: 6 × 8\n",
       "\\begin{tabular}{r|llllllll}\n",
       "  & Table.2..Per.Capita.Personal.Income..by.Metropolitan.Area..2020.2022 & X & X.1 & X.2 & X.3 & X.4 & X.5 & X.6\\\\\n",
       "  & <chr> & <chr> & <chr> & <chr> & <chr> & <chr> & <dbl> & <chr>\\\\\n",
       "\\hline\n",
       "\t1 &                         & Per capita personal income1 &        &        &                       & Percent change from preceding period &     NA &                      \\\\\n",
       "\t2 &                         & Dollars                     &        &        & Rank in United States & Percent change                       &     NA & Rank in United States\\\\\n",
       "\t3 &                         & 2020                        & 2021   & 2022   & 2022                  & 2021                                 & 2022.0 & 2022                 \\\\\n",
       "\t4 & United States           & 59,153                      & 64,430 & 65,470 & --                    & 8.9                                  &    1.6 & --                   \\\\\n",
       "\t5 & Metropolitan portion    & 61,202                      & 66,666 & 67,767 & --                    & 8.9                                  &    1.7 & --                   \\\\\n",
       "\t6 & Nonmetropolitan portion & 46,220                      & 50,312 & 50,917 & --                    & 8.9                                  &    1.2 & --                   \\\\\n",
       "\\end{tabular}\n"
      ],
      "text/markdown": [
       "\n",
       "A data.frame: 6 × 8\n",
       "\n",
       "| <!--/--> | Table.2..Per.Capita.Personal.Income..by.Metropolitan.Area..2020.2022 &lt;chr&gt; | X &lt;chr&gt; | X.1 &lt;chr&gt; | X.2 &lt;chr&gt; | X.3 &lt;chr&gt; | X.4 &lt;chr&gt; | X.5 &lt;dbl&gt; | X.6 &lt;chr&gt; |\n",
       "|---|---|---|---|---|---|---|---|---|\n",
       "| 1 | <!----> | Per capita personal income1 | <!----> | <!----> | <!----> | Percent change from preceding period |     NA | <!----> |\n",
       "| 2 | <!----> | Dollars                     | <!----> | <!----> | Rank in United States | Percent change                       |     NA | Rank in United States |\n",
       "| 3 | <!----> | 2020                        | 2021   | 2022   | 2022                  | 2021                                 | 2022.0 | 2022                  |\n",
       "| 4 | United States           | 59,153                      | 64,430 | 65,470 | --                    | 8.9                                  |    1.6 | --                    |\n",
       "| 5 | Metropolitan portion    | 61,202                      | 66,666 | 67,767 | --                    | 8.9                                  |    1.7 | --                    |\n",
       "| 6 | Nonmetropolitan portion | 46,220                      | 50,312 | 50,917 | --                    | 8.9                                  |    1.2 | --                    |\n",
       "\n"
      ],
      "text/plain": [
       "  Table.2..Per.Capita.Personal.Income..by.Metropolitan.Area..2020.2022\n",
       "1                                                                     \n",
       "2                                                                     \n",
       "3                                                                     \n",
       "4 United States                                                       \n",
       "5 Metropolitan portion                                                \n",
       "6 Nonmetropolitan portion                                             \n",
       "  X                           X.1    X.2    X.3                  \n",
       "1 Per capita personal income1                                    \n",
       "2 Dollars                                   Rank in United States\n",
       "3 2020                        2021   2022   2022                 \n",
       "4 59,153                      64,430 65,470 --                   \n",
       "5 61,202                      66,666 67,767 --                   \n",
       "6 46,220                      50,312 50,917 --                   \n",
       "  X.4                                  X.5    X.6                  \n",
       "1 Percent change from preceding period     NA                      \n",
       "2 Percent change                           NA Rank in United States\n",
       "3 2021                                 2022.0 2022                 \n",
       "4 8.9                                     1.6 --                   \n",
       "5 8.9                                     1.7 --                   \n",
       "6 8.9                                     1.2 --                   "
      ]
     },
     "metadata": {},
     "output_type": "display_data"
    }
   ],
   "source": [
    "pi <- read.csv(\"data_raw/personal_income.csv\", fileEncoding = \"latin1\")\n",
    "\n",
    "head(pi)"
   ]
  },
  {
   "cell_type": "code",
   "execution_count": 64,
   "metadata": {
    "vscode": {
     "languageId": "r"
    }
   },
   "outputs": [
    {
     "data": {
      "text/html": [
       "<table class=\"dataframe\">\n",
       "<caption>A data.frame: 6 × 8</caption>\n",
       "<thead>\n",
       "\t<tr><th></th><th scope=col>Area</th><th scope=col>2020</th><th scope=col>2021</th><th scope=col>2022</th><th scope=col>Rank in 2022</th><th scope=col>Percent Change 2021</th><th scope=col>Percent Change 2022</th><th scope=col>Rank in Percent Change 2022</th></tr>\n",
       "\t<tr><th></th><th scope=col>&lt;chr&gt;</th><th scope=col>&lt;chr&gt;</th><th scope=col>&lt;chr&gt;</th><th scope=col>&lt;chr&gt;</th><th scope=col>&lt;chr&gt;</th><th scope=col>&lt;dbl&gt;</th><th scope=col>&lt;dbl&gt;</th><th scope=col>&lt;chr&gt;</th></tr>\n",
       "</thead>\n",
       "<tbody>\n",
       "\t<tr><th scope=row>1</th><td>                              </td><td>2020  </td><td>2021  </td><td>2022  </td><td>2022</td><td>2021.0</td><td>2022.0</td><td>2022</td></tr>\n",
       "\t<tr><th scope=row>2</th><td>United States                 </td><td>59,153</td><td>64,430</td><td>65,470</td><td>--  </td><td>   8.9</td><td>   1.6</td><td>--  </td></tr>\n",
       "\t<tr><th scope=row>3</th><td>Metropolitan portion          </td><td>61,202</td><td>66,666</td><td>67,767</td><td>--  </td><td>   8.9</td><td>   1.7</td><td>--  </td></tr>\n",
       "\t<tr><th scope=row>4</th><td>Nonmetropolitan portion       </td><td>46,220</td><td>50,312</td><td>50,917</td><td>--  </td><td>   8.9</td><td>   1.2</td><td>--  </td></tr>\n",
       "\t<tr><th scope=row>5</th><td>Metropolitan Statistical Areas</td><td>      </td><td>      </td><td>      </td><td>    </td><td>    NA</td><td>    NA</td><td>    </td></tr>\n",
       "\t<tr><th scope=row>6</th><td>Abilene, TX                   </td><td>48,195</td><td>52,537</td><td>53,457</td><td>227 </td><td>   9.0</td><td>   1.8</td><td>149 </td></tr>\n",
       "</tbody>\n",
       "</table>\n"
      ],
      "text/latex": [
       "A data.frame: 6 × 8\n",
       "\\begin{tabular}{r|llllllll}\n",
       "  & Area & 2020 & 2021 & 2022 & Rank in 2022 & Percent Change 2021 & Percent Change 2022 & Rank in Percent Change 2022\\\\\n",
       "  & <chr> & <chr> & <chr> & <chr> & <chr> & <dbl> & <dbl> & <chr>\\\\\n",
       "\\hline\n",
       "\t1 &                                & 2020   & 2021   & 2022   & 2022 & 2021.0 & 2022.0 & 2022\\\\\n",
       "\t2 & United States                  & 59,153 & 64,430 & 65,470 & --   &    8.9 &    1.6 & --  \\\\\n",
       "\t3 & Metropolitan portion           & 61,202 & 66,666 & 67,767 & --   &    8.9 &    1.7 & --  \\\\\n",
       "\t4 & Nonmetropolitan portion        & 46,220 & 50,312 & 50,917 & --   &    8.9 &    1.2 & --  \\\\\n",
       "\t5 & Metropolitan Statistical Areas &        &        &        &      &     NA &     NA &     \\\\\n",
       "\t6 & Abilene, TX                    & 48,195 & 52,537 & 53,457 & 227  &    9.0 &    1.8 & 149 \\\\\n",
       "\\end{tabular}\n"
      ],
      "text/markdown": [
       "\n",
       "A data.frame: 6 × 8\n",
       "\n",
       "| <!--/--> | Area &lt;chr&gt; | 2020 &lt;chr&gt; | 2021 &lt;chr&gt; | 2022 &lt;chr&gt; | Rank in 2022 &lt;chr&gt; | Percent Change 2021 &lt;dbl&gt; | Percent Change 2022 &lt;dbl&gt; | Rank in Percent Change 2022 &lt;chr&gt; |\n",
       "|---|---|---|---|---|---|---|---|---|\n",
       "| 1 | <!----> | 2020   | 2021   | 2022   | 2022 | 2021.0 | 2022.0 | 2022 |\n",
       "| 2 | United States                  | 59,153 | 64,430 | 65,470 | --   |    8.9 |    1.6 | --   |\n",
       "| 3 | Metropolitan portion           | 61,202 | 66,666 | 67,767 | --   |    8.9 |    1.7 | --   |\n",
       "| 4 | Nonmetropolitan portion        | 46,220 | 50,312 | 50,917 | --   |    8.9 |    1.2 | --   |\n",
       "| 5 | Metropolitan Statistical Areas | <!----> | <!----> | <!----> | <!----> |     NA |     NA | <!----> |\n",
       "| 6 | Abilene, TX                    | 48,195 | 52,537 | 53,457 | 227  |    9.0 |    1.8 | 149  |\n",
       "\n"
      ],
      "text/plain": [
       "  Area                           2020   2021   2022   Rank in 2022\n",
       "1                                2020   2021   2022   2022        \n",
       "2 United States                  59,153 64,430 65,470 --          \n",
       "3 Metropolitan portion           61,202 66,666 67,767 --          \n",
       "4 Nonmetropolitan portion        46,220 50,312 50,917 --          \n",
       "5 Metropolitan Statistical Areas                                  \n",
       "6 Abilene, TX                    48,195 52,537 53,457 227         \n",
       "  Percent Change 2021 Percent Change 2022 Rank in Percent Change 2022\n",
       "1 2021.0              2022.0              2022                       \n",
       "2    8.9                 1.6              --                         \n",
       "3    8.9                 1.7              --                         \n",
       "4    8.9                 1.2              --                         \n",
       "5     NA                  NA                                         \n",
       "6    9.0                 1.8              149                        "
      ]
     },
     "metadata": {},
     "output_type": "display_data"
    }
   ],
   "source": [
    "pi <- read.csv(\"data_raw/personal_income.csv\", fileEncoding = \"latin1\", skip = 2)\n",
    "\n",
    "colnames(pi) <- c(\"Area\", \"2020\", \"2021\", \"2022\", \"Rank in 2022\", \"Percent Change 2021\", \"Percent Change 2022\", \"Rank in Percent Change 2022\")\n",
    "\n",
    "head(pi)"
   ]
  },
  {
   "cell_type": "code",
   "execution_count": 65,
   "metadata": {
    "vscode": {
     "languageId": "r"
    }
   },
   "outputs": [
    {
     "data": {
      "text/html": [
       "<table class=\"dataframe\">\n",
       "<caption>A data.frame: 6 × 4</caption>\n",
       "<thead>\n",
       "\t<tr><th></th><th scope=col>Area</th><th scope=col>2020</th><th scope=col>2021</th><th scope=col>2022</th></tr>\n",
       "\t<tr><th></th><th scope=col>&lt;chr&gt;</th><th scope=col>&lt;chr&gt;</th><th scope=col>&lt;chr&gt;</th><th scope=col>&lt;chr&gt;</th></tr>\n",
       "</thead>\n",
       "<tbody>\n",
       "\t<tr><th scope=row>1</th><td>                              </td><td>2020  </td><td>2021  </td><td>2022  </td></tr>\n",
       "\t<tr><th scope=row>2</th><td>United States                 </td><td>59,153</td><td>64,430</td><td>65,470</td></tr>\n",
       "\t<tr><th scope=row>3</th><td>Metropolitan portion          </td><td>61,202</td><td>66,666</td><td>67,767</td></tr>\n",
       "\t<tr><th scope=row>4</th><td>Nonmetropolitan portion       </td><td>46,220</td><td>50,312</td><td>50,917</td></tr>\n",
       "\t<tr><th scope=row>5</th><td>Metropolitan Statistical Areas</td><td>      </td><td>      </td><td>      </td></tr>\n",
       "\t<tr><th scope=row>6</th><td>Abilene, TX                   </td><td>48,195</td><td>52,537</td><td>53,457</td></tr>\n",
       "</tbody>\n",
       "</table>\n"
      ],
      "text/latex": [
       "A data.frame: 6 × 4\n",
       "\\begin{tabular}{r|llll}\n",
       "  & Area & 2020 & 2021 & 2022\\\\\n",
       "  & <chr> & <chr> & <chr> & <chr>\\\\\n",
       "\\hline\n",
       "\t1 &                                & 2020   & 2021   & 2022  \\\\\n",
       "\t2 & United States                  & 59,153 & 64,430 & 65,470\\\\\n",
       "\t3 & Metropolitan portion           & 61,202 & 66,666 & 67,767\\\\\n",
       "\t4 & Nonmetropolitan portion        & 46,220 & 50,312 & 50,917\\\\\n",
       "\t5 & Metropolitan Statistical Areas &        &        &       \\\\\n",
       "\t6 & Abilene, TX                    & 48,195 & 52,537 & 53,457\\\\\n",
       "\\end{tabular}\n"
      ],
      "text/markdown": [
       "\n",
       "A data.frame: 6 × 4\n",
       "\n",
       "| <!--/--> | Area &lt;chr&gt; | 2020 &lt;chr&gt; | 2021 &lt;chr&gt; | 2022 &lt;chr&gt; |\n",
       "|---|---|---|---|---|\n",
       "| 1 | <!----> | 2020   | 2021   | 2022   |\n",
       "| 2 | United States                  | 59,153 | 64,430 | 65,470 |\n",
       "| 3 | Metropolitan portion           | 61,202 | 66,666 | 67,767 |\n",
       "| 4 | Nonmetropolitan portion        | 46,220 | 50,312 | 50,917 |\n",
       "| 5 | Metropolitan Statistical Areas | <!----> | <!----> | <!----> |\n",
       "| 6 | Abilene, TX                    | 48,195 | 52,537 | 53,457 |\n",
       "\n"
      ],
      "text/plain": [
       "  Area                           2020   2021   2022  \n",
       "1                                2020   2021   2022  \n",
       "2 United States                  59,153 64,430 65,470\n",
       "3 Metropolitan portion           61,202 66,666 67,767\n",
       "4 Nonmetropolitan portion        46,220 50,312 50,917\n",
       "5 Metropolitan Statistical Areas                     \n",
       "6 Abilene, TX                    48,195 52,537 53,457"
      ]
     },
     "metadata": {},
     "output_type": "display_data"
    }
   ],
   "source": [
    "pi <- pi %>% select(1:4)\n",
    "\n",
    "head(pi)"
   ]
  },
  {
   "cell_type": "code",
   "execution_count": 66,
   "metadata": {
    "vscode": {
     "languageId": "r"
    }
   },
   "outputs": [
    {
     "data": {
      "text/html": [
       "<table class=\"dataframe\">\n",
       "<caption>A data.frame: 6 × 4</caption>\n",
       "<thead>\n",
       "\t<tr><th></th><th scope=col>Area</th><th scope=col>2020</th><th scope=col>2021</th><th scope=col>2022</th></tr>\n",
       "\t<tr><th></th><th scope=col>&lt;chr&gt;</th><th scope=col>&lt;chr&gt;</th><th scope=col>&lt;chr&gt;</th><th scope=col>&lt;chr&gt;</th></tr>\n",
       "</thead>\n",
       "<tbody>\n",
       "\t<tr><th scope=row>1</th><td>Abilene, TX                </td><td>48,195</td><td>52,537</td><td>53,457</td></tr>\n",
       "\t<tr><th scope=row>2</th><td>Akron, OH                  </td><td>54,631</td><td>59,333</td><td>60,170</td></tr>\n",
       "\t<tr><th scope=row>3</th><td>Albany, GA                 </td><td>42,025</td><td>46,851</td><td>45,893</td></tr>\n",
       "\t<tr><th scope=row>4</th><td>Albany-Lebanon, OR         </td><td>47,621</td><td>51,999</td><td>52,469</td></tr>\n",
       "\t<tr><th scope=row>5</th><td>Albany-Schenectady-Troy, NY</td><td>62,798</td><td>66,966</td><td>66,984</td></tr>\n",
       "\t<tr><th scope=row>6</th><td>Albuquerque, NM            </td><td>48,654</td><td>52,972</td><td>53,954</td></tr>\n",
       "</tbody>\n",
       "</table>\n"
      ],
      "text/latex": [
       "A data.frame: 6 × 4\n",
       "\\begin{tabular}{r|llll}\n",
       "  & Area & 2020 & 2021 & 2022\\\\\n",
       "  & <chr> & <chr> & <chr> & <chr>\\\\\n",
       "\\hline\n",
       "\t1 & Abilene, TX                 & 48,195 & 52,537 & 53,457\\\\\n",
       "\t2 & Akron, OH                   & 54,631 & 59,333 & 60,170\\\\\n",
       "\t3 & Albany, GA                  & 42,025 & 46,851 & 45,893\\\\\n",
       "\t4 & Albany-Lebanon, OR          & 47,621 & 51,999 & 52,469\\\\\n",
       "\t5 & Albany-Schenectady-Troy, NY & 62,798 & 66,966 & 66,984\\\\\n",
       "\t6 & Albuquerque, NM             & 48,654 & 52,972 & 53,954\\\\\n",
       "\\end{tabular}\n"
      ],
      "text/markdown": [
       "\n",
       "A data.frame: 6 × 4\n",
       "\n",
       "| <!--/--> | Area &lt;chr&gt; | 2020 &lt;chr&gt; | 2021 &lt;chr&gt; | 2022 &lt;chr&gt; |\n",
       "|---|---|---|---|---|\n",
       "| 1 | Abilene, TX                 | 48,195 | 52,537 | 53,457 |\n",
       "| 2 | Akron, OH                   | 54,631 | 59,333 | 60,170 |\n",
       "| 3 | Albany, GA                  | 42,025 | 46,851 | 45,893 |\n",
       "| 4 | Albany-Lebanon, OR          | 47,621 | 51,999 | 52,469 |\n",
       "| 5 | Albany-Schenectady-Troy, NY | 62,798 | 66,966 | 66,984 |\n",
       "| 6 | Albuquerque, NM             | 48,654 | 52,972 | 53,954 |\n",
       "\n"
      ],
      "text/plain": [
       "  Area                        2020   2021   2022  \n",
       "1 Abilene, TX                 48,195 52,537 53,457\n",
       "2 Akron, OH                   54,631 59,333 60,170\n",
       "3 Albany, GA                  42,025 46,851 45,893\n",
       "4 Albany-Lebanon, OR          47,621 51,999 52,469\n",
       "5 Albany-Schenectady-Troy, NY 62,798 66,966 66,984\n",
       "6 Albuquerque, NM             48,654 52,972 53,954"
      ]
     },
     "metadata": {},
     "output_type": "display_data"
    }
   ],
   "source": [
    "pi <- pi %>%\n",
    "  slice(6:n())\n",
    "\n",
    "head(pi)"
   ]
  },
  {
   "cell_type": "code",
   "execution_count": 68,
   "metadata": {
    "vscode": {
     "languageId": "r"
    }
   },
   "outputs": [
    {
     "data": {
      "text/html": [
       "<table class=\"dataframe\">\n",
       "<caption>A data.frame: 6 × 4</caption>\n",
       "<thead>\n",
       "\t<tr><th></th><th scope=col>Area</th><th scope=col>2020</th><th scope=col>2021</th><th scope=col>2022</th></tr>\n",
       "\t<tr><th></th><th scope=col>&lt;chr&gt;</th><th scope=col>&lt;chr&gt;</th><th scope=col>&lt;chr&gt;</th><th scope=col>&lt;chr&gt;</th></tr>\n",
       "</thead>\n",
       "<tbody>\n",
       "\t<tr><th scope=row>382</th><td>Youngstown-Warren-Boardman, OH-PA                                                                                                                      </td><td>45,478</td><td>48,647</td><td>48,645</td></tr>\n",
       "\t<tr><th scope=row>383</th><td>Yuba City, CA                                                                                                                                          </td><td>47,794</td><td>51,401</td><td>50,252</td></tr>\n",
       "\t<tr><th scope=row>384</th><td>Yuma, AZ                                                                                                                                               </td><td>42,177</td><td>44,285</td><td>44,811</td></tr>\n",
       "\t<tr><th scope=row>385</th><td>1. Per capita personal income was computed using U.S. Census Bureau midyear population estimates for 2020 through 2022, released in March 2023.        </td><td>      </td><td>      </td><td>      </td></tr>\n",
       "\t<tr><th scope=row>386</th><td>Note. Metropolitan areas are defined (geographically delineated) by the Office of Management and Budget (OMB) Bulletin No. 20-01, issued March 6, 2020.</td><td>      </td><td>      </td><td>      </td></tr>\n",
       "\t<tr><th scope=row>387</th><td>U.S. Bureau of Economic Analysis                                                                                                                       </td><td>      </td><td>      </td><td>      </td></tr>\n",
       "</tbody>\n",
       "</table>\n"
      ],
      "text/latex": [
       "A data.frame: 6 × 4\n",
       "\\begin{tabular}{r|llll}\n",
       "  & Area & 2020 & 2021 & 2022\\\\\n",
       "  & <chr> & <chr> & <chr> & <chr>\\\\\n",
       "\\hline\n",
       "\t382 & Youngstown-Warren-Boardman, OH-PA                                                                                                                       & 45,478 & 48,647 & 48,645\\\\\n",
       "\t383 & Yuba City, CA                                                                                                                                           & 47,794 & 51,401 & 50,252\\\\\n",
       "\t384 & Yuma, AZ                                                                                                                                                & 42,177 & 44,285 & 44,811\\\\\n",
       "\t385 & 1. Per capita personal income was computed using U.S. Census Bureau midyear population estimates for 2020 through 2022, released in March 2023.         &        &        &       \\\\\n",
       "\t386 & Note. Metropolitan areas are defined (geographically delineated) by the Office of Management and Budget (OMB) Bulletin No. 20-01, issued March 6, 2020. &        &        &       \\\\\n",
       "\t387 & U.S. Bureau of Economic Analysis                                                                                                                        &        &        &       \\\\\n",
       "\\end{tabular}\n"
      ],
      "text/markdown": [
       "\n",
       "A data.frame: 6 × 4\n",
       "\n",
       "| <!--/--> | Area &lt;chr&gt; | 2020 &lt;chr&gt; | 2021 &lt;chr&gt; | 2022 &lt;chr&gt; |\n",
       "|---|---|---|---|---|\n",
       "| 382 | Youngstown-Warren-Boardman, OH-PA                                                                                                                       | 45,478 | 48,647 | 48,645 |\n",
       "| 383 | Yuba City, CA                                                                                                                                           | 47,794 | 51,401 | 50,252 |\n",
       "| 384 | Yuma, AZ                                                                                                                                                | 42,177 | 44,285 | 44,811 |\n",
       "| 385 | 1. Per capita personal income was computed using U.S. Census Bureau midyear population estimates for 2020 through 2022, released in March 2023.         | <!----> | <!----> | <!----> |\n",
       "| 386 | Note. Metropolitan areas are defined (geographically delineated) by the Office of Management and Budget (OMB) Bulletin No. 20-01, issued March 6, 2020. | <!----> | <!----> | <!----> |\n",
       "| 387 | U.S. Bureau of Economic Analysis                                                                                                                        | <!----> | <!----> | <!----> |\n",
       "\n"
      ],
      "text/plain": [
       "    Area                                                                                                                                                   \n",
       "382 Youngstown-Warren-Boardman, OH-PA                                                                                                                      \n",
       "383 Yuba City, CA                                                                                                                                          \n",
       "384 Yuma, AZ                                                                                                                                               \n",
       "385 1. Per capita personal income was computed using U.S. Census Bureau midyear population estimates for 2020 through 2022, released in March 2023.        \n",
       "386 Note. Metropolitan areas are defined (geographically delineated) by the Office of Management and Budget (OMB) Bulletin No. 20-01, issued March 6, 2020.\n",
       "387 U.S. Bureau of Economic Analysis                                                                                                                       \n",
       "    2020   2021   2022  \n",
       "382 45,478 48,647 48,645\n",
       "383 47,794 51,401 50,252\n",
       "384 42,177 44,285 44,811\n",
       "385                     \n",
       "386                     \n",
       "387                     "
      ]
     },
     "metadata": {},
     "output_type": "display_data"
    }
   ],
   "source": [
    "tail(pi)"
   ]
  },
  {
   "cell_type": "code",
   "execution_count": 69,
   "metadata": {
    "vscode": {
     "languageId": "r"
    }
   },
   "outputs": [
    {
     "data": {
      "text/html": [
       "<table class=\"dataframe\">\n",
       "<caption>A data.frame: 6 × 4</caption>\n",
       "<thead>\n",
       "\t<tr><th></th><th scope=col>Area</th><th scope=col>2020</th><th scope=col>2021</th><th scope=col>2022</th></tr>\n",
       "\t<tr><th></th><th scope=col>&lt;chr&gt;</th><th scope=col>&lt;chr&gt;</th><th scope=col>&lt;chr&gt;</th><th scope=col>&lt;chr&gt;</th></tr>\n",
       "</thead>\n",
       "<tbody>\n",
       "\t<tr><th scope=row>1</th><td>Abilene, TX                </td><td>48,195</td><td>52,537</td><td>53,457</td></tr>\n",
       "\t<tr><th scope=row>2</th><td>Akron, OH                  </td><td>54,631</td><td>59,333</td><td>60,170</td></tr>\n",
       "\t<tr><th scope=row>3</th><td>Albany, GA                 </td><td>42,025</td><td>46,851</td><td>45,893</td></tr>\n",
       "\t<tr><th scope=row>4</th><td>Albany-Lebanon, OR         </td><td>47,621</td><td>51,999</td><td>52,469</td></tr>\n",
       "\t<tr><th scope=row>5</th><td>Albany-Schenectady-Troy, NY</td><td>62,798</td><td>66,966</td><td>66,984</td></tr>\n",
       "\t<tr><th scope=row>6</th><td>Albuquerque, NM            </td><td>48,654</td><td>52,972</td><td>53,954</td></tr>\n",
       "</tbody>\n",
       "</table>\n"
      ],
      "text/latex": [
       "A data.frame: 6 × 4\n",
       "\\begin{tabular}{r|llll}\n",
       "  & Area & 2020 & 2021 & 2022\\\\\n",
       "  & <chr> & <chr> & <chr> & <chr>\\\\\n",
       "\\hline\n",
       "\t1 & Abilene, TX                 & 48,195 & 52,537 & 53,457\\\\\n",
       "\t2 & Akron, OH                   & 54,631 & 59,333 & 60,170\\\\\n",
       "\t3 & Albany, GA                  & 42,025 & 46,851 & 45,893\\\\\n",
       "\t4 & Albany-Lebanon, OR          & 47,621 & 51,999 & 52,469\\\\\n",
       "\t5 & Albany-Schenectady-Troy, NY & 62,798 & 66,966 & 66,984\\\\\n",
       "\t6 & Albuquerque, NM             & 48,654 & 52,972 & 53,954\\\\\n",
       "\\end{tabular}\n"
      ],
      "text/markdown": [
       "\n",
       "A data.frame: 6 × 4\n",
       "\n",
       "| <!--/--> | Area &lt;chr&gt; | 2020 &lt;chr&gt; | 2021 &lt;chr&gt; | 2022 &lt;chr&gt; |\n",
       "|---|---|---|---|---|\n",
       "| 1 | Abilene, TX                 | 48,195 | 52,537 | 53,457 |\n",
       "| 2 | Akron, OH                   | 54,631 | 59,333 | 60,170 |\n",
       "| 3 | Albany, GA                  | 42,025 | 46,851 | 45,893 |\n",
       "| 4 | Albany-Lebanon, OR          | 47,621 | 51,999 | 52,469 |\n",
       "| 5 | Albany-Schenectady-Troy, NY | 62,798 | 66,966 | 66,984 |\n",
       "| 6 | Albuquerque, NM             | 48,654 | 52,972 | 53,954 |\n",
       "\n"
      ],
      "text/plain": [
       "  Area                        2020   2021   2022  \n",
       "1 Abilene, TX                 48,195 52,537 53,457\n",
       "2 Akron, OH                   54,631 59,333 60,170\n",
       "3 Albany, GA                  42,025 46,851 45,893\n",
       "4 Albany-Lebanon, OR          47,621 51,999 52,469\n",
       "5 Albany-Schenectady-Troy, NY 62,798 66,966 66,984\n",
       "6 Albuquerque, NM             48,654 52,972 53,954"
      ]
     },
     "metadata": {},
     "output_type": "display_data"
    },
    {
     "data": {
      "text/html": [
       "<table class=\"dataframe\">\n",
       "<caption>A data.frame: 6 × 4</caption>\n",
       "<thead>\n",
       "\t<tr><th></th><th scope=col>Area</th><th scope=col>2020</th><th scope=col>2021</th><th scope=col>2022</th></tr>\n",
       "\t<tr><th></th><th scope=col>&lt;chr&gt;</th><th scope=col>&lt;chr&gt;</th><th scope=col>&lt;chr&gt;</th><th scope=col>&lt;chr&gt;</th></tr>\n",
       "</thead>\n",
       "<tbody>\n",
       "\t<tr><th scope=row>379</th><td>Worcester, MA-CT                 </td><td>59,994</td><td>63,142</td><td>63,475</td></tr>\n",
       "\t<tr><th scope=row>380</th><td>Yakima, WA                       </td><td>45,996</td><td>49,637</td><td>49,266</td></tr>\n",
       "\t<tr><th scope=row>381</th><td>York-Hanover, PA                 </td><td>54,395</td><td>57,656</td><td>57,321</td></tr>\n",
       "\t<tr><th scope=row>382</th><td>Youngstown-Warren-Boardman, OH-PA</td><td>45,478</td><td>48,647</td><td>48,645</td></tr>\n",
       "\t<tr><th scope=row>383</th><td>Yuba City, CA                    </td><td>47,794</td><td>51,401</td><td>50,252</td></tr>\n",
       "\t<tr><th scope=row>384</th><td>Yuma, AZ                         </td><td>42,177</td><td>44,285</td><td>44,811</td></tr>\n",
       "</tbody>\n",
       "</table>\n"
      ],
      "text/latex": [
       "A data.frame: 6 × 4\n",
       "\\begin{tabular}{r|llll}\n",
       "  & Area & 2020 & 2021 & 2022\\\\\n",
       "  & <chr> & <chr> & <chr> & <chr>\\\\\n",
       "\\hline\n",
       "\t379 & Worcester, MA-CT                  & 59,994 & 63,142 & 63,475\\\\\n",
       "\t380 & Yakima, WA                        & 45,996 & 49,637 & 49,266\\\\\n",
       "\t381 & York-Hanover, PA                  & 54,395 & 57,656 & 57,321\\\\\n",
       "\t382 & Youngstown-Warren-Boardman, OH-PA & 45,478 & 48,647 & 48,645\\\\\n",
       "\t383 & Yuba City, CA                     & 47,794 & 51,401 & 50,252\\\\\n",
       "\t384 & Yuma, AZ                          & 42,177 & 44,285 & 44,811\\\\\n",
       "\\end{tabular}\n"
      ],
      "text/markdown": [
       "\n",
       "A data.frame: 6 × 4\n",
       "\n",
       "| <!--/--> | Area &lt;chr&gt; | 2020 &lt;chr&gt; | 2021 &lt;chr&gt; | 2022 &lt;chr&gt; |\n",
       "|---|---|---|---|---|\n",
       "| 379 | Worcester, MA-CT                  | 59,994 | 63,142 | 63,475 |\n",
       "| 380 | Yakima, WA                        | 45,996 | 49,637 | 49,266 |\n",
       "| 381 | York-Hanover, PA                  | 54,395 | 57,656 | 57,321 |\n",
       "| 382 | Youngstown-Warren-Boardman, OH-PA | 45,478 | 48,647 | 48,645 |\n",
       "| 383 | Yuba City, CA                     | 47,794 | 51,401 | 50,252 |\n",
       "| 384 | Yuma, AZ                          | 42,177 | 44,285 | 44,811 |\n",
       "\n"
      ],
      "text/plain": [
       "    Area                              2020   2021   2022  \n",
       "379 Worcester, MA-CT                  59,994 63,142 63,475\n",
       "380 Yakima, WA                        45,996 49,637 49,266\n",
       "381 York-Hanover, PA                  54,395 57,656 57,321\n",
       "382 Youngstown-Warren-Boardman, OH-PA 45,478 48,647 48,645\n",
       "383 Yuba City, CA                     47,794 51,401 50,252\n",
       "384 Yuma, AZ                          42,177 44,285 44,811"
      ]
     },
     "metadata": {},
     "output_type": "display_data"
    }
   ],
   "source": [
    "pi <- head(pi, -3)\n",
    "\n",
    "head(pi)\n",
    "\n",
    "tail(pi)\n"
   ]
  },
  {
   "cell_type": "code",
   "execution_count": 70,
   "metadata": {
    "vscode": {
     "languageId": "r"
    }
   },
   "outputs": [
    {
     "data": {
      "text/html": [
       "<table class=\"dataframe\">\n",
       "<caption>A data.frame: 6 × 2</caption>\n",
       "<thead>\n",
       "\t<tr><th></th><th scope=col>Area</th><th scope=col>2022</th></tr>\n",
       "\t<tr><th></th><th scope=col>&lt;chr&gt;</th><th scope=col>&lt;chr&gt;</th></tr>\n",
       "</thead>\n",
       "<tbody>\n",
       "\t<tr><th scope=row>1</th><td>Abilene, TX                </td><td>53,457</td></tr>\n",
       "\t<tr><th scope=row>2</th><td>Akron, OH                  </td><td>60,170</td></tr>\n",
       "\t<tr><th scope=row>3</th><td>Albany, GA                 </td><td>45,893</td></tr>\n",
       "\t<tr><th scope=row>4</th><td>Albany-Lebanon, OR         </td><td>52,469</td></tr>\n",
       "\t<tr><th scope=row>5</th><td>Albany-Schenectady-Troy, NY</td><td>66,984</td></tr>\n",
       "\t<tr><th scope=row>6</th><td>Albuquerque, NM            </td><td>53,954</td></tr>\n",
       "</tbody>\n",
       "</table>\n"
      ],
      "text/latex": [
       "A data.frame: 6 × 2\n",
       "\\begin{tabular}{r|ll}\n",
       "  & Area & 2022\\\\\n",
       "  & <chr> & <chr>\\\\\n",
       "\\hline\n",
       "\t1 & Abilene, TX                 & 53,457\\\\\n",
       "\t2 & Akron, OH                   & 60,170\\\\\n",
       "\t3 & Albany, GA                  & 45,893\\\\\n",
       "\t4 & Albany-Lebanon, OR          & 52,469\\\\\n",
       "\t5 & Albany-Schenectady-Troy, NY & 66,984\\\\\n",
       "\t6 & Albuquerque, NM             & 53,954\\\\\n",
       "\\end{tabular}\n"
      ],
      "text/markdown": [
       "\n",
       "A data.frame: 6 × 2\n",
       "\n",
       "| <!--/--> | Area &lt;chr&gt; | 2022 &lt;chr&gt; |\n",
       "|---|---|---|\n",
       "| 1 | Abilene, TX                 | 53,457 |\n",
       "| 2 | Akron, OH                   | 60,170 |\n",
       "| 3 | Albany, GA                  | 45,893 |\n",
       "| 4 | Albany-Lebanon, OR          | 52,469 |\n",
       "| 5 | Albany-Schenectady-Troy, NY | 66,984 |\n",
       "| 6 | Albuquerque, NM             | 53,954 |\n",
       "\n"
      ],
      "text/plain": [
       "  Area                        2022  \n",
       "1 Abilene, TX                 53,457\n",
       "2 Akron, OH                   60,170\n",
       "3 Albany, GA                  45,893\n",
       "4 Albany-Lebanon, OR          52,469\n",
       "5 Albany-Schenectady-Troy, NY 66,984\n",
       "6 Albuquerque, NM             53,954"
      ]
     },
     "metadata": {},
     "output_type": "display_data"
    }
   ],
   "source": [
    "pi <- pi %>%\n",
    "  select(-c(2, 3))\n",
    "\n",
    "head(pi)"
   ]
  },
  {
   "cell_type": "code",
   "execution_count": 71,
   "metadata": {
    "vscode": {
     "languageId": "r"
    }
   },
   "outputs": [
    {
     "data": {
      "text/html": [
       "<table class=\"dataframe\">\n",
       "<caption>A data.frame: 6 × 2</caption>\n",
       "<thead>\n",
       "\t<tr><th></th><th scope=col>Area</th><th scope=col>2022</th></tr>\n",
       "\t<tr><th></th><th scope=col>&lt;chr&gt;</th><th scope=col>&lt;dbl&gt;</th></tr>\n",
       "</thead>\n",
       "<tbody>\n",
       "\t<tr><th scope=row>1</th><td>Abilene, TX                </td><td>53457</td></tr>\n",
       "\t<tr><th scope=row>2</th><td>Akron, OH                  </td><td>60170</td></tr>\n",
       "\t<tr><th scope=row>3</th><td>Albany, GA                 </td><td>45893</td></tr>\n",
       "\t<tr><th scope=row>4</th><td>Albany-Lebanon, OR         </td><td>52469</td></tr>\n",
       "\t<tr><th scope=row>5</th><td>Albany-Schenectady-Troy, NY</td><td>66984</td></tr>\n",
       "\t<tr><th scope=row>6</th><td>Albuquerque, NM            </td><td>53954</td></tr>\n",
       "</tbody>\n",
       "</table>\n"
      ],
      "text/latex": [
       "A data.frame: 6 × 2\n",
       "\\begin{tabular}{r|ll}\n",
       "  & Area & 2022\\\\\n",
       "  & <chr> & <dbl>\\\\\n",
       "\\hline\n",
       "\t1 & Abilene, TX                 & 53457\\\\\n",
       "\t2 & Akron, OH                   & 60170\\\\\n",
       "\t3 & Albany, GA                  & 45893\\\\\n",
       "\t4 & Albany-Lebanon, OR          & 52469\\\\\n",
       "\t5 & Albany-Schenectady-Troy, NY & 66984\\\\\n",
       "\t6 & Albuquerque, NM             & 53954\\\\\n",
       "\\end{tabular}\n"
      ],
      "text/markdown": [
       "\n",
       "A data.frame: 6 × 2\n",
       "\n",
       "| <!--/--> | Area &lt;chr&gt; | 2022 &lt;dbl&gt; |\n",
       "|---|---|---|\n",
       "| 1 | Abilene, TX                 | 53457 |\n",
       "| 2 | Akron, OH                   | 60170 |\n",
       "| 3 | Albany, GA                  | 45893 |\n",
       "| 4 | Albany-Lebanon, OR          | 52469 |\n",
       "| 5 | Albany-Schenectady-Troy, NY | 66984 |\n",
       "| 6 | Albuquerque, NM             | 53954 |\n",
       "\n"
      ],
      "text/plain": [
       "  Area                        2022 \n",
       "1 Abilene, TX                 53457\n",
       "2 Akron, OH                   60170\n",
       "3 Albany, GA                  45893\n",
       "4 Albany-Lebanon, OR          52469\n",
       "5 Albany-Schenectady-Troy, NY 66984\n",
       "6 Albuquerque, NM             53954"
      ]
     },
     "metadata": {},
     "output_type": "display_data"
    }
   ],
   "source": [
    "pi$`2022` <- as.numeric(gsub(\",\", \"\", pi$`2022`))\n",
    "\n",
    "head(pi)"
   ]
  },
  {
   "cell_type": "code",
   "execution_count": 72,
   "metadata": {
    "vscode": {
     "languageId": "r"
    }
   },
   "outputs": [
    {
     "data": {
      "text/html": [
       "<table class=\"dataframe\">\n",
       "<caption>A data.frame: 6 × 2</caption>\n",
       "<thead>\n",
       "\t<tr><th></th><th scope=col>Area</th><th scope=col>personal income</th></tr>\n",
       "\t<tr><th></th><th scope=col>&lt;chr&gt;</th><th scope=col>&lt;dbl&gt;</th></tr>\n",
       "</thead>\n",
       "<tbody>\n",
       "\t<tr><th scope=row>1</th><td>Abilene, TX                </td><td>53457</td></tr>\n",
       "\t<tr><th scope=row>2</th><td>Akron, OH                  </td><td>60170</td></tr>\n",
       "\t<tr><th scope=row>3</th><td>Albany, GA                 </td><td>45893</td></tr>\n",
       "\t<tr><th scope=row>4</th><td>Albany-Lebanon, OR         </td><td>52469</td></tr>\n",
       "\t<tr><th scope=row>5</th><td>Albany-Schenectady-Troy, NY</td><td>66984</td></tr>\n",
       "\t<tr><th scope=row>6</th><td>Albuquerque, NM            </td><td>53954</td></tr>\n",
       "</tbody>\n",
       "</table>\n"
      ],
      "text/latex": [
       "A data.frame: 6 × 2\n",
       "\\begin{tabular}{r|ll}\n",
       "  & Area & personal income\\\\\n",
       "  & <chr> & <dbl>\\\\\n",
       "\\hline\n",
       "\t1 & Abilene, TX                 & 53457\\\\\n",
       "\t2 & Akron, OH                   & 60170\\\\\n",
       "\t3 & Albany, GA                  & 45893\\\\\n",
       "\t4 & Albany-Lebanon, OR          & 52469\\\\\n",
       "\t5 & Albany-Schenectady-Troy, NY & 66984\\\\\n",
       "\t6 & Albuquerque, NM             & 53954\\\\\n",
       "\\end{tabular}\n"
      ],
      "text/markdown": [
       "\n",
       "A data.frame: 6 × 2\n",
       "\n",
       "| <!--/--> | Area &lt;chr&gt; | personal income &lt;dbl&gt; |\n",
       "|---|---|---|\n",
       "| 1 | Abilene, TX                 | 53457 |\n",
       "| 2 | Akron, OH                   | 60170 |\n",
       "| 3 | Albany, GA                  | 45893 |\n",
       "| 4 | Albany-Lebanon, OR          | 52469 |\n",
       "| 5 | Albany-Schenectady-Troy, NY | 66984 |\n",
       "| 6 | Albuquerque, NM             | 53954 |\n",
       "\n"
      ],
      "text/plain": [
       "  Area                        personal income\n",
       "1 Abilene, TX                 53457          \n",
       "2 Akron, OH                   60170          \n",
       "3 Albany, GA                  45893          \n",
       "4 Albany-Lebanon, OR          52469          \n",
       "5 Albany-Schenectady-Troy, NY 66984          \n",
       "6 Albuquerque, NM             53954          "
      ]
     },
     "metadata": {},
     "output_type": "display_data"
    }
   ],
   "source": [
    "pi <- pi %>%\n",
    "    rename(`personal income` = `2022`)\n",
    "\n",
    "head(pi)\n"
   ]
  },
  {
   "cell_type": "code",
   "execution_count": 110,
   "metadata": {
    "vscode": {
     "languageId": "r"
    }
   },
   "outputs": [],
   "source": [
    "areas_to_keep <- c(\"Cleveland\", \"New York\", \"Kansas City\", \"Detroit\", \"Philadelphia\", \"Pittsburgh\", \n",
    "                   \"Baltimore\", \"Washington\", \"Cincinnati\", \"Minneapolis-St. Paul\", \"St. Louis\", \n",
    "                   \"Boston\", \"Indianapolis\", \"Chicago\", \"San Antonio\", \"Las Vegas\", \"Seattle\", \"Denver\", \n",
    "                   \"Phoenix\", \"Sacramento\", \"Houston\", \"San Francisco\", \"Charlotte\", \"Virginia Beach\", \n",
    "                   \"Columbus\", \"Portland\", \"Atlanta\", \"Austin\", \"Dallas-Fort Worth\", \"Orlando\", \n",
    "                   \"Nashville\", \"San Diego\", \"Miami\", \"Tampa\", \"Los Angeles\")\n"
   ]
  },
  {
   "cell_type": "code",
   "execution_count": 111,
   "metadata": {
    "vscode": {
     "languageId": "r"
    }
   },
   "outputs": [
    {
     "data": {
      "text/html": [
       "<style>\n",
       ".list-inline {list-style: none; margin:0; padding: 0}\n",
       ".list-inline>li {display: inline-block}\n",
       ".list-inline>li:not(:last-child)::after {content: \"\\00b7\"; padding: 0 .5ex}\n",
       "</style>\n",
       "<ol class=list-inline><li>'Cleveland'</li><li>'New York'</li><li>'Kansas City'</li><li>'Detroit'</li><li>'Philadelphia'</li><li>'Pittsburgh'</li><li>'Baltimore'</li><li>'Washington'</li><li>'Cincinnati'</li><li>'Minneapolis-St. Paul'</li><li>'St. Louis'</li><li>'Boston'</li><li>'Indianapolis'</li><li>'Chicago'</li><li>'San Antonio'</li><li>'Las Vegas'</li><li>'Seattle'</li><li>'Denver'</li><li>'Phoenix'</li><li>'Sacramento'</li><li>'Houston'</li><li>'San Francisco'</li><li>'Charlotte'</li><li>'Virginia Beach'</li><li>'Columbus'</li><li>'Portland'</li><li>'Atlanta'</li><li>'Austin'</li><li>'Dallas-Fort Worth'</li><li>'Orlando'</li><li>'Nashville'</li><li>'San Diego'</li><li>'Miami'</li><li>'Tampa'</li><li>'Los Angeles'</li></ol>\n"
      ],
      "text/latex": [
       "\\begin{enumerate*}\n",
       "\\item 'Cleveland'\n",
       "\\item 'New York'\n",
       "\\item 'Kansas City'\n",
       "\\item 'Detroit'\n",
       "\\item 'Philadelphia'\n",
       "\\item 'Pittsburgh'\n",
       "\\item 'Baltimore'\n",
       "\\item 'Washington'\n",
       "\\item 'Cincinnati'\n",
       "\\item 'Minneapolis-St. Paul'\n",
       "\\item 'St. Louis'\n",
       "\\item 'Boston'\n",
       "\\item 'Indianapolis'\n",
       "\\item 'Chicago'\n",
       "\\item 'San Antonio'\n",
       "\\item 'Las Vegas'\n",
       "\\item 'Seattle'\n",
       "\\item 'Denver'\n",
       "\\item 'Phoenix'\n",
       "\\item 'Sacramento'\n",
       "\\item 'Houston'\n",
       "\\item 'San Francisco'\n",
       "\\item 'Charlotte'\n",
       "\\item 'Virginia Beach'\n",
       "\\item 'Columbus'\n",
       "\\item 'Portland'\n",
       "\\item 'Atlanta'\n",
       "\\item 'Austin'\n",
       "\\item 'Dallas-Fort Worth'\n",
       "\\item 'Orlando'\n",
       "\\item 'Nashville'\n",
       "\\item 'San Diego'\n",
       "\\item 'Miami'\n",
       "\\item 'Tampa'\n",
       "\\item 'Los Angeles'\n",
       "\\end{enumerate*}\n"
      ],
      "text/markdown": [
       "1. 'Cleveland'\n",
       "2. 'New York'\n",
       "3. 'Kansas City'\n",
       "4. 'Detroit'\n",
       "5. 'Philadelphia'\n",
       "6. 'Pittsburgh'\n",
       "7. 'Baltimore'\n",
       "8. 'Washington'\n",
       "9. 'Cincinnati'\n",
       "10. 'Minneapolis-St. Paul'\n",
       "11. 'St. Louis'\n",
       "12. 'Boston'\n",
       "13. 'Indianapolis'\n",
       "14. 'Chicago'\n",
       "15. 'San Antonio'\n",
       "16. 'Las Vegas'\n",
       "17. 'Seattle'\n",
       "18. 'Denver'\n",
       "19. 'Phoenix'\n",
       "20. 'Sacramento'\n",
       "21. 'Houston'\n",
       "22. 'San Francisco'\n",
       "23. 'Charlotte'\n",
       "24. 'Virginia Beach'\n",
       "25. 'Columbus'\n",
       "26. 'Portland'\n",
       "27. 'Atlanta'\n",
       "28. 'Austin'\n",
       "29. 'Dallas-Fort Worth'\n",
       "30. 'Orlando'\n",
       "31. 'Nashville'\n",
       "32. 'San Diego'\n",
       "33. 'Miami'\n",
       "34. 'Tampa'\n",
       "35. 'Los Angeles'\n",
       "\n",
       "\n"
      ],
      "text/plain": [
       " [1] \"Cleveland\"            \"New York\"             \"Kansas City\"         \n",
       " [4] \"Detroit\"              \"Philadelphia\"         \"Pittsburgh\"          \n",
       " [7] \"Baltimore\"            \"Washington\"           \"Cincinnati\"          \n",
       "[10] \"Minneapolis-St. Paul\" \"St. Louis\"            \"Boston\"              \n",
       "[13] \"Indianapolis\"         \"Chicago\"              \"San Antonio\"         \n",
       "[16] \"Las Vegas\"            \"Seattle\"              \"Denver\"              \n",
       "[19] \"Phoenix\"              \"Sacramento\"           \"Houston\"             \n",
       "[22] \"San Francisco\"        \"Charlotte\"            \"Virginia Beach\"      \n",
       "[25] \"Columbus\"             \"Portland\"             \"Atlanta\"             \n",
       "[28] \"Austin\"               \"Dallas-Fort Worth\"    \"Orlando\"             \n",
       "[31] \"Nashville\"            \"San Diego\"            \"Miami\"               \n",
       "[34] \"Tampa\"                \"Los Angeles\"         "
      ]
     },
     "metadata": {},
     "output_type": "display_data"
    }
   ],
   "source": [
    "areas_to_keep"
   ]
  },
  {
   "cell_type": "code",
   "execution_count": 112,
   "metadata": {
    "vscode": {
     "languageId": "r"
    }
   },
   "outputs": [
    {
     "data": {
      "text/html": [
       "<table class=\"dataframe\">\n",
       "<caption>A data.frame: 6 × 2</caption>\n",
       "<thead>\n",
       "\t<tr><th></th><th scope=col>Area</th><th scope=col>personal income</th></tr>\n",
       "\t<tr><th></th><th scope=col>&lt;chr&gt;</th><th scope=col>&lt;dbl&gt;</th></tr>\n",
       "</thead>\n",
       "<tbody>\n",
       "\t<tr><th scope=row>18</th><td>Atlanta-Sandy Springs-Alpharetta, GA</td><td>64107</td></tr>\n",
       "\t<tr><th scope=row>22</th><td>Austin-Round Rock-Georgetown, TX    </td><td>75119</td></tr>\n",
       "\t<tr><th scope=row>24</th><td>Baltimore-Columbia-Towson, MD       </td><td>71420</td></tr>\n",
       "\t<tr><th scope=row>43</th><td>Boston-Cambridge-Newton, MA-NH      </td><td>94082</td></tr>\n",
       "\t<tr><th scope=row>65</th><td>Charlotte-Concord-Gastonia, NC-SC   </td><td>65156</td></tr>\n",
       "\t<tr><th scope=row>66</th><td>Charlottesville, VA                 </td><td>80969</td></tr>\n",
       "</tbody>\n",
       "</table>\n"
      ],
      "text/latex": [
       "A data.frame: 6 × 2\n",
       "\\begin{tabular}{r|ll}\n",
       "  & Area & personal income\\\\\n",
       "  & <chr> & <dbl>\\\\\n",
       "\\hline\n",
       "\t18 & Atlanta-Sandy Springs-Alpharetta, GA & 64107\\\\\n",
       "\t22 & Austin-Round Rock-Georgetown, TX     & 75119\\\\\n",
       "\t24 & Baltimore-Columbia-Towson, MD        & 71420\\\\\n",
       "\t43 & Boston-Cambridge-Newton, MA-NH       & 94082\\\\\n",
       "\t65 & Charlotte-Concord-Gastonia, NC-SC    & 65156\\\\\n",
       "\t66 & Charlottesville, VA                  & 80969\\\\\n",
       "\\end{tabular}\n"
      ],
      "text/markdown": [
       "\n",
       "A data.frame: 6 × 2\n",
       "\n",
       "| <!--/--> | Area &lt;chr&gt; | personal income &lt;dbl&gt; |\n",
       "|---|---|---|\n",
       "| 18 | Atlanta-Sandy Springs-Alpharetta, GA | 64107 |\n",
       "| 22 | Austin-Round Rock-Georgetown, TX     | 75119 |\n",
       "| 24 | Baltimore-Columbia-Towson, MD        | 71420 |\n",
       "| 43 | Boston-Cambridge-Newton, MA-NH       | 94082 |\n",
       "| 65 | Charlotte-Concord-Gastonia, NC-SC    | 65156 |\n",
       "| 66 | Charlottesville, VA                  | 80969 |\n",
       "\n"
      ],
      "text/plain": [
       "   Area                                 personal income\n",
       "18 Atlanta-Sandy Springs-Alpharetta, GA 64107          \n",
       "22 Austin-Round Rock-Georgetown, TX     75119          \n",
       "24 Baltimore-Columbia-Towson, MD        71420          \n",
       "43 Boston-Cambridge-Newton, MA-NH       94082          \n",
       "65 Charlotte-Concord-Gastonia, NC-SC    65156          \n",
       "66 Charlottesville, VA                  80969          "
      ]
     },
     "metadata": {},
     "output_type": "display_data"
    },
    {
     "data": {
      "text/html": [
       "<style>\n",
       ".list-inline {list-style: none; margin:0; padding: 0}\n",
       ".list-inline>li {display: inline-block}\n",
       ".list-inline>li:not(:last-child)::after {content: \"\\00b7\"; padding: 0 .5ex}\n",
       "</style>\n",
       "<ol class=list-inline><li>40</li><li>2</li></ol>\n"
      ],
      "text/latex": [
       "\\begin{enumerate*}\n",
       "\\item 40\n",
       "\\item 2\n",
       "\\end{enumerate*}\n"
      ],
      "text/markdown": [
       "1. 40\n",
       "2. 2\n",
       "\n",
       "\n"
      ],
      "text/plain": [
       "[1] 40  2"
      ]
     },
     "metadata": {},
     "output_type": "display_data"
    }
   ],
   "source": [
    "pi2 <- pi[str_detect(pi$Area, paste(areas_to_keep, collapse = \"|\")), ]\n",
    "\n",
    "head(pi2)\n",
    "\n",
    "dim(pi2)\n"
   ]
  },
  {
   "cell_type": "code",
   "execution_count": 87,
   "metadata": {
    "vscode": {
     "languageId": "r"
    }
   },
   "outputs": [
    {
     "name": "stdout",
     "output_type": "stream",
     "text": [
      "                                              Area personal income\n",
      "18            Atlanta-Sandy Springs-Alpharetta, GA           64107\n",
      "22                Austin-Round Rock-Georgetown, TX           75119\n",
      "24                   Baltimore-Columbia-Towson, MD           71420\n",
      "43                  Boston-Cambridge-Newton, MA-NH           94082\n",
      "65               Charlotte-Concord-Gastonia, NC-SC           65156\n",
      "66                             Charlottesville, VA           80969\n",
      "69              Chicago-Naperville-Elgin, IL-IN-WI           72512\n",
      "71                            Cincinnati, OH-KY-IN           65253\n",
      "73                                   Cleveland, TN           46240\n",
      "74                            Cleveland-Elyria, OH           62921\n",
      "80                                 Columbus, GA-AL           46748\n",
      "81                                    Columbus, IN           61920\n",
      "82                                    Columbus, OH           61228\n",
      "87                 Dallas-Fort Worth-Arlington, TX           70493\n",
      "96                      Denver-Aurora-Lakewood, CO           84788\n",
      "98                     Detroit-Warren-Dearborn, MI           61322\n",
      "160           Houston-The Woodlands-Sugar Land, TX           68344\n",
      "164               Indianapolis-Carmel-Anderson, IN           68719\n",
      "181                             Kansas City, MO-KS           63417\n",
      "198               Las Vegas-Henderson-Paradise, NV           59150\n",
      "211             Los Angeles-Long Beach-Anaheim, CA           76445\n",
      "226        Miami-Fort Lauderdale-Pompano Beach, FL           77732\n",
      "231        Minneapolis-St. Paul-Bloomington, MN-WI           75164\n",
      "246 Nashville-Davidson--Murfreesboro--Franklin, TN           74035\n",
      "250          New York-Newark-Jersey City, NY-NJ-PA           84084\n",
      "261                  Orlando-Kissimmee-Sanford, FL           53959\n",
      "270    Philadelphia-Camden-Wilmington, PA-NJ-DE-MD           73291\n",
      "271                      Phoenix-Mesa-Chandler, AZ           61840\n",
      "273                                 Pittsburgh, PA           65792\n",
      "276                    Portland-South Portland, ME           71990\n",
      "277            Portland-Vancouver-Hillsboro, OR-WA           69435\n",
      "299                Sacramento-Roseville-Folsom, CA           66940\n",
      "304                               St. Louis, MO-IL           69698\n",
      "310                  San Antonio-New Braunfels, TX           55180\n",
      "311             San Diego-Chula Vista-Carlsbad, CA           74326\n",
      "312             San Francisco-Oakland-Berkeley, CA          123736\n",
      "321                    Seattle-Tacoma-Bellevue, WA           92113\n",
      "343            Tampa-St. Petersburg-Clearwater, FL           60091\n",
      "361     Virginia Beach-Norfolk-Newport News, VA-NC           57873\n",
      "366   Washington-Arlington-Alexandria, DC-VA-MD-WV           83010\n"
     ]
    }
   ],
   "source": [
    "print(pi2)\n"
   ]
  },
  {
   "cell_type": "code",
   "execution_count": 113,
   "metadata": {
    "vscode": {
     "languageId": "r"
    }
   },
   "outputs": [
    {
     "name": "stdout",
     "output_type": "stream",
     "text": [
      "                           Area personal income\n",
      "18                      Atlanta           64107\n",
      "22                       Austin           75119\n",
      "24                    Baltimore           71420\n",
      "43                       Boston           94082\n",
      "65                    Charlotte           65156\n",
      "66          Charlottesville, VA           80969\n",
      "69                      Chicago           72512\n",
      "71                   Cincinnati           65253\n",
      "73                Cleveland, TN           46240\n",
      "74                    Cleveland           62921\n",
      "80              Columbus, GA-AL           46748\n",
      "81                 Columbus, IN           61920\n",
      "82                     Columbus           61228\n",
      "87            Dallas-Fort Worth           70493\n",
      "96                       Denver           84788\n",
      "98                      Detroit           61322\n",
      "160                     Houston           68344\n",
      "164                Indianapolis           68719\n",
      "181                 Kansas City           63417\n",
      "198                   Las Vegas           59150\n",
      "211                 Los Angeles           76445\n",
      "226                       Miami           77732\n",
      "231        Minneapolis-St. Paul           75164\n",
      "246                   Nashville           74035\n",
      "250                    New York           84084\n",
      "261                     Orlando           53959\n",
      "270                Philadelphia           73291\n",
      "271                     Phoenix           61840\n",
      "273                  Pittsburgh           65792\n",
      "276 Portland-South Portland, ME           71990\n",
      "277                    Portland           69435\n",
      "299                  Sacramento           66940\n",
      "304                   St. Louis           69698\n",
      "310                 San Antonio           55180\n",
      "311                   San Diego           74326\n",
      "312               San Francisco          123736\n",
      "321                     Seattle           92113\n",
      "343                       Tampa           60091\n",
      "361              Virginia Beach           57873\n",
      "366              Washington, DC           83010\n"
     ]
    }
   ],
   "source": [
    "pi2 <- pi2 %>%\n",
    "  mutate(Area = case_when(\n",
    "    Area == \"Atlanta-Sandy Springs-Alpharetta, GA\" ~ \"Atlanta\",\n",
    "    Area == \"Austin-Round Rock-Georgetown, TX\" ~ \"Austin\",\n",
    "    Area == \"Baltimore-Columbia-Towson, MD\" ~ \"Baltimore\",\n",
    "    Area == \"Boston-Cambridge-Newton, MA-NH\" ~ \"Boston\",\n",
    "    Area == \"Charlotte-Concord-Gastonia, NC-SC\" ~ \"Charlotte\",\n",
    "    Area == \"Chicago-Naperville-Elgin, IL-IN-WI\" ~ \"Chicago\",\n",
    "    Area == \"Cincinnati, OH-KY-IN\" ~ \"Cincinnati\",\n",
    "    Area == \"Cleveland-Elyria, OH\" ~ \"Cleveland\",\n",
    "    Area == \"Columbus, OH\" ~ \"Columbus\",\n",
    "    Area == \"Dallas-Fort Worth-Arlington, TX\" ~ \"Dallas-Fort Worth\",\n",
    "    Area == \"Denver-Aurora-Lakewood, CO\" ~ \"Denver\",\n",
    "    Area == \"Detroit-Warren-Dearborn, MI\" ~ \"Detroit\",\n",
    "    Area == \"Houston-The Woodlands-Sugar Land, TX\" ~ \"Houston\",\n",
    "    Area == \"Indianapolis-Carmel-Anderson, IN\" ~ \"Indianapolis\",\n",
    "    Area == \"Kansas City, MO-KS\" ~ \"Kansas City\",\n",
    "    Area == \"Las Vegas-Henderson-Paradise, NV\" ~ \"Las Vegas\",\n",
    "    Area == \"Los Angeles-Long Beach-Anaheim, CA\" ~ \"Los Angeles\",\n",
    "    Area == \"Miami-Fort Lauderdale-Pompano Beach, FL\" ~ \"Miami\",\n",
    "    Area == \"Minneapolis-St. Paul-Bloomington, MN-WI\" ~ \"Minneapolis-St. Paul\",\n",
    "    Area == \"Nashville-Davidson--Murfreesboro--Franklin, TN\" ~ \"Nashville\",\n",
    "    Area == \"New York-Newark-Jersey City, NY-NJ-PA\" ~ \"New York\",\n",
    "    Area == \"Orlando-Kissimmee-Sanford, FL\" ~ \"Orlando\",\n",
    "    Area == \"Philadelphia-Camden-Wilmington, PA-NJ-DE-MD\" ~ \"Philadelphia\",\n",
    "    Area == \"Phoenix-Mesa-Chandler, AZ\" ~ \"Phoenix\",\n",
    "    Area == \"Pittsburgh, PA\" ~ \"Pittsburgh\",\n",
    "    Area == \"Portland-Vancouver-Hillsboro, OR-WA\" ~ \"Portland\",\n",
    "    Area == \"Sacramento-Roseville-Folsom, CA\" ~ \"Sacramento\",\n",
    "    Area == \"St. Louis, MO-IL\" ~ \"St. Louis\",\n",
    "    Area == \"San Antonio-New Braunfels, TX\" ~ \"San Antonio\",\n",
    "    Area == \"San Diego-Chula Vista-Carlsbad, CA\" ~ \"San Diego\",\n",
    "    Area == \"San Francisco-Oakland-Berkeley, CA\" ~ \"San Francisco\",\n",
    "    Area == \"Seattle-Tacoma-Bellevue, WA\" ~ \"Seattle\",\n",
    "    Area == \"Tampa-St. Petersburg-Clearwater, FL\" ~ \"Tampa\",\n",
    "    Area == \"Virginia Beach-Norfolk-Newport News, VA-NC\" ~ \"Virginia Beach\",\n",
    "    Area == \"Washington-Arlington-Alexandria, DC-VA-MD-WV\" ~ \"Washington, DC\",\n",
    "    TRUE ~ Area\n",
    "  ))\n",
    "\n",
    "print(pi2)\n"
   ]
  },
  {
   "cell_type": "code",
   "execution_count": 114,
   "metadata": {
    "vscode": {
     "languageId": "r"
    }
   },
   "outputs": [
    {
     "name": "stdout",
     "output_type": "stream",
     "text": [
      "                   Area personal income\n",
      "1               Atlanta           64107\n",
      "2                Austin           75119\n",
      "3             Baltimore           71420\n",
      "4                Boston           94082\n",
      "5             Charlotte           65156\n",
      "6               Chicago           72512\n",
      "7            Cincinnati           65253\n",
      "8             Cleveland           62921\n",
      "9              Columbus           61228\n",
      "10    Dallas-Fort Worth           70493\n",
      "11               Denver           84788\n",
      "12              Detroit           61322\n",
      "13              Houston           68344\n",
      "14         Indianapolis           68719\n",
      "15          Kansas City           63417\n",
      "16            Las Vegas           59150\n",
      "17          Los Angeles           76445\n",
      "18                Miami           77732\n",
      "19 Minneapolis-St. Paul           75164\n",
      "20            Nashville           74035\n",
      "21             New York           84084\n",
      "22              Orlando           53959\n",
      "23         Philadelphia           73291\n",
      "24              Phoenix           61840\n",
      "25           Pittsburgh           65792\n",
      "26             Portland           69435\n",
      "27           Sacramento           66940\n",
      "28            St. Louis           69698\n",
      "29          San Antonio           55180\n",
      "30            San Diego           74326\n",
      "31        San Francisco          123736\n",
      "32              Seattle           92113\n",
      "33                Tampa           60091\n",
      "34       Virginia Beach           57873\n",
      "35       Washington, DC           83010\n"
     ]
    }
   ],
   "source": [
    "pi2 <- pi2 %>%\n",
    "  filter(!Area %in% c(\"Charlottesville, VA\", \"Cleveland, TN\", \"Columbus, GA-AL\", \"Columbus, IN\", \"Portland-South Portland, ME\"))\n",
    "\n",
    "print(pi2)\n",
    "\n"
   ]
  },
  {
   "cell_type": "code",
   "execution_count": 115,
   "metadata": {
    "vscode": {
     "languageId": "r"
    }
   },
   "outputs": [
    {
     "data": {
      "text/html": [
       "<table class=\"dataframe\">\n",
       "<caption>A data.frame: 6 × 2</caption>\n",
       "<thead>\n",
       "\t<tr><th></th><th scope=col>REGION</th><th scope=col>personal income</th></tr>\n",
       "\t<tr><th></th><th scope=col>&lt;chr&gt;</th><th scope=col>&lt;dbl&gt;</th></tr>\n",
       "</thead>\n",
       "<tbody>\n",
       "\t<tr><th scope=row>1</th><td>Atlanta  </td><td>64107</td></tr>\n",
       "\t<tr><th scope=row>2</th><td>Austin   </td><td>75119</td></tr>\n",
       "\t<tr><th scope=row>3</th><td>Baltimore</td><td>71420</td></tr>\n",
       "\t<tr><th scope=row>4</th><td>Boston   </td><td>94082</td></tr>\n",
       "\t<tr><th scope=row>5</th><td>Charlotte</td><td>65156</td></tr>\n",
       "\t<tr><th scope=row>6</th><td>Chicago  </td><td>72512</td></tr>\n",
       "</tbody>\n",
       "</table>\n"
      ],
      "text/latex": [
       "A data.frame: 6 × 2\n",
       "\\begin{tabular}{r|ll}\n",
       "  & REGION & personal income\\\\\n",
       "  & <chr> & <dbl>\\\\\n",
       "\\hline\n",
       "\t1 & Atlanta   & 64107\\\\\n",
       "\t2 & Austin    & 75119\\\\\n",
       "\t3 & Baltimore & 71420\\\\\n",
       "\t4 & Boston    & 94082\\\\\n",
       "\t5 & Charlotte & 65156\\\\\n",
       "\t6 & Chicago   & 72512\\\\\n",
       "\\end{tabular}\n"
      ],
      "text/markdown": [
       "\n",
       "A data.frame: 6 × 2\n",
       "\n",
       "| <!--/--> | REGION &lt;chr&gt; | personal income &lt;dbl&gt; |\n",
       "|---|---|---|\n",
       "| 1 | Atlanta   | 64107 |\n",
       "| 2 | Austin    | 75119 |\n",
       "| 3 | Baltimore | 71420 |\n",
       "| 4 | Boston    | 94082 |\n",
       "| 5 | Charlotte | 65156 |\n",
       "| 6 | Chicago   | 72512 |\n",
       "\n"
      ],
      "text/plain": [
       "  REGION    personal income\n",
       "1 Atlanta   64107          \n",
       "2 Austin    75119          \n",
       "3 Baltimore 71420          \n",
       "4 Boston    94082          \n",
       "5 Charlotte 65156          \n",
       "6 Chicago   72512          "
      ]
     },
     "metadata": {},
     "output_type": "display_data"
    }
   ],
   "source": [
    "pi2 <- pi2 %>%\n",
    "  rename(REGION = Area)\n",
    "\n",
    "head(pi2)\n"
   ]
  },
  {
   "cell_type": "code",
   "execution_count": 116,
   "metadata": {
    "vscode": {
     "languageId": "r"
    }
   },
   "outputs": [],
   "source": [
    "write.csv(pi2, file = \"data_partial/personal_income.csv\", row.names = FALSE)\n"
   ]
  },
  {
   "cell_type": "markdown",
   "metadata": {},
   "source": [
    "---------------"
   ]
  },
  {
   "cell_type": "markdown",
   "metadata": {},
   "source": [
    "# Median Rent"
   ]
  },
  {
   "cell_type": "code",
   "execution_count": 117,
   "metadata": {
    "vscode": {
     "languageId": "r"
    }
   },
   "outputs": [
    {
     "data": {
      "text/html": [
       "<table class=\"dataframe\">\n",
       "<caption>A data.frame: 6 × 5</caption>\n",
       "<thead>\n",
       "\t<tr><th></th><th scope=col>CBSA</th><th scope=col>Population</th><th scope=col>Median.Rent</th><th scope=col>YoY...Change</th><th scope=col>MoM...Change</th></tr>\n",
       "\t<tr><th></th><th scope=col>&lt;chr&gt;</th><th scope=col>&lt;int&gt;</th><th scope=col>&lt;dbl&gt;</th><th scope=col>&lt;dbl&gt;</th><th scope=col>&lt;dbl&gt;</th></tr>\n",
       "</thead>\n",
       "<tbody>\n",
       "\t<tr><th scope=row>1</th><td>&lt;a rel=\"nofollow noopener noreferrer\" target=\"_blank\" href=\"https://www.rent.com/rhode island/providence-apartments/\"&gt;Providence, RI&lt;/a&gt;</td><td>1675774</td><td>2742.75</td><td>16.181298</td><td> 4.7650879</td></tr>\n",
       "\t<tr><th scope=row>2</th><td>&lt;a rel=\"nofollow noopener noreferrer\" target=\"_blank\" href=\"https://www.rent.com/florida/jacksonville-apartments/\"&gt;Jacksonville, FL&lt;/a&gt; </td><td>1637666</td><td>1804.25</td><td>10.503751</td><td> 1.3196687</td></tr>\n",
       "\t<tr><th scope=row>3</th><td><span style=white-space:pre-wrap>&lt;a rel=\"nofollow noopener noreferrer\" target=\"_blank\" href=\"https://www.rent.com/california/san-jose-apartments/\"&gt;San Jose, CA&lt;/a&gt;      </span></td><td>1952185</td><td>3932.00</td><td> 8.942301</td><td> 0.7688365</td></tr>\n",
       "\t<tr><th scope=row>4</th><td><span style=white-space:pre-wrap>&lt;a rel=\"nofollow noopener noreferrer\" target=\"_blank\" href=\"https://www.rent.com/missouri/st.-louis-apartments/\"&gt;St. Louis, MO&lt;/a&gt;      </span></td><td>2809299</td><td>1680.50</td><td> 8.279639</td><td>-3.4611518</td></tr>\n",
       "\t<tr><th scope=row>5</th><td><span style=white-space:pre-wrap>&lt;a rel=\"nofollow noopener noreferrer\" target=\"_blank\" href=\"https://www.rent.com/missouri/kansas-city-apartments/\"&gt;Kansas City, MO&lt;/a&gt;  </span></td><td>2199490</td><td>1686.25</td><td> 8.266453</td><td>-0.5162242</td></tr>\n",
       "\t<tr><th scope=row>6</th><td>&lt;a rel=\"nofollow noopener noreferrer\" target=\"_blank\" href=\"https://www.rent.com/minnesota/minneapolis-apartments/\"&gt;Minneapolis, MN&lt;/a&gt; </td><td>3690512</td><td>1896.50</td><td> 7.893614</td><td> 0.3439153</td></tr>\n",
       "</tbody>\n",
       "</table>\n"
      ],
      "text/latex": [
       "A data.frame: 6 × 5\n",
       "\\begin{tabular}{r|lllll}\n",
       "  & CBSA & Population & Median.Rent & YoY...Change & MoM...Change\\\\\n",
       "  & <chr> & <int> & <dbl> & <dbl> & <dbl>\\\\\n",
       "\\hline\n",
       "\t1 & <a rel=\"nofollow noopener noreferrer\" target=\"\\_blank\" href=\"https://www.rent.com/rhode island/providence-apartments/\">Providence, RI</a> & 1675774 & 2742.75 & 16.181298 &  4.7650879\\\\\n",
       "\t2 & <a rel=\"nofollow noopener noreferrer\" target=\"\\_blank\" href=\"https://www.rent.com/florida/jacksonville-apartments/\">Jacksonville, FL</a>  & 1637666 & 1804.25 & 10.503751 &  1.3196687\\\\\n",
       "\t3 & <a rel=\"nofollow noopener noreferrer\" target=\"\\_blank\" href=\"https://www.rent.com/california/san-jose-apartments/\">San Jose, CA</a>       & 1952185 & 3932.00 &  8.942301 &  0.7688365\\\\\n",
       "\t4 & <a rel=\"nofollow noopener noreferrer\" target=\"\\_blank\" href=\"https://www.rent.com/missouri/st.-louis-apartments/\">St. Louis, MO</a>       & 2809299 & 1680.50 &  8.279639 & -3.4611518\\\\\n",
       "\t5 & <a rel=\"nofollow noopener noreferrer\" target=\"\\_blank\" href=\"https://www.rent.com/missouri/kansas-city-apartments/\">Kansas City, MO</a>   & 2199490 & 1686.25 &  8.266453 & -0.5162242\\\\\n",
       "\t6 & <a rel=\"nofollow noopener noreferrer\" target=\"\\_blank\" href=\"https://www.rent.com/minnesota/minneapolis-apartments/\">Minneapolis, MN</a>  & 3690512 & 1896.50 &  7.893614 &  0.3439153\\\\\n",
       "\\end{tabular}\n"
      ],
      "text/markdown": [
       "\n",
       "A data.frame: 6 × 5\n",
       "\n",
       "| <!--/--> | CBSA &lt;chr&gt; | Population &lt;int&gt; | Median.Rent &lt;dbl&gt; | YoY...Change &lt;dbl&gt; | MoM...Change &lt;dbl&gt; |\n",
       "|---|---|---|---|---|---|\n",
       "| 1 | &lt;a rel=\"nofollow noopener noreferrer\" target=\"_blank\" href=\"https://www.rent.com/rhode island/providence-apartments/\"&gt;Providence, RI&lt;/a&gt; | 1675774 | 2742.75 | 16.181298 |  4.7650879 |\n",
       "| 2 | &lt;a rel=\"nofollow noopener noreferrer\" target=\"_blank\" href=\"https://www.rent.com/florida/jacksonville-apartments/\"&gt;Jacksonville, FL&lt;/a&gt;  | 1637666 | 1804.25 | 10.503751 |  1.3196687 |\n",
       "| 3 | &lt;a rel=\"nofollow noopener noreferrer\" target=\"_blank\" href=\"https://www.rent.com/california/san-jose-apartments/\"&gt;San Jose, CA&lt;/a&gt;       | 1952185 | 3932.00 |  8.942301 |  0.7688365 |\n",
       "| 4 | &lt;a rel=\"nofollow noopener noreferrer\" target=\"_blank\" href=\"https://www.rent.com/missouri/st.-louis-apartments/\"&gt;St. Louis, MO&lt;/a&gt;       | 2809299 | 1680.50 |  8.279639 | -3.4611518 |\n",
       "| 5 | &lt;a rel=\"nofollow noopener noreferrer\" target=\"_blank\" href=\"https://www.rent.com/missouri/kansas-city-apartments/\"&gt;Kansas City, MO&lt;/a&gt;   | 2199490 | 1686.25 |  8.266453 | -0.5162242 |\n",
       "| 6 | &lt;a rel=\"nofollow noopener noreferrer\" target=\"_blank\" href=\"https://www.rent.com/minnesota/minneapolis-apartments/\"&gt;Minneapolis, MN&lt;/a&gt;  | 3690512 | 1896.50 |  7.893614 |  0.3439153 |\n",
       "\n"
      ],
      "text/plain": [
       "  CBSA                                                                                                                                    \n",
       "1 <a rel=\"nofollow noopener noreferrer\" target=\"_blank\" href=\"https://www.rent.com/rhode island/providence-apartments/\">Providence, RI</a>\n",
       "2 <a rel=\"nofollow noopener noreferrer\" target=\"_blank\" href=\"https://www.rent.com/florida/jacksonville-apartments/\">Jacksonville, FL</a> \n",
       "3 <a rel=\"nofollow noopener noreferrer\" target=\"_blank\" href=\"https://www.rent.com/california/san-jose-apartments/\">San Jose, CA</a>      \n",
       "4 <a rel=\"nofollow noopener noreferrer\" target=\"_blank\" href=\"https://www.rent.com/missouri/st.-louis-apartments/\">St. Louis, MO</a>      \n",
       "5 <a rel=\"nofollow noopener noreferrer\" target=\"_blank\" href=\"https://www.rent.com/missouri/kansas-city-apartments/\">Kansas City, MO</a>  \n",
       "6 <a rel=\"nofollow noopener noreferrer\" target=\"_blank\" href=\"https://www.rent.com/minnesota/minneapolis-apartments/\">Minneapolis, MN</a> \n",
       "  Population Median.Rent YoY...Change MoM...Change\n",
       "1 1675774    2742.75     16.181298     4.7650879  \n",
       "2 1637666    1804.25     10.503751     1.3196687  \n",
       "3 1952185    3932.00      8.942301     0.7688365  \n",
       "4 2809299    1680.50      8.279639    -3.4611518  \n",
       "5 2199490    1686.25      8.266453    -0.5162242  \n",
       "6 3690512    1896.50      7.893614     0.3439153  "
      ]
     },
     "metadata": {},
     "output_type": "display_data"
    }
   ],
   "source": [
    "rent <- read.csv(\"data_raw/median_rent.csv\")\n",
    "\n",
    "head(rent)"
   ]
  },
  {
   "cell_type": "code",
   "execution_count": 118,
   "metadata": {
    "vscode": {
     "languageId": "r"
    }
   },
   "outputs": [
    {
     "data": {
      "text/html": [
       "<table class=\"dataframe\">\n",
       "<caption>A data.frame: 6 × 2</caption>\n",
       "<thead>\n",
       "\t<tr><th></th><th scope=col>CBSA</th><th scope=col>Median.Rent</th></tr>\n",
       "\t<tr><th></th><th scope=col>&lt;chr&gt;</th><th scope=col>&lt;dbl&gt;</th></tr>\n",
       "</thead>\n",
       "<tbody>\n",
       "\t<tr><th scope=row>1</th><td>&lt;a rel=\"nofollow noopener noreferrer\" target=\"_blank\" href=\"https://www.rent.com/rhode island/providence-apartments/\"&gt;Providence, RI&lt;/a&gt;</td><td>2742.75</td></tr>\n",
       "\t<tr><th scope=row>2</th><td>&lt;a rel=\"nofollow noopener noreferrer\" target=\"_blank\" href=\"https://www.rent.com/florida/jacksonville-apartments/\"&gt;Jacksonville, FL&lt;/a&gt; </td><td>1804.25</td></tr>\n",
       "\t<tr><th scope=row>3</th><td><span style=white-space:pre-wrap>&lt;a rel=\"nofollow noopener noreferrer\" target=\"_blank\" href=\"https://www.rent.com/california/san-jose-apartments/\"&gt;San Jose, CA&lt;/a&gt;      </span></td><td>3932.00</td></tr>\n",
       "\t<tr><th scope=row>4</th><td><span style=white-space:pre-wrap>&lt;a rel=\"nofollow noopener noreferrer\" target=\"_blank\" href=\"https://www.rent.com/missouri/st.-louis-apartments/\"&gt;St. Louis, MO&lt;/a&gt;      </span></td><td>1680.50</td></tr>\n",
       "\t<tr><th scope=row>5</th><td><span style=white-space:pre-wrap>&lt;a rel=\"nofollow noopener noreferrer\" target=\"_blank\" href=\"https://www.rent.com/missouri/kansas-city-apartments/\"&gt;Kansas City, MO&lt;/a&gt;  </span></td><td>1686.25</td></tr>\n",
       "\t<tr><th scope=row>6</th><td>&lt;a rel=\"nofollow noopener noreferrer\" target=\"_blank\" href=\"https://www.rent.com/minnesota/minneapolis-apartments/\"&gt;Minneapolis, MN&lt;/a&gt; </td><td>1896.50</td></tr>\n",
       "</tbody>\n",
       "</table>\n"
      ],
      "text/latex": [
       "A data.frame: 6 × 2\n",
       "\\begin{tabular}{r|ll}\n",
       "  & CBSA & Median.Rent\\\\\n",
       "  & <chr> & <dbl>\\\\\n",
       "\\hline\n",
       "\t1 & <a rel=\"nofollow noopener noreferrer\" target=\"\\_blank\" href=\"https://www.rent.com/rhode island/providence-apartments/\">Providence, RI</a> & 2742.75\\\\\n",
       "\t2 & <a rel=\"nofollow noopener noreferrer\" target=\"\\_blank\" href=\"https://www.rent.com/florida/jacksonville-apartments/\">Jacksonville, FL</a>  & 1804.25\\\\\n",
       "\t3 & <a rel=\"nofollow noopener noreferrer\" target=\"\\_blank\" href=\"https://www.rent.com/california/san-jose-apartments/\">San Jose, CA</a>       & 3932.00\\\\\n",
       "\t4 & <a rel=\"nofollow noopener noreferrer\" target=\"\\_blank\" href=\"https://www.rent.com/missouri/st.-louis-apartments/\">St. Louis, MO</a>       & 1680.50\\\\\n",
       "\t5 & <a rel=\"nofollow noopener noreferrer\" target=\"\\_blank\" href=\"https://www.rent.com/missouri/kansas-city-apartments/\">Kansas City, MO</a>   & 1686.25\\\\\n",
       "\t6 & <a rel=\"nofollow noopener noreferrer\" target=\"\\_blank\" href=\"https://www.rent.com/minnesota/minneapolis-apartments/\">Minneapolis, MN</a>  & 1896.50\\\\\n",
       "\\end{tabular}\n"
      ],
      "text/markdown": [
       "\n",
       "A data.frame: 6 × 2\n",
       "\n",
       "| <!--/--> | CBSA &lt;chr&gt; | Median.Rent &lt;dbl&gt; |\n",
       "|---|---|---|\n",
       "| 1 | &lt;a rel=\"nofollow noopener noreferrer\" target=\"_blank\" href=\"https://www.rent.com/rhode island/providence-apartments/\"&gt;Providence, RI&lt;/a&gt; | 2742.75 |\n",
       "| 2 | &lt;a rel=\"nofollow noopener noreferrer\" target=\"_blank\" href=\"https://www.rent.com/florida/jacksonville-apartments/\"&gt;Jacksonville, FL&lt;/a&gt;  | 1804.25 |\n",
       "| 3 | &lt;a rel=\"nofollow noopener noreferrer\" target=\"_blank\" href=\"https://www.rent.com/california/san-jose-apartments/\"&gt;San Jose, CA&lt;/a&gt;       | 3932.00 |\n",
       "| 4 | &lt;a rel=\"nofollow noopener noreferrer\" target=\"_blank\" href=\"https://www.rent.com/missouri/st.-louis-apartments/\"&gt;St. Louis, MO&lt;/a&gt;       | 1680.50 |\n",
       "| 5 | &lt;a rel=\"nofollow noopener noreferrer\" target=\"_blank\" href=\"https://www.rent.com/missouri/kansas-city-apartments/\"&gt;Kansas City, MO&lt;/a&gt;   | 1686.25 |\n",
       "| 6 | &lt;a rel=\"nofollow noopener noreferrer\" target=\"_blank\" href=\"https://www.rent.com/minnesota/minneapolis-apartments/\"&gt;Minneapolis, MN&lt;/a&gt;  | 1896.50 |\n",
       "\n"
      ],
      "text/plain": [
       "  CBSA                                                                                                                                    \n",
       "1 <a rel=\"nofollow noopener noreferrer\" target=\"_blank\" href=\"https://www.rent.com/rhode island/providence-apartments/\">Providence, RI</a>\n",
       "2 <a rel=\"nofollow noopener noreferrer\" target=\"_blank\" href=\"https://www.rent.com/florida/jacksonville-apartments/\">Jacksonville, FL</a> \n",
       "3 <a rel=\"nofollow noopener noreferrer\" target=\"_blank\" href=\"https://www.rent.com/california/san-jose-apartments/\">San Jose, CA</a>      \n",
       "4 <a rel=\"nofollow noopener noreferrer\" target=\"_blank\" href=\"https://www.rent.com/missouri/st.-louis-apartments/\">St. Louis, MO</a>      \n",
       "5 <a rel=\"nofollow noopener noreferrer\" target=\"_blank\" href=\"https://www.rent.com/missouri/kansas-city-apartments/\">Kansas City, MO</a>  \n",
       "6 <a rel=\"nofollow noopener noreferrer\" target=\"_blank\" href=\"https://www.rent.com/minnesota/minneapolis-apartments/\">Minneapolis, MN</a> \n",
       "  Median.Rent\n",
       "1 2742.75    \n",
       "2 1804.25    \n",
       "3 3932.00    \n",
       "4 1680.50    \n",
       "5 1686.25    \n",
       "6 1896.50    "
      ]
     },
     "metadata": {},
     "output_type": "display_data"
    }
   ],
   "source": [
    "rent <- rent %>% select(CBSA, Median.Rent)\n",
    "\n",
    "head(rent)\n"
   ]
  },
  {
   "cell_type": "code",
   "execution_count": 119,
   "metadata": {
    "vscode": {
     "languageId": "r"
    }
   },
   "outputs": [
    {
     "data": {
      "text/html": [
       "<table class=\"dataframe\">\n",
       "<caption>A data.frame: 6 × 2</caption>\n",
       "<thead>\n",
       "\t<tr><th></th><th scope=col>REGION</th><th scope=col>Median.Rent</th></tr>\n",
       "\t<tr><th></th><th scope=col>&lt;chr&gt;</th><th scope=col>&lt;dbl&gt;</th></tr>\n",
       "</thead>\n",
       "<tbody>\n",
       "\t<tr><th scope=row>1</th><td>&lt;a rel=\"nofollow noopener noreferrer\" target=\"_blank\" href=\"https://www.rent.com/rhode island/providence-apartments/\"&gt;Providence, RI&lt;/a&gt;</td><td>2742.75</td></tr>\n",
       "\t<tr><th scope=row>2</th><td>&lt;a rel=\"nofollow noopener noreferrer\" target=\"_blank\" href=\"https://www.rent.com/florida/jacksonville-apartments/\"&gt;Jacksonville, FL&lt;/a&gt; </td><td>1804.25</td></tr>\n",
       "\t<tr><th scope=row>3</th><td><span style=white-space:pre-wrap>&lt;a rel=\"nofollow noopener noreferrer\" target=\"_blank\" href=\"https://www.rent.com/california/san-jose-apartments/\"&gt;San Jose, CA&lt;/a&gt;      </span></td><td>3932.00</td></tr>\n",
       "\t<tr><th scope=row>4</th><td><span style=white-space:pre-wrap>&lt;a rel=\"nofollow noopener noreferrer\" target=\"_blank\" href=\"https://www.rent.com/missouri/st.-louis-apartments/\"&gt;St. Louis, MO&lt;/a&gt;      </span></td><td>1680.50</td></tr>\n",
       "\t<tr><th scope=row>5</th><td><span style=white-space:pre-wrap>&lt;a rel=\"nofollow noopener noreferrer\" target=\"_blank\" href=\"https://www.rent.com/missouri/kansas-city-apartments/\"&gt;Kansas City, MO&lt;/a&gt;  </span></td><td>1686.25</td></tr>\n",
       "\t<tr><th scope=row>6</th><td>&lt;a rel=\"nofollow noopener noreferrer\" target=\"_blank\" href=\"https://www.rent.com/minnesota/minneapolis-apartments/\"&gt;Minneapolis, MN&lt;/a&gt; </td><td>1896.50</td></tr>\n",
       "</tbody>\n",
       "</table>\n"
      ],
      "text/latex": [
       "A data.frame: 6 × 2\n",
       "\\begin{tabular}{r|ll}\n",
       "  & REGION & Median.Rent\\\\\n",
       "  & <chr> & <dbl>\\\\\n",
       "\\hline\n",
       "\t1 & <a rel=\"nofollow noopener noreferrer\" target=\"\\_blank\" href=\"https://www.rent.com/rhode island/providence-apartments/\">Providence, RI</a> & 2742.75\\\\\n",
       "\t2 & <a rel=\"nofollow noopener noreferrer\" target=\"\\_blank\" href=\"https://www.rent.com/florida/jacksonville-apartments/\">Jacksonville, FL</a>  & 1804.25\\\\\n",
       "\t3 & <a rel=\"nofollow noopener noreferrer\" target=\"\\_blank\" href=\"https://www.rent.com/california/san-jose-apartments/\">San Jose, CA</a>       & 3932.00\\\\\n",
       "\t4 & <a rel=\"nofollow noopener noreferrer\" target=\"\\_blank\" href=\"https://www.rent.com/missouri/st.-louis-apartments/\">St. Louis, MO</a>       & 1680.50\\\\\n",
       "\t5 & <a rel=\"nofollow noopener noreferrer\" target=\"\\_blank\" href=\"https://www.rent.com/missouri/kansas-city-apartments/\">Kansas City, MO</a>   & 1686.25\\\\\n",
       "\t6 & <a rel=\"nofollow noopener noreferrer\" target=\"\\_blank\" href=\"https://www.rent.com/minnesota/minneapolis-apartments/\">Minneapolis, MN</a>  & 1896.50\\\\\n",
       "\\end{tabular}\n"
      ],
      "text/markdown": [
       "\n",
       "A data.frame: 6 × 2\n",
       "\n",
       "| <!--/--> | REGION &lt;chr&gt; | Median.Rent &lt;dbl&gt; |\n",
       "|---|---|---|\n",
       "| 1 | &lt;a rel=\"nofollow noopener noreferrer\" target=\"_blank\" href=\"https://www.rent.com/rhode island/providence-apartments/\"&gt;Providence, RI&lt;/a&gt; | 2742.75 |\n",
       "| 2 | &lt;a rel=\"nofollow noopener noreferrer\" target=\"_blank\" href=\"https://www.rent.com/florida/jacksonville-apartments/\"&gt;Jacksonville, FL&lt;/a&gt;  | 1804.25 |\n",
       "| 3 | &lt;a rel=\"nofollow noopener noreferrer\" target=\"_blank\" href=\"https://www.rent.com/california/san-jose-apartments/\"&gt;San Jose, CA&lt;/a&gt;       | 3932.00 |\n",
       "| 4 | &lt;a rel=\"nofollow noopener noreferrer\" target=\"_blank\" href=\"https://www.rent.com/missouri/st.-louis-apartments/\"&gt;St. Louis, MO&lt;/a&gt;       | 1680.50 |\n",
       "| 5 | &lt;a rel=\"nofollow noopener noreferrer\" target=\"_blank\" href=\"https://www.rent.com/missouri/kansas-city-apartments/\"&gt;Kansas City, MO&lt;/a&gt;   | 1686.25 |\n",
       "| 6 | &lt;a rel=\"nofollow noopener noreferrer\" target=\"_blank\" href=\"https://www.rent.com/minnesota/minneapolis-apartments/\"&gt;Minneapolis, MN&lt;/a&gt;  | 1896.50 |\n",
       "\n"
      ],
      "text/plain": [
       "  REGION                                                                                                                                  \n",
       "1 <a rel=\"nofollow noopener noreferrer\" target=\"_blank\" href=\"https://www.rent.com/rhode island/providence-apartments/\">Providence, RI</a>\n",
       "2 <a rel=\"nofollow noopener noreferrer\" target=\"_blank\" href=\"https://www.rent.com/florida/jacksonville-apartments/\">Jacksonville, FL</a> \n",
       "3 <a rel=\"nofollow noopener noreferrer\" target=\"_blank\" href=\"https://www.rent.com/california/san-jose-apartments/\">San Jose, CA</a>      \n",
       "4 <a rel=\"nofollow noopener noreferrer\" target=\"_blank\" href=\"https://www.rent.com/missouri/st.-louis-apartments/\">St. Louis, MO</a>      \n",
       "5 <a rel=\"nofollow noopener noreferrer\" target=\"_blank\" href=\"https://www.rent.com/missouri/kansas-city-apartments/\">Kansas City, MO</a>  \n",
       "6 <a rel=\"nofollow noopener noreferrer\" target=\"_blank\" href=\"https://www.rent.com/minnesota/minneapolis-apartments/\">Minneapolis, MN</a> \n",
       "  Median.Rent\n",
       "1 2742.75    \n",
       "2 1804.25    \n",
       "3 3932.00    \n",
       "4 1680.50    \n",
       "5 1686.25    \n",
       "6 1896.50    "
      ]
     },
     "metadata": {},
     "output_type": "display_data"
    }
   ],
   "source": [
    "rent <- rent %>%\n",
    "  rename(REGION = CBSA)\n",
    "\n",
    "head(rent)\n"
   ]
  },
  {
   "cell_type": "code",
   "execution_count": 120,
   "metadata": {
    "vscode": {
     "languageId": "r"
    }
   },
   "outputs": [
    {
     "name": "stdout",
     "output_type": "stream",
     "text": [
      "                            REGION Median.Rent\n",
      "1                   Providence, RI     2742.75\n",
      "2                 Jacksonville, FL     1804.25\n",
      "3                     San Jose, CA     3932.00\n",
      "4                    St. Louis, MO     1680.50\n",
      "5                  Kansas City, MO     1686.25\n",
      "6                  Minneapolis, MN     1896.50\n",
      "7                Oklahoma City, OK     1267.75\n",
      "8               Virginia Beach, VA     1826.00\n",
      "9                      Chicago, IL     2357.50\n",
      "10                   Milwaukee, WI     1834.50\n",
      "11                    Hartford, CT     2160.00\n",
      "12                     Buffalo, NY     1736.75\n",
      "13                     Orlando, FL     2246.50\n",
      "14                    Columbus, OH     1704.50\n",
      "15                  Cincinnati, OH     1646.00\n",
      "16                 Los Angeles, CA     3587.25\n",
      "17                     Phoenix, AZ     2182.25\n",
      "18              Salt Lake City, UT     1974.75\n",
      "19                    Richmond, VA     1806.25\n",
      "20                     Seattle, WA     2946.00\n",
      "21                     Atlanta, GA     2113.00\n",
      "22                      Boston, MA     3939.50\n",
      "23                    New York, NY     4120.75\n",
      "24                  Birmingham, AL     1625.25\n",
      "25                      Dallas, TX     2180.00\n",
      "26                 San Antonio, TX     1463.00\n",
      "27               San Francisco, CA     3788.75\n",
      "28                Indianapolis, IN     1563.50\n",
      "29                  Washington, DC     2657.25\n",
      "30                Philadelphia, PA     2340.25\n",
      "31                   Baltimore, MD     1981.50\n",
      "32                   San Diego, CA     3400.25\n",
      "33                  Sacramento, CA     2614.25\n",
      "34                       Miami, FL     3056.50\n",
      "35                       Tampa, FL     2207.50\n",
      "36                     Detroit, MI     1619.75\n",
      "37                   Charlotte, NC     1923.50\n",
      "38                   Cleveland, OH     1471.25\n",
      "39                  Pittsburgh, PA     1800.75\n",
      "40 Louisville/Jefferson County, KY     1323.50\n",
      "41                      Denver, CO     2677.00\n",
      "42                   Las Vegas, NV     1666.00\n",
      "43                   Riverside, CA     2639.50\n",
      "44                    Portland, OR     2333.00\n",
      "45                     Memphis, TN     1519.50\n",
      "46                      Austin, TX     1937.50\n",
      "47                     Raleigh, NC     1906.75\n",
      "48                     Houston, TX     1578.00\n",
      "49                 New Orleans, LA     1594.50\n",
      "50                   Nashville, TN     1903.50\n"
     ]
    }
   ],
   "source": [
    "rent$REGION <- str_extract(rent$REGION, \"(?<=\\\">)[^<]+\")\n",
    "\n",
    "print(rent)"
   ]
  },
  {
   "cell_type": "markdown",
   "metadata": {},
   "source": [
    "no baltimore, phoenix, orlando\n"
   ]
  },
  {
   "cell_type": "code",
   "execution_count": 121,
   "metadata": {
    "vscode": {
     "languageId": "r"
    }
   },
   "outputs": [
    {
     "data": {
      "text/html": [
       "<style>\n",
       ".list-inline {list-style: none; margin:0; padding: 0}\n",
       ".list-inline>li {display: inline-block}\n",
       ".list-inline>li:not(:last-child)::after {content: \"\\00b7\"; padding: 0 .5ex}\n",
       "</style>\n",
       "<ol class=list-inline><li>50</li><li>2</li></ol>\n"
      ],
      "text/latex": [
       "\\begin{enumerate*}\n",
       "\\item 50\n",
       "\\item 2\n",
       "\\end{enumerate*}\n"
      ],
      "text/markdown": [
       "1. 50\n",
       "2. 2\n",
       "\n",
       "\n"
      ],
      "text/plain": [
       "[1] 50  2"
      ]
     },
     "metadata": {},
     "output_type": "display_data"
    }
   ],
   "source": [
    "dim(rent)"
   ]
  },
  {
   "cell_type": "code",
   "execution_count": 127,
   "metadata": {
    "vscode": {
     "languageId": "r"
    }
   },
   "outputs": [],
   "source": [
    "areas_to_keep <- c(\"Cleveland\", \"New York\", \"Kansas City\", \"Detroit\", \"Philadelphia\", \"Pittsburgh\", \n",
    "                   \"Baltimore\", \"Washington\", \"Cincinnati\", \"Minneapolis\", \"St. Louis\", \n",
    "                   \"Boston\", \"Indianapolis\", \"Chicago\", \"San Antonio\", \"Las Vegas\", \"Seattle\", \"Denver\", \n",
    "                   \"Phoenix\", \"Sacramento\", \"Houston\", \"San Francisco\", \"Charlotte\", \"Virginia Beach\", \n",
    "                   \"Columbus\", \"Portland\", \"Atlanta\", \"Austin\", \"Dallas\", \"Orlando\", \n",
    "                   \"Nashville\", \"San Diego\", \"Miami\", \"Tampa\", \"Los Angeles\")"
   ]
  },
  {
   "cell_type": "code",
   "execution_count": 106,
   "metadata": {
    "vscode": {
     "languageId": "r"
    }
   },
   "outputs": [
    {
     "data": {
      "text/html": [
       "<style>\n",
       ".list-inline {list-style: none; margin:0; padding: 0}\n",
       ".list-inline>li {display: inline-block}\n",
       ".list-inline>li:not(:last-child)::after {content: \"\\00b7\"; padding: 0 .5ex}\n",
       "</style>\n",
       "<ol class=list-inline><li>'Cleveland'</li><li>'New York'</li><li>'Kansas City'</li><li>'Detroit'</li><li>'Philadelphia'</li><li>'Pittsburgh'</li><li>'Baltimore'</li><li>'Washington'</li><li>'Cincinnati'</li><li>'Minneapolis-St. Paul'</li><li>'St. Louis'</li><li>'Boston'</li><li>'Indianapolis'</li><li>'Chicago'</li><li>'San Antonio'</li><li>'Las Vegas'</li><li>'Seattle'</li><li>'Denver'</li><li>'Phoenix'</li><li>'Sacramento'</li><li>'Houston'</li><li>'San Francisco'</li><li>'Charlotte'</li><li>'Virginia Beach'</li><li>'Columbus'</li><li>'Portland'</li><li>'Atlanta'</li><li>'Austin'</li><li>'Dallas'</li><li>'Orlando'</li><li>'Nashville'</li><li>'San Diego'</li><li>'Miami'</li><li>'Tampa'</li><li>'Los Angeles'</li></ol>\n"
      ],
      "text/latex": [
       "\\begin{enumerate*}\n",
       "\\item 'Cleveland'\n",
       "\\item 'New York'\n",
       "\\item 'Kansas City'\n",
       "\\item 'Detroit'\n",
       "\\item 'Philadelphia'\n",
       "\\item 'Pittsburgh'\n",
       "\\item 'Baltimore'\n",
       "\\item 'Washington'\n",
       "\\item 'Cincinnati'\n",
       "\\item 'Minneapolis-St. Paul'\n",
       "\\item 'St. Louis'\n",
       "\\item 'Boston'\n",
       "\\item 'Indianapolis'\n",
       "\\item 'Chicago'\n",
       "\\item 'San Antonio'\n",
       "\\item 'Las Vegas'\n",
       "\\item 'Seattle'\n",
       "\\item 'Denver'\n",
       "\\item 'Phoenix'\n",
       "\\item 'Sacramento'\n",
       "\\item 'Houston'\n",
       "\\item 'San Francisco'\n",
       "\\item 'Charlotte'\n",
       "\\item 'Virginia Beach'\n",
       "\\item 'Columbus'\n",
       "\\item 'Portland'\n",
       "\\item 'Atlanta'\n",
       "\\item 'Austin'\n",
       "\\item 'Dallas'\n",
       "\\item 'Orlando'\n",
       "\\item 'Nashville'\n",
       "\\item 'San Diego'\n",
       "\\item 'Miami'\n",
       "\\item 'Tampa'\n",
       "\\item 'Los Angeles'\n",
       "\\end{enumerate*}\n"
      ],
      "text/markdown": [
       "1. 'Cleveland'\n",
       "2. 'New York'\n",
       "3. 'Kansas City'\n",
       "4. 'Detroit'\n",
       "5. 'Philadelphia'\n",
       "6. 'Pittsburgh'\n",
       "7. 'Baltimore'\n",
       "8. 'Washington'\n",
       "9. 'Cincinnati'\n",
       "10. 'Minneapolis-St. Paul'\n",
       "11. 'St. Louis'\n",
       "12. 'Boston'\n",
       "13. 'Indianapolis'\n",
       "14. 'Chicago'\n",
       "15. 'San Antonio'\n",
       "16. 'Las Vegas'\n",
       "17. 'Seattle'\n",
       "18. 'Denver'\n",
       "19. 'Phoenix'\n",
       "20. 'Sacramento'\n",
       "21. 'Houston'\n",
       "22. 'San Francisco'\n",
       "23. 'Charlotte'\n",
       "24. 'Virginia Beach'\n",
       "25. 'Columbus'\n",
       "26. 'Portland'\n",
       "27. 'Atlanta'\n",
       "28. 'Austin'\n",
       "29. 'Dallas'\n",
       "30. 'Orlando'\n",
       "31. 'Nashville'\n",
       "32. 'San Diego'\n",
       "33. 'Miami'\n",
       "34. 'Tampa'\n",
       "35. 'Los Angeles'\n",
       "\n",
       "\n"
      ],
      "text/plain": [
       " [1] \"Cleveland\"            \"New York\"             \"Kansas City\"         \n",
       " [4] \"Detroit\"              \"Philadelphia\"         \"Pittsburgh\"          \n",
       " [7] \"Baltimore\"            \"Washington\"           \"Cincinnati\"          \n",
       "[10] \"Minneapolis-St. Paul\" \"St. Louis\"            \"Boston\"              \n",
       "[13] \"Indianapolis\"         \"Chicago\"              \"San Antonio\"         \n",
       "[16] \"Las Vegas\"            \"Seattle\"              \"Denver\"              \n",
       "[19] \"Phoenix\"              \"Sacramento\"           \"Houston\"             \n",
       "[22] \"San Francisco\"        \"Charlotte\"            \"Virginia Beach\"      \n",
       "[25] \"Columbus\"             \"Portland\"             \"Atlanta\"             \n",
       "[28] \"Austin\"               \"Dallas\"               \"Orlando\"             \n",
       "[31] \"Nashville\"            \"San Diego\"            \"Miami\"               \n",
       "[34] \"Tampa\"                \"Los Angeles\"         "
      ]
     },
     "metadata": {},
     "output_type": "display_data"
    }
   ],
   "source": [
    "areas_to_keep"
   ]
  },
  {
   "cell_type": "code",
   "execution_count": 132,
   "metadata": {
    "vscode": {
     "languageId": "r"
    }
   },
   "outputs": [
    {
     "name": "stdout",
     "output_type": "stream",
     "text": [
      "               REGION Median.Rent\n",
      "4       St. Louis, MO     1680.50\n",
      "5     Kansas City, MO     1686.25\n",
      "6     Minneapolis, MN     1896.50\n",
      "8  Virginia Beach, VA     1826.00\n",
      "9         Chicago, IL     2357.50\n",
      "13        Orlando, FL     2246.50\n",
      "14       Columbus, OH     1704.50\n",
      "15     Cincinnati, OH     1646.00\n",
      "16    Los Angeles, CA     3587.25\n",
      "17        Phoenix, AZ     2182.25\n",
      "20        Seattle, WA     2946.00\n",
      "21        Atlanta, GA     2113.00\n",
      "22         Boston, MA     3939.50\n",
      "23       New York, NY     4120.75\n",
      "25         Dallas, TX     2180.00\n",
      "26    San Antonio, TX     1463.00\n",
      "27  San Francisco, CA     3788.75\n",
      "28   Indianapolis, IN     1563.50\n",
      "29     Washington, DC     2657.25\n",
      "30   Philadelphia, PA     2340.25\n",
      "31      Baltimore, MD     1981.50\n",
      "32      San Diego, CA     3400.25\n",
      "33     Sacramento, CA     2614.25\n",
      "34          Miami, FL     3056.50\n",
      "35          Tampa, FL     2207.50\n",
      "36        Detroit, MI     1619.75\n",
      "37      Charlotte, NC     1923.50\n",
      "38      Cleveland, OH     1471.25\n",
      "39     Pittsburgh, PA     1800.75\n",
      "41         Denver, CO     2677.00\n",
      "42      Las Vegas, NV     1666.00\n",
      "44       Portland, OR     2333.00\n",
      "46         Austin, TX     1937.50\n",
      "48        Houston, TX     1578.00\n",
      "50      Nashville, TN     1903.50\n"
     ]
    }
   ],
   "source": [
    "rent2 <- rent[str_detect(rent$REGION, paste(areas_to_keep, collapse = \"|\")), ]\n",
    "\n",
    "print(rent2)\n"
   ]
  },
  {
   "cell_type": "code",
   "execution_count": 133,
   "metadata": {
    "vscode": {
     "languageId": "r"
    }
   },
   "outputs": [
    {
     "name": "stdout",
     "output_type": "stream",
     "text": [
      "                 REGION Median.Rent\n",
      "4             St. Louis     1680.50\n",
      "5           Kansas City     1686.25\n",
      "6  Minneapolis-St. Paul     1896.50\n",
      "8        Virginia Beach     1826.00\n",
      "9               Chicago     2357.50\n",
      "13              Orlando     2246.50\n",
      "14             Columbus     1704.50\n",
      "15           Cincinnati     1646.00\n",
      "16          Los Angeles     3587.25\n",
      "17              Phoenix     2182.25\n",
      "20              Seattle     2946.00\n",
      "21              Atlanta     2113.00\n",
      "22               Boston     3939.50\n",
      "23             New York     4120.75\n",
      "25    Dallas-Fort Worth     2180.00\n",
      "26          San Antonio     1463.00\n",
      "27        San Francisco     3788.75\n",
      "28         Indianapolis     1563.50\n",
      "29       Washington, DC     2657.25\n",
      "30         Philadelphia     2340.25\n",
      "31            Baltimore     1981.50\n",
      "32            San Diego     3400.25\n",
      "33           Sacramento     2614.25\n",
      "34                Miami     3056.50\n",
      "35                Tampa     2207.50\n",
      "36              Detroit     1619.75\n",
      "37            Charlotte     1923.50\n",
      "38            Cleveland     1471.25\n",
      "39           Pittsburgh     1800.75\n",
      "41               Denver     2677.00\n",
      "42            Las Vegas     1666.00\n",
      "44             Portland     2333.00\n",
      "46               Austin     1937.50\n",
      "48              Houston     1578.00\n",
      "50            Nashville     1903.50\n"
     ]
    }
   ],
   "source": [
    "rent2 <- rent2 %>%\n",
    "  mutate(REGION = case_when(\n",
    "    REGION == \"St. Louis, MO\" ~ \"St. Louis\",\n",
    "    REGION == \"Kansas City, MO\" ~ \"Kansas City\",\n",
    "    REGION == \"Virginia Beach, VA\" ~ \"Virginia Beach\",\n",
    "    REGION == \"Chicago, IL\" ~ \"Chicago\",\n",
    "    REGION == \"Columbus, OH\" ~ \"Columbus\",\n",
    "    REGION == \"Orlando, FL\" ~ \"Orlando\",\n",
    "    REGION == \"Cincinnati, OH\" ~ \"Cincinnati\",\n",
    "    REGION == \"Los Angeles, CA\" ~ \"Los Angeles\",\n",
    "    REGION == \"Phoenix, AZ\" ~ \"Phoenix\",\n",
    "    REGION == \"Seattle, WA\" ~ \"Seattle\",\n",
    "    REGION == \"Atlanta, GA\" ~ \"Atlanta\",\n",
    "    REGION == \"Boston, MA\" ~ \"Boston\",\n",
    "    REGION == \"New York, NY\" ~ \"New York\",\n",
    "    REGION == \"San Antonio, TX\" ~ \"San Antonio\",\n",
    "    REGION == \"San Francisco, CA\" ~ \"San Francisco\",\n",
    "    REGION == \"Indianapolis, IN\" ~ \"Indianapolis\",\n",
    "    REGION == \"Philadelphia, PA\" ~ \"Philadelphia\",\n",
    "    REGION == \"Baltimore, MD\" ~ \"Baltimore\",\n",
    "    REGION == \"San Diego, CA\" ~ \"San Diego\",\n",
    "    REGION == \"Sacramento, CA\" ~ \"Sacramento\",\n",
    "    REGION == \"Miami, FL\" ~ \"Miami\",\n",
    "    REGION == \"Tampa, FL\" ~ \"Tampa\",\n",
    "    REGION == \"Detroit, MI\" ~ \"Detroit\",\n",
    "    REGION == \"Charlotte, NC\" ~ \"Charlotte\",\n",
    "    REGION == \"Cleveland, OH\" ~ \"Cleveland\",\n",
    "    REGION == \"Pittsburgh, PA\" ~ \"Pittsburgh\",\n",
    "    REGION == \"Denver, CO\" ~ \"Denver\",\n",
    "    REGION == \"Las Vegas, NV\" ~ \"Las Vegas\",\n",
    "    REGION == \"Houston, TX\" ~ \"Houston\",\n",
    "    REGION == \"Portland, OR\" ~ \"Portland\",\n",
    "    REGION == \"Austin, TX\" ~ \"Austin\",\n",
    "    REGION == \"Nashville, TN\" ~ \"Nashville\",\n",
    "    REGION == \"Minneapolis, MN\" ~ \"Minneapolis-St. Paul\",\n",
    "    REGION == \"Dallas, TX\" ~ \"Dallas-Fort Worth\",\n",
    "\n",
    "    TRUE ~ REGION\n",
    "  ))\n",
    "\n",
    "print(rent2)"
   ]
  },
  {
   "cell_type": "code",
   "execution_count": 134,
   "metadata": {
    "vscode": {
     "languageId": "r"
    }
   },
   "outputs": [
    {
     "data": {
      "text/html": [
       "<style>\n",
       ".list-inline {list-style: none; margin:0; padding: 0}\n",
       ".list-inline>li {display: inline-block}\n",
       ".list-inline>li:not(:last-child)::after {content: \"\\00b7\"; padding: 0 .5ex}\n",
       "</style>\n",
       "<ol class=list-inline><li>35</li><li>2</li></ol>\n"
      ],
      "text/latex": [
       "\\begin{enumerate*}\n",
       "\\item 35\n",
       "\\item 2\n",
       "\\end{enumerate*}\n"
      ],
      "text/markdown": [
       "1. 35\n",
       "2. 2\n",
       "\n",
       "\n"
      ],
      "text/plain": [
       "[1] 35  2"
      ]
     },
     "metadata": {},
     "output_type": "display_data"
    }
   ],
   "source": [
    "dim(rent2)"
   ]
  },
  {
   "cell_type": "code",
   "execution_count": 136,
   "metadata": {
    "vscode": {
     "languageId": "r"
    }
   },
   "outputs": [
    {
     "data": {
      "text/html": [
       "<style>\n",
       ".list-inline {list-style: none; margin:0; padding: 0}\n",
       ".list-inline>li {display: inline-block}\n",
       ".list-inline>li:not(:last-child)::after {content: \"\\00b7\"; padding: 0 .5ex}\n",
       "</style>\n",
       "<ol class=list-inline><li>35</li><li>2</li></ol>\n"
      ],
      "text/latex": [
       "\\begin{enumerate*}\n",
       "\\item 35\n",
       "\\item 2\n",
       "\\end{enumerate*}\n"
      ],
      "text/markdown": [
       "1. 35\n",
       "2. 2\n",
       "\n",
       "\n"
      ],
      "text/plain": [
       "[1] 35  2"
      ]
     },
     "metadata": {},
     "output_type": "display_data"
    }
   ],
   "source": [
    "dim(pi2)\n"
   ]
  },
  {
   "cell_type": "code",
   "execution_count": 135,
   "metadata": {
    "vscode": {
     "languageId": "r"
    }
   },
   "outputs": [],
   "source": [
    "write.csv(rent2, file = \"data_partial/median_rent.csv\", row.names = FALSE)\n"
   ]
  }
 ],
 "metadata": {
  "kernelspec": {
   "display_name": "R",
   "language": "R",
   "name": "ir"
  },
  "language_info": {
   "codemirror_mode": "r",
   "file_extension": ".r",
   "mimetype": "text/x-r-source",
   "name": "R",
   "pygments_lexer": "r",
   "version": "4.3.1"
  }
 },
 "nbformat": 4,
 "nbformat_minor": 2
}
