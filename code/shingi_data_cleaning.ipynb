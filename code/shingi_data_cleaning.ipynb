{
 "cells": [
  {
   "cell_type": "markdown",
   "metadata": {},
   "source": [
    "# Import Libraries"
   ]
  },
  {
   "cell_type": "code",
   "execution_count": 1,
   "metadata": {
    "vscode": {
     "languageId": "r"
    }
   },
   "outputs": [
    {
     "name": "stderr",
     "output_type": "stream",
     "text": [
      "\n",
      "Attaching package: 'dplyr'\n",
      "\n",
      "\n",
      "The following objects are masked from 'package:stats':\n",
      "\n",
      "    filter, lag\n",
      "\n",
      "\n",
      "The following objects are masked from 'package:base':\n",
      "\n",
      "    intersect, setdiff, setequal, union\n",
      "\n",
      "\n",
      "Warning message:\n",
      "\"package 'ggmap' was built under R version 4.3.3\"\n",
      "\u001b[32mℹ\u001b[39m Google's Terms of Service: \u001b[34m\u001b[3m<https://mapsplatform.google.com>\u001b[23m\u001b[39m\n",
      "  Stadia Maps' Terms of Service: \u001b[34m\u001b[3m<https://stadiamaps.com/terms-of-service/>\u001b[23m\u001b[39m\n",
      "  OpenStreetMap's Tile Usage Policy: \u001b[34m\u001b[3m<https://operations.osmfoundation.org/policies/tiles/>\u001b[23m\u001b[39m\n",
      "\u001b[32mℹ\u001b[39m Please cite \u001b[34mggmap\u001b[39m if you use it! Use `citation(\"ggmap\")` for details.\n"
     ]
    }
   ],
   "source": [
    "library(dplyr)   # For data manipulation\n",
    "library(tidyr)   # For data tidying\n",
    "library(stringr) # For string manipulation\n",
    "library(ggplot2)\n",
    "library(ggmap)"
   ]
  },
  {
   "cell_type": "markdown",
   "metadata": {},
   "source": [
    "# Personal Income"
   ]
  },
  {
   "cell_type": "code",
   "execution_count": 63,
   "metadata": {
    "vscode": {
     "languageId": "r"
    }
   },
   "outputs": [
    {
     "data": {
      "text/html": [
       "<table class=\"dataframe\">\n",
       "<caption>A data.frame: 6 × 8</caption>\n",
       "<thead>\n",
       "\t<tr><th></th><th scope=col>Table.2..Per.Capita.Personal.Income..by.Metropolitan.Area..2020.2022</th><th scope=col>X</th><th scope=col>X.1</th><th scope=col>X.2</th><th scope=col>X.3</th><th scope=col>X.4</th><th scope=col>X.5</th><th scope=col>X.6</th></tr>\n",
       "\t<tr><th></th><th scope=col>&lt;chr&gt;</th><th scope=col>&lt;chr&gt;</th><th scope=col>&lt;chr&gt;</th><th scope=col>&lt;chr&gt;</th><th scope=col>&lt;chr&gt;</th><th scope=col>&lt;chr&gt;</th><th scope=col>&lt;dbl&gt;</th><th scope=col>&lt;chr&gt;</th></tr>\n",
       "</thead>\n",
       "<tbody>\n",
       "\t<tr><th scope=row>1</th><td>                       </td><td>Per capita personal income1</td><td>      </td><td>      </td><td>                     </td><td>Percent change from preceding period</td><td>    NA</td><td>                     </td></tr>\n",
       "\t<tr><th scope=row>2</th><td>                       </td><td>Dollars                    </td><td>      </td><td>      </td><td>Rank in United States</td><td>Percent change                      </td><td>    NA</td><td>Rank in United States</td></tr>\n",
       "\t<tr><th scope=row>3</th><td>                       </td><td>2020                       </td><td>2021  </td><td>2022  </td><td>2022                 </td><td>2021                                </td><td>2022.0</td><td>2022                 </td></tr>\n",
       "\t<tr><th scope=row>4</th><td>United States          </td><td>59,153                     </td><td>64,430</td><td>65,470</td><td>--                   </td><td>8.9                                 </td><td>   1.6</td><td>--                   </td></tr>\n",
       "\t<tr><th scope=row>5</th><td>Metropolitan portion   </td><td>61,202                     </td><td>66,666</td><td>67,767</td><td>--                   </td><td>8.9                                 </td><td>   1.7</td><td>--                   </td></tr>\n",
       "\t<tr><th scope=row>6</th><td>Nonmetropolitan portion</td><td>46,220                     </td><td>50,312</td><td>50,917</td><td>--                   </td><td>8.9                                 </td><td>   1.2</td><td>--                   </td></tr>\n",
       "</tbody>\n",
       "</table>\n"
      ],
      "text/latex": [
       "A data.frame: 6 × 8\n",
       "\\begin{tabular}{r|llllllll}\n",
       "  & Table.2..Per.Capita.Personal.Income..by.Metropolitan.Area..2020.2022 & X & X.1 & X.2 & X.3 & X.4 & X.5 & X.6\\\\\n",
       "  & <chr> & <chr> & <chr> & <chr> & <chr> & <chr> & <dbl> & <chr>\\\\\n",
       "\\hline\n",
       "\t1 &                         & Per capita personal income1 &        &        &                       & Percent change from preceding period &     NA &                      \\\\\n",
       "\t2 &                         & Dollars                     &        &        & Rank in United States & Percent change                       &     NA & Rank in United States\\\\\n",
       "\t3 &                         & 2020                        & 2021   & 2022   & 2022                  & 2021                                 & 2022.0 & 2022                 \\\\\n",
       "\t4 & United States           & 59,153                      & 64,430 & 65,470 & --                    & 8.9                                  &    1.6 & --                   \\\\\n",
       "\t5 & Metropolitan portion    & 61,202                      & 66,666 & 67,767 & --                    & 8.9                                  &    1.7 & --                   \\\\\n",
       "\t6 & Nonmetropolitan portion & 46,220                      & 50,312 & 50,917 & --                    & 8.9                                  &    1.2 & --                   \\\\\n",
       "\\end{tabular}\n"
      ],
      "text/markdown": [
       "\n",
       "A data.frame: 6 × 8\n",
       "\n",
       "| <!--/--> | Table.2..Per.Capita.Personal.Income..by.Metropolitan.Area..2020.2022 &lt;chr&gt; | X &lt;chr&gt; | X.1 &lt;chr&gt; | X.2 &lt;chr&gt; | X.3 &lt;chr&gt; | X.4 &lt;chr&gt; | X.5 &lt;dbl&gt; | X.6 &lt;chr&gt; |\n",
       "|---|---|---|---|---|---|---|---|---|\n",
       "| 1 | <!----> | Per capita personal income1 | <!----> | <!----> | <!----> | Percent change from preceding period |     NA | <!----> |\n",
       "| 2 | <!----> | Dollars                     | <!----> | <!----> | Rank in United States | Percent change                       |     NA | Rank in United States |\n",
       "| 3 | <!----> | 2020                        | 2021   | 2022   | 2022                  | 2021                                 | 2022.0 | 2022                  |\n",
       "| 4 | United States           | 59,153                      | 64,430 | 65,470 | --                    | 8.9                                  |    1.6 | --                    |\n",
       "| 5 | Metropolitan portion    | 61,202                      | 66,666 | 67,767 | --                    | 8.9                                  |    1.7 | --                    |\n",
       "| 6 | Nonmetropolitan portion | 46,220                      | 50,312 | 50,917 | --                    | 8.9                                  |    1.2 | --                    |\n",
       "\n"
      ],
      "text/plain": [
       "  Table.2..Per.Capita.Personal.Income..by.Metropolitan.Area..2020.2022\n",
       "1                                                                     \n",
       "2                                                                     \n",
       "3                                                                     \n",
       "4 United States                                                       \n",
       "5 Metropolitan portion                                                \n",
       "6 Nonmetropolitan portion                                             \n",
       "  X                           X.1    X.2    X.3                  \n",
       "1 Per capita personal income1                                    \n",
       "2 Dollars                                   Rank in United States\n",
       "3 2020                        2021   2022   2022                 \n",
       "4 59,153                      64,430 65,470 --                   \n",
       "5 61,202                      66,666 67,767 --                   \n",
       "6 46,220                      50,312 50,917 --                   \n",
       "  X.4                                  X.5    X.6                  \n",
       "1 Percent change from preceding period     NA                      \n",
       "2 Percent change                           NA Rank in United States\n",
       "3 2021                                 2022.0 2022                 \n",
       "4 8.9                                     1.6 --                   \n",
       "5 8.9                                     1.7 --                   \n",
       "6 8.9                                     1.2 --                   "
      ]
     },
     "metadata": {},
     "output_type": "display_data"
    }
   ],
   "source": [
    "pi <- read.csv(\"data_raw/personal_income.csv\", fileEncoding = \"latin1\")\n",
    "\n",
    "head(pi)"
   ]
  },
  {
   "cell_type": "code",
   "execution_count": 64,
   "metadata": {
    "vscode": {
     "languageId": "r"
    }
   },
   "outputs": [
    {
     "data": {
      "text/html": [
       "<table class=\"dataframe\">\n",
       "<caption>A data.frame: 6 × 8</caption>\n",
       "<thead>\n",
       "\t<tr><th></th><th scope=col>Area</th><th scope=col>2020</th><th scope=col>2021</th><th scope=col>2022</th><th scope=col>Rank in 2022</th><th scope=col>Percent Change 2021</th><th scope=col>Percent Change 2022</th><th scope=col>Rank in Percent Change 2022</th></tr>\n",
       "\t<tr><th></th><th scope=col>&lt;chr&gt;</th><th scope=col>&lt;chr&gt;</th><th scope=col>&lt;chr&gt;</th><th scope=col>&lt;chr&gt;</th><th scope=col>&lt;chr&gt;</th><th scope=col>&lt;dbl&gt;</th><th scope=col>&lt;dbl&gt;</th><th scope=col>&lt;chr&gt;</th></tr>\n",
       "</thead>\n",
       "<tbody>\n",
       "\t<tr><th scope=row>1</th><td>                              </td><td>2020  </td><td>2021  </td><td>2022  </td><td>2022</td><td>2021.0</td><td>2022.0</td><td>2022</td></tr>\n",
       "\t<tr><th scope=row>2</th><td>United States                 </td><td>59,153</td><td>64,430</td><td>65,470</td><td>--  </td><td>   8.9</td><td>   1.6</td><td>--  </td></tr>\n",
       "\t<tr><th scope=row>3</th><td>Metropolitan portion          </td><td>61,202</td><td>66,666</td><td>67,767</td><td>--  </td><td>   8.9</td><td>   1.7</td><td>--  </td></tr>\n",
       "\t<tr><th scope=row>4</th><td>Nonmetropolitan portion       </td><td>46,220</td><td>50,312</td><td>50,917</td><td>--  </td><td>   8.9</td><td>   1.2</td><td>--  </td></tr>\n",
       "\t<tr><th scope=row>5</th><td>Metropolitan Statistical Areas</td><td>      </td><td>      </td><td>      </td><td>    </td><td>    NA</td><td>    NA</td><td>    </td></tr>\n",
       "\t<tr><th scope=row>6</th><td>Abilene, TX                   </td><td>48,195</td><td>52,537</td><td>53,457</td><td>227 </td><td>   9.0</td><td>   1.8</td><td>149 </td></tr>\n",
       "</tbody>\n",
       "</table>\n"
      ],
      "text/latex": [
       "A data.frame: 6 × 8\n",
       "\\begin{tabular}{r|llllllll}\n",
       "  & Area & 2020 & 2021 & 2022 & Rank in 2022 & Percent Change 2021 & Percent Change 2022 & Rank in Percent Change 2022\\\\\n",
       "  & <chr> & <chr> & <chr> & <chr> & <chr> & <dbl> & <dbl> & <chr>\\\\\n",
       "\\hline\n",
       "\t1 &                                & 2020   & 2021   & 2022   & 2022 & 2021.0 & 2022.0 & 2022\\\\\n",
       "\t2 & United States                  & 59,153 & 64,430 & 65,470 & --   &    8.9 &    1.6 & --  \\\\\n",
       "\t3 & Metropolitan portion           & 61,202 & 66,666 & 67,767 & --   &    8.9 &    1.7 & --  \\\\\n",
       "\t4 & Nonmetropolitan portion        & 46,220 & 50,312 & 50,917 & --   &    8.9 &    1.2 & --  \\\\\n",
       "\t5 & Metropolitan Statistical Areas &        &        &        &      &     NA &     NA &     \\\\\n",
       "\t6 & Abilene, TX                    & 48,195 & 52,537 & 53,457 & 227  &    9.0 &    1.8 & 149 \\\\\n",
       "\\end{tabular}\n"
      ],
      "text/markdown": [
       "\n",
       "A data.frame: 6 × 8\n",
       "\n",
       "| <!--/--> | Area &lt;chr&gt; | 2020 &lt;chr&gt; | 2021 &lt;chr&gt; | 2022 &lt;chr&gt; | Rank in 2022 &lt;chr&gt; | Percent Change 2021 &lt;dbl&gt; | Percent Change 2022 &lt;dbl&gt; | Rank in Percent Change 2022 &lt;chr&gt; |\n",
       "|---|---|---|---|---|---|---|---|---|\n",
       "| 1 | <!----> | 2020   | 2021   | 2022   | 2022 | 2021.0 | 2022.0 | 2022 |\n",
       "| 2 | United States                  | 59,153 | 64,430 | 65,470 | --   |    8.9 |    1.6 | --   |\n",
       "| 3 | Metropolitan portion           | 61,202 | 66,666 | 67,767 | --   |    8.9 |    1.7 | --   |\n",
       "| 4 | Nonmetropolitan portion        | 46,220 | 50,312 | 50,917 | --   |    8.9 |    1.2 | --   |\n",
       "| 5 | Metropolitan Statistical Areas | <!----> | <!----> | <!----> | <!----> |     NA |     NA | <!----> |\n",
       "| 6 | Abilene, TX                    | 48,195 | 52,537 | 53,457 | 227  |    9.0 |    1.8 | 149  |\n",
       "\n"
      ],
      "text/plain": [
       "  Area                           2020   2021   2022   Rank in 2022\n",
       "1                                2020   2021   2022   2022        \n",
       "2 United States                  59,153 64,430 65,470 --          \n",
       "3 Metropolitan portion           61,202 66,666 67,767 --          \n",
       "4 Nonmetropolitan portion        46,220 50,312 50,917 --          \n",
       "5 Metropolitan Statistical Areas                                  \n",
       "6 Abilene, TX                    48,195 52,537 53,457 227         \n",
       "  Percent Change 2021 Percent Change 2022 Rank in Percent Change 2022\n",
       "1 2021.0              2022.0              2022                       \n",
       "2    8.9                 1.6              --                         \n",
       "3    8.9                 1.7              --                         \n",
       "4    8.9                 1.2              --                         \n",
       "5     NA                  NA                                         \n",
       "6    9.0                 1.8              149                        "
      ]
     },
     "metadata": {},
     "output_type": "display_data"
    }
   ],
   "source": [
    "pi <- read.csv(\"data_raw/personal_income.csv\", fileEncoding = \"latin1\", skip = 2)\n",
    "\n",
    "colnames(pi) <- c(\"Area\", \"2020\", \"2021\", \"2022\", \"Rank in 2022\", \"Percent Change 2021\", \"Percent Change 2022\", \"Rank in Percent Change 2022\")\n",
    "\n",
    "head(pi)"
   ]
  },
  {
   "cell_type": "code",
   "execution_count": 65,
   "metadata": {
    "vscode": {
     "languageId": "r"
    }
   },
   "outputs": [
    {
     "data": {
      "text/html": [
       "<table class=\"dataframe\">\n",
       "<caption>A data.frame: 6 × 4</caption>\n",
       "<thead>\n",
       "\t<tr><th></th><th scope=col>Area</th><th scope=col>2020</th><th scope=col>2021</th><th scope=col>2022</th></tr>\n",
       "\t<tr><th></th><th scope=col>&lt;chr&gt;</th><th scope=col>&lt;chr&gt;</th><th scope=col>&lt;chr&gt;</th><th scope=col>&lt;chr&gt;</th></tr>\n",
       "</thead>\n",
       "<tbody>\n",
       "\t<tr><th scope=row>1</th><td>                              </td><td>2020  </td><td>2021  </td><td>2022  </td></tr>\n",
       "\t<tr><th scope=row>2</th><td>United States                 </td><td>59,153</td><td>64,430</td><td>65,470</td></tr>\n",
       "\t<tr><th scope=row>3</th><td>Metropolitan portion          </td><td>61,202</td><td>66,666</td><td>67,767</td></tr>\n",
       "\t<tr><th scope=row>4</th><td>Nonmetropolitan portion       </td><td>46,220</td><td>50,312</td><td>50,917</td></tr>\n",
       "\t<tr><th scope=row>5</th><td>Metropolitan Statistical Areas</td><td>      </td><td>      </td><td>      </td></tr>\n",
       "\t<tr><th scope=row>6</th><td>Abilene, TX                   </td><td>48,195</td><td>52,537</td><td>53,457</td></tr>\n",
       "</tbody>\n",
       "</table>\n"
      ],
      "text/latex": [
       "A data.frame: 6 × 4\n",
       "\\begin{tabular}{r|llll}\n",
       "  & Area & 2020 & 2021 & 2022\\\\\n",
       "  & <chr> & <chr> & <chr> & <chr>\\\\\n",
       "\\hline\n",
       "\t1 &                                & 2020   & 2021   & 2022  \\\\\n",
       "\t2 & United States                  & 59,153 & 64,430 & 65,470\\\\\n",
       "\t3 & Metropolitan portion           & 61,202 & 66,666 & 67,767\\\\\n",
       "\t4 & Nonmetropolitan portion        & 46,220 & 50,312 & 50,917\\\\\n",
       "\t5 & Metropolitan Statistical Areas &        &        &       \\\\\n",
       "\t6 & Abilene, TX                    & 48,195 & 52,537 & 53,457\\\\\n",
       "\\end{tabular}\n"
      ],
      "text/markdown": [
       "\n",
       "A data.frame: 6 × 4\n",
       "\n",
       "| <!--/--> | Area &lt;chr&gt; | 2020 &lt;chr&gt; | 2021 &lt;chr&gt; | 2022 &lt;chr&gt; |\n",
       "|---|---|---|---|---|\n",
       "| 1 | <!----> | 2020   | 2021   | 2022   |\n",
       "| 2 | United States                  | 59,153 | 64,430 | 65,470 |\n",
       "| 3 | Metropolitan portion           | 61,202 | 66,666 | 67,767 |\n",
       "| 4 | Nonmetropolitan portion        | 46,220 | 50,312 | 50,917 |\n",
       "| 5 | Metropolitan Statistical Areas | <!----> | <!----> | <!----> |\n",
       "| 6 | Abilene, TX                    | 48,195 | 52,537 | 53,457 |\n",
       "\n"
      ],
      "text/plain": [
       "  Area                           2020   2021   2022  \n",
       "1                                2020   2021   2022  \n",
       "2 United States                  59,153 64,430 65,470\n",
       "3 Metropolitan portion           61,202 66,666 67,767\n",
       "4 Nonmetropolitan portion        46,220 50,312 50,917\n",
       "5 Metropolitan Statistical Areas                     \n",
       "6 Abilene, TX                    48,195 52,537 53,457"
      ]
     },
     "metadata": {},
     "output_type": "display_data"
    }
   ],
   "source": [
    "pi <- pi %>% select(1:4)\n",
    "\n",
    "head(pi)"
   ]
  },
  {
   "cell_type": "code",
   "execution_count": 66,
   "metadata": {
    "vscode": {
     "languageId": "r"
    }
   },
   "outputs": [
    {
     "data": {
      "text/html": [
       "<table class=\"dataframe\">\n",
       "<caption>A data.frame: 6 × 4</caption>\n",
       "<thead>\n",
       "\t<tr><th></th><th scope=col>Area</th><th scope=col>2020</th><th scope=col>2021</th><th scope=col>2022</th></tr>\n",
       "\t<tr><th></th><th scope=col>&lt;chr&gt;</th><th scope=col>&lt;chr&gt;</th><th scope=col>&lt;chr&gt;</th><th scope=col>&lt;chr&gt;</th></tr>\n",
       "</thead>\n",
       "<tbody>\n",
       "\t<tr><th scope=row>1</th><td>Abilene, TX                </td><td>48,195</td><td>52,537</td><td>53,457</td></tr>\n",
       "\t<tr><th scope=row>2</th><td>Akron, OH                  </td><td>54,631</td><td>59,333</td><td>60,170</td></tr>\n",
       "\t<tr><th scope=row>3</th><td>Albany, GA                 </td><td>42,025</td><td>46,851</td><td>45,893</td></tr>\n",
       "\t<tr><th scope=row>4</th><td>Albany-Lebanon, OR         </td><td>47,621</td><td>51,999</td><td>52,469</td></tr>\n",
       "\t<tr><th scope=row>5</th><td>Albany-Schenectady-Troy, NY</td><td>62,798</td><td>66,966</td><td>66,984</td></tr>\n",
       "\t<tr><th scope=row>6</th><td>Albuquerque, NM            </td><td>48,654</td><td>52,972</td><td>53,954</td></tr>\n",
       "</tbody>\n",
       "</table>\n"
      ],
      "text/latex": [
       "A data.frame: 6 × 4\n",
       "\\begin{tabular}{r|llll}\n",
       "  & Area & 2020 & 2021 & 2022\\\\\n",
       "  & <chr> & <chr> & <chr> & <chr>\\\\\n",
       "\\hline\n",
       "\t1 & Abilene, TX                 & 48,195 & 52,537 & 53,457\\\\\n",
       "\t2 & Akron, OH                   & 54,631 & 59,333 & 60,170\\\\\n",
       "\t3 & Albany, GA                  & 42,025 & 46,851 & 45,893\\\\\n",
       "\t4 & Albany-Lebanon, OR          & 47,621 & 51,999 & 52,469\\\\\n",
       "\t5 & Albany-Schenectady-Troy, NY & 62,798 & 66,966 & 66,984\\\\\n",
       "\t6 & Albuquerque, NM             & 48,654 & 52,972 & 53,954\\\\\n",
       "\\end{tabular}\n"
      ],
      "text/markdown": [
       "\n",
       "A data.frame: 6 × 4\n",
       "\n",
       "| <!--/--> | Area &lt;chr&gt; | 2020 &lt;chr&gt; | 2021 &lt;chr&gt; | 2022 &lt;chr&gt; |\n",
       "|---|---|---|---|---|\n",
       "| 1 | Abilene, TX                 | 48,195 | 52,537 | 53,457 |\n",
       "| 2 | Akron, OH                   | 54,631 | 59,333 | 60,170 |\n",
       "| 3 | Albany, GA                  | 42,025 | 46,851 | 45,893 |\n",
       "| 4 | Albany-Lebanon, OR          | 47,621 | 51,999 | 52,469 |\n",
       "| 5 | Albany-Schenectady-Troy, NY | 62,798 | 66,966 | 66,984 |\n",
       "| 6 | Albuquerque, NM             | 48,654 | 52,972 | 53,954 |\n",
       "\n"
      ],
      "text/plain": [
       "  Area                        2020   2021   2022  \n",
       "1 Abilene, TX                 48,195 52,537 53,457\n",
       "2 Akron, OH                   54,631 59,333 60,170\n",
       "3 Albany, GA                  42,025 46,851 45,893\n",
       "4 Albany-Lebanon, OR          47,621 51,999 52,469\n",
       "5 Albany-Schenectady-Troy, NY 62,798 66,966 66,984\n",
       "6 Albuquerque, NM             48,654 52,972 53,954"
      ]
     },
     "metadata": {},
     "output_type": "display_data"
    }
   ],
   "source": [
    "pi <- pi %>%\n",
    "  slice(6:n())\n",
    "\n",
    "head(pi)"
   ]
  },
  {
   "cell_type": "code",
   "execution_count": 68,
   "metadata": {
    "vscode": {
     "languageId": "r"
    }
   },
   "outputs": [
    {
     "data": {
      "text/html": [
       "<table class=\"dataframe\">\n",
       "<caption>A data.frame: 6 × 4</caption>\n",
       "<thead>\n",
       "\t<tr><th></th><th scope=col>Area</th><th scope=col>2020</th><th scope=col>2021</th><th scope=col>2022</th></tr>\n",
       "\t<tr><th></th><th scope=col>&lt;chr&gt;</th><th scope=col>&lt;chr&gt;</th><th scope=col>&lt;chr&gt;</th><th scope=col>&lt;chr&gt;</th></tr>\n",
       "</thead>\n",
       "<tbody>\n",
       "\t<tr><th scope=row>382</th><td>Youngstown-Warren-Boardman, OH-PA                                                                                                                      </td><td>45,478</td><td>48,647</td><td>48,645</td></tr>\n",
       "\t<tr><th scope=row>383</th><td>Yuba City, CA                                                                                                                                          </td><td>47,794</td><td>51,401</td><td>50,252</td></tr>\n",
       "\t<tr><th scope=row>384</th><td>Yuma, AZ                                                                                                                                               </td><td>42,177</td><td>44,285</td><td>44,811</td></tr>\n",
       "\t<tr><th scope=row>385</th><td>1. Per capita personal income was computed using U.S. Census Bureau midyear population estimates for 2020 through 2022, released in March 2023.        </td><td>      </td><td>      </td><td>      </td></tr>\n",
       "\t<tr><th scope=row>386</th><td>Note. Metropolitan areas are defined (geographically delineated) by the Office of Management and Budget (OMB) Bulletin No. 20-01, issued March 6, 2020.</td><td>      </td><td>      </td><td>      </td></tr>\n",
       "\t<tr><th scope=row>387</th><td>U.S. Bureau of Economic Analysis                                                                                                                       </td><td>      </td><td>      </td><td>      </td></tr>\n",
       "</tbody>\n",
       "</table>\n"
      ],
      "text/latex": [
       "A data.frame: 6 × 4\n",
       "\\begin{tabular}{r|llll}\n",
       "  & Area & 2020 & 2021 & 2022\\\\\n",
       "  & <chr> & <chr> & <chr> & <chr>\\\\\n",
       "\\hline\n",
       "\t382 & Youngstown-Warren-Boardman, OH-PA                                                                                                                       & 45,478 & 48,647 & 48,645\\\\\n",
       "\t383 & Yuba City, CA                                                                                                                                           & 47,794 & 51,401 & 50,252\\\\\n",
       "\t384 & Yuma, AZ                                                                                                                                                & 42,177 & 44,285 & 44,811\\\\\n",
       "\t385 & 1. Per capita personal income was computed using U.S. Census Bureau midyear population estimates for 2020 through 2022, released in March 2023.         &        &        &       \\\\\n",
       "\t386 & Note. Metropolitan areas are defined (geographically delineated) by the Office of Management and Budget (OMB) Bulletin No. 20-01, issued March 6, 2020. &        &        &       \\\\\n",
       "\t387 & U.S. Bureau of Economic Analysis                                                                                                                        &        &        &       \\\\\n",
       "\\end{tabular}\n"
      ],
      "text/markdown": [
       "\n",
       "A data.frame: 6 × 4\n",
       "\n",
       "| <!--/--> | Area &lt;chr&gt; | 2020 &lt;chr&gt; | 2021 &lt;chr&gt; | 2022 &lt;chr&gt; |\n",
       "|---|---|---|---|---|\n",
       "| 382 | Youngstown-Warren-Boardman, OH-PA                                                                                                                       | 45,478 | 48,647 | 48,645 |\n",
       "| 383 | Yuba City, CA                                                                                                                                           | 47,794 | 51,401 | 50,252 |\n",
       "| 384 | Yuma, AZ                                                                                                                                                | 42,177 | 44,285 | 44,811 |\n",
       "| 385 | 1. Per capita personal income was computed using U.S. Census Bureau midyear population estimates for 2020 through 2022, released in March 2023.         | <!----> | <!----> | <!----> |\n",
       "| 386 | Note. Metropolitan areas are defined (geographically delineated) by the Office of Management and Budget (OMB) Bulletin No. 20-01, issued March 6, 2020. | <!----> | <!----> | <!----> |\n",
       "| 387 | U.S. Bureau of Economic Analysis                                                                                                                        | <!----> | <!----> | <!----> |\n",
       "\n"
      ],
      "text/plain": [
       "    Area                                                                                                                                                   \n",
       "382 Youngstown-Warren-Boardman, OH-PA                                                                                                                      \n",
       "383 Yuba City, CA                                                                                                                                          \n",
       "384 Yuma, AZ                                                                                                                                               \n",
       "385 1. Per capita personal income was computed using U.S. Census Bureau midyear population estimates for 2020 through 2022, released in March 2023.        \n",
       "386 Note. Metropolitan areas are defined (geographically delineated) by the Office of Management and Budget (OMB) Bulletin No. 20-01, issued March 6, 2020.\n",
       "387 U.S. Bureau of Economic Analysis                                                                                                                       \n",
       "    2020   2021   2022  \n",
       "382 45,478 48,647 48,645\n",
       "383 47,794 51,401 50,252\n",
       "384 42,177 44,285 44,811\n",
       "385                     \n",
       "386                     \n",
       "387                     "
      ]
     },
     "metadata": {},
     "output_type": "display_data"
    }
   ],
   "source": [
    "tail(pi)"
   ]
  },
  {
   "cell_type": "code",
   "execution_count": 69,
   "metadata": {
    "vscode": {
     "languageId": "r"
    }
   },
   "outputs": [
    {
     "data": {
      "text/html": [
       "<table class=\"dataframe\">\n",
       "<caption>A data.frame: 6 × 4</caption>\n",
       "<thead>\n",
       "\t<tr><th></th><th scope=col>Area</th><th scope=col>2020</th><th scope=col>2021</th><th scope=col>2022</th></tr>\n",
       "\t<tr><th></th><th scope=col>&lt;chr&gt;</th><th scope=col>&lt;chr&gt;</th><th scope=col>&lt;chr&gt;</th><th scope=col>&lt;chr&gt;</th></tr>\n",
       "</thead>\n",
       "<tbody>\n",
       "\t<tr><th scope=row>1</th><td>Abilene, TX                </td><td>48,195</td><td>52,537</td><td>53,457</td></tr>\n",
       "\t<tr><th scope=row>2</th><td>Akron, OH                  </td><td>54,631</td><td>59,333</td><td>60,170</td></tr>\n",
       "\t<tr><th scope=row>3</th><td>Albany, GA                 </td><td>42,025</td><td>46,851</td><td>45,893</td></tr>\n",
       "\t<tr><th scope=row>4</th><td>Albany-Lebanon, OR         </td><td>47,621</td><td>51,999</td><td>52,469</td></tr>\n",
       "\t<tr><th scope=row>5</th><td>Albany-Schenectady-Troy, NY</td><td>62,798</td><td>66,966</td><td>66,984</td></tr>\n",
       "\t<tr><th scope=row>6</th><td>Albuquerque, NM            </td><td>48,654</td><td>52,972</td><td>53,954</td></tr>\n",
       "</tbody>\n",
       "</table>\n"
      ],
      "text/latex": [
       "A data.frame: 6 × 4\n",
       "\\begin{tabular}{r|llll}\n",
       "  & Area & 2020 & 2021 & 2022\\\\\n",
       "  & <chr> & <chr> & <chr> & <chr>\\\\\n",
       "\\hline\n",
       "\t1 & Abilene, TX                 & 48,195 & 52,537 & 53,457\\\\\n",
       "\t2 & Akron, OH                   & 54,631 & 59,333 & 60,170\\\\\n",
       "\t3 & Albany, GA                  & 42,025 & 46,851 & 45,893\\\\\n",
       "\t4 & Albany-Lebanon, OR          & 47,621 & 51,999 & 52,469\\\\\n",
       "\t5 & Albany-Schenectady-Troy, NY & 62,798 & 66,966 & 66,984\\\\\n",
       "\t6 & Albuquerque, NM             & 48,654 & 52,972 & 53,954\\\\\n",
       "\\end{tabular}\n"
      ],
      "text/markdown": [
       "\n",
       "A data.frame: 6 × 4\n",
       "\n",
       "| <!--/--> | Area &lt;chr&gt; | 2020 &lt;chr&gt; | 2021 &lt;chr&gt; | 2022 &lt;chr&gt; |\n",
       "|---|---|---|---|---|\n",
       "| 1 | Abilene, TX                 | 48,195 | 52,537 | 53,457 |\n",
       "| 2 | Akron, OH                   | 54,631 | 59,333 | 60,170 |\n",
       "| 3 | Albany, GA                  | 42,025 | 46,851 | 45,893 |\n",
       "| 4 | Albany-Lebanon, OR          | 47,621 | 51,999 | 52,469 |\n",
       "| 5 | Albany-Schenectady-Troy, NY | 62,798 | 66,966 | 66,984 |\n",
       "| 6 | Albuquerque, NM             | 48,654 | 52,972 | 53,954 |\n",
       "\n"
      ],
      "text/plain": [
       "  Area                        2020   2021   2022  \n",
       "1 Abilene, TX                 48,195 52,537 53,457\n",
       "2 Akron, OH                   54,631 59,333 60,170\n",
       "3 Albany, GA                  42,025 46,851 45,893\n",
       "4 Albany-Lebanon, OR          47,621 51,999 52,469\n",
       "5 Albany-Schenectady-Troy, NY 62,798 66,966 66,984\n",
       "6 Albuquerque, NM             48,654 52,972 53,954"
      ]
     },
     "metadata": {},
     "output_type": "display_data"
    },
    {
     "data": {
      "text/html": [
       "<table class=\"dataframe\">\n",
       "<caption>A data.frame: 6 × 4</caption>\n",
       "<thead>\n",
       "\t<tr><th></th><th scope=col>Area</th><th scope=col>2020</th><th scope=col>2021</th><th scope=col>2022</th></tr>\n",
       "\t<tr><th></th><th scope=col>&lt;chr&gt;</th><th scope=col>&lt;chr&gt;</th><th scope=col>&lt;chr&gt;</th><th scope=col>&lt;chr&gt;</th></tr>\n",
       "</thead>\n",
       "<tbody>\n",
       "\t<tr><th scope=row>379</th><td>Worcester, MA-CT                 </td><td>59,994</td><td>63,142</td><td>63,475</td></tr>\n",
       "\t<tr><th scope=row>380</th><td>Yakima, WA                       </td><td>45,996</td><td>49,637</td><td>49,266</td></tr>\n",
       "\t<tr><th scope=row>381</th><td>York-Hanover, PA                 </td><td>54,395</td><td>57,656</td><td>57,321</td></tr>\n",
       "\t<tr><th scope=row>382</th><td>Youngstown-Warren-Boardman, OH-PA</td><td>45,478</td><td>48,647</td><td>48,645</td></tr>\n",
       "\t<tr><th scope=row>383</th><td>Yuba City, CA                    </td><td>47,794</td><td>51,401</td><td>50,252</td></tr>\n",
       "\t<tr><th scope=row>384</th><td>Yuma, AZ                         </td><td>42,177</td><td>44,285</td><td>44,811</td></tr>\n",
       "</tbody>\n",
       "</table>\n"
      ],
      "text/latex": [
       "A data.frame: 6 × 4\n",
       "\\begin{tabular}{r|llll}\n",
       "  & Area & 2020 & 2021 & 2022\\\\\n",
       "  & <chr> & <chr> & <chr> & <chr>\\\\\n",
       "\\hline\n",
       "\t379 & Worcester, MA-CT                  & 59,994 & 63,142 & 63,475\\\\\n",
       "\t380 & Yakima, WA                        & 45,996 & 49,637 & 49,266\\\\\n",
       "\t381 & York-Hanover, PA                  & 54,395 & 57,656 & 57,321\\\\\n",
       "\t382 & Youngstown-Warren-Boardman, OH-PA & 45,478 & 48,647 & 48,645\\\\\n",
       "\t383 & Yuba City, CA                     & 47,794 & 51,401 & 50,252\\\\\n",
       "\t384 & Yuma, AZ                          & 42,177 & 44,285 & 44,811\\\\\n",
       "\\end{tabular}\n"
      ],
      "text/markdown": [
       "\n",
       "A data.frame: 6 × 4\n",
       "\n",
       "| <!--/--> | Area &lt;chr&gt; | 2020 &lt;chr&gt; | 2021 &lt;chr&gt; | 2022 &lt;chr&gt; |\n",
       "|---|---|---|---|---|\n",
       "| 379 | Worcester, MA-CT                  | 59,994 | 63,142 | 63,475 |\n",
       "| 380 | Yakima, WA                        | 45,996 | 49,637 | 49,266 |\n",
       "| 381 | York-Hanover, PA                  | 54,395 | 57,656 | 57,321 |\n",
       "| 382 | Youngstown-Warren-Boardman, OH-PA | 45,478 | 48,647 | 48,645 |\n",
       "| 383 | Yuba City, CA                     | 47,794 | 51,401 | 50,252 |\n",
       "| 384 | Yuma, AZ                          | 42,177 | 44,285 | 44,811 |\n",
       "\n"
      ],
      "text/plain": [
       "    Area                              2020   2021   2022  \n",
       "379 Worcester, MA-CT                  59,994 63,142 63,475\n",
       "380 Yakima, WA                        45,996 49,637 49,266\n",
       "381 York-Hanover, PA                  54,395 57,656 57,321\n",
       "382 Youngstown-Warren-Boardman, OH-PA 45,478 48,647 48,645\n",
       "383 Yuba City, CA                     47,794 51,401 50,252\n",
       "384 Yuma, AZ                          42,177 44,285 44,811"
      ]
     },
     "metadata": {},
     "output_type": "display_data"
    }
   ],
   "source": [
    "pi <- head(pi, -3)\n",
    "\n",
    "head(pi)\n",
    "\n",
    "tail(pi)\n"
   ]
  },
  {
   "cell_type": "code",
   "execution_count": 70,
   "metadata": {
    "vscode": {
     "languageId": "r"
    }
   },
   "outputs": [
    {
     "data": {
      "text/html": [
       "<table class=\"dataframe\">\n",
       "<caption>A data.frame: 6 × 2</caption>\n",
       "<thead>\n",
       "\t<tr><th></th><th scope=col>Area</th><th scope=col>2022</th></tr>\n",
       "\t<tr><th></th><th scope=col>&lt;chr&gt;</th><th scope=col>&lt;chr&gt;</th></tr>\n",
       "</thead>\n",
       "<tbody>\n",
       "\t<tr><th scope=row>1</th><td>Abilene, TX                </td><td>53,457</td></tr>\n",
       "\t<tr><th scope=row>2</th><td>Akron, OH                  </td><td>60,170</td></tr>\n",
       "\t<tr><th scope=row>3</th><td>Albany, GA                 </td><td>45,893</td></tr>\n",
       "\t<tr><th scope=row>4</th><td>Albany-Lebanon, OR         </td><td>52,469</td></tr>\n",
       "\t<tr><th scope=row>5</th><td>Albany-Schenectady-Troy, NY</td><td>66,984</td></tr>\n",
       "\t<tr><th scope=row>6</th><td>Albuquerque, NM            </td><td>53,954</td></tr>\n",
       "</tbody>\n",
       "</table>\n"
      ],
      "text/latex": [
       "A data.frame: 6 × 2\n",
       "\\begin{tabular}{r|ll}\n",
       "  & Area & 2022\\\\\n",
       "  & <chr> & <chr>\\\\\n",
       "\\hline\n",
       "\t1 & Abilene, TX                 & 53,457\\\\\n",
       "\t2 & Akron, OH                   & 60,170\\\\\n",
       "\t3 & Albany, GA                  & 45,893\\\\\n",
       "\t4 & Albany-Lebanon, OR          & 52,469\\\\\n",
       "\t5 & Albany-Schenectady-Troy, NY & 66,984\\\\\n",
       "\t6 & Albuquerque, NM             & 53,954\\\\\n",
       "\\end{tabular}\n"
      ],
      "text/markdown": [
       "\n",
       "A data.frame: 6 × 2\n",
       "\n",
       "| <!--/--> | Area &lt;chr&gt; | 2022 &lt;chr&gt; |\n",
       "|---|---|---|\n",
       "| 1 | Abilene, TX                 | 53,457 |\n",
       "| 2 | Akron, OH                   | 60,170 |\n",
       "| 3 | Albany, GA                  | 45,893 |\n",
       "| 4 | Albany-Lebanon, OR          | 52,469 |\n",
       "| 5 | Albany-Schenectady-Troy, NY | 66,984 |\n",
       "| 6 | Albuquerque, NM             | 53,954 |\n",
       "\n"
      ],
      "text/plain": [
       "  Area                        2022  \n",
       "1 Abilene, TX                 53,457\n",
       "2 Akron, OH                   60,170\n",
       "3 Albany, GA                  45,893\n",
       "4 Albany-Lebanon, OR          52,469\n",
       "5 Albany-Schenectady-Troy, NY 66,984\n",
       "6 Albuquerque, NM             53,954"
      ]
     },
     "metadata": {},
     "output_type": "display_data"
    }
   ],
   "source": [
    "pi <- pi %>%\n",
    "  select(-c(2, 3))\n",
    "\n",
    "head(pi)"
   ]
  },
  {
   "cell_type": "code",
   "execution_count": 71,
   "metadata": {
    "vscode": {
     "languageId": "r"
    }
   },
   "outputs": [
    {
     "data": {
      "text/html": [
       "<table class=\"dataframe\">\n",
       "<caption>A data.frame: 6 × 2</caption>\n",
       "<thead>\n",
       "\t<tr><th></th><th scope=col>Area</th><th scope=col>2022</th></tr>\n",
       "\t<tr><th></th><th scope=col>&lt;chr&gt;</th><th scope=col>&lt;dbl&gt;</th></tr>\n",
       "</thead>\n",
       "<tbody>\n",
       "\t<tr><th scope=row>1</th><td>Abilene, TX                </td><td>53457</td></tr>\n",
       "\t<tr><th scope=row>2</th><td>Akron, OH                  </td><td>60170</td></tr>\n",
       "\t<tr><th scope=row>3</th><td>Albany, GA                 </td><td>45893</td></tr>\n",
       "\t<tr><th scope=row>4</th><td>Albany-Lebanon, OR         </td><td>52469</td></tr>\n",
       "\t<tr><th scope=row>5</th><td>Albany-Schenectady-Troy, NY</td><td>66984</td></tr>\n",
       "\t<tr><th scope=row>6</th><td>Albuquerque, NM            </td><td>53954</td></tr>\n",
       "</tbody>\n",
       "</table>\n"
      ],
      "text/latex": [
       "A data.frame: 6 × 2\n",
       "\\begin{tabular}{r|ll}\n",
       "  & Area & 2022\\\\\n",
       "  & <chr> & <dbl>\\\\\n",
       "\\hline\n",
       "\t1 & Abilene, TX                 & 53457\\\\\n",
       "\t2 & Akron, OH                   & 60170\\\\\n",
       "\t3 & Albany, GA                  & 45893\\\\\n",
       "\t4 & Albany-Lebanon, OR          & 52469\\\\\n",
       "\t5 & Albany-Schenectady-Troy, NY & 66984\\\\\n",
       "\t6 & Albuquerque, NM             & 53954\\\\\n",
       "\\end{tabular}\n"
      ],
      "text/markdown": [
       "\n",
       "A data.frame: 6 × 2\n",
       "\n",
       "| <!--/--> | Area &lt;chr&gt; | 2022 &lt;dbl&gt; |\n",
       "|---|---|---|\n",
       "| 1 | Abilene, TX                 | 53457 |\n",
       "| 2 | Akron, OH                   | 60170 |\n",
       "| 3 | Albany, GA                  | 45893 |\n",
       "| 4 | Albany-Lebanon, OR          | 52469 |\n",
       "| 5 | Albany-Schenectady-Troy, NY | 66984 |\n",
       "| 6 | Albuquerque, NM             | 53954 |\n",
       "\n"
      ],
      "text/plain": [
       "  Area                        2022 \n",
       "1 Abilene, TX                 53457\n",
       "2 Akron, OH                   60170\n",
       "3 Albany, GA                  45893\n",
       "4 Albany-Lebanon, OR          52469\n",
       "5 Albany-Schenectady-Troy, NY 66984\n",
       "6 Albuquerque, NM             53954"
      ]
     },
     "metadata": {},
     "output_type": "display_data"
    }
   ],
   "source": [
    "pi$`2022` <- as.numeric(gsub(\",\", \"\", pi$`2022`))\n",
    "\n",
    "head(pi)"
   ]
  },
  {
   "cell_type": "code",
   "execution_count": 72,
   "metadata": {
    "vscode": {
     "languageId": "r"
    }
   },
   "outputs": [
    {
     "data": {
      "text/html": [
       "<table class=\"dataframe\">\n",
       "<caption>A data.frame: 6 × 2</caption>\n",
       "<thead>\n",
       "\t<tr><th></th><th scope=col>Area</th><th scope=col>personal income</th></tr>\n",
       "\t<tr><th></th><th scope=col>&lt;chr&gt;</th><th scope=col>&lt;dbl&gt;</th></tr>\n",
       "</thead>\n",
       "<tbody>\n",
       "\t<tr><th scope=row>1</th><td>Abilene, TX                </td><td>53457</td></tr>\n",
       "\t<tr><th scope=row>2</th><td>Akron, OH                  </td><td>60170</td></tr>\n",
       "\t<tr><th scope=row>3</th><td>Albany, GA                 </td><td>45893</td></tr>\n",
       "\t<tr><th scope=row>4</th><td>Albany-Lebanon, OR         </td><td>52469</td></tr>\n",
       "\t<tr><th scope=row>5</th><td>Albany-Schenectady-Troy, NY</td><td>66984</td></tr>\n",
       "\t<tr><th scope=row>6</th><td>Albuquerque, NM            </td><td>53954</td></tr>\n",
       "</tbody>\n",
       "</table>\n"
      ],
      "text/latex": [
       "A data.frame: 6 × 2\n",
       "\\begin{tabular}{r|ll}\n",
       "  & Area & personal income\\\\\n",
       "  & <chr> & <dbl>\\\\\n",
       "\\hline\n",
       "\t1 & Abilene, TX                 & 53457\\\\\n",
       "\t2 & Akron, OH                   & 60170\\\\\n",
       "\t3 & Albany, GA                  & 45893\\\\\n",
       "\t4 & Albany-Lebanon, OR          & 52469\\\\\n",
       "\t5 & Albany-Schenectady-Troy, NY & 66984\\\\\n",
       "\t6 & Albuquerque, NM             & 53954\\\\\n",
       "\\end{tabular}\n"
      ],
      "text/markdown": [
       "\n",
       "A data.frame: 6 × 2\n",
       "\n",
       "| <!--/--> | Area &lt;chr&gt; | personal income &lt;dbl&gt; |\n",
       "|---|---|---|\n",
       "| 1 | Abilene, TX                 | 53457 |\n",
       "| 2 | Akron, OH                   | 60170 |\n",
       "| 3 | Albany, GA                  | 45893 |\n",
       "| 4 | Albany-Lebanon, OR          | 52469 |\n",
       "| 5 | Albany-Schenectady-Troy, NY | 66984 |\n",
       "| 6 | Albuquerque, NM             | 53954 |\n",
       "\n"
      ],
      "text/plain": [
       "  Area                        personal income\n",
       "1 Abilene, TX                 53457          \n",
       "2 Akron, OH                   60170          \n",
       "3 Albany, GA                  45893          \n",
       "4 Albany-Lebanon, OR          52469          \n",
       "5 Albany-Schenectady-Troy, NY 66984          \n",
       "6 Albuquerque, NM             53954          "
      ]
     },
     "metadata": {},
     "output_type": "display_data"
    }
   ],
   "source": [
    "pi <- pi %>%\n",
    "    rename(`personal income` = `2022`)\n",
    "\n",
    "head(pi)\n"
   ]
  },
  {
   "cell_type": "code",
   "execution_count": 110,
   "metadata": {
    "vscode": {
     "languageId": "r"
    }
   },
   "outputs": [],
   "source": [
    "areas_to_keep <- c(\"Cleveland\", \"New York\", \"Kansas City\", \"Detroit\", \"Philadelphia\", \"Pittsburgh\", \n",
    "                   \"Baltimore\", \"Washington\", \"Cincinnati\", \"Minneapolis-St. Paul\", \"St. Louis\", \n",
    "                   \"Boston\", \"Indianapolis\", \"Chicago\", \"San Antonio\", \"Las Vegas\", \"Seattle\", \"Denver\", \n",
    "                   \"Phoenix\", \"Sacramento\", \"Houston\", \"San Francisco\", \"Charlotte\", \"Virginia Beach\", \n",
    "                   \"Columbus\", \"Portland\", \"Atlanta\", \"Austin\", \"Dallas-Fort Worth\", \"Orlando\", \n",
    "                   \"Nashville\", \"San Diego\", \"Miami\", \"Tampa\", \"Los Angeles\")\n"
   ]
  },
  {
   "cell_type": "code",
   "execution_count": 111,
   "metadata": {
    "vscode": {
     "languageId": "r"
    }
   },
   "outputs": [
    {
     "data": {
      "text/html": [
       "<style>\n",
       ".list-inline {list-style: none; margin:0; padding: 0}\n",
       ".list-inline>li {display: inline-block}\n",
       ".list-inline>li:not(:last-child)::after {content: \"\\00b7\"; padding: 0 .5ex}\n",
       "</style>\n",
       "<ol class=list-inline><li>'Cleveland'</li><li>'New York'</li><li>'Kansas City'</li><li>'Detroit'</li><li>'Philadelphia'</li><li>'Pittsburgh'</li><li>'Baltimore'</li><li>'Washington'</li><li>'Cincinnati'</li><li>'Minneapolis-St. Paul'</li><li>'St. Louis'</li><li>'Boston'</li><li>'Indianapolis'</li><li>'Chicago'</li><li>'San Antonio'</li><li>'Las Vegas'</li><li>'Seattle'</li><li>'Denver'</li><li>'Phoenix'</li><li>'Sacramento'</li><li>'Houston'</li><li>'San Francisco'</li><li>'Charlotte'</li><li>'Virginia Beach'</li><li>'Columbus'</li><li>'Portland'</li><li>'Atlanta'</li><li>'Austin'</li><li>'Dallas-Fort Worth'</li><li>'Orlando'</li><li>'Nashville'</li><li>'San Diego'</li><li>'Miami'</li><li>'Tampa'</li><li>'Los Angeles'</li></ol>\n"
      ],
      "text/latex": [
       "\\begin{enumerate*}\n",
       "\\item 'Cleveland'\n",
       "\\item 'New York'\n",
       "\\item 'Kansas City'\n",
       "\\item 'Detroit'\n",
       "\\item 'Philadelphia'\n",
       "\\item 'Pittsburgh'\n",
       "\\item 'Baltimore'\n",
       "\\item 'Washington'\n",
       "\\item 'Cincinnati'\n",
       "\\item 'Minneapolis-St. Paul'\n",
       "\\item 'St. Louis'\n",
       "\\item 'Boston'\n",
       "\\item 'Indianapolis'\n",
       "\\item 'Chicago'\n",
       "\\item 'San Antonio'\n",
       "\\item 'Las Vegas'\n",
       "\\item 'Seattle'\n",
       "\\item 'Denver'\n",
       "\\item 'Phoenix'\n",
       "\\item 'Sacramento'\n",
       "\\item 'Houston'\n",
       "\\item 'San Francisco'\n",
       "\\item 'Charlotte'\n",
       "\\item 'Virginia Beach'\n",
       "\\item 'Columbus'\n",
       "\\item 'Portland'\n",
       "\\item 'Atlanta'\n",
       "\\item 'Austin'\n",
       "\\item 'Dallas-Fort Worth'\n",
       "\\item 'Orlando'\n",
       "\\item 'Nashville'\n",
       "\\item 'San Diego'\n",
       "\\item 'Miami'\n",
       "\\item 'Tampa'\n",
       "\\item 'Los Angeles'\n",
       "\\end{enumerate*}\n"
      ],
      "text/markdown": [
       "1. 'Cleveland'\n",
       "2. 'New York'\n",
       "3. 'Kansas City'\n",
       "4. 'Detroit'\n",
       "5. 'Philadelphia'\n",
       "6. 'Pittsburgh'\n",
       "7. 'Baltimore'\n",
       "8. 'Washington'\n",
       "9. 'Cincinnati'\n",
       "10. 'Minneapolis-St. Paul'\n",
       "11. 'St. Louis'\n",
       "12. 'Boston'\n",
       "13. 'Indianapolis'\n",
       "14. 'Chicago'\n",
       "15. 'San Antonio'\n",
       "16. 'Las Vegas'\n",
       "17. 'Seattle'\n",
       "18. 'Denver'\n",
       "19. 'Phoenix'\n",
       "20. 'Sacramento'\n",
       "21. 'Houston'\n",
       "22. 'San Francisco'\n",
       "23. 'Charlotte'\n",
       "24. 'Virginia Beach'\n",
       "25. 'Columbus'\n",
       "26. 'Portland'\n",
       "27. 'Atlanta'\n",
       "28. 'Austin'\n",
       "29. 'Dallas-Fort Worth'\n",
       "30. 'Orlando'\n",
       "31. 'Nashville'\n",
       "32. 'San Diego'\n",
       "33. 'Miami'\n",
       "34. 'Tampa'\n",
       "35. 'Los Angeles'\n",
       "\n",
       "\n"
      ],
      "text/plain": [
       " [1] \"Cleveland\"            \"New York\"             \"Kansas City\"         \n",
       " [4] \"Detroit\"              \"Philadelphia\"         \"Pittsburgh\"          \n",
       " [7] \"Baltimore\"            \"Washington\"           \"Cincinnati\"          \n",
       "[10] \"Minneapolis-St. Paul\" \"St. Louis\"            \"Boston\"              \n",
       "[13] \"Indianapolis\"         \"Chicago\"              \"San Antonio\"         \n",
       "[16] \"Las Vegas\"            \"Seattle\"              \"Denver\"              \n",
       "[19] \"Phoenix\"              \"Sacramento\"           \"Houston\"             \n",
       "[22] \"San Francisco\"        \"Charlotte\"            \"Virginia Beach\"      \n",
       "[25] \"Columbus\"             \"Portland\"             \"Atlanta\"             \n",
       "[28] \"Austin\"               \"Dallas-Fort Worth\"    \"Orlando\"             \n",
       "[31] \"Nashville\"            \"San Diego\"            \"Miami\"               \n",
       "[34] \"Tampa\"                \"Los Angeles\"         "
      ]
     },
     "metadata": {},
     "output_type": "display_data"
    }
   ],
   "source": [
    "areas_to_keep"
   ]
  },
  {
   "cell_type": "code",
   "execution_count": 112,
   "metadata": {
    "vscode": {
     "languageId": "r"
    }
   },
   "outputs": [
    {
     "data": {
      "text/html": [
       "<table class=\"dataframe\">\n",
       "<caption>A data.frame: 6 × 2</caption>\n",
       "<thead>\n",
       "\t<tr><th></th><th scope=col>Area</th><th scope=col>personal income</th></tr>\n",
       "\t<tr><th></th><th scope=col>&lt;chr&gt;</th><th scope=col>&lt;dbl&gt;</th></tr>\n",
       "</thead>\n",
       "<tbody>\n",
       "\t<tr><th scope=row>18</th><td>Atlanta-Sandy Springs-Alpharetta, GA</td><td>64107</td></tr>\n",
       "\t<tr><th scope=row>22</th><td>Austin-Round Rock-Georgetown, TX    </td><td>75119</td></tr>\n",
       "\t<tr><th scope=row>24</th><td>Baltimore-Columbia-Towson, MD       </td><td>71420</td></tr>\n",
       "\t<tr><th scope=row>43</th><td>Boston-Cambridge-Newton, MA-NH      </td><td>94082</td></tr>\n",
       "\t<tr><th scope=row>65</th><td>Charlotte-Concord-Gastonia, NC-SC   </td><td>65156</td></tr>\n",
       "\t<tr><th scope=row>66</th><td>Charlottesville, VA                 </td><td>80969</td></tr>\n",
       "</tbody>\n",
       "</table>\n"
      ],
      "text/latex": [
       "A data.frame: 6 × 2\n",
       "\\begin{tabular}{r|ll}\n",
       "  & Area & personal income\\\\\n",
       "  & <chr> & <dbl>\\\\\n",
       "\\hline\n",
       "\t18 & Atlanta-Sandy Springs-Alpharetta, GA & 64107\\\\\n",
       "\t22 & Austin-Round Rock-Georgetown, TX     & 75119\\\\\n",
       "\t24 & Baltimore-Columbia-Towson, MD        & 71420\\\\\n",
       "\t43 & Boston-Cambridge-Newton, MA-NH       & 94082\\\\\n",
       "\t65 & Charlotte-Concord-Gastonia, NC-SC    & 65156\\\\\n",
       "\t66 & Charlottesville, VA                  & 80969\\\\\n",
       "\\end{tabular}\n"
      ],
      "text/markdown": [
       "\n",
       "A data.frame: 6 × 2\n",
       "\n",
       "| <!--/--> | Area &lt;chr&gt; | personal income &lt;dbl&gt; |\n",
       "|---|---|---|\n",
       "| 18 | Atlanta-Sandy Springs-Alpharetta, GA | 64107 |\n",
       "| 22 | Austin-Round Rock-Georgetown, TX     | 75119 |\n",
       "| 24 | Baltimore-Columbia-Towson, MD        | 71420 |\n",
       "| 43 | Boston-Cambridge-Newton, MA-NH       | 94082 |\n",
       "| 65 | Charlotte-Concord-Gastonia, NC-SC    | 65156 |\n",
       "| 66 | Charlottesville, VA                  | 80969 |\n",
       "\n"
      ],
      "text/plain": [
       "   Area                                 personal income\n",
       "18 Atlanta-Sandy Springs-Alpharetta, GA 64107          \n",
       "22 Austin-Round Rock-Georgetown, TX     75119          \n",
       "24 Baltimore-Columbia-Towson, MD        71420          \n",
       "43 Boston-Cambridge-Newton, MA-NH       94082          \n",
       "65 Charlotte-Concord-Gastonia, NC-SC    65156          \n",
       "66 Charlottesville, VA                  80969          "
      ]
     },
     "metadata": {},
     "output_type": "display_data"
    },
    {
     "data": {
      "text/html": [
       "<style>\n",
       ".list-inline {list-style: none; margin:0; padding: 0}\n",
       ".list-inline>li {display: inline-block}\n",
       ".list-inline>li:not(:last-child)::after {content: \"\\00b7\"; padding: 0 .5ex}\n",
       "</style>\n",
       "<ol class=list-inline><li>40</li><li>2</li></ol>\n"
      ],
      "text/latex": [
       "\\begin{enumerate*}\n",
       "\\item 40\n",
       "\\item 2\n",
       "\\end{enumerate*}\n"
      ],
      "text/markdown": [
       "1. 40\n",
       "2. 2\n",
       "\n",
       "\n"
      ],
      "text/plain": [
       "[1] 40  2"
      ]
     },
     "metadata": {},
     "output_type": "display_data"
    }
   ],
   "source": [
    "pi2 <- pi[str_detect(pi$Area, paste(areas_to_keep, collapse = \"|\")), ]\n",
    "\n",
    "head(pi2)\n",
    "\n",
    "dim(pi2)\n"
   ]
  },
  {
   "cell_type": "code",
   "execution_count": 87,
   "metadata": {
    "vscode": {
     "languageId": "r"
    }
   },
   "outputs": [
    {
     "name": "stdout",
     "output_type": "stream",
     "text": [
      "                                              Area personal income\n",
      "18            Atlanta-Sandy Springs-Alpharetta, GA           64107\n",
      "22                Austin-Round Rock-Georgetown, TX           75119\n",
      "24                   Baltimore-Columbia-Towson, MD           71420\n",
      "43                  Boston-Cambridge-Newton, MA-NH           94082\n",
      "65               Charlotte-Concord-Gastonia, NC-SC           65156\n",
      "66                             Charlottesville, VA           80969\n",
      "69              Chicago-Naperville-Elgin, IL-IN-WI           72512\n",
      "71                            Cincinnati, OH-KY-IN           65253\n",
      "73                                   Cleveland, TN           46240\n",
      "74                            Cleveland-Elyria, OH           62921\n",
      "80                                 Columbus, GA-AL           46748\n",
      "81                                    Columbus, IN           61920\n",
      "82                                    Columbus, OH           61228\n",
      "87                 Dallas-Fort Worth-Arlington, TX           70493\n",
      "96                      Denver-Aurora-Lakewood, CO           84788\n",
      "98                     Detroit-Warren-Dearborn, MI           61322\n",
      "160           Houston-The Woodlands-Sugar Land, TX           68344\n",
      "164               Indianapolis-Carmel-Anderson, IN           68719\n",
      "181                             Kansas City, MO-KS           63417\n",
      "198               Las Vegas-Henderson-Paradise, NV           59150\n",
      "211             Los Angeles-Long Beach-Anaheim, CA           76445\n",
      "226        Miami-Fort Lauderdale-Pompano Beach, FL           77732\n",
      "231        Minneapolis-St. Paul-Bloomington, MN-WI           75164\n",
      "246 Nashville-Davidson--Murfreesboro--Franklin, TN           74035\n",
      "250          New York-Newark-Jersey City, NY-NJ-PA           84084\n",
      "261                  Orlando-Kissimmee-Sanford, FL           53959\n",
      "270    Philadelphia-Camden-Wilmington, PA-NJ-DE-MD           73291\n",
      "271                      Phoenix-Mesa-Chandler, AZ           61840\n",
      "273                                 Pittsburgh, PA           65792\n",
      "276                    Portland-South Portland, ME           71990\n",
      "277            Portland-Vancouver-Hillsboro, OR-WA           69435\n",
      "299                Sacramento-Roseville-Folsom, CA           66940\n",
      "304                               St. Louis, MO-IL           69698\n",
      "310                  San Antonio-New Braunfels, TX           55180\n",
      "311             San Diego-Chula Vista-Carlsbad, CA           74326\n",
      "312             San Francisco-Oakland-Berkeley, CA          123736\n",
      "321                    Seattle-Tacoma-Bellevue, WA           92113\n",
      "343            Tampa-St. Petersburg-Clearwater, FL           60091\n",
      "361     Virginia Beach-Norfolk-Newport News, VA-NC           57873\n",
      "366   Washington-Arlington-Alexandria, DC-VA-MD-WV           83010\n"
     ]
    }
   ],
   "source": [
    "print(pi2)\n"
   ]
  },
  {
   "cell_type": "code",
   "execution_count": 113,
   "metadata": {
    "vscode": {
     "languageId": "r"
    }
   },
   "outputs": [
    {
     "name": "stdout",
     "output_type": "stream",
     "text": [
      "                           Area personal income\n",
      "18                      Atlanta           64107\n",
      "22                       Austin           75119\n",
      "24                    Baltimore           71420\n",
      "43                       Boston           94082\n",
      "65                    Charlotte           65156\n",
      "66          Charlottesville, VA           80969\n",
      "69                      Chicago           72512\n",
      "71                   Cincinnati           65253\n",
      "73                Cleveland, TN           46240\n",
      "74                    Cleveland           62921\n",
      "80              Columbus, GA-AL           46748\n",
      "81                 Columbus, IN           61920\n",
      "82                     Columbus           61228\n",
      "87            Dallas-Fort Worth           70493\n",
      "96                       Denver           84788\n",
      "98                      Detroit           61322\n",
      "160                     Houston           68344\n",
      "164                Indianapolis           68719\n",
      "181                 Kansas City           63417\n",
      "198                   Las Vegas           59150\n",
      "211                 Los Angeles           76445\n",
      "226                       Miami           77732\n",
      "231        Minneapolis-St. Paul           75164\n",
      "246                   Nashville           74035\n",
      "250                    New York           84084\n",
      "261                     Orlando           53959\n",
      "270                Philadelphia           73291\n",
      "271                     Phoenix           61840\n",
      "273                  Pittsburgh           65792\n",
      "276 Portland-South Portland, ME           71990\n",
      "277                    Portland           69435\n",
      "299                  Sacramento           66940\n",
      "304                   St. Louis           69698\n",
      "310                 San Antonio           55180\n",
      "311                   San Diego           74326\n",
      "312               San Francisco          123736\n",
      "321                     Seattle           92113\n",
      "343                       Tampa           60091\n",
      "361              Virginia Beach           57873\n",
      "366              Washington, DC           83010\n"
     ]
    }
   ],
   "source": [
    "pi2 <- pi2 %>%\n",
    "  mutate(Area = case_when(\n",
    "    Area == \"Atlanta-Sandy Springs-Alpharetta, GA\" ~ \"Atlanta\",\n",
    "    Area == \"Austin-Round Rock-Georgetown, TX\" ~ \"Austin\",\n",
    "    Area == \"Baltimore-Columbia-Towson, MD\" ~ \"Baltimore\",\n",
    "    Area == \"Boston-Cambridge-Newton, MA-NH\" ~ \"Boston\",\n",
    "    Area == \"Charlotte-Concord-Gastonia, NC-SC\" ~ \"Charlotte\",\n",
    "    Area == \"Chicago-Naperville-Elgin, IL-IN-WI\" ~ \"Chicago\",\n",
    "    Area == \"Cincinnati, OH-KY-IN\" ~ \"Cincinnati\",\n",
    "    Area == \"Cleveland-Elyria, OH\" ~ \"Cleveland\",\n",
    "    Area == \"Columbus, OH\" ~ \"Columbus\",\n",
    "    Area == \"Dallas-Fort Worth-Arlington, TX\" ~ \"Dallas-Fort Worth\",\n",
    "    Area == \"Denver-Aurora-Lakewood, CO\" ~ \"Denver\",\n",
    "    Area == \"Detroit-Warren-Dearborn, MI\" ~ \"Detroit\",\n",
    "    Area == \"Houston-The Woodlands-Sugar Land, TX\" ~ \"Houston\",\n",
    "    Area == \"Indianapolis-Carmel-Anderson, IN\" ~ \"Indianapolis\",\n",
    "    Area == \"Kansas City, MO-KS\" ~ \"Kansas City\",\n",
    "    Area == \"Las Vegas-Henderson-Paradise, NV\" ~ \"Las Vegas\",\n",
    "    Area == \"Los Angeles-Long Beach-Anaheim, CA\" ~ \"Los Angeles\",\n",
    "    Area == \"Miami-Fort Lauderdale-Pompano Beach, FL\" ~ \"Miami\",\n",
    "    Area == \"Minneapolis-St. Paul-Bloomington, MN-WI\" ~ \"Minneapolis-St. Paul\",\n",
    "    Area == \"Nashville-Davidson--Murfreesboro--Franklin, TN\" ~ \"Nashville\",\n",
    "    Area == \"New York-Newark-Jersey City, NY-NJ-PA\" ~ \"New York\",\n",
    "    Area == \"Orlando-Kissimmee-Sanford, FL\" ~ \"Orlando\",\n",
    "    Area == \"Philadelphia-Camden-Wilmington, PA-NJ-DE-MD\" ~ \"Philadelphia\",\n",
    "    Area == \"Phoenix-Mesa-Chandler, AZ\" ~ \"Phoenix\",\n",
    "    Area == \"Pittsburgh, PA\" ~ \"Pittsburgh\",\n",
    "    Area == \"Portland-Vancouver-Hillsboro, OR-WA\" ~ \"Portland\",\n",
    "    Area == \"Sacramento-Roseville-Folsom, CA\" ~ \"Sacramento\",\n",
    "    Area == \"St. Louis, MO-IL\" ~ \"St. Louis\",\n",
    "    Area == \"San Antonio-New Braunfels, TX\" ~ \"San Antonio\",\n",
    "    Area == \"San Diego-Chula Vista-Carlsbad, CA\" ~ \"San Diego\",\n",
    "    Area == \"San Francisco-Oakland-Berkeley, CA\" ~ \"San Francisco\",\n",
    "    Area == \"Seattle-Tacoma-Bellevue, WA\" ~ \"Seattle\",\n",
    "    Area == \"Tampa-St. Petersburg-Clearwater, FL\" ~ \"Tampa\",\n",
    "    Area == \"Virginia Beach-Norfolk-Newport News, VA-NC\" ~ \"Virginia Beach\",\n",
    "    Area == \"Washington-Arlington-Alexandria, DC-VA-MD-WV\" ~ \"Washington, DC\",\n",
    "    TRUE ~ Area\n",
    "  ))\n",
    "\n",
    "print(pi2)\n"
   ]
  },
  {
   "cell_type": "code",
   "execution_count": 114,
   "metadata": {
    "vscode": {
     "languageId": "r"
    }
   },
   "outputs": [
    {
     "name": "stdout",
     "output_type": "stream",
     "text": [
      "                   Area personal income\n",
      "1               Atlanta           64107\n",
      "2                Austin           75119\n",
      "3             Baltimore           71420\n",
      "4                Boston           94082\n",
      "5             Charlotte           65156\n",
      "6               Chicago           72512\n",
      "7            Cincinnati           65253\n",
      "8             Cleveland           62921\n",
      "9              Columbus           61228\n",
      "10    Dallas-Fort Worth           70493\n",
      "11               Denver           84788\n",
      "12              Detroit           61322\n",
      "13              Houston           68344\n",
      "14         Indianapolis           68719\n",
      "15          Kansas City           63417\n",
      "16            Las Vegas           59150\n",
      "17          Los Angeles           76445\n",
      "18                Miami           77732\n",
      "19 Minneapolis-St. Paul           75164\n",
      "20            Nashville           74035\n",
      "21             New York           84084\n",
      "22              Orlando           53959\n",
      "23         Philadelphia           73291\n",
      "24              Phoenix           61840\n",
      "25           Pittsburgh           65792\n",
      "26             Portland           69435\n",
      "27           Sacramento           66940\n",
      "28            St. Louis           69698\n",
      "29          San Antonio           55180\n",
      "30            San Diego           74326\n",
      "31        San Francisco          123736\n",
      "32              Seattle           92113\n",
      "33                Tampa           60091\n",
      "34       Virginia Beach           57873\n",
      "35       Washington, DC           83010\n"
     ]
    }
   ],
   "source": [
    "pi2 <- pi2 %>%\n",
    "  filter(!Area %in% c(\"Charlottesville, VA\", \"Cleveland, TN\", \"Columbus, GA-AL\", \"Columbus, IN\", \"Portland-South Portland, ME\"))\n",
    "\n",
    "print(pi2)"
   ]
  },
  {
   "cell_type": "code",
   "execution_count": 115,
   "metadata": {
    "vscode": {
     "languageId": "r"
    }
   },
   "outputs": [
    {
     "data": {
      "text/html": [
       "<table class=\"dataframe\">\n",
       "<caption>A data.frame: 6 × 2</caption>\n",
       "<thead>\n",
       "\t<tr><th></th><th scope=col>REGION</th><th scope=col>personal income</th></tr>\n",
       "\t<tr><th></th><th scope=col>&lt;chr&gt;</th><th scope=col>&lt;dbl&gt;</th></tr>\n",
       "</thead>\n",
       "<tbody>\n",
       "\t<tr><th scope=row>1</th><td>Atlanta  </td><td>64107</td></tr>\n",
       "\t<tr><th scope=row>2</th><td>Austin   </td><td>75119</td></tr>\n",
       "\t<tr><th scope=row>3</th><td>Baltimore</td><td>71420</td></tr>\n",
       "\t<tr><th scope=row>4</th><td>Boston   </td><td>94082</td></tr>\n",
       "\t<tr><th scope=row>5</th><td>Charlotte</td><td>65156</td></tr>\n",
       "\t<tr><th scope=row>6</th><td>Chicago  </td><td>72512</td></tr>\n",
       "</tbody>\n",
       "</table>\n"
      ],
      "text/latex": [
       "A data.frame: 6 × 2\n",
       "\\begin{tabular}{r|ll}\n",
       "  & REGION & personal income\\\\\n",
       "  & <chr> & <dbl>\\\\\n",
       "\\hline\n",
       "\t1 & Atlanta   & 64107\\\\\n",
       "\t2 & Austin    & 75119\\\\\n",
       "\t3 & Baltimore & 71420\\\\\n",
       "\t4 & Boston    & 94082\\\\\n",
       "\t5 & Charlotte & 65156\\\\\n",
       "\t6 & Chicago   & 72512\\\\\n",
       "\\end{tabular}\n"
      ],
      "text/markdown": [
       "\n",
       "A data.frame: 6 × 2\n",
       "\n",
       "| <!--/--> | REGION &lt;chr&gt; | personal income &lt;dbl&gt; |\n",
       "|---|---|---|\n",
       "| 1 | Atlanta   | 64107 |\n",
       "| 2 | Austin    | 75119 |\n",
       "| 3 | Baltimore | 71420 |\n",
       "| 4 | Boston    | 94082 |\n",
       "| 5 | Charlotte | 65156 |\n",
       "| 6 | Chicago   | 72512 |\n",
       "\n"
      ],
      "text/plain": [
       "  REGION    personal income\n",
       "1 Atlanta   64107          \n",
       "2 Austin    75119          \n",
       "3 Baltimore 71420          \n",
       "4 Boston    94082          \n",
       "5 Charlotte 65156          \n",
       "6 Chicago   72512          "
      ]
     },
     "metadata": {},
     "output_type": "display_data"
    }
   ],
   "source": [
    "pi2 <- pi2 %>%\n",
    "  rename(REGION = Area)\n",
    "\n",
    "head(pi2)\n"
   ]
  },
  {
   "cell_type": "code",
   "execution_count": 116,
   "metadata": {
    "vscode": {
     "languageId": "r"
    }
   },
   "outputs": [],
   "source": [
    "write.csv(pi2, file = \"data_partial/personal_income.csv\", row.names = FALSE)\n"
   ]
  },
  {
   "cell_type": "markdown",
   "metadata": {},
   "source": [
    "---------------"
   ]
  },
  {
   "cell_type": "markdown",
   "metadata": {},
   "source": [
    "# Median Rent"
   ]
  },
  {
   "cell_type": "code",
   "execution_count": 117,
   "metadata": {
    "vscode": {
     "languageId": "r"
    }
   },
   "outputs": [
    {
     "data": {
      "text/html": [
       "<table class=\"dataframe\">\n",
       "<caption>A data.frame: 6 × 5</caption>\n",
       "<thead>\n",
       "\t<tr><th></th><th scope=col>CBSA</th><th scope=col>Population</th><th scope=col>Median.Rent</th><th scope=col>YoY...Change</th><th scope=col>MoM...Change</th></tr>\n",
       "\t<tr><th></th><th scope=col>&lt;chr&gt;</th><th scope=col>&lt;int&gt;</th><th scope=col>&lt;dbl&gt;</th><th scope=col>&lt;dbl&gt;</th><th scope=col>&lt;dbl&gt;</th></tr>\n",
       "</thead>\n",
       "<tbody>\n",
       "\t<tr><th scope=row>1</th><td>&lt;a rel=\"nofollow noopener noreferrer\" target=\"_blank\" href=\"https://www.rent.com/rhode island/providence-apartments/\"&gt;Providence, RI&lt;/a&gt;</td><td>1675774</td><td>2742.75</td><td>16.181298</td><td> 4.7650879</td></tr>\n",
       "\t<tr><th scope=row>2</th><td>&lt;a rel=\"nofollow noopener noreferrer\" target=\"_blank\" href=\"https://www.rent.com/florida/jacksonville-apartments/\"&gt;Jacksonville, FL&lt;/a&gt; </td><td>1637666</td><td>1804.25</td><td>10.503751</td><td> 1.3196687</td></tr>\n",
       "\t<tr><th scope=row>3</th><td><span style=white-space:pre-wrap>&lt;a rel=\"nofollow noopener noreferrer\" target=\"_blank\" href=\"https://www.rent.com/california/san-jose-apartments/\"&gt;San Jose, CA&lt;/a&gt;      </span></td><td>1952185</td><td>3932.00</td><td> 8.942301</td><td> 0.7688365</td></tr>\n",
       "\t<tr><th scope=row>4</th><td><span style=white-space:pre-wrap>&lt;a rel=\"nofollow noopener noreferrer\" target=\"_blank\" href=\"https://www.rent.com/missouri/st.-louis-apartments/\"&gt;St. Louis, MO&lt;/a&gt;      </span></td><td>2809299</td><td>1680.50</td><td> 8.279639</td><td>-3.4611518</td></tr>\n",
       "\t<tr><th scope=row>5</th><td><span style=white-space:pre-wrap>&lt;a rel=\"nofollow noopener noreferrer\" target=\"_blank\" href=\"https://www.rent.com/missouri/kansas-city-apartments/\"&gt;Kansas City, MO&lt;/a&gt;  </span></td><td>2199490</td><td>1686.25</td><td> 8.266453</td><td>-0.5162242</td></tr>\n",
       "\t<tr><th scope=row>6</th><td>&lt;a rel=\"nofollow noopener noreferrer\" target=\"_blank\" href=\"https://www.rent.com/minnesota/minneapolis-apartments/\"&gt;Minneapolis, MN&lt;/a&gt; </td><td>3690512</td><td>1896.50</td><td> 7.893614</td><td> 0.3439153</td></tr>\n",
       "</tbody>\n",
       "</table>\n"
      ],
      "text/latex": [
       "A data.frame: 6 × 5\n",
       "\\begin{tabular}{r|lllll}\n",
       "  & CBSA & Population & Median.Rent & YoY...Change & MoM...Change\\\\\n",
       "  & <chr> & <int> & <dbl> & <dbl> & <dbl>\\\\\n",
       "\\hline\n",
       "\t1 & <a rel=\"nofollow noopener noreferrer\" target=\"\\_blank\" href=\"https://www.rent.com/rhode island/providence-apartments/\">Providence, RI</a> & 1675774 & 2742.75 & 16.181298 &  4.7650879\\\\\n",
       "\t2 & <a rel=\"nofollow noopener noreferrer\" target=\"\\_blank\" href=\"https://www.rent.com/florida/jacksonville-apartments/\">Jacksonville, FL</a>  & 1637666 & 1804.25 & 10.503751 &  1.3196687\\\\\n",
       "\t3 & <a rel=\"nofollow noopener noreferrer\" target=\"\\_blank\" href=\"https://www.rent.com/california/san-jose-apartments/\">San Jose, CA</a>       & 1952185 & 3932.00 &  8.942301 &  0.7688365\\\\\n",
       "\t4 & <a rel=\"nofollow noopener noreferrer\" target=\"\\_blank\" href=\"https://www.rent.com/missouri/st.-louis-apartments/\">St. Louis, MO</a>       & 2809299 & 1680.50 &  8.279639 & -3.4611518\\\\\n",
       "\t5 & <a rel=\"nofollow noopener noreferrer\" target=\"\\_blank\" href=\"https://www.rent.com/missouri/kansas-city-apartments/\">Kansas City, MO</a>   & 2199490 & 1686.25 &  8.266453 & -0.5162242\\\\\n",
       "\t6 & <a rel=\"nofollow noopener noreferrer\" target=\"\\_blank\" href=\"https://www.rent.com/minnesota/minneapolis-apartments/\">Minneapolis, MN</a>  & 3690512 & 1896.50 &  7.893614 &  0.3439153\\\\\n",
       "\\end{tabular}\n"
      ],
      "text/markdown": [
       "\n",
       "A data.frame: 6 × 5\n",
       "\n",
       "| <!--/--> | CBSA &lt;chr&gt; | Population &lt;int&gt; | Median.Rent &lt;dbl&gt; | YoY...Change &lt;dbl&gt; | MoM...Change &lt;dbl&gt; |\n",
       "|---|---|---|---|---|---|\n",
       "| 1 | &lt;a rel=\"nofollow noopener noreferrer\" target=\"_blank\" href=\"https://www.rent.com/rhode island/providence-apartments/\"&gt;Providence, RI&lt;/a&gt; | 1675774 | 2742.75 | 16.181298 |  4.7650879 |\n",
       "| 2 | &lt;a rel=\"nofollow noopener noreferrer\" target=\"_blank\" href=\"https://www.rent.com/florida/jacksonville-apartments/\"&gt;Jacksonville, FL&lt;/a&gt;  | 1637666 | 1804.25 | 10.503751 |  1.3196687 |\n",
       "| 3 | &lt;a rel=\"nofollow noopener noreferrer\" target=\"_blank\" href=\"https://www.rent.com/california/san-jose-apartments/\"&gt;San Jose, CA&lt;/a&gt;       | 1952185 | 3932.00 |  8.942301 |  0.7688365 |\n",
       "| 4 | &lt;a rel=\"nofollow noopener noreferrer\" target=\"_blank\" href=\"https://www.rent.com/missouri/st.-louis-apartments/\"&gt;St. Louis, MO&lt;/a&gt;       | 2809299 | 1680.50 |  8.279639 | -3.4611518 |\n",
       "| 5 | &lt;a rel=\"nofollow noopener noreferrer\" target=\"_blank\" href=\"https://www.rent.com/missouri/kansas-city-apartments/\"&gt;Kansas City, MO&lt;/a&gt;   | 2199490 | 1686.25 |  8.266453 | -0.5162242 |\n",
       "| 6 | &lt;a rel=\"nofollow noopener noreferrer\" target=\"_blank\" href=\"https://www.rent.com/minnesota/minneapolis-apartments/\"&gt;Minneapolis, MN&lt;/a&gt;  | 3690512 | 1896.50 |  7.893614 |  0.3439153 |\n",
       "\n"
      ],
      "text/plain": [
       "  CBSA                                                                                                                                    \n",
       "1 <a rel=\"nofollow noopener noreferrer\" target=\"_blank\" href=\"https://www.rent.com/rhode island/providence-apartments/\">Providence, RI</a>\n",
       "2 <a rel=\"nofollow noopener noreferrer\" target=\"_blank\" href=\"https://www.rent.com/florida/jacksonville-apartments/\">Jacksonville, FL</a> \n",
       "3 <a rel=\"nofollow noopener noreferrer\" target=\"_blank\" href=\"https://www.rent.com/california/san-jose-apartments/\">San Jose, CA</a>      \n",
       "4 <a rel=\"nofollow noopener noreferrer\" target=\"_blank\" href=\"https://www.rent.com/missouri/st.-louis-apartments/\">St. Louis, MO</a>      \n",
       "5 <a rel=\"nofollow noopener noreferrer\" target=\"_blank\" href=\"https://www.rent.com/missouri/kansas-city-apartments/\">Kansas City, MO</a>  \n",
       "6 <a rel=\"nofollow noopener noreferrer\" target=\"_blank\" href=\"https://www.rent.com/minnesota/minneapolis-apartments/\">Minneapolis, MN</a> \n",
       "  Population Median.Rent YoY...Change MoM...Change\n",
       "1 1675774    2742.75     16.181298     4.7650879  \n",
       "2 1637666    1804.25     10.503751     1.3196687  \n",
       "3 1952185    3932.00      8.942301     0.7688365  \n",
       "4 2809299    1680.50      8.279639    -3.4611518  \n",
       "5 2199490    1686.25      8.266453    -0.5162242  \n",
       "6 3690512    1896.50      7.893614     0.3439153  "
      ]
     },
     "metadata": {},
     "output_type": "display_data"
    }
   ],
   "source": [
    "rent <- read.csv(\"data_raw/median_rent.csv\")\n",
    "\n",
    "head(rent)"
   ]
  },
  {
   "cell_type": "code",
   "execution_count": 118,
   "metadata": {
    "vscode": {
     "languageId": "r"
    }
   },
   "outputs": [
    {
     "data": {
      "text/html": [
       "<table class=\"dataframe\">\n",
       "<caption>A data.frame: 6 × 2</caption>\n",
       "<thead>\n",
       "\t<tr><th></th><th scope=col>CBSA</th><th scope=col>Median.Rent</th></tr>\n",
       "\t<tr><th></th><th scope=col>&lt;chr&gt;</th><th scope=col>&lt;dbl&gt;</th></tr>\n",
       "</thead>\n",
       "<tbody>\n",
       "\t<tr><th scope=row>1</th><td>&lt;a rel=\"nofollow noopener noreferrer\" target=\"_blank\" href=\"https://www.rent.com/rhode island/providence-apartments/\"&gt;Providence, RI&lt;/a&gt;</td><td>2742.75</td></tr>\n",
       "\t<tr><th scope=row>2</th><td>&lt;a rel=\"nofollow noopener noreferrer\" target=\"_blank\" href=\"https://www.rent.com/florida/jacksonville-apartments/\"&gt;Jacksonville, FL&lt;/a&gt; </td><td>1804.25</td></tr>\n",
       "\t<tr><th scope=row>3</th><td><span style=white-space:pre-wrap>&lt;a rel=\"nofollow noopener noreferrer\" target=\"_blank\" href=\"https://www.rent.com/california/san-jose-apartments/\"&gt;San Jose, CA&lt;/a&gt;      </span></td><td>3932.00</td></tr>\n",
       "\t<tr><th scope=row>4</th><td><span style=white-space:pre-wrap>&lt;a rel=\"nofollow noopener noreferrer\" target=\"_blank\" href=\"https://www.rent.com/missouri/st.-louis-apartments/\"&gt;St. Louis, MO&lt;/a&gt;      </span></td><td>1680.50</td></tr>\n",
       "\t<tr><th scope=row>5</th><td><span style=white-space:pre-wrap>&lt;a rel=\"nofollow noopener noreferrer\" target=\"_blank\" href=\"https://www.rent.com/missouri/kansas-city-apartments/\"&gt;Kansas City, MO&lt;/a&gt;  </span></td><td>1686.25</td></tr>\n",
       "\t<tr><th scope=row>6</th><td>&lt;a rel=\"nofollow noopener noreferrer\" target=\"_blank\" href=\"https://www.rent.com/minnesota/minneapolis-apartments/\"&gt;Minneapolis, MN&lt;/a&gt; </td><td>1896.50</td></tr>\n",
       "</tbody>\n",
       "</table>\n"
      ],
      "text/latex": [
       "A data.frame: 6 × 2\n",
       "\\begin{tabular}{r|ll}\n",
       "  & CBSA & Median.Rent\\\\\n",
       "  & <chr> & <dbl>\\\\\n",
       "\\hline\n",
       "\t1 & <a rel=\"nofollow noopener noreferrer\" target=\"\\_blank\" href=\"https://www.rent.com/rhode island/providence-apartments/\">Providence, RI</a> & 2742.75\\\\\n",
       "\t2 & <a rel=\"nofollow noopener noreferrer\" target=\"\\_blank\" href=\"https://www.rent.com/florida/jacksonville-apartments/\">Jacksonville, FL</a>  & 1804.25\\\\\n",
       "\t3 & <a rel=\"nofollow noopener noreferrer\" target=\"\\_blank\" href=\"https://www.rent.com/california/san-jose-apartments/\">San Jose, CA</a>       & 3932.00\\\\\n",
       "\t4 & <a rel=\"nofollow noopener noreferrer\" target=\"\\_blank\" href=\"https://www.rent.com/missouri/st.-louis-apartments/\">St. Louis, MO</a>       & 1680.50\\\\\n",
       "\t5 & <a rel=\"nofollow noopener noreferrer\" target=\"\\_blank\" href=\"https://www.rent.com/missouri/kansas-city-apartments/\">Kansas City, MO</a>   & 1686.25\\\\\n",
       "\t6 & <a rel=\"nofollow noopener noreferrer\" target=\"\\_blank\" href=\"https://www.rent.com/minnesota/minneapolis-apartments/\">Minneapolis, MN</a>  & 1896.50\\\\\n",
       "\\end{tabular}\n"
      ],
      "text/markdown": [
       "\n",
       "A data.frame: 6 × 2\n",
       "\n",
       "| <!--/--> | CBSA &lt;chr&gt; | Median.Rent &lt;dbl&gt; |\n",
       "|---|---|---|\n",
       "| 1 | &lt;a rel=\"nofollow noopener noreferrer\" target=\"_blank\" href=\"https://www.rent.com/rhode island/providence-apartments/\"&gt;Providence, RI&lt;/a&gt; | 2742.75 |\n",
       "| 2 | &lt;a rel=\"nofollow noopener noreferrer\" target=\"_blank\" href=\"https://www.rent.com/florida/jacksonville-apartments/\"&gt;Jacksonville, FL&lt;/a&gt;  | 1804.25 |\n",
       "| 3 | &lt;a rel=\"nofollow noopener noreferrer\" target=\"_blank\" href=\"https://www.rent.com/california/san-jose-apartments/\"&gt;San Jose, CA&lt;/a&gt;       | 3932.00 |\n",
       "| 4 | &lt;a rel=\"nofollow noopener noreferrer\" target=\"_blank\" href=\"https://www.rent.com/missouri/st.-louis-apartments/\"&gt;St. Louis, MO&lt;/a&gt;       | 1680.50 |\n",
       "| 5 | &lt;a rel=\"nofollow noopener noreferrer\" target=\"_blank\" href=\"https://www.rent.com/missouri/kansas-city-apartments/\"&gt;Kansas City, MO&lt;/a&gt;   | 1686.25 |\n",
       "| 6 | &lt;a rel=\"nofollow noopener noreferrer\" target=\"_blank\" href=\"https://www.rent.com/minnesota/minneapolis-apartments/\"&gt;Minneapolis, MN&lt;/a&gt;  | 1896.50 |\n",
       "\n"
      ],
      "text/plain": [
       "  CBSA                                                                                                                                    \n",
       "1 <a rel=\"nofollow noopener noreferrer\" target=\"_blank\" href=\"https://www.rent.com/rhode island/providence-apartments/\">Providence, RI</a>\n",
       "2 <a rel=\"nofollow noopener noreferrer\" target=\"_blank\" href=\"https://www.rent.com/florida/jacksonville-apartments/\">Jacksonville, FL</a> \n",
       "3 <a rel=\"nofollow noopener noreferrer\" target=\"_blank\" href=\"https://www.rent.com/california/san-jose-apartments/\">San Jose, CA</a>      \n",
       "4 <a rel=\"nofollow noopener noreferrer\" target=\"_blank\" href=\"https://www.rent.com/missouri/st.-louis-apartments/\">St. Louis, MO</a>      \n",
       "5 <a rel=\"nofollow noopener noreferrer\" target=\"_blank\" href=\"https://www.rent.com/missouri/kansas-city-apartments/\">Kansas City, MO</a>  \n",
       "6 <a rel=\"nofollow noopener noreferrer\" target=\"_blank\" href=\"https://www.rent.com/minnesota/minneapolis-apartments/\">Minneapolis, MN</a> \n",
       "  Median.Rent\n",
       "1 2742.75    \n",
       "2 1804.25    \n",
       "3 3932.00    \n",
       "4 1680.50    \n",
       "5 1686.25    \n",
       "6 1896.50    "
      ]
     },
     "metadata": {},
     "output_type": "display_data"
    }
   ],
   "source": [
    "rent <- rent %>% select(CBSA, Median.Rent)\n",
    "\n",
    "head(rent)\n"
   ]
  },
  {
   "cell_type": "code",
   "execution_count": 119,
   "metadata": {
    "vscode": {
     "languageId": "r"
    }
   },
   "outputs": [
    {
     "data": {
      "text/html": [
       "<table class=\"dataframe\">\n",
       "<caption>A data.frame: 6 × 2</caption>\n",
       "<thead>\n",
       "\t<tr><th></th><th scope=col>REGION</th><th scope=col>Median.Rent</th></tr>\n",
       "\t<tr><th></th><th scope=col>&lt;chr&gt;</th><th scope=col>&lt;dbl&gt;</th></tr>\n",
       "</thead>\n",
       "<tbody>\n",
       "\t<tr><th scope=row>1</th><td>&lt;a rel=\"nofollow noopener noreferrer\" target=\"_blank\" href=\"https://www.rent.com/rhode island/providence-apartments/\"&gt;Providence, RI&lt;/a&gt;</td><td>2742.75</td></tr>\n",
       "\t<tr><th scope=row>2</th><td>&lt;a rel=\"nofollow noopener noreferrer\" target=\"_blank\" href=\"https://www.rent.com/florida/jacksonville-apartments/\"&gt;Jacksonville, FL&lt;/a&gt; </td><td>1804.25</td></tr>\n",
       "\t<tr><th scope=row>3</th><td><span style=white-space:pre-wrap>&lt;a rel=\"nofollow noopener noreferrer\" target=\"_blank\" href=\"https://www.rent.com/california/san-jose-apartments/\"&gt;San Jose, CA&lt;/a&gt;      </span></td><td>3932.00</td></tr>\n",
       "\t<tr><th scope=row>4</th><td><span style=white-space:pre-wrap>&lt;a rel=\"nofollow noopener noreferrer\" target=\"_blank\" href=\"https://www.rent.com/missouri/st.-louis-apartments/\"&gt;St. Louis, MO&lt;/a&gt;      </span></td><td>1680.50</td></tr>\n",
       "\t<tr><th scope=row>5</th><td><span style=white-space:pre-wrap>&lt;a rel=\"nofollow noopener noreferrer\" target=\"_blank\" href=\"https://www.rent.com/missouri/kansas-city-apartments/\"&gt;Kansas City, MO&lt;/a&gt;  </span></td><td>1686.25</td></tr>\n",
       "\t<tr><th scope=row>6</th><td>&lt;a rel=\"nofollow noopener noreferrer\" target=\"_blank\" href=\"https://www.rent.com/minnesota/minneapolis-apartments/\"&gt;Minneapolis, MN&lt;/a&gt; </td><td>1896.50</td></tr>\n",
       "</tbody>\n",
       "</table>\n"
      ],
      "text/latex": [
       "A data.frame: 6 × 2\n",
       "\\begin{tabular}{r|ll}\n",
       "  & REGION & Median.Rent\\\\\n",
       "  & <chr> & <dbl>\\\\\n",
       "\\hline\n",
       "\t1 & <a rel=\"nofollow noopener noreferrer\" target=\"\\_blank\" href=\"https://www.rent.com/rhode island/providence-apartments/\">Providence, RI</a> & 2742.75\\\\\n",
       "\t2 & <a rel=\"nofollow noopener noreferrer\" target=\"\\_blank\" href=\"https://www.rent.com/florida/jacksonville-apartments/\">Jacksonville, FL</a>  & 1804.25\\\\\n",
       "\t3 & <a rel=\"nofollow noopener noreferrer\" target=\"\\_blank\" href=\"https://www.rent.com/california/san-jose-apartments/\">San Jose, CA</a>       & 3932.00\\\\\n",
       "\t4 & <a rel=\"nofollow noopener noreferrer\" target=\"\\_blank\" href=\"https://www.rent.com/missouri/st.-louis-apartments/\">St. Louis, MO</a>       & 1680.50\\\\\n",
       "\t5 & <a rel=\"nofollow noopener noreferrer\" target=\"\\_blank\" href=\"https://www.rent.com/missouri/kansas-city-apartments/\">Kansas City, MO</a>   & 1686.25\\\\\n",
       "\t6 & <a rel=\"nofollow noopener noreferrer\" target=\"\\_blank\" href=\"https://www.rent.com/minnesota/minneapolis-apartments/\">Minneapolis, MN</a>  & 1896.50\\\\\n",
       "\\end{tabular}\n"
      ],
      "text/markdown": [
       "\n",
       "A data.frame: 6 × 2\n",
       "\n",
       "| <!--/--> | REGION &lt;chr&gt; | Median.Rent &lt;dbl&gt; |\n",
       "|---|---|---|\n",
       "| 1 | &lt;a rel=\"nofollow noopener noreferrer\" target=\"_blank\" href=\"https://www.rent.com/rhode island/providence-apartments/\"&gt;Providence, RI&lt;/a&gt; | 2742.75 |\n",
       "| 2 | &lt;a rel=\"nofollow noopener noreferrer\" target=\"_blank\" href=\"https://www.rent.com/florida/jacksonville-apartments/\"&gt;Jacksonville, FL&lt;/a&gt;  | 1804.25 |\n",
       "| 3 | &lt;a rel=\"nofollow noopener noreferrer\" target=\"_blank\" href=\"https://www.rent.com/california/san-jose-apartments/\"&gt;San Jose, CA&lt;/a&gt;       | 3932.00 |\n",
       "| 4 | &lt;a rel=\"nofollow noopener noreferrer\" target=\"_blank\" href=\"https://www.rent.com/missouri/st.-louis-apartments/\"&gt;St. Louis, MO&lt;/a&gt;       | 1680.50 |\n",
       "| 5 | &lt;a rel=\"nofollow noopener noreferrer\" target=\"_blank\" href=\"https://www.rent.com/missouri/kansas-city-apartments/\"&gt;Kansas City, MO&lt;/a&gt;   | 1686.25 |\n",
       "| 6 | &lt;a rel=\"nofollow noopener noreferrer\" target=\"_blank\" href=\"https://www.rent.com/minnesota/minneapolis-apartments/\"&gt;Minneapolis, MN&lt;/a&gt;  | 1896.50 |\n",
       "\n"
      ],
      "text/plain": [
       "  REGION                                                                                                                                  \n",
       "1 <a rel=\"nofollow noopener noreferrer\" target=\"_blank\" href=\"https://www.rent.com/rhode island/providence-apartments/\">Providence, RI</a>\n",
       "2 <a rel=\"nofollow noopener noreferrer\" target=\"_blank\" href=\"https://www.rent.com/florida/jacksonville-apartments/\">Jacksonville, FL</a> \n",
       "3 <a rel=\"nofollow noopener noreferrer\" target=\"_blank\" href=\"https://www.rent.com/california/san-jose-apartments/\">San Jose, CA</a>      \n",
       "4 <a rel=\"nofollow noopener noreferrer\" target=\"_blank\" href=\"https://www.rent.com/missouri/st.-louis-apartments/\">St. Louis, MO</a>      \n",
       "5 <a rel=\"nofollow noopener noreferrer\" target=\"_blank\" href=\"https://www.rent.com/missouri/kansas-city-apartments/\">Kansas City, MO</a>  \n",
       "6 <a rel=\"nofollow noopener noreferrer\" target=\"_blank\" href=\"https://www.rent.com/minnesota/minneapolis-apartments/\">Minneapolis, MN</a> \n",
       "  Median.Rent\n",
       "1 2742.75    \n",
       "2 1804.25    \n",
       "3 3932.00    \n",
       "4 1680.50    \n",
       "5 1686.25    \n",
       "6 1896.50    "
      ]
     },
     "metadata": {},
     "output_type": "display_data"
    }
   ],
   "source": [
    "rent <- rent %>%\n",
    "  rename(REGION = CBSA)\n",
    "\n",
    "head(rent)\n"
   ]
  },
  {
   "cell_type": "code",
   "execution_count": 120,
   "metadata": {
    "vscode": {
     "languageId": "r"
    }
   },
   "outputs": [
    {
     "name": "stdout",
     "output_type": "stream",
     "text": [
      "                            REGION Median.Rent\n",
      "1                   Providence, RI     2742.75\n",
      "2                 Jacksonville, FL     1804.25\n",
      "3                     San Jose, CA     3932.00\n",
      "4                    St. Louis, MO     1680.50\n",
      "5                  Kansas City, MO     1686.25\n",
      "6                  Minneapolis, MN     1896.50\n",
      "7                Oklahoma City, OK     1267.75\n",
      "8               Virginia Beach, VA     1826.00\n",
      "9                      Chicago, IL     2357.50\n",
      "10                   Milwaukee, WI     1834.50\n",
      "11                    Hartford, CT     2160.00\n",
      "12                     Buffalo, NY     1736.75\n",
      "13                     Orlando, FL     2246.50\n",
      "14                    Columbus, OH     1704.50\n",
      "15                  Cincinnati, OH     1646.00\n",
      "16                 Los Angeles, CA     3587.25\n",
      "17                     Phoenix, AZ     2182.25\n",
      "18              Salt Lake City, UT     1974.75\n",
      "19                    Richmond, VA     1806.25\n",
      "20                     Seattle, WA     2946.00\n",
      "21                     Atlanta, GA     2113.00\n",
      "22                      Boston, MA     3939.50\n",
      "23                    New York, NY     4120.75\n",
      "24                  Birmingham, AL     1625.25\n",
      "25                      Dallas, TX     2180.00\n",
      "26                 San Antonio, TX     1463.00\n",
      "27               San Francisco, CA     3788.75\n",
      "28                Indianapolis, IN     1563.50\n",
      "29                  Washington, DC     2657.25\n",
      "30                Philadelphia, PA     2340.25\n",
      "31                   Baltimore, MD     1981.50\n",
      "32                   San Diego, CA     3400.25\n",
      "33                  Sacramento, CA     2614.25\n",
      "34                       Miami, FL     3056.50\n",
      "35                       Tampa, FL     2207.50\n",
      "36                     Detroit, MI     1619.75\n",
      "37                   Charlotte, NC     1923.50\n",
      "38                   Cleveland, OH     1471.25\n",
      "39                  Pittsburgh, PA     1800.75\n",
      "40 Louisville/Jefferson County, KY     1323.50\n",
      "41                      Denver, CO     2677.00\n",
      "42                   Las Vegas, NV     1666.00\n",
      "43                   Riverside, CA     2639.50\n",
      "44                    Portland, OR     2333.00\n",
      "45                     Memphis, TN     1519.50\n",
      "46                      Austin, TX     1937.50\n",
      "47                     Raleigh, NC     1906.75\n",
      "48                     Houston, TX     1578.00\n",
      "49                 New Orleans, LA     1594.50\n",
      "50                   Nashville, TN     1903.50\n"
     ]
    }
   ],
   "source": [
    "rent$REGION <- str_extract(rent$REGION, \"(?<=\\\">)[^<]+\")\n",
    "\n",
    "print(rent)"
   ]
  },
  {
   "cell_type": "markdown",
   "metadata": {},
   "source": [
    "no baltimore, phoenix, orlando\n"
   ]
  },
  {
   "cell_type": "code",
   "execution_count": 121,
   "metadata": {
    "vscode": {
     "languageId": "r"
    }
   },
   "outputs": [
    {
     "data": {
      "text/html": [
       "<style>\n",
       ".list-inline {list-style: none; margin:0; padding: 0}\n",
       ".list-inline>li {display: inline-block}\n",
       ".list-inline>li:not(:last-child)::after {content: \"\\00b7\"; padding: 0 .5ex}\n",
       "</style>\n",
       "<ol class=list-inline><li>50</li><li>2</li></ol>\n"
      ],
      "text/latex": [
       "\\begin{enumerate*}\n",
       "\\item 50\n",
       "\\item 2\n",
       "\\end{enumerate*}\n"
      ],
      "text/markdown": [
       "1. 50\n",
       "2. 2\n",
       "\n",
       "\n"
      ],
      "text/plain": [
       "[1] 50  2"
      ]
     },
     "metadata": {},
     "output_type": "display_data"
    }
   ],
   "source": [
    "dim(rent)"
   ]
  },
  {
   "cell_type": "code",
   "execution_count": 127,
   "metadata": {
    "vscode": {
     "languageId": "r"
    }
   },
   "outputs": [],
   "source": [
    "areas_to_keep <- c(\"Cleveland\", \"New York\", \"Kansas City\", \"Detroit\", \"Philadelphia\", \"Pittsburgh\", \n",
    "                   \"Baltimore\", \"Washington\", \"Cincinnati\", \"Minneapolis\", \"St. Louis\", \n",
    "                   \"Boston\", \"Indianapolis\", \"Chicago\", \"San Antonio\", \"Las Vegas\", \"Seattle\", \"Denver\", \n",
    "                   \"Phoenix\", \"Sacramento\", \"Houston\", \"San Francisco\", \"Charlotte\", \"Virginia Beach\", \n",
    "                   \"Columbus\", \"Portland\", \"Atlanta\", \"Austin\", \"Dallas\", \"Orlando\", \n",
    "                   \"Nashville\", \"San Diego\", \"Miami\", \"Tampa\", \"Los Angeles\")"
   ]
  },
  {
   "cell_type": "code",
   "execution_count": 106,
   "metadata": {
    "vscode": {
     "languageId": "r"
    }
   },
   "outputs": [
    {
     "data": {
      "text/html": [
       "<style>\n",
       ".list-inline {list-style: none; margin:0; padding: 0}\n",
       ".list-inline>li {display: inline-block}\n",
       ".list-inline>li:not(:last-child)::after {content: \"\\00b7\"; padding: 0 .5ex}\n",
       "</style>\n",
       "<ol class=list-inline><li>'Cleveland'</li><li>'New York'</li><li>'Kansas City'</li><li>'Detroit'</li><li>'Philadelphia'</li><li>'Pittsburgh'</li><li>'Baltimore'</li><li>'Washington'</li><li>'Cincinnati'</li><li>'Minneapolis-St. Paul'</li><li>'St. Louis'</li><li>'Boston'</li><li>'Indianapolis'</li><li>'Chicago'</li><li>'San Antonio'</li><li>'Las Vegas'</li><li>'Seattle'</li><li>'Denver'</li><li>'Phoenix'</li><li>'Sacramento'</li><li>'Houston'</li><li>'San Francisco'</li><li>'Charlotte'</li><li>'Virginia Beach'</li><li>'Columbus'</li><li>'Portland'</li><li>'Atlanta'</li><li>'Austin'</li><li>'Dallas'</li><li>'Orlando'</li><li>'Nashville'</li><li>'San Diego'</li><li>'Miami'</li><li>'Tampa'</li><li>'Los Angeles'</li></ol>\n"
      ],
      "text/latex": [
       "\\begin{enumerate*}\n",
       "\\item 'Cleveland'\n",
       "\\item 'New York'\n",
       "\\item 'Kansas City'\n",
       "\\item 'Detroit'\n",
       "\\item 'Philadelphia'\n",
       "\\item 'Pittsburgh'\n",
       "\\item 'Baltimore'\n",
       "\\item 'Washington'\n",
       "\\item 'Cincinnati'\n",
       "\\item 'Minneapolis-St. Paul'\n",
       "\\item 'St. Louis'\n",
       "\\item 'Boston'\n",
       "\\item 'Indianapolis'\n",
       "\\item 'Chicago'\n",
       "\\item 'San Antonio'\n",
       "\\item 'Las Vegas'\n",
       "\\item 'Seattle'\n",
       "\\item 'Denver'\n",
       "\\item 'Phoenix'\n",
       "\\item 'Sacramento'\n",
       "\\item 'Houston'\n",
       "\\item 'San Francisco'\n",
       "\\item 'Charlotte'\n",
       "\\item 'Virginia Beach'\n",
       "\\item 'Columbus'\n",
       "\\item 'Portland'\n",
       "\\item 'Atlanta'\n",
       "\\item 'Austin'\n",
       "\\item 'Dallas'\n",
       "\\item 'Orlando'\n",
       "\\item 'Nashville'\n",
       "\\item 'San Diego'\n",
       "\\item 'Miami'\n",
       "\\item 'Tampa'\n",
       "\\item 'Los Angeles'\n",
       "\\end{enumerate*}\n"
      ],
      "text/markdown": [
       "1. 'Cleveland'\n",
       "2. 'New York'\n",
       "3. 'Kansas City'\n",
       "4. 'Detroit'\n",
       "5. 'Philadelphia'\n",
       "6. 'Pittsburgh'\n",
       "7. 'Baltimore'\n",
       "8. 'Washington'\n",
       "9. 'Cincinnati'\n",
       "10. 'Minneapolis-St. Paul'\n",
       "11. 'St. Louis'\n",
       "12. 'Boston'\n",
       "13. 'Indianapolis'\n",
       "14. 'Chicago'\n",
       "15. 'San Antonio'\n",
       "16. 'Las Vegas'\n",
       "17. 'Seattle'\n",
       "18. 'Denver'\n",
       "19. 'Phoenix'\n",
       "20. 'Sacramento'\n",
       "21. 'Houston'\n",
       "22. 'San Francisco'\n",
       "23. 'Charlotte'\n",
       "24. 'Virginia Beach'\n",
       "25. 'Columbus'\n",
       "26. 'Portland'\n",
       "27. 'Atlanta'\n",
       "28. 'Austin'\n",
       "29. 'Dallas'\n",
       "30. 'Orlando'\n",
       "31. 'Nashville'\n",
       "32. 'San Diego'\n",
       "33. 'Miami'\n",
       "34. 'Tampa'\n",
       "35. 'Los Angeles'\n",
       "\n",
       "\n"
      ],
      "text/plain": [
       " [1] \"Cleveland\"            \"New York\"             \"Kansas City\"         \n",
       " [4] \"Detroit\"              \"Philadelphia\"         \"Pittsburgh\"          \n",
       " [7] \"Baltimore\"            \"Washington\"           \"Cincinnati\"          \n",
       "[10] \"Minneapolis-St. Paul\" \"St. Louis\"            \"Boston\"              \n",
       "[13] \"Indianapolis\"         \"Chicago\"              \"San Antonio\"         \n",
       "[16] \"Las Vegas\"            \"Seattle\"              \"Denver\"              \n",
       "[19] \"Phoenix\"              \"Sacramento\"           \"Houston\"             \n",
       "[22] \"San Francisco\"        \"Charlotte\"            \"Virginia Beach\"      \n",
       "[25] \"Columbus\"             \"Portland\"             \"Atlanta\"             \n",
       "[28] \"Austin\"               \"Dallas\"               \"Orlando\"             \n",
       "[31] \"Nashville\"            \"San Diego\"            \"Miami\"               \n",
       "[34] \"Tampa\"                \"Los Angeles\"         "
      ]
     },
     "metadata": {},
     "output_type": "display_data"
    }
   ],
   "source": [
    "areas_to_keep"
   ]
  },
  {
   "cell_type": "code",
   "execution_count": 132,
   "metadata": {
    "vscode": {
     "languageId": "r"
    }
   },
   "outputs": [
    {
     "name": "stdout",
     "output_type": "stream",
     "text": [
      "               REGION Median.Rent\n",
      "4       St. Louis, MO     1680.50\n",
      "5     Kansas City, MO     1686.25\n",
      "6     Minneapolis, MN     1896.50\n",
      "8  Virginia Beach, VA     1826.00\n",
      "9         Chicago, IL     2357.50\n",
      "13        Orlando, FL     2246.50\n",
      "14       Columbus, OH     1704.50\n",
      "15     Cincinnati, OH     1646.00\n",
      "16    Los Angeles, CA     3587.25\n",
      "17        Phoenix, AZ     2182.25\n",
      "20        Seattle, WA     2946.00\n",
      "21        Atlanta, GA     2113.00\n",
      "22         Boston, MA     3939.50\n",
      "23       New York, NY     4120.75\n",
      "25         Dallas, TX     2180.00\n",
      "26    San Antonio, TX     1463.00\n",
      "27  San Francisco, CA     3788.75\n",
      "28   Indianapolis, IN     1563.50\n",
      "29     Washington, DC     2657.25\n",
      "30   Philadelphia, PA     2340.25\n",
      "31      Baltimore, MD     1981.50\n",
      "32      San Diego, CA     3400.25\n",
      "33     Sacramento, CA     2614.25\n",
      "34          Miami, FL     3056.50\n",
      "35          Tampa, FL     2207.50\n",
      "36        Detroit, MI     1619.75\n",
      "37      Charlotte, NC     1923.50\n",
      "38      Cleveland, OH     1471.25\n",
      "39     Pittsburgh, PA     1800.75\n",
      "41         Denver, CO     2677.00\n",
      "42      Las Vegas, NV     1666.00\n",
      "44       Portland, OR     2333.00\n",
      "46         Austin, TX     1937.50\n",
      "48        Houston, TX     1578.00\n",
      "50      Nashville, TN     1903.50\n"
     ]
    }
   ],
   "source": [
    "rent2 <- rent[str_detect(rent$REGION, paste(areas_to_keep, collapse = \"|\")), ]\n",
    "\n",
    "print(rent2)\n"
   ]
  },
  {
   "cell_type": "code",
   "execution_count": 133,
   "metadata": {
    "vscode": {
     "languageId": "r"
    }
   },
   "outputs": [
    {
     "name": "stdout",
     "output_type": "stream",
     "text": [
      "                 REGION Median.Rent\n",
      "4             St. Louis     1680.50\n",
      "5           Kansas City     1686.25\n",
      "6  Minneapolis-St. Paul     1896.50\n",
      "8        Virginia Beach     1826.00\n",
      "9               Chicago     2357.50\n",
      "13              Orlando     2246.50\n",
      "14             Columbus     1704.50\n",
      "15           Cincinnati     1646.00\n",
      "16          Los Angeles     3587.25\n",
      "17              Phoenix     2182.25\n",
      "20              Seattle     2946.00\n",
      "21              Atlanta     2113.00\n",
      "22               Boston     3939.50\n",
      "23             New York     4120.75\n",
      "25    Dallas-Fort Worth     2180.00\n",
      "26          San Antonio     1463.00\n",
      "27        San Francisco     3788.75\n",
      "28         Indianapolis     1563.50\n",
      "29       Washington, DC     2657.25\n",
      "30         Philadelphia     2340.25\n",
      "31            Baltimore     1981.50\n",
      "32            San Diego     3400.25\n",
      "33           Sacramento     2614.25\n",
      "34                Miami     3056.50\n",
      "35                Tampa     2207.50\n",
      "36              Detroit     1619.75\n",
      "37            Charlotte     1923.50\n",
      "38            Cleveland     1471.25\n",
      "39           Pittsburgh     1800.75\n",
      "41               Denver     2677.00\n",
      "42            Las Vegas     1666.00\n",
      "44             Portland     2333.00\n",
      "46               Austin     1937.50\n",
      "48              Houston     1578.00\n",
      "50            Nashville     1903.50\n"
     ]
    }
   ],
   "source": [
    "rent2 <- rent2 %>%\n",
    "  mutate(REGION = case_when(\n",
    "    REGION == \"St. Louis, MO\" ~ \"St. Louis\",\n",
    "    REGION == \"Kansas City, MO\" ~ \"Kansas City\",\n",
    "    REGION == \"Virginia Beach, VA\" ~ \"Virginia Beach\",\n",
    "    REGION == \"Chicago, IL\" ~ \"Chicago\",\n",
    "    REGION == \"Columbus, OH\" ~ \"Columbus\",\n",
    "    REGION == \"Orlando, FL\" ~ \"Orlando\",\n",
    "    REGION == \"Cincinnati, OH\" ~ \"Cincinnati\",\n",
    "    REGION == \"Los Angeles, CA\" ~ \"Los Angeles\",\n",
    "    REGION == \"Phoenix, AZ\" ~ \"Phoenix\",\n",
    "    REGION == \"Seattle, WA\" ~ \"Seattle\",\n",
    "    REGION == \"Atlanta, GA\" ~ \"Atlanta\",\n",
    "    REGION == \"Boston, MA\" ~ \"Boston\",\n",
    "    REGION == \"New York, NY\" ~ \"New York\",\n",
    "    REGION == \"San Antonio, TX\" ~ \"San Antonio\",\n",
    "    REGION == \"San Francisco, CA\" ~ \"San Francisco\",\n",
    "    REGION == \"Indianapolis, IN\" ~ \"Indianapolis\",\n",
    "    REGION == \"Philadelphia, PA\" ~ \"Philadelphia\",\n",
    "    REGION == \"Baltimore, MD\" ~ \"Baltimore\",\n",
    "    REGION == \"San Diego, CA\" ~ \"San Diego\",\n",
    "    REGION == \"Sacramento, CA\" ~ \"Sacramento\",\n",
    "    REGION == \"Miami, FL\" ~ \"Miami\",\n",
    "    REGION == \"Tampa, FL\" ~ \"Tampa\",\n",
    "    REGION == \"Detroit, MI\" ~ \"Detroit\",\n",
    "    REGION == \"Charlotte, NC\" ~ \"Charlotte\",\n",
    "    REGION == \"Cleveland, OH\" ~ \"Cleveland\",\n",
    "    REGION == \"Pittsburgh, PA\" ~ \"Pittsburgh\",\n",
    "    REGION == \"Denver, CO\" ~ \"Denver\",\n",
    "    REGION == \"Las Vegas, NV\" ~ \"Las Vegas\",\n",
    "    REGION == \"Houston, TX\" ~ \"Houston\",\n",
    "    REGION == \"Portland, OR\" ~ \"Portland\",\n",
    "    REGION == \"Austin, TX\" ~ \"Austin\",\n",
    "    REGION == \"Nashville, TN\" ~ \"Nashville\",\n",
    "    REGION == \"Minneapolis, MN\" ~ \"Minneapolis-St. Paul\",\n",
    "    REGION == \"Dallas, TX\" ~ \"Dallas-Fort Worth\",\n",
    "\n",
    "    TRUE ~ REGION\n",
    "  ))\n",
    "\n",
    "print(rent2)"
   ]
  },
  {
   "cell_type": "code",
   "execution_count": 134,
   "metadata": {
    "vscode": {
     "languageId": "r"
    }
   },
   "outputs": [
    {
     "data": {
      "text/html": [
       "<style>\n",
       ".list-inline {list-style: none; margin:0; padding: 0}\n",
       ".list-inline>li {display: inline-block}\n",
       ".list-inline>li:not(:last-child)::after {content: \"\\00b7\"; padding: 0 .5ex}\n",
       "</style>\n",
       "<ol class=list-inline><li>35</li><li>2</li></ol>\n"
      ],
      "text/latex": [
       "\\begin{enumerate*}\n",
       "\\item 35\n",
       "\\item 2\n",
       "\\end{enumerate*}\n"
      ],
      "text/markdown": [
       "1. 35\n",
       "2. 2\n",
       "\n",
       "\n"
      ],
      "text/plain": [
       "[1] 35  2"
      ]
     },
     "metadata": {},
     "output_type": "display_data"
    }
   ],
   "source": [
    "dim(rent2)"
   ]
  },
  {
   "cell_type": "code",
   "execution_count": 136,
   "metadata": {
    "vscode": {
     "languageId": "r"
    }
   },
   "outputs": [
    {
     "data": {
      "text/html": [
       "<style>\n",
       ".list-inline {list-style: none; margin:0; padding: 0}\n",
       ".list-inline>li {display: inline-block}\n",
       ".list-inline>li:not(:last-child)::after {content: \"\\00b7\"; padding: 0 .5ex}\n",
       "</style>\n",
       "<ol class=list-inline><li>35</li><li>2</li></ol>\n"
      ],
      "text/latex": [
       "\\begin{enumerate*}\n",
       "\\item 35\n",
       "\\item 2\n",
       "\\end{enumerate*}\n"
      ],
      "text/markdown": [
       "1. 35\n",
       "2. 2\n",
       "\n",
       "\n"
      ],
      "text/plain": [
       "[1] 35  2"
      ]
     },
     "metadata": {},
     "output_type": "display_data"
    }
   ],
   "source": [
    "dim(pi2)\n"
   ]
  },
  {
   "cell_type": "code",
   "execution_count": 135,
   "metadata": {
    "vscode": {
     "languageId": "r"
    }
   },
   "outputs": [],
   "source": [
    "write.csv(rent2, file = \"data_partial/median_rent.csv\", row.names = FALSE)\n"
   ]
  },
  {
   "cell_type": "markdown",
   "metadata": {},
   "source": [
    "-----------"
   ]
  },
  {
   "cell_type": "markdown",
   "metadata": {},
   "source": [
    "# Median Sales Price"
   ]
  },
  {
   "cell_type": "code",
   "execution_count": 138,
   "metadata": {
    "vscode": {
     "languageId": "r"
    }
   },
   "outputs": [
    {
     "data": {
      "text/html": [
       "<table class=\"dataframe\">\n",
       "<caption>A data.frame: 6 × 198</caption>\n",
       "<thead>\n",
       "\t<tr><th></th><th scope=col>RegionID</th><th scope=col>SizeRank</th><th scope=col>RegionName</th><th scope=col>RegionType</th><th scope=col>StateName</th><th scope=col>X2008.02.29</th><th scope=col>X2008.03.31</th><th scope=col>X2008.04.30</th><th scope=col>X2008.05.31</th><th scope=col>X2008.06.30</th><th scope=col>⋯</th><th scope=col>X2023.05.31</th><th scope=col>X2023.06.30</th><th scope=col>X2023.07.31</th><th scope=col>X2023.08.31</th><th scope=col>X2023.09.30</th><th scope=col>X2023.10.31</th><th scope=col>X2023.11.30</th><th scope=col>X2023.12.31</th><th scope=col>X2024.01.31</th><th scope=col>X2024.02.29</th></tr>\n",
       "\t<tr><th></th><th scope=col>&lt;int&gt;</th><th scope=col>&lt;int&gt;</th><th scope=col>&lt;chr&gt;</th><th scope=col>&lt;chr&gt;</th><th scope=col>&lt;chr&gt;</th><th scope=col>&lt;dbl&gt;</th><th scope=col>&lt;dbl&gt;</th><th scope=col>&lt;dbl&gt;</th><th scope=col>&lt;dbl&gt;</th><th scope=col>&lt;dbl&gt;</th><th scope=col>⋯</th><th scope=col>&lt;dbl&gt;</th><th scope=col>&lt;dbl&gt;</th><th scope=col>&lt;dbl&gt;</th><th scope=col>&lt;dbl&gt;</th><th scope=col>&lt;dbl&gt;</th><th scope=col>&lt;dbl&gt;</th><th scope=col>&lt;dbl&gt;</th><th scope=col>&lt;dbl&gt;</th><th scope=col>&lt;dbl&gt;</th><th scope=col>&lt;dbl&gt;</th></tr>\n",
       "</thead>\n",
       "<tbody>\n",
       "\t<tr><th scope=row>1</th><td>102001</td><td>0</td><td>United States  </td><td>country</td><td>  </td><td>174000</td><td>179000</td><td>180000</td><td>180500</td><td>186000</td><td>⋯</td><td>345000</td><td>350000</td><td>349000</td><td>345000</td><td>335000</td><td>330000</td><td>325000</td><td>323000</td><td>325000</td><td>335000</td></tr>\n",
       "\t<tr><th scope=row>2</th><td>394913</td><td>1</td><td>New York, NY   </td><td>msa    </td><td>NY</td><td>400000</td><td>390000</td><td>395000</td><td>395000</td><td>400000</td><td>⋯</td><td>548625</td><td>575000</td><td>585000</td><td>600000</td><td>577500</td><td>560000</td><td>565000</td><td>570000</td><td>572000</td><td>565000</td></tr>\n",
       "\t<tr><th scope=row>3</th><td>753899</td><td>2</td><td>Los Angeles, CA</td><td>msa    </td><td>CA</td><td>470000</td><td>456000</td><td>458000</td><td>440000</td><td>435000</td><td>⋯</td><td>860000</td><td>885000</td><td>890000</td><td>895000</td><td>882000</td><td>890500</td><td>900000</td><td>875000</td><td>865000</td><td>920000</td></tr>\n",
       "\t<tr><th scope=row>4</th><td>394463</td><td>3</td><td>Chicago, IL    </td><td>msa    </td><td>IL</td><td>223785</td><td>230000</td><td>228000</td><td>235000</td><td>242000</td><td>⋯</td><td>309900</td><td>321000</td><td>315000</td><td>310000</td><td>300000</td><td>288000</td><td>290000</td><td>284500</td><td>285000</td><td>290000</td></tr>\n",
       "\t<tr><th scope=row>5</th><td>394514</td><td>4</td><td>Dallas, TX     </td><td>msa    </td><td>TX</td><td>138000</td><td>145950</td><td>144950</td><td>150000</td><td>155500</td><td>⋯</td><td>390000</td><td>400000</td><td>395250</td><td>387000</td><td>379429</td><td>375000</td><td>375000</td><td>367682</td><td>367350</td><td>380000</td></tr>\n",
       "\t<tr><th scope=row>6</th><td>394692</td><td>5</td><td>Houston, TX    </td><td>msa    </td><td>TX</td><td>146007</td><td>145000</td><td>146360</td><td>150000</td><td>156000</td><td>⋯</td><td>325000</td><td>332000</td><td>    NA</td><td>    NA</td><td>318000</td><td>315000</td><td>315000</td><td>310000</td><td>307250</td><td>325000</td></tr>\n",
       "</tbody>\n",
       "</table>\n"
      ],
      "text/latex": [
       "A data.frame: 6 × 198\n",
       "\\begin{tabular}{r|lllllllllllllllllllll}\n",
       "  & RegionID & SizeRank & RegionName & RegionType & StateName & X2008.02.29 & X2008.03.31 & X2008.04.30 & X2008.05.31 & X2008.06.30 & ⋯ & X2023.05.31 & X2023.06.30 & X2023.07.31 & X2023.08.31 & X2023.09.30 & X2023.10.31 & X2023.11.30 & X2023.12.31 & X2024.01.31 & X2024.02.29\\\\\n",
       "  & <int> & <int> & <chr> & <chr> & <chr> & <dbl> & <dbl> & <dbl> & <dbl> & <dbl> & ⋯ & <dbl> & <dbl> & <dbl> & <dbl> & <dbl> & <dbl> & <dbl> & <dbl> & <dbl> & <dbl>\\\\\n",
       "\\hline\n",
       "\t1 & 102001 & 0 & United States   & country &    & 174000 & 179000 & 180000 & 180500 & 186000 & ⋯ & 345000 & 350000 & 349000 & 345000 & 335000 & 330000 & 325000 & 323000 & 325000 & 335000\\\\\n",
       "\t2 & 394913 & 1 & New York, NY    & msa     & NY & 400000 & 390000 & 395000 & 395000 & 400000 & ⋯ & 548625 & 575000 & 585000 & 600000 & 577500 & 560000 & 565000 & 570000 & 572000 & 565000\\\\\n",
       "\t3 & 753899 & 2 & Los Angeles, CA & msa     & CA & 470000 & 456000 & 458000 & 440000 & 435000 & ⋯ & 860000 & 885000 & 890000 & 895000 & 882000 & 890500 & 900000 & 875000 & 865000 & 920000\\\\\n",
       "\t4 & 394463 & 3 & Chicago, IL     & msa     & IL & 223785 & 230000 & 228000 & 235000 & 242000 & ⋯ & 309900 & 321000 & 315000 & 310000 & 300000 & 288000 & 290000 & 284500 & 285000 & 290000\\\\\n",
       "\t5 & 394514 & 4 & Dallas, TX      & msa     & TX & 138000 & 145950 & 144950 & 150000 & 155500 & ⋯ & 390000 & 400000 & 395250 & 387000 & 379429 & 375000 & 375000 & 367682 & 367350 & 380000\\\\\n",
       "\t6 & 394692 & 5 & Houston, TX     & msa     & TX & 146007 & 145000 & 146360 & 150000 & 156000 & ⋯ & 325000 & 332000 &     NA &     NA & 318000 & 315000 & 315000 & 310000 & 307250 & 325000\\\\\n",
       "\\end{tabular}\n"
      ],
      "text/markdown": [
       "\n",
       "A data.frame: 6 × 198\n",
       "\n",
       "| <!--/--> | RegionID &lt;int&gt; | SizeRank &lt;int&gt; | RegionName &lt;chr&gt; | RegionType &lt;chr&gt; | StateName &lt;chr&gt; | X2008.02.29 &lt;dbl&gt; | X2008.03.31 &lt;dbl&gt; | X2008.04.30 &lt;dbl&gt; | X2008.05.31 &lt;dbl&gt; | X2008.06.30 &lt;dbl&gt; | ⋯ ⋯ | X2023.05.31 &lt;dbl&gt; | X2023.06.30 &lt;dbl&gt; | X2023.07.31 &lt;dbl&gt; | X2023.08.31 &lt;dbl&gt; | X2023.09.30 &lt;dbl&gt; | X2023.10.31 &lt;dbl&gt; | X2023.11.30 &lt;dbl&gt; | X2023.12.31 &lt;dbl&gt; | X2024.01.31 &lt;dbl&gt; | X2024.02.29 &lt;dbl&gt; |\n",
       "|---|---|---|---|---|---|---|---|---|---|---|---|---|---|---|---|---|---|---|---|---|---|\n",
       "| 1 | 102001 | 0 | United States   | country | <!----> | 174000 | 179000 | 180000 | 180500 | 186000 | ⋯ | 345000 | 350000 | 349000 | 345000 | 335000 | 330000 | 325000 | 323000 | 325000 | 335000 |\n",
       "| 2 | 394913 | 1 | New York, NY    | msa     | NY | 400000 | 390000 | 395000 | 395000 | 400000 | ⋯ | 548625 | 575000 | 585000 | 600000 | 577500 | 560000 | 565000 | 570000 | 572000 | 565000 |\n",
       "| 3 | 753899 | 2 | Los Angeles, CA | msa     | CA | 470000 | 456000 | 458000 | 440000 | 435000 | ⋯ | 860000 | 885000 | 890000 | 895000 | 882000 | 890500 | 900000 | 875000 | 865000 | 920000 |\n",
       "| 4 | 394463 | 3 | Chicago, IL     | msa     | IL | 223785 | 230000 | 228000 | 235000 | 242000 | ⋯ | 309900 | 321000 | 315000 | 310000 | 300000 | 288000 | 290000 | 284500 | 285000 | 290000 |\n",
       "| 5 | 394514 | 4 | Dallas, TX      | msa     | TX | 138000 | 145950 | 144950 | 150000 | 155500 | ⋯ | 390000 | 400000 | 395250 | 387000 | 379429 | 375000 | 375000 | 367682 | 367350 | 380000 |\n",
       "| 6 | 394692 | 5 | Houston, TX     | msa     | TX | 146007 | 145000 | 146360 | 150000 | 156000 | ⋯ | 325000 | 332000 |     NA |     NA | 318000 | 315000 | 315000 | 310000 | 307250 | 325000 |\n",
       "\n"
      ],
      "text/plain": [
       "  RegionID SizeRank RegionName      RegionType StateName X2008.02.29\n",
       "1 102001   0        United States   country              174000     \n",
       "2 394913   1        New York, NY    msa        NY        400000     \n",
       "3 753899   2        Los Angeles, CA msa        CA        470000     \n",
       "4 394463   3        Chicago, IL     msa        IL        223785     \n",
       "5 394514   4        Dallas, TX      msa        TX        138000     \n",
       "6 394692   5        Houston, TX     msa        TX        146007     \n",
       "  X2008.03.31 X2008.04.30 X2008.05.31 X2008.06.30 ⋯ X2023.05.31 X2023.06.30\n",
       "1 179000      180000      180500      186000      ⋯ 345000      350000     \n",
       "2 390000      395000      395000      400000      ⋯ 548625      575000     \n",
       "3 456000      458000      440000      435000      ⋯ 860000      885000     \n",
       "4 230000      228000      235000      242000      ⋯ 309900      321000     \n",
       "5 145950      144950      150000      155500      ⋯ 390000      400000     \n",
       "6 145000      146360      150000      156000      ⋯ 325000      332000     \n",
       "  X2023.07.31 X2023.08.31 X2023.09.30 X2023.10.31 X2023.11.30 X2023.12.31\n",
       "1 349000      345000      335000      330000      325000      323000     \n",
       "2 585000      600000      577500      560000      565000      570000     \n",
       "3 890000      895000      882000      890500      900000      875000     \n",
       "4 315000      310000      300000      288000      290000      284500     \n",
       "5 395250      387000      379429      375000      375000      367682     \n",
       "6     NA          NA      318000      315000      315000      310000     \n",
       "  X2024.01.31 X2024.02.29\n",
       "1 325000      335000     \n",
       "2 572000      565000     \n",
       "3 865000      920000     \n",
       "4 285000      290000     \n",
       "5 367350      380000     \n",
       "6 307250      325000     "
      ]
     },
     "metadata": {},
     "output_type": "display_data"
    }
   ],
   "source": [
    "sales <- read.csv(\"data_raw/median_sale_price.csv\")\n",
    "\n",
    "head(sales)"
   ]
  },
  {
   "cell_type": "code",
   "execution_count": 139,
   "metadata": {
    "vscode": {
     "languageId": "r"
    }
   },
   "outputs": [
    {
     "data": {
      "text/html": [
       "<table class=\"dataframe\">\n",
       "<caption>A data.frame: 6 × 2</caption>\n",
       "<thead>\n",
       "\t<tr><th></th><th scope=col>RegionName</th><th scope=col>X2024.02.29</th></tr>\n",
       "\t<tr><th></th><th scope=col>&lt;chr&gt;</th><th scope=col>&lt;dbl&gt;</th></tr>\n",
       "</thead>\n",
       "<tbody>\n",
       "\t<tr><th scope=row>1</th><td>United States  </td><td>335000</td></tr>\n",
       "\t<tr><th scope=row>2</th><td>New York, NY   </td><td>565000</td></tr>\n",
       "\t<tr><th scope=row>3</th><td>Los Angeles, CA</td><td>920000</td></tr>\n",
       "\t<tr><th scope=row>4</th><td>Chicago, IL    </td><td>290000</td></tr>\n",
       "\t<tr><th scope=row>5</th><td>Dallas, TX     </td><td>380000</td></tr>\n",
       "\t<tr><th scope=row>6</th><td>Houston, TX    </td><td>325000</td></tr>\n",
       "</tbody>\n",
       "</table>\n"
      ],
      "text/latex": [
       "A data.frame: 6 × 2\n",
       "\\begin{tabular}{r|ll}\n",
       "  & RegionName & X2024.02.29\\\\\n",
       "  & <chr> & <dbl>\\\\\n",
       "\\hline\n",
       "\t1 & United States   & 335000\\\\\n",
       "\t2 & New York, NY    & 565000\\\\\n",
       "\t3 & Los Angeles, CA & 920000\\\\\n",
       "\t4 & Chicago, IL     & 290000\\\\\n",
       "\t5 & Dallas, TX      & 380000\\\\\n",
       "\t6 & Houston, TX     & 325000\\\\\n",
       "\\end{tabular}\n"
      ],
      "text/markdown": [
       "\n",
       "A data.frame: 6 × 2\n",
       "\n",
       "| <!--/--> | RegionName &lt;chr&gt; | X2024.02.29 &lt;dbl&gt; |\n",
       "|---|---|---|\n",
       "| 1 | United States   | 335000 |\n",
       "| 2 | New York, NY    | 565000 |\n",
       "| 3 | Los Angeles, CA | 920000 |\n",
       "| 4 | Chicago, IL     | 290000 |\n",
       "| 5 | Dallas, TX      | 380000 |\n",
       "| 6 | Houston, TX     | 325000 |\n",
       "\n"
      ],
      "text/plain": [
       "  RegionName      X2024.02.29\n",
       "1 United States   335000     \n",
       "2 New York, NY    565000     \n",
       "3 Los Angeles, CA 920000     \n",
       "4 Chicago, IL     290000     \n",
       "5 Dallas, TX      380000     \n",
       "6 Houston, TX     325000     "
      ]
     },
     "metadata": {},
     "output_type": "display_data"
    }
   ],
   "source": [
    "sales <- sales %>% select(RegionName, X2024.02.29)\n",
    "\n",
    "head(sales)"
   ]
  },
  {
   "cell_type": "code",
   "execution_count": 140,
   "metadata": {
    "vscode": {
     "languageId": "r"
    }
   },
   "outputs": [
    {
     "data": {
      "text/html": [
       "<style>\n",
       ".list-inline {list-style: none; margin:0; padding: 0}\n",
       ".list-inline>li {display: inline-block}\n",
       ".list-inline>li:not(:last-child)::after {content: \"\\00b7\"; padding: 0 .5ex}\n",
       "</style>\n",
       "<ol class=list-inline><li>667</li><li>2</li></ol>\n"
      ],
      "text/latex": [
       "\\begin{enumerate*}\n",
       "\\item 667\n",
       "\\item 2\n",
       "\\end{enumerate*}\n"
      ],
      "text/markdown": [
       "1. 667\n",
       "2. 2\n",
       "\n",
       "\n"
      ],
      "text/plain": [
       "[1] 667   2"
      ]
     },
     "metadata": {},
     "output_type": "display_data"
    }
   ],
   "source": [
    "dim(sales)\n"
   ]
  },
  {
   "cell_type": "code",
   "execution_count": 141,
   "metadata": {
    "vscode": {
     "languageId": "r"
    }
   },
   "outputs": [
    {
     "data": {
      "text/html": [
       "<style>\n",
       ".list-inline {list-style: none; margin:0; padding: 0}\n",
       ".list-inline>li {display: inline-block}\n",
       ".list-inline>li:not(:last-child)::after {content: \"\\00b7\"; padding: 0 .5ex}\n",
       "</style>\n",
       "<ol class=list-inline><li>'Cleveland'</li><li>'New York'</li><li>'Kansas City'</li><li>'Detroit'</li><li>'Philadelphia'</li><li>'Pittsburgh'</li><li>'Baltimore'</li><li>'Washington'</li><li>'Cincinnati'</li><li>'Minneapolis'</li><li>'St. Louis'</li><li>'Boston'</li><li>'Indianapolis'</li><li>'Chicago'</li><li>'San Antonio'</li><li>'Las Vegas'</li><li>'Seattle'</li><li>'Denver'</li><li>'Phoenix'</li><li>'Sacramento'</li><li>'Houston'</li><li>'San Francisco'</li><li>'Charlotte'</li><li>'Virginia Beach'</li><li>'Columbus'</li><li>'Portland'</li><li>'Atlanta'</li><li>'Austin'</li><li>'Dallas'</li><li>'Orlando'</li><li>'Nashville'</li><li>'San Diego'</li><li>'Miami'</li><li>'Tampa'</li><li>'Los Angeles'</li></ol>\n"
      ],
      "text/latex": [
       "\\begin{enumerate*}\n",
       "\\item 'Cleveland'\n",
       "\\item 'New York'\n",
       "\\item 'Kansas City'\n",
       "\\item 'Detroit'\n",
       "\\item 'Philadelphia'\n",
       "\\item 'Pittsburgh'\n",
       "\\item 'Baltimore'\n",
       "\\item 'Washington'\n",
       "\\item 'Cincinnati'\n",
       "\\item 'Minneapolis'\n",
       "\\item 'St. Louis'\n",
       "\\item 'Boston'\n",
       "\\item 'Indianapolis'\n",
       "\\item 'Chicago'\n",
       "\\item 'San Antonio'\n",
       "\\item 'Las Vegas'\n",
       "\\item 'Seattle'\n",
       "\\item 'Denver'\n",
       "\\item 'Phoenix'\n",
       "\\item 'Sacramento'\n",
       "\\item 'Houston'\n",
       "\\item 'San Francisco'\n",
       "\\item 'Charlotte'\n",
       "\\item 'Virginia Beach'\n",
       "\\item 'Columbus'\n",
       "\\item 'Portland'\n",
       "\\item 'Atlanta'\n",
       "\\item 'Austin'\n",
       "\\item 'Dallas'\n",
       "\\item 'Orlando'\n",
       "\\item 'Nashville'\n",
       "\\item 'San Diego'\n",
       "\\item 'Miami'\n",
       "\\item 'Tampa'\n",
       "\\item 'Los Angeles'\n",
       "\\end{enumerate*}\n"
      ],
      "text/markdown": [
       "1. 'Cleveland'\n",
       "2. 'New York'\n",
       "3. 'Kansas City'\n",
       "4. 'Detroit'\n",
       "5. 'Philadelphia'\n",
       "6. 'Pittsburgh'\n",
       "7. 'Baltimore'\n",
       "8. 'Washington'\n",
       "9. 'Cincinnati'\n",
       "10. 'Minneapolis'\n",
       "11. 'St. Louis'\n",
       "12. 'Boston'\n",
       "13. 'Indianapolis'\n",
       "14. 'Chicago'\n",
       "15. 'San Antonio'\n",
       "16. 'Las Vegas'\n",
       "17. 'Seattle'\n",
       "18. 'Denver'\n",
       "19. 'Phoenix'\n",
       "20. 'Sacramento'\n",
       "21. 'Houston'\n",
       "22. 'San Francisco'\n",
       "23. 'Charlotte'\n",
       "24. 'Virginia Beach'\n",
       "25. 'Columbus'\n",
       "26. 'Portland'\n",
       "27. 'Atlanta'\n",
       "28. 'Austin'\n",
       "29. 'Dallas'\n",
       "30. 'Orlando'\n",
       "31. 'Nashville'\n",
       "32. 'San Diego'\n",
       "33. 'Miami'\n",
       "34. 'Tampa'\n",
       "35. 'Los Angeles'\n",
       "\n",
       "\n"
      ],
      "text/plain": [
       " [1] \"Cleveland\"      \"New York\"       \"Kansas City\"    \"Detroit\"       \n",
       " [5] \"Philadelphia\"   \"Pittsburgh\"     \"Baltimore\"      \"Washington\"    \n",
       " [9] \"Cincinnati\"     \"Minneapolis\"    \"St. Louis\"      \"Boston\"        \n",
       "[13] \"Indianapolis\"   \"Chicago\"        \"San Antonio\"    \"Las Vegas\"     \n",
       "[17] \"Seattle\"        \"Denver\"         \"Phoenix\"        \"Sacramento\"    \n",
       "[21] \"Houston\"        \"San Francisco\"  \"Charlotte\"      \"Virginia Beach\"\n",
       "[25] \"Columbus\"       \"Portland\"       \"Atlanta\"        \"Austin\"        \n",
       "[29] \"Dallas\"         \"Orlando\"        \"Nashville\"      \"San Diego\"     \n",
       "[33] \"Miami\"          \"Tampa\"          \"Los Angeles\"   "
      ]
     },
     "metadata": {},
     "output_type": "display_data"
    }
   ],
   "source": [
    "areas_to_keep"
   ]
  },
  {
   "cell_type": "code",
   "execution_count": 143,
   "metadata": {
    "vscode": {
     "languageId": "r"
    }
   },
   "outputs": [
    {
     "data": {
      "text/html": [
       "<table class=\"dataframe\">\n",
       "<caption>A data.frame: 6 × 2</caption>\n",
       "<thead>\n",
       "\t<tr><th></th><th scope=col>REGION</th><th scope=col>median sale price</th></tr>\n",
       "\t<tr><th></th><th scope=col>&lt;chr&gt;</th><th scope=col>&lt;dbl&gt;</th></tr>\n",
       "</thead>\n",
       "<tbody>\n",
       "\t<tr><th scope=row>1</th><td>United States  </td><td>335000</td></tr>\n",
       "\t<tr><th scope=row>2</th><td>New York, NY   </td><td>565000</td></tr>\n",
       "\t<tr><th scope=row>3</th><td>Los Angeles, CA</td><td>920000</td></tr>\n",
       "\t<tr><th scope=row>4</th><td>Chicago, IL    </td><td>290000</td></tr>\n",
       "\t<tr><th scope=row>5</th><td>Dallas, TX     </td><td>380000</td></tr>\n",
       "\t<tr><th scope=row>6</th><td>Houston, TX    </td><td>325000</td></tr>\n",
       "</tbody>\n",
       "</table>\n"
      ],
      "text/latex": [
       "A data.frame: 6 × 2\n",
       "\\begin{tabular}{r|ll}\n",
       "  & REGION & median sale price\\\\\n",
       "  & <chr> & <dbl>\\\\\n",
       "\\hline\n",
       "\t1 & United States   & 335000\\\\\n",
       "\t2 & New York, NY    & 565000\\\\\n",
       "\t3 & Los Angeles, CA & 920000\\\\\n",
       "\t4 & Chicago, IL     & 290000\\\\\n",
       "\t5 & Dallas, TX      & 380000\\\\\n",
       "\t6 & Houston, TX     & 325000\\\\\n",
       "\\end{tabular}\n"
      ],
      "text/markdown": [
       "\n",
       "A data.frame: 6 × 2\n",
       "\n",
       "| <!--/--> | REGION &lt;chr&gt; | median sale price &lt;dbl&gt; |\n",
       "|---|---|---|\n",
       "| 1 | United States   | 335000 |\n",
       "| 2 | New York, NY    | 565000 |\n",
       "| 3 | Los Angeles, CA | 920000 |\n",
       "| 4 | Chicago, IL     | 290000 |\n",
       "| 5 | Dallas, TX      | 380000 |\n",
       "| 6 | Houston, TX     | 325000 |\n",
       "\n"
      ],
      "text/plain": [
       "  REGION          median sale price\n",
       "1 United States   335000           \n",
       "2 New York, NY    565000           \n",
       "3 Los Angeles, CA 920000           \n",
       "4 Chicago, IL     290000           \n",
       "5 Dallas, TX      380000           \n",
       "6 Houston, TX     325000           "
      ]
     },
     "metadata": {},
     "output_type": "display_data"
    }
   ],
   "source": [
    "sales <- sales %>%\n",
    "    rename(REGION = RegionName) %>%\n",
    "    rename(`median sale price` = X2024.02.29)\n",
    "\n",
    "head(sales)"
   ]
  },
  {
   "cell_type": "code",
   "execution_count": 144,
   "metadata": {
    "vscode": {
     "languageId": "r"
    }
   },
   "outputs": [
    {
     "name": "stdout",
     "output_type": "stream",
     "text": [
      "                        REGION median sale price\n",
      "2                 New York, NY            565000\n",
      "3              Los Angeles, CA            920000\n",
      "4                  Chicago, IL            290000\n",
      "5                   Dallas, TX            380000\n",
      "6                  Houston, TX            325000\n",
      "7               Washington, DC            515000\n",
      "8             Philadelphia, PA            301250\n",
      "9                    Miami, FL            465000\n",
      "10                 Atlanta, GA            357000\n",
      "11                  Boston, MA            600000\n",
      "12                 Phoenix, AZ            449000\n",
      "13           San Francisco, CA           1065000\n",
      "15                 Detroit, MI            230000\n",
      "16                 Seattle, WA            665000\n",
      "17             Minneapolis, MN            335000\n",
      "18               San Diego, CA            860000\n",
      "19                   Tampa, FL            365000\n",
      "20                  Denver, CO            556000\n",
      "21               Baltimore, MD            325500\n",
      "22               St. Louis, MO            218000\n",
      "23                 Orlando, FL            380000\n",
      "24               Charlotte, NC            365000\n",
      "25             San Antonio, TX            297000\n",
      "26                Portland, OR            515000\n",
      "27              Sacramento, CA            542000\n",
      "28              Pittsburgh, PA            192500\n",
      "29              Cincinnati, OH            247000\n",
      "30                  Austin, TX            451250\n",
      "31               Las Vegas, NV            415000\n",
      "32             Kansas City, MO            279000\n",
      "33                Columbus, OH            262510\n",
      "34            Indianapolis, IN            250000\n",
      "35               Cleveland, OH            179000\n",
      "37               Nashville, TN            419900\n",
      "38          Virginia Beach, VA            309750\n",
      "105               Portland, ME            475000\n",
      "157               Columbus, GA            189900\n",
      "208        Charlottesville, VA            400000\n",
      "324              Cleveland, TN            230000\n",
      "396       New Philadelphia, OH            164000\n",
      "422               Columbus, IN            231889\n",
      "586             Washington, NC            330000\n",
      "615                 Austin, MN            182500\n",
      "657 Washington Court House, OH            167900\n"
     ]
    }
   ],
   "source": [
    "sales2 <- sales[str_detect(sales$REGION, paste(areas_to_keep, collapse = \"|\")), ]\n",
    "\n",
    "print(sales2)"
   ]
  },
  {
   "cell_type": "code",
   "execution_count": 146,
   "metadata": {
    "vscode": {
     "languageId": "r"
    }
   },
   "outputs": [
    {
     "name": "stdout",
     "output_type": "stream",
     "text": [
      "                        REGION median sale price\n",
      "2                     New York            565000\n",
      "3                  Los Angeles            920000\n",
      "4                      Chicago            290000\n",
      "5            Dallas-Fort Worth            380000\n",
      "6                      Houston            325000\n",
      "7               Washington, DC            515000\n",
      "8                 Philadelphia            301250\n",
      "9                        Miami            465000\n",
      "10                     Atlanta            357000\n",
      "11                      Boston            600000\n",
      "12                     Phoenix            449000\n",
      "13               San Francisco           1065000\n",
      "15                     Detroit            230000\n",
      "16                     Seattle            665000\n",
      "17        Minneapolis-St. Paul            335000\n",
      "18                   San Diego            860000\n",
      "19                       Tampa            365000\n",
      "20                      Denver            556000\n",
      "21                   Baltimore            325500\n",
      "22                   St. Louis            218000\n",
      "23                     Orlando            380000\n",
      "24                   Charlotte            365000\n",
      "25                 San Antonio            297000\n",
      "26                    Portland            515000\n",
      "27                  Sacramento            542000\n",
      "28                  Pittsburgh            192500\n",
      "29                  Cincinnati            247000\n",
      "30                      Austin            451250\n",
      "31                   Las Vegas            415000\n",
      "32                 Kansas City            279000\n",
      "33                    Columbus            262510\n",
      "34                Indianapolis            250000\n",
      "35                   Cleveland            179000\n",
      "37                   Nashville            419900\n",
      "38              Virginia Beach            309750\n",
      "105               Portland, ME            475000\n",
      "157               Columbus, GA            189900\n",
      "208        Charlottesville, VA            400000\n",
      "324              Cleveland, TN            230000\n",
      "396       New Philadelphia, OH            164000\n",
      "422               Columbus, IN            231889\n",
      "586             Washington, NC            330000\n",
      "615                 Austin, MN            182500\n",
      "657 Washington Court House, OH            167900\n"
     ]
    }
   ],
   "source": [
    "sales2 <- sales2 %>%\n",
    "    mutate(REGION = case_when(\n",
    "        REGION == \"New York, NY\" ~ \"New York\",\n",
    "        REGION == \"Los Angeles, CA\" ~ \"Los Angeles\",\n",
    "        REGION == \"Chicago, IL\" ~ \"Chicago\",\n",
    "        REGION == \"Dallas, TX\" ~ \"Dallas-Fort Worth\",\n",
    "        REGION == \"Philadelphia, PA\" ~ \"Philadelphia\",\n",
    "        REGION == \"Houston, TX\" ~ \"Houston\",\n",
    "        REGION == \"Miami, FL\" ~ \"Miami\",\n",
    "        REGION == \"Atlanta, GA\" ~ \"Atlanta\",\n",
    "        REGION == \"Boston, MA\" ~ \"Boston\",\n",
    "        REGION == \"San Francisco, CA\" ~ \"San Francisco\",\n",
    "        REGION == \"Detroit, MI\" ~ \"Detroit\",\n",
    "        REGION == \"Phoenix, AZ\" ~ \"Phoenix\",\n",
    "        REGION == \"Seattle, WA\" ~ \"Seattle\",\n",
    "        REGION == \"Minneapolis, MN\" ~ \"Minneapolis-St. Paul\",\n",
    "        REGION == \"San Diego, CA\" ~ \"San Diego\",\n",
    "        REGION == \"Tampa, FL\" ~ \"Tampa\",\n",
    "        REGION == \"Denver, CO\" ~ \"Denver\",\n",
    "        REGION == \"St. Louis, MO\" ~ \"St. Louis\",\n",
    "        REGION == \"Baltimore, MD\" ~ \"Baltimore\",\n",
    "        REGION == \"Charlotte, NC\" ~ \"Charlotte\",\n",
    "        REGION == \"Orlando, FL\" ~ \"Orlando\",\n",
    "        REGION == \"San Antonio, TX\" ~ \"San Antonio\",\n",
    "        REGION == \"Portland, OR\" ~ \"Portland\",\n",
    "        REGION == \"Sacramento, CA\" ~ \"Sacramento\",\n",
    "        REGION == \"Cincinnati, OH\" ~ \"Cincinnati\",\n",
    "        REGION == \"Pittsburgh, PA\" ~ \"Pittsburgh\",\n",
    "        REGION == \"Las Vegas, NV\" ~ \"Las Vegas\",\n",
    "        REGION == \"Austin, TX\" ~ \"Austin\",\n",
    "        REGION == \"Columbus, OH\" ~ \"Columbus\",\n",
    "        REGION == \"Indianapolis, IN\" ~ \"Indianapolis\",\n",
    "        REGION == \"Kansas City, MO\" ~ \"Kansas City\",\n",
    "        REGION == \"Virginia Beach, VA\" ~ \"Virginia Beach\",\n",
    "        REGION == \"Cleveland, OH\" ~ \"Cleveland\",\n",
    "        REGION == \"Nashville, TN\" ~ \"Nashville\",\n",
    "    \n",
    "        TRUE ~ REGION\n",
    "    ))\n",
    "\n",
    "print(sales2)"
   ]
  },
  {
   "cell_type": "code",
   "execution_count": 147,
   "metadata": {
    "vscode": {
     "languageId": "r"
    }
   },
   "outputs": [
    {
     "name": "stdout",
     "output_type": "stream",
     "text": [
      "                 REGION median sale price\n",
      "2              New York            565000\n",
      "3           Los Angeles            920000\n",
      "4               Chicago            290000\n",
      "5     Dallas-Fort Worth            380000\n",
      "6               Houston            325000\n",
      "7        Washington, DC            515000\n",
      "8          Philadelphia            301250\n",
      "9                 Miami            465000\n",
      "10              Atlanta            357000\n",
      "11               Boston            600000\n",
      "12              Phoenix            449000\n",
      "13        San Francisco           1065000\n",
      "15              Detroit            230000\n",
      "16              Seattle            665000\n",
      "17 Minneapolis-St. Paul            335000\n",
      "18            San Diego            860000\n",
      "19                Tampa            365000\n",
      "20               Denver            556000\n",
      "21            Baltimore            325500\n",
      "22            St. Louis            218000\n",
      "23              Orlando            380000\n",
      "24            Charlotte            365000\n",
      "25          San Antonio            297000\n",
      "26             Portland            515000\n",
      "27           Sacramento            542000\n",
      "28           Pittsburgh            192500\n",
      "29           Cincinnati            247000\n",
      "30               Austin            451250\n",
      "31            Las Vegas            415000\n",
      "32          Kansas City            279000\n",
      "33             Columbus            262510\n",
      "34         Indianapolis            250000\n",
      "35            Cleveland            179000\n",
      "37            Nashville            419900\n",
      "38       Virginia Beach            309750\n"
     ]
    }
   ],
   "source": [
    "sales2 <- head(sales2, -9)\n",
    "\n",
    "print(sales2)\n"
   ]
  },
  {
   "cell_type": "code",
   "execution_count": 148,
   "metadata": {
    "vscode": {
     "languageId": "r"
    }
   },
   "outputs": [
    {
     "data": {
      "text/html": [
       "<style>\n",
       ".list-inline {list-style: none; margin:0; padding: 0}\n",
       ".list-inline>li {display: inline-block}\n",
       ".list-inline>li:not(:last-child)::after {content: \"\\00b7\"; padding: 0 .5ex}\n",
       "</style>\n",
       "<ol class=list-inline><li>35</li><li>2</li></ol>\n"
      ],
      "text/latex": [
       "\\begin{enumerate*}\n",
       "\\item 35\n",
       "\\item 2\n",
       "\\end{enumerate*}\n"
      ],
      "text/markdown": [
       "1. 35\n",
       "2. 2\n",
       "\n",
       "\n"
      ],
      "text/plain": [
       "[1] 35  2"
      ]
     },
     "metadata": {},
     "output_type": "display_data"
    }
   ],
   "source": [
    "dim(sales2)"
   ]
  },
  {
   "cell_type": "code",
   "execution_count": 149,
   "metadata": {
    "vscode": {
     "languageId": "r"
    }
   },
   "outputs": [],
   "source": [
    "write.csv(sales2, file = \"data_partial/median_sale_price.csv\", row.names = FALSE)"
   ]
  },
  {
   "cell_type": "markdown",
   "metadata": {},
   "source": [
    "-------------"
   ]
  },
  {
   "cell_type": "code",
   "execution_count": 155,
   "metadata": {
    "vscode": {
     "languageId": "r"
    }
   },
   "outputs": [
    {
     "data": {
      "text/html": [
       "<table class=\"dataframe\">\n",
       "<caption>A data.frame: 35 × 2</caption>\n",
       "<thead>\n",
       "\t<tr><th></th><th scope=col>REGION</th><th scope=col>Median.Rent</th></tr>\n",
       "\t<tr><th></th><th scope=col>&lt;chr&gt;</th><th scope=col>&lt;dbl&gt;</th></tr>\n",
       "</thead>\n",
       "<tbody>\n",
       "\t<tr><th scope=row>4</th><td>St. Louis           </td><td>1680.50</td></tr>\n",
       "\t<tr><th scope=row>5</th><td>Kansas City         </td><td>1686.25</td></tr>\n",
       "\t<tr><th scope=row>6</th><td>Minneapolis-St. Paul</td><td>1896.50</td></tr>\n",
       "\t<tr><th scope=row>8</th><td>Virginia Beach      </td><td>1826.00</td></tr>\n",
       "\t<tr><th scope=row>9</th><td>Chicago             </td><td>2357.50</td></tr>\n",
       "\t<tr><th scope=row>13</th><td>Orlando             </td><td>2246.50</td></tr>\n",
       "\t<tr><th scope=row>14</th><td>Columbus            </td><td>1704.50</td></tr>\n",
       "\t<tr><th scope=row>15</th><td>Cincinnati          </td><td>1646.00</td></tr>\n",
       "\t<tr><th scope=row>16</th><td>Los Angeles         </td><td>3587.25</td></tr>\n",
       "\t<tr><th scope=row>17</th><td>Phoenix             </td><td>2182.25</td></tr>\n",
       "\t<tr><th scope=row>20</th><td>Seattle             </td><td>2946.00</td></tr>\n",
       "\t<tr><th scope=row>21</th><td>Atlanta             </td><td>2113.00</td></tr>\n",
       "\t<tr><th scope=row>22</th><td>Boston              </td><td>3939.50</td></tr>\n",
       "\t<tr><th scope=row>23</th><td>New York            </td><td>4120.75</td></tr>\n",
       "\t<tr><th scope=row>25</th><td>Dallas-Fort Worth   </td><td>2180.00</td></tr>\n",
       "\t<tr><th scope=row>26</th><td>San Antonio         </td><td>1463.00</td></tr>\n",
       "\t<tr><th scope=row>27</th><td>San Francisco       </td><td>3788.75</td></tr>\n",
       "\t<tr><th scope=row>28</th><td>Indianapolis        </td><td>1563.50</td></tr>\n",
       "\t<tr><th scope=row>29</th><td>Washington, DC      </td><td>2657.25</td></tr>\n",
       "\t<tr><th scope=row>30</th><td>Philadelphia        </td><td>2340.25</td></tr>\n",
       "\t<tr><th scope=row>31</th><td>Baltimore           </td><td>1981.50</td></tr>\n",
       "\t<tr><th scope=row>32</th><td>San Diego           </td><td>3400.25</td></tr>\n",
       "\t<tr><th scope=row>33</th><td>Sacramento          </td><td>2614.25</td></tr>\n",
       "\t<tr><th scope=row>34</th><td>Miami               </td><td>3056.50</td></tr>\n",
       "\t<tr><th scope=row>35</th><td>Tampa               </td><td>2207.50</td></tr>\n",
       "\t<tr><th scope=row>36</th><td>Detroit             </td><td>1619.75</td></tr>\n",
       "\t<tr><th scope=row>37</th><td>Charlotte           </td><td>1923.50</td></tr>\n",
       "\t<tr><th scope=row>38</th><td>Cleveland           </td><td>1471.25</td></tr>\n",
       "\t<tr><th scope=row>39</th><td>Pittsburgh          </td><td>1800.75</td></tr>\n",
       "\t<tr><th scope=row>41</th><td>Denver              </td><td>2677.00</td></tr>\n",
       "\t<tr><th scope=row>42</th><td>Las Vegas           </td><td>1666.00</td></tr>\n",
       "\t<tr><th scope=row>44</th><td>Portland            </td><td>2333.00</td></tr>\n",
       "\t<tr><th scope=row>46</th><td>Austin              </td><td>1937.50</td></tr>\n",
       "\t<tr><th scope=row>48</th><td>Houston             </td><td>1578.00</td></tr>\n",
       "\t<tr><th scope=row>50</th><td>Nashville           </td><td>1903.50</td></tr>\n",
       "</tbody>\n",
       "</table>\n"
      ],
      "text/latex": [
       "A data.frame: 35 × 2\n",
       "\\begin{tabular}{r|ll}\n",
       "  & REGION & Median.Rent\\\\\n",
       "  & <chr> & <dbl>\\\\\n",
       "\\hline\n",
       "\t4 & St. Louis            & 1680.50\\\\\n",
       "\t5 & Kansas City          & 1686.25\\\\\n",
       "\t6 & Minneapolis-St. Paul & 1896.50\\\\\n",
       "\t8 & Virginia Beach       & 1826.00\\\\\n",
       "\t9 & Chicago              & 2357.50\\\\\n",
       "\t13 & Orlando              & 2246.50\\\\\n",
       "\t14 & Columbus             & 1704.50\\\\\n",
       "\t15 & Cincinnati           & 1646.00\\\\\n",
       "\t16 & Los Angeles          & 3587.25\\\\\n",
       "\t17 & Phoenix              & 2182.25\\\\\n",
       "\t20 & Seattle              & 2946.00\\\\\n",
       "\t21 & Atlanta              & 2113.00\\\\\n",
       "\t22 & Boston               & 3939.50\\\\\n",
       "\t23 & New York             & 4120.75\\\\\n",
       "\t25 & Dallas-Fort Worth    & 2180.00\\\\\n",
       "\t26 & San Antonio          & 1463.00\\\\\n",
       "\t27 & San Francisco        & 3788.75\\\\\n",
       "\t28 & Indianapolis         & 1563.50\\\\\n",
       "\t29 & Washington, DC       & 2657.25\\\\\n",
       "\t30 & Philadelphia         & 2340.25\\\\\n",
       "\t31 & Baltimore            & 1981.50\\\\\n",
       "\t32 & San Diego            & 3400.25\\\\\n",
       "\t33 & Sacramento           & 2614.25\\\\\n",
       "\t34 & Miami                & 3056.50\\\\\n",
       "\t35 & Tampa                & 2207.50\\\\\n",
       "\t36 & Detroit              & 1619.75\\\\\n",
       "\t37 & Charlotte            & 1923.50\\\\\n",
       "\t38 & Cleveland            & 1471.25\\\\\n",
       "\t39 & Pittsburgh           & 1800.75\\\\\n",
       "\t41 & Denver               & 2677.00\\\\\n",
       "\t42 & Las Vegas            & 1666.00\\\\\n",
       "\t44 & Portland             & 2333.00\\\\\n",
       "\t46 & Austin               & 1937.50\\\\\n",
       "\t48 & Houston              & 1578.00\\\\\n",
       "\t50 & Nashville            & 1903.50\\\\\n",
       "\\end{tabular}\n"
      ],
      "text/markdown": [
       "\n",
       "A data.frame: 35 × 2\n",
       "\n",
       "| <!--/--> | REGION &lt;chr&gt; | Median.Rent &lt;dbl&gt; |\n",
       "|---|---|---|\n",
       "| 4 | St. Louis            | 1680.50 |\n",
       "| 5 | Kansas City          | 1686.25 |\n",
       "| 6 | Minneapolis-St. Paul | 1896.50 |\n",
       "| 8 | Virginia Beach       | 1826.00 |\n",
       "| 9 | Chicago              | 2357.50 |\n",
       "| 13 | Orlando              | 2246.50 |\n",
       "| 14 | Columbus             | 1704.50 |\n",
       "| 15 | Cincinnati           | 1646.00 |\n",
       "| 16 | Los Angeles          | 3587.25 |\n",
       "| 17 | Phoenix              | 2182.25 |\n",
       "| 20 | Seattle              | 2946.00 |\n",
       "| 21 | Atlanta              | 2113.00 |\n",
       "| 22 | Boston               | 3939.50 |\n",
       "| 23 | New York             | 4120.75 |\n",
       "| 25 | Dallas-Fort Worth    | 2180.00 |\n",
       "| 26 | San Antonio          | 1463.00 |\n",
       "| 27 | San Francisco        | 3788.75 |\n",
       "| 28 | Indianapolis         | 1563.50 |\n",
       "| 29 | Washington, DC       | 2657.25 |\n",
       "| 30 | Philadelphia         | 2340.25 |\n",
       "| 31 | Baltimore            | 1981.50 |\n",
       "| 32 | San Diego            | 3400.25 |\n",
       "| 33 | Sacramento           | 2614.25 |\n",
       "| 34 | Miami                | 3056.50 |\n",
       "| 35 | Tampa                | 2207.50 |\n",
       "| 36 | Detroit              | 1619.75 |\n",
       "| 37 | Charlotte            | 1923.50 |\n",
       "| 38 | Cleveland            | 1471.25 |\n",
       "| 39 | Pittsburgh           | 1800.75 |\n",
       "| 41 | Denver               | 2677.00 |\n",
       "| 42 | Las Vegas            | 1666.00 |\n",
       "| 44 | Portland             | 2333.00 |\n",
       "| 46 | Austin               | 1937.50 |\n",
       "| 48 | Houston              | 1578.00 |\n",
       "| 50 | Nashville            | 1903.50 |\n",
       "\n"
      ],
      "text/plain": [
       "   REGION               Median.Rent\n",
       "4  St. Louis            1680.50    \n",
       "5  Kansas City          1686.25    \n",
       "6  Minneapolis-St. Paul 1896.50    \n",
       "8  Virginia Beach       1826.00    \n",
       "9  Chicago              2357.50    \n",
       "13 Orlando              2246.50    \n",
       "14 Columbus             1704.50    \n",
       "15 Cincinnati           1646.00    \n",
       "16 Los Angeles          3587.25    \n",
       "17 Phoenix              2182.25    \n",
       "20 Seattle              2946.00    \n",
       "21 Atlanta              2113.00    \n",
       "22 Boston               3939.50    \n",
       "23 New York             4120.75    \n",
       "25 Dallas-Fort Worth    2180.00    \n",
       "26 San Antonio          1463.00    \n",
       "27 San Francisco        3788.75    \n",
       "28 Indianapolis         1563.50    \n",
       "29 Washington, DC       2657.25    \n",
       "30 Philadelphia         2340.25    \n",
       "31 Baltimore            1981.50    \n",
       "32 San Diego            3400.25    \n",
       "33 Sacramento           2614.25    \n",
       "34 Miami                3056.50    \n",
       "35 Tampa                2207.50    \n",
       "36 Detroit              1619.75    \n",
       "37 Charlotte            1923.50    \n",
       "38 Cleveland            1471.25    \n",
       "39 Pittsburgh           1800.75    \n",
       "41 Denver               2677.00    \n",
       "42 Las Vegas            1666.00    \n",
       "44 Portland             2333.00    \n",
       "46 Austin               1937.50    \n",
       "48 Houston              1578.00    \n",
       "50 Nashville            1903.50    "
      ]
     },
     "metadata": {},
     "output_type": "display_data"
    }
   ],
   "source": [
    "rent2"
   ]
  },
  {
   "cell_type": "code",
   "execution_count": 151,
   "metadata": {
    "vscode": {
     "languageId": "r"
    }
   },
   "outputs": [
    {
     "data": {
      "text/html": [
       "<table class=\"dataframe\">\n",
       "<caption>A data.frame: 35 × 2</caption>\n",
       "<thead>\n",
       "\t<tr><th></th><th scope=col>REGION</th><th scope=col>median sale price</th></tr>\n",
       "\t<tr><th></th><th scope=col>&lt;chr&gt;</th><th scope=col>&lt;dbl&gt;</th></tr>\n",
       "</thead>\n",
       "<tbody>\n",
       "\t<tr><th scope=row>2</th><td>New York            </td><td> 565000</td></tr>\n",
       "\t<tr><th scope=row>3</th><td>Los Angeles         </td><td> 920000</td></tr>\n",
       "\t<tr><th scope=row>4</th><td>Chicago             </td><td> 290000</td></tr>\n",
       "\t<tr><th scope=row>5</th><td>Dallas-Fort Worth   </td><td> 380000</td></tr>\n",
       "\t<tr><th scope=row>6</th><td>Houston             </td><td> 325000</td></tr>\n",
       "\t<tr><th scope=row>7</th><td>Washington, DC      </td><td> 515000</td></tr>\n",
       "\t<tr><th scope=row>8</th><td>Philadelphia        </td><td> 301250</td></tr>\n",
       "\t<tr><th scope=row>9</th><td>Miami               </td><td> 465000</td></tr>\n",
       "\t<tr><th scope=row>10</th><td>Atlanta             </td><td> 357000</td></tr>\n",
       "\t<tr><th scope=row>11</th><td>Boston              </td><td> 600000</td></tr>\n",
       "\t<tr><th scope=row>12</th><td>Phoenix             </td><td> 449000</td></tr>\n",
       "\t<tr><th scope=row>13</th><td>San Francisco       </td><td>1065000</td></tr>\n",
       "\t<tr><th scope=row>15</th><td>Detroit             </td><td> 230000</td></tr>\n",
       "\t<tr><th scope=row>16</th><td>Seattle             </td><td> 665000</td></tr>\n",
       "\t<tr><th scope=row>17</th><td>Minneapolis-St. Paul</td><td> 335000</td></tr>\n",
       "\t<tr><th scope=row>18</th><td>San Diego           </td><td> 860000</td></tr>\n",
       "\t<tr><th scope=row>19</th><td>Tampa               </td><td> 365000</td></tr>\n",
       "\t<tr><th scope=row>20</th><td>Denver              </td><td> 556000</td></tr>\n",
       "\t<tr><th scope=row>21</th><td>Baltimore           </td><td> 325500</td></tr>\n",
       "\t<tr><th scope=row>22</th><td>St. Louis           </td><td> 218000</td></tr>\n",
       "\t<tr><th scope=row>23</th><td>Orlando             </td><td> 380000</td></tr>\n",
       "\t<tr><th scope=row>24</th><td>Charlotte           </td><td> 365000</td></tr>\n",
       "\t<tr><th scope=row>25</th><td>San Antonio         </td><td> 297000</td></tr>\n",
       "\t<tr><th scope=row>26</th><td>Portland            </td><td> 515000</td></tr>\n",
       "\t<tr><th scope=row>27</th><td>Sacramento          </td><td> 542000</td></tr>\n",
       "\t<tr><th scope=row>28</th><td>Pittsburgh          </td><td> 192500</td></tr>\n",
       "\t<tr><th scope=row>29</th><td>Cincinnati          </td><td> 247000</td></tr>\n",
       "\t<tr><th scope=row>30</th><td>Austin              </td><td> 451250</td></tr>\n",
       "\t<tr><th scope=row>31</th><td>Las Vegas           </td><td> 415000</td></tr>\n",
       "\t<tr><th scope=row>32</th><td>Kansas City         </td><td> 279000</td></tr>\n",
       "\t<tr><th scope=row>33</th><td>Columbus            </td><td> 262510</td></tr>\n",
       "\t<tr><th scope=row>34</th><td>Indianapolis        </td><td> 250000</td></tr>\n",
       "\t<tr><th scope=row>35</th><td>Cleveland           </td><td> 179000</td></tr>\n",
       "\t<tr><th scope=row>37</th><td>Nashville           </td><td> 419900</td></tr>\n",
       "\t<tr><th scope=row>38</th><td>Virginia Beach      </td><td> 309750</td></tr>\n",
       "</tbody>\n",
       "</table>\n"
      ],
      "text/latex": [
       "A data.frame: 35 × 2\n",
       "\\begin{tabular}{r|ll}\n",
       "  & REGION & median sale price\\\\\n",
       "  & <chr> & <dbl>\\\\\n",
       "\\hline\n",
       "\t2 & New York             &  565000\\\\\n",
       "\t3 & Los Angeles          &  920000\\\\\n",
       "\t4 & Chicago              &  290000\\\\\n",
       "\t5 & Dallas-Fort Worth    &  380000\\\\\n",
       "\t6 & Houston              &  325000\\\\\n",
       "\t7 & Washington, DC       &  515000\\\\\n",
       "\t8 & Philadelphia         &  301250\\\\\n",
       "\t9 & Miami                &  465000\\\\\n",
       "\t10 & Atlanta              &  357000\\\\\n",
       "\t11 & Boston               &  600000\\\\\n",
       "\t12 & Phoenix              &  449000\\\\\n",
       "\t13 & San Francisco        & 1065000\\\\\n",
       "\t15 & Detroit              &  230000\\\\\n",
       "\t16 & Seattle              &  665000\\\\\n",
       "\t17 & Minneapolis-St. Paul &  335000\\\\\n",
       "\t18 & San Diego            &  860000\\\\\n",
       "\t19 & Tampa                &  365000\\\\\n",
       "\t20 & Denver               &  556000\\\\\n",
       "\t21 & Baltimore            &  325500\\\\\n",
       "\t22 & St. Louis            &  218000\\\\\n",
       "\t23 & Orlando              &  380000\\\\\n",
       "\t24 & Charlotte            &  365000\\\\\n",
       "\t25 & San Antonio          &  297000\\\\\n",
       "\t26 & Portland             &  515000\\\\\n",
       "\t27 & Sacramento           &  542000\\\\\n",
       "\t28 & Pittsburgh           &  192500\\\\\n",
       "\t29 & Cincinnati           &  247000\\\\\n",
       "\t30 & Austin               &  451250\\\\\n",
       "\t31 & Las Vegas            &  415000\\\\\n",
       "\t32 & Kansas City          &  279000\\\\\n",
       "\t33 & Columbus             &  262510\\\\\n",
       "\t34 & Indianapolis         &  250000\\\\\n",
       "\t35 & Cleveland            &  179000\\\\\n",
       "\t37 & Nashville            &  419900\\\\\n",
       "\t38 & Virginia Beach       &  309750\\\\\n",
       "\\end{tabular}\n"
      ],
      "text/markdown": [
       "\n",
       "A data.frame: 35 × 2\n",
       "\n",
       "| <!--/--> | REGION &lt;chr&gt; | median sale price &lt;dbl&gt; |\n",
       "|---|---|---|\n",
       "| 2 | New York             |  565000 |\n",
       "| 3 | Los Angeles          |  920000 |\n",
       "| 4 | Chicago              |  290000 |\n",
       "| 5 | Dallas-Fort Worth    |  380000 |\n",
       "| 6 | Houston              |  325000 |\n",
       "| 7 | Washington, DC       |  515000 |\n",
       "| 8 | Philadelphia         |  301250 |\n",
       "| 9 | Miami                |  465000 |\n",
       "| 10 | Atlanta              |  357000 |\n",
       "| 11 | Boston               |  600000 |\n",
       "| 12 | Phoenix              |  449000 |\n",
       "| 13 | San Francisco        | 1065000 |\n",
       "| 15 | Detroit              |  230000 |\n",
       "| 16 | Seattle              |  665000 |\n",
       "| 17 | Minneapolis-St. Paul |  335000 |\n",
       "| 18 | San Diego            |  860000 |\n",
       "| 19 | Tampa                |  365000 |\n",
       "| 20 | Denver               |  556000 |\n",
       "| 21 | Baltimore            |  325500 |\n",
       "| 22 | St. Louis            |  218000 |\n",
       "| 23 | Orlando              |  380000 |\n",
       "| 24 | Charlotte            |  365000 |\n",
       "| 25 | San Antonio          |  297000 |\n",
       "| 26 | Portland             |  515000 |\n",
       "| 27 | Sacramento           |  542000 |\n",
       "| 28 | Pittsburgh           |  192500 |\n",
       "| 29 | Cincinnati           |  247000 |\n",
       "| 30 | Austin               |  451250 |\n",
       "| 31 | Las Vegas            |  415000 |\n",
       "| 32 | Kansas City          |  279000 |\n",
       "| 33 | Columbus             |  262510 |\n",
       "| 34 | Indianapolis         |  250000 |\n",
       "| 35 | Cleveland            |  179000 |\n",
       "| 37 | Nashville            |  419900 |\n",
       "| 38 | Virginia Beach       |  309750 |\n",
       "\n"
      ],
      "text/plain": [
       "   REGION               median sale price\n",
       "2  New York              565000          \n",
       "3  Los Angeles           920000          \n",
       "4  Chicago               290000          \n",
       "5  Dallas-Fort Worth     380000          \n",
       "6  Houston               325000          \n",
       "7  Washington, DC        515000          \n",
       "8  Philadelphia          301250          \n",
       "9  Miami                 465000          \n",
       "10 Atlanta               357000          \n",
       "11 Boston                600000          \n",
       "12 Phoenix               449000          \n",
       "13 San Francisco        1065000          \n",
       "15 Detroit               230000          \n",
       "16 Seattle               665000          \n",
       "17 Minneapolis-St. Paul  335000          \n",
       "18 San Diego             860000          \n",
       "19 Tampa                 365000          \n",
       "20 Denver                556000          \n",
       "21 Baltimore             325500          \n",
       "22 St. Louis             218000          \n",
       "23 Orlando               380000          \n",
       "24 Charlotte             365000          \n",
       "25 San Antonio           297000          \n",
       "26 Portland              515000          \n",
       "27 Sacramento            542000          \n",
       "28 Pittsburgh            192500          \n",
       "29 Cincinnati            247000          \n",
       "30 Austin                451250          \n",
       "31 Las Vegas             415000          \n",
       "32 Kansas City           279000          \n",
       "33 Columbus              262510          \n",
       "34 Indianapolis          250000          \n",
       "35 Cleveland             179000          \n",
       "37 Nashville             419900          \n",
       "38 Virginia Beach        309750          "
      ]
     },
     "metadata": {},
     "output_type": "display_data"
    }
   ],
   "source": [
    "sales2"
   ]
  },
  {
   "cell_type": "code",
   "execution_count": 152,
   "metadata": {
    "vscode": {
     "languageId": "r"
    }
   },
   "outputs": [
    {
     "data": {
      "text/html": [
       "<table class=\"dataframe\">\n",
       "<caption>A data.frame: 35 × 2</caption>\n",
       "<thead>\n",
       "\t<tr><th scope=col>REGION</th><th scope=col>personal income</th></tr>\n",
       "\t<tr><th scope=col>&lt;chr&gt;</th><th scope=col>&lt;dbl&gt;</th></tr>\n",
       "</thead>\n",
       "<tbody>\n",
       "\t<tr><td>Atlanta             </td><td> 64107</td></tr>\n",
       "\t<tr><td>Austin              </td><td> 75119</td></tr>\n",
       "\t<tr><td>Baltimore           </td><td> 71420</td></tr>\n",
       "\t<tr><td>Boston              </td><td> 94082</td></tr>\n",
       "\t<tr><td>Charlotte           </td><td> 65156</td></tr>\n",
       "\t<tr><td>Chicago             </td><td> 72512</td></tr>\n",
       "\t<tr><td>Cincinnati          </td><td> 65253</td></tr>\n",
       "\t<tr><td>Cleveland           </td><td> 62921</td></tr>\n",
       "\t<tr><td>Columbus            </td><td> 61228</td></tr>\n",
       "\t<tr><td>Dallas-Fort Worth   </td><td> 70493</td></tr>\n",
       "\t<tr><td>Denver              </td><td> 84788</td></tr>\n",
       "\t<tr><td>Detroit             </td><td> 61322</td></tr>\n",
       "\t<tr><td>Houston             </td><td> 68344</td></tr>\n",
       "\t<tr><td>Indianapolis        </td><td> 68719</td></tr>\n",
       "\t<tr><td>Kansas City         </td><td> 63417</td></tr>\n",
       "\t<tr><td>Las Vegas           </td><td> 59150</td></tr>\n",
       "\t<tr><td>Los Angeles         </td><td> 76445</td></tr>\n",
       "\t<tr><td>Miami               </td><td> 77732</td></tr>\n",
       "\t<tr><td>Minneapolis-St. Paul</td><td> 75164</td></tr>\n",
       "\t<tr><td>Nashville           </td><td> 74035</td></tr>\n",
       "\t<tr><td>New York            </td><td> 84084</td></tr>\n",
       "\t<tr><td>Orlando             </td><td> 53959</td></tr>\n",
       "\t<tr><td>Philadelphia        </td><td> 73291</td></tr>\n",
       "\t<tr><td>Phoenix             </td><td> 61840</td></tr>\n",
       "\t<tr><td>Pittsburgh          </td><td> 65792</td></tr>\n",
       "\t<tr><td>Portland            </td><td> 69435</td></tr>\n",
       "\t<tr><td>Sacramento          </td><td> 66940</td></tr>\n",
       "\t<tr><td>St. Louis           </td><td> 69698</td></tr>\n",
       "\t<tr><td>San Antonio         </td><td> 55180</td></tr>\n",
       "\t<tr><td>San Diego           </td><td> 74326</td></tr>\n",
       "\t<tr><td>San Francisco       </td><td>123736</td></tr>\n",
       "\t<tr><td>Seattle             </td><td> 92113</td></tr>\n",
       "\t<tr><td>Tampa               </td><td> 60091</td></tr>\n",
       "\t<tr><td>Virginia Beach      </td><td> 57873</td></tr>\n",
       "\t<tr><td>Washington, DC      </td><td> 83010</td></tr>\n",
       "</tbody>\n",
       "</table>\n"
      ],
      "text/latex": [
       "A data.frame: 35 × 2\n",
       "\\begin{tabular}{ll}\n",
       " REGION & personal income\\\\\n",
       " <chr> & <dbl>\\\\\n",
       "\\hline\n",
       "\t Atlanta              &  64107\\\\\n",
       "\t Austin               &  75119\\\\\n",
       "\t Baltimore            &  71420\\\\\n",
       "\t Boston               &  94082\\\\\n",
       "\t Charlotte            &  65156\\\\\n",
       "\t Chicago              &  72512\\\\\n",
       "\t Cincinnati           &  65253\\\\\n",
       "\t Cleveland            &  62921\\\\\n",
       "\t Columbus             &  61228\\\\\n",
       "\t Dallas-Fort Worth    &  70493\\\\\n",
       "\t Denver               &  84788\\\\\n",
       "\t Detroit              &  61322\\\\\n",
       "\t Houston              &  68344\\\\\n",
       "\t Indianapolis         &  68719\\\\\n",
       "\t Kansas City          &  63417\\\\\n",
       "\t Las Vegas            &  59150\\\\\n",
       "\t Los Angeles          &  76445\\\\\n",
       "\t Miami                &  77732\\\\\n",
       "\t Minneapolis-St. Paul &  75164\\\\\n",
       "\t Nashville            &  74035\\\\\n",
       "\t New York             &  84084\\\\\n",
       "\t Orlando              &  53959\\\\\n",
       "\t Philadelphia         &  73291\\\\\n",
       "\t Phoenix              &  61840\\\\\n",
       "\t Pittsburgh           &  65792\\\\\n",
       "\t Portland             &  69435\\\\\n",
       "\t Sacramento           &  66940\\\\\n",
       "\t St. Louis            &  69698\\\\\n",
       "\t San Antonio          &  55180\\\\\n",
       "\t San Diego            &  74326\\\\\n",
       "\t San Francisco        & 123736\\\\\n",
       "\t Seattle              &  92113\\\\\n",
       "\t Tampa                &  60091\\\\\n",
       "\t Virginia Beach       &  57873\\\\\n",
       "\t Washington, DC       &  83010\\\\\n",
       "\\end{tabular}\n"
      ],
      "text/markdown": [
       "\n",
       "A data.frame: 35 × 2\n",
       "\n",
       "| REGION &lt;chr&gt; | personal income &lt;dbl&gt; |\n",
       "|---|---|\n",
       "| Atlanta              |  64107 |\n",
       "| Austin               |  75119 |\n",
       "| Baltimore            |  71420 |\n",
       "| Boston               |  94082 |\n",
       "| Charlotte            |  65156 |\n",
       "| Chicago              |  72512 |\n",
       "| Cincinnati           |  65253 |\n",
       "| Cleveland            |  62921 |\n",
       "| Columbus             |  61228 |\n",
       "| Dallas-Fort Worth    |  70493 |\n",
       "| Denver               |  84788 |\n",
       "| Detroit              |  61322 |\n",
       "| Houston              |  68344 |\n",
       "| Indianapolis         |  68719 |\n",
       "| Kansas City          |  63417 |\n",
       "| Las Vegas            |  59150 |\n",
       "| Los Angeles          |  76445 |\n",
       "| Miami                |  77732 |\n",
       "| Minneapolis-St. Paul |  75164 |\n",
       "| Nashville            |  74035 |\n",
       "| New York             |  84084 |\n",
       "| Orlando              |  53959 |\n",
       "| Philadelphia         |  73291 |\n",
       "| Phoenix              |  61840 |\n",
       "| Pittsburgh           |  65792 |\n",
       "| Portland             |  69435 |\n",
       "| Sacramento           |  66940 |\n",
       "| St. Louis            |  69698 |\n",
       "| San Antonio          |  55180 |\n",
       "| San Diego            |  74326 |\n",
       "| San Francisco        | 123736 |\n",
       "| Seattle              |  92113 |\n",
       "| Tampa                |  60091 |\n",
       "| Virginia Beach       |  57873 |\n",
       "| Washington, DC       |  83010 |\n",
       "\n"
      ],
      "text/plain": [
       "   REGION               personal income\n",
       "1  Atlanta               64107         \n",
       "2  Austin                75119         \n",
       "3  Baltimore             71420         \n",
       "4  Boston                94082         \n",
       "5  Charlotte             65156         \n",
       "6  Chicago               72512         \n",
       "7  Cincinnati            65253         \n",
       "8  Cleveland             62921         \n",
       "9  Columbus              61228         \n",
       "10 Dallas-Fort Worth     70493         \n",
       "11 Denver                84788         \n",
       "12 Detroit               61322         \n",
       "13 Houston               68344         \n",
       "14 Indianapolis          68719         \n",
       "15 Kansas City           63417         \n",
       "16 Las Vegas             59150         \n",
       "17 Los Angeles           76445         \n",
       "18 Miami                 77732         \n",
       "19 Minneapolis-St. Paul  75164         \n",
       "20 Nashville             74035         \n",
       "21 New York              84084         \n",
       "22 Orlando               53959         \n",
       "23 Philadelphia          73291         \n",
       "24 Phoenix               61840         \n",
       "25 Pittsburgh            65792         \n",
       "26 Portland              69435         \n",
       "27 Sacramento            66940         \n",
       "28 St. Louis             69698         \n",
       "29 San Antonio           55180         \n",
       "30 San Diego             74326         \n",
       "31 San Francisco        123736         \n",
       "32 Seattle               92113         \n",
       "33 Tampa                 60091         \n",
       "34 Virginia Beach        57873         \n",
       "35 Washington, DC        83010         "
      ]
     },
     "metadata": {},
     "output_type": "display_data"
    }
   ],
   "source": [
    "pi2"
   ]
  },
  {
   "cell_type": "code",
   "execution_count": 153,
   "metadata": {
    "vscode": {
     "languageId": "r"
    }
   },
   "outputs": [
    {
     "data": {
      "text/html": [
       "<table class=\"dataframe\">\n",
       "<caption>A data.frame: 35 × 4</caption>\n",
       "<thead>\n",
       "\t<tr><th scope=col>REGION</th><th scope=col>personal income</th><th scope=col>Median.Rent</th><th scope=col>median sale price</th></tr>\n",
       "\t<tr><th scope=col>&lt;chr&gt;</th><th scope=col>&lt;dbl&gt;</th><th scope=col>&lt;dbl&gt;</th><th scope=col>&lt;dbl&gt;</th></tr>\n",
       "</thead>\n",
       "<tbody>\n",
       "\t<tr><td>Atlanta             </td><td> 64107</td><td>2113.00</td><td> 357000</td></tr>\n",
       "\t<tr><td>Austin              </td><td> 75119</td><td>1937.50</td><td> 451250</td></tr>\n",
       "\t<tr><td>Baltimore           </td><td> 71420</td><td>1981.50</td><td> 325500</td></tr>\n",
       "\t<tr><td>Boston              </td><td> 94082</td><td>3939.50</td><td> 600000</td></tr>\n",
       "\t<tr><td>Charlotte           </td><td> 65156</td><td>1923.50</td><td> 365000</td></tr>\n",
       "\t<tr><td>Chicago             </td><td> 72512</td><td>2357.50</td><td> 290000</td></tr>\n",
       "\t<tr><td>Cincinnati          </td><td> 65253</td><td>1646.00</td><td> 247000</td></tr>\n",
       "\t<tr><td>Cleveland           </td><td> 62921</td><td>1471.25</td><td> 179000</td></tr>\n",
       "\t<tr><td>Columbus            </td><td> 61228</td><td>1704.50</td><td> 262510</td></tr>\n",
       "\t<tr><td>Dallas-Fort Worth   </td><td> 70493</td><td>2180.00</td><td> 380000</td></tr>\n",
       "\t<tr><td>Denver              </td><td> 84788</td><td>2677.00</td><td> 556000</td></tr>\n",
       "\t<tr><td>Detroit             </td><td> 61322</td><td>1619.75</td><td> 230000</td></tr>\n",
       "\t<tr><td>Houston             </td><td> 68344</td><td>1578.00</td><td> 325000</td></tr>\n",
       "\t<tr><td>Indianapolis        </td><td> 68719</td><td>1563.50</td><td> 250000</td></tr>\n",
       "\t<tr><td>Kansas City         </td><td> 63417</td><td>1686.25</td><td> 279000</td></tr>\n",
       "\t<tr><td>Las Vegas           </td><td> 59150</td><td>1666.00</td><td> 415000</td></tr>\n",
       "\t<tr><td>Los Angeles         </td><td> 76445</td><td>3587.25</td><td> 920000</td></tr>\n",
       "\t<tr><td>Miami               </td><td> 77732</td><td>3056.50</td><td> 465000</td></tr>\n",
       "\t<tr><td>Minneapolis-St. Paul</td><td> 75164</td><td>1896.50</td><td> 335000</td></tr>\n",
       "\t<tr><td>Nashville           </td><td> 74035</td><td>1903.50</td><td> 419900</td></tr>\n",
       "\t<tr><td>New York            </td><td> 84084</td><td>4120.75</td><td> 565000</td></tr>\n",
       "\t<tr><td>Orlando             </td><td> 53959</td><td>2246.50</td><td> 380000</td></tr>\n",
       "\t<tr><td>Philadelphia        </td><td> 73291</td><td>2340.25</td><td> 301250</td></tr>\n",
       "\t<tr><td>Phoenix             </td><td> 61840</td><td>2182.25</td><td> 449000</td></tr>\n",
       "\t<tr><td>Pittsburgh          </td><td> 65792</td><td>1800.75</td><td> 192500</td></tr>\n",
       "\t<tr><td>Portland            </td><td> 69435</td><td>2333.00</td><td> 515000</td></tr>\n",
       "\t<tr><td>Sacramento          </td><td> 66940</td><td>2614.25</td><td> 542000</td></tr>\n",
       "\t<tr><td>St. Louis           </td><td> 69698</td><td>1680.50</td><td> 218000</td></tr>\n",
       "\t<tr><td>San Antonio         </td><td> 55180</td><td>1463.00</td><td> 297000</td></tr>\n",
       "\t<tr><td>San Diego           </td><td> 74326</td><td>3400.25</td><td> 860000</td></tr>\n",
       "\t<tr><td>San Francisco       </td><td>123736</td><td>3788.75</td><td>1065000</td></tr>\n",
       "\t<tr><td>Seattle             </td><td> 92113</td><td>2946.00</td><td> 665000</td></tr>\n",
       "\t<tr><td>Tampa               </td><td> 60091</td><td>2207.50</td><td> 365000</td></tr>\n",
       "\t<tr><td>Virginia Beach      </td><td> 57873</td><td>1826.00</td><td> 309750</td></tr>\n",
       "\t<tr><td>Washington, DC      </td><td> 83010</td><td>2657.25</td><td> 515000</td></tr>\n",
       "</tbody>\n",
       "</table>\n"
      ],
      "text/latex": [
       "A data.frame: 35 × 4\n",
       "\\begin{tabular}{llll}\n",
       " REGION & personal income & Median.Rent & median sale price\\\\\n",
       " <chr> & <dbl> & <dbl> & <dbl>\\\\\n",
       "\\hline\n",
       "\t Atlanta              &  64107 & 2113.00 &  357000\\\\\n",
       "\t Austin               &  75119 & 1937.50 &  451250\\\\\n",
       "\t Baltimore            &  71420 & 1981.50 &  325500\\\\\n",
       "\t Boston               &  94082 & 3939.50 &  600000\\\\\n",
       "\t Charlotte            &  65156 & 1923.50 &  365000\\\\\n",
       "\t Chicago              &  72512 & 2357.50 &  290000\\\\\n",
       "\t Cincinnati           &  65253 & 1646.00 &  247000\\\\\n",
       "\t Cleveland            &  62921 & 1471.25 &  179000\\\\\n",
       "\t Columbus             &  61228 & 1704.50 &  262510\\\\\n",
       "\t Dallas-Fort Worth    &  70493 & 2180.00 &  380000\\\\\n",
       "\t Denver               &  84788 & 2677.00 &  556000\\\\\n",
       "\t Detroit              &  61322 & 1619.75 &  230000\\\\\n",
       "\t Houston              &  68344 & 1578.00 &  325000\\\\\n",
       "\t Indianapolis         &  68719 & 1563.50 &  250000\\\\\n",
       "\t Kansas City          &  63417 & 1686.25 &  279000\\\\\n",
       "\t Las Vegas            &  59150 & 1666.00 &  415000\\\\\n",
       "\t Los Angeles          &  76445 & 3587.25 &  920000\\\\\n",
       "\t Miami                &  77732 & 3056.50 &  465000\\\\\n",
       "\t Minneapolis-St. Paul &  75164 & 1896.50 &  335000\\\\\n",
       "\t Nashville            &  74035 & 1903.50 &  419900\\\\\n",
       "\t New York             &  84084 & 4120.75 &  565000\\\\\n",
       "\t Orlando              &  53959 & 2246.50 &  380000\\\\\n",
       "\t Philadelphia         &  73291 & 2340.25 &  301250\\\\\n",
       "\t Phoenix              &  61840 & 2182.25 &  449000\\\\\n",
       "\t Pittsburgh           &  65792 & 1800.75 &  192500\\\\\n",
       "\t Portland             &  69435 & 2333.00 &  515000\\\\\n",
       "\t Sacramento           &  66940 & 2614.25 &  542000\\\\\n",
       "\t St. Louis            &  69698 & 1680.50 &  218000\\\\\n",
       "\t San Antonio          &  55180 & 1463.00 &  297000\\\\\n",
       "\t San Diego            &  74326 & 3400.25 &  860000\\\\\n",
       "\t San Francisco        & 123736 & 3788.75 & 1065000\\\\\n",
       "\t Seattle              &  92113 & 2946.00 &  665000\\\\\n",
       "\t Tampa                &  60091 & 2207.50 &  365000\\\\\n",
       "\t Virginia Beach       &  57873 & 1826.00 &  309750\\\\\n",
       "\t Washington, DC       &  83010 & 2657.25 &  515000\\\\\n",
       "\\end{tabular}\n"
      ],
      "text/markdown": [
       "\n",
       "A data.frame: 35 × 4\n",
       "\n",
       "| REGION &lt;chr&gt; | personal income &lt;dbl&gt; | Median.Rent &lt;dbl&gt; | median sale price &lt;dbl&gt; |\n",
       "|---|---|---|---|\n",
       "| Atlanta              |  64107 | 2113.00 |  357000 |\n",
       "| Austin               |  75119 | 1937.50 |  451250 |\n",
       "| Baltimore            |  71420 | 1981.50 |  325500 |\n",
       "| Boston               |  94082 | 3939.50 |  600000 |\n",
       "| Charlotte            |  65156 | 1923.50 |  365000 |\n",
       "| Chicago              |  72512 | 2357.50 |  290000 |\n",
       "| Cincinnati           |  65253 | 1646.00 |  247000 |\n",
       "| Cleveland            |  62921 | 1471.25 |  179000 |\n",
       "| Columbus             |  61228 | 1704.50 |  262510 |\n",
       "| Dallas-Fort Worth    |  70493 | 2180.00 |  380000 |\n",
       "| Denver               |  84788 | 2677.00 |  556000 |\n",
       "| Detroit              |  61322 | 1619.75 |  230000 |\n",
       "| Houston              |  68344 | 1578.00 |  325000 |\n",
       "| Indianapolis         |  68719 | 1563.50 |  250000 |\n",
       "| Kansas City          |  63417 | 1686.25 |  279000 |\n",
       "| Las Vegas            |  59150 | 1666.00 |  415000 |\n",
       "| Los Angeles          |  76445 | 3587.25 |  920000 |\n",
       "| Miami                |  77732 | 3056.50 |  465000 |\n",
       "| Minneapolis-St. Paul |  75164 | 1896.50 |  335000 |\n",
       "| Nashville            |  74035 | 1903.50 |  419900 |\n",
       "| New York             |  84084 | 4120.75 |  565000 |\n",
       "| Orlando              |  53959 | 2246.50 |  380000 |\n",
       "| Philadelphia         |  73291 | 2340.25 |  301250 |\n",
       "| Phoenix              |  61840 | 2182.25 |  449000 |\n",
       "| Pittsburgh           |  65792 | 1800.75 |  192500 |\n",
       "| Portland             |  69435 | 2333.00 |  515000 |\n",
       "| Sacramento           |  66940 | 2614.25 |  542000 |\n",
       "| St. Louis            |  69698 | 1680.50 |  218000 |\n",
       "| San Antonio          |  55180 | 1463.00 |  297000 |\n",
       "| San Diego            |  74326 | 3400.25 |  860000 |\n",
       "| San Francisco        | 123736 | 3788.75 | 1065000 |\n",
       "| Seattle              |  92113 | 2946.00 |  665000 |\n",
       "| Tampa                |  60091 | 2207.50 |  365000 |\n",
       "| Virginia Beach       |  57873 | 1826.00 |  309750 |\n",
       "| Washington, DC       |  83010 | 2657.25 |  515000 |\n",
       "\n"
      ],
      "text/plain": [
       "   REGION               personal income Median.Rent median sale price\n",
       "1  Atlanta               64107          2113.00      357000          \n",
       "2  Austin                75119          1937.50      451250          \n",
       "3  Baltimore             71420          1981.50      325500          \n",
       "4  Boston                94082          3939.50      600000          \n",
       "5  Charlotte             65156          1923.50      365000          \n",
       "6  Chicago               72512          2357.50      290000          \n",
       "7  Cincinnati            65253          1646.00      247000          \n",
       "8  Cleveland             62921          1471.25      179000          \n",
       "9  Columbus              61228          1704.50      262510          \n",
       "10 Dallas-Fort Worth     70493          2180.00      380000          \n",
       "11 Denver                84788          2677.00      556000          \n",
       "12 Detroit               61322          1619.75      230000          \n",
       "13 Houston               68344          1578.00      325000          \n",
       "14 Indianapolis          68719          1563.50      250000          \n",
       "15 Kansas City           63417          1686.25      279000          \n",
       "16 Las Vegas             59150          1666.00      415000          \n",
       "17 Los Angeles           76445          3587.25      920000          \n",
       "18 Miami                 77732          3056.50      465000          \n",
       "19 Minneapolis-St. Paul  75164          1896.50      335000          \n",
       "20 Nashville             74035          1903.50      419900          \n",
       "21 New York              84084          4120.75      565000          \n",
       "22 Orlando               53959          2246.50      380000          \n",
       "23 Philadelphia          73291          2340.25      301250          \n",
       "24 Phoenix               61840          2182.25      449000          \n",
       "25 Pittsburgh            65792          1800.75      192500          \n",
       "26 Portland              69435          2333.00      515000          \n",
       "27 Sacramento            66940          2614.25      542000          \n",
       "28 St. Louis             69698          1680.50      218000          \n",
       "29 San Antonio           55180          1463.00      297000          \n",
       "30 San Diego             74326          3400.25      860000          \n",
       "31 San Francisco        123736          3788.75     1065000          \n",
       "32 Seattle               92113          2946.00      665000          \n",
       "33 Tampa                 60091          2207.50      365000          \n",
       "34 Virginia Beach        57873          1826.00      309750          \n",
       "35 Washington, DC        83010          2657.25      515000          "
      ]
     },
     "metadata": {},
     "output_type": "display_data"
    },
    {
     "data": {
      "text/html": [
       "<style>\n",
       ".list-inline {list-style: none; margin:0; padding: 0}\n",
       ".list-inline>li {display: inline-block}\n",
       ".list-inline>li:not(:last-child)::after {content: \"\\00b7\"; padding: 0 .5ex}\n",
       "</style>\n",
       "<ol class=list-inline><li>35</li><li>4</li></ol>\n"
      ],
      "text/latex": [
       "\\begin{enumerate*}\n",
       "\\item 35\n",
       "\\item 4\n",
       "\\end{enumerate*}\n"
      ],
      "text/markdown": [
       "1. 35\n",
       "2. 4\n",
       "\n",
       "\n"
      ],
      "text/plain": [
       "[1] 35  4"
      ]
     },
     "metadata": {},
     "output_type": "display_data"
    }
   ],
   "source": [
    "merged_df <- pi2 %>%\n",
    "    inner_join(rent2, by = \"REGION\") %>%\n",
    "    inner_join(sales2, by = \"REGION\")\n",
    "\n",
    "merged_df\n",
    "\n",
    "dim(merged_df)"
   ]
  },
  {
   "cell_type": "code",
   "execution_count": 154,
   "metadata": {
    "vscode": {
     "languageId": "r"
    }
   },
   "outputs": [],
   "source": [
    "write.csv(merged_df, file = \"data_partial/rent_sales_income.csv\", row.names = FALSE)"
   ]
  },
  {
   "cell_type": "markdown",
   "metadata": {},
   "source": [
    "-------"
   ]
  },
  {
   "cell_type": "code",
   "execution_count": 2,
   "metadata": {
    "vscode": {
     "languageId": "r"
    }
   },
   "outputs": [
    {
     "data": {
      "text/html": [
       "<table class=\"dataframe\">\n",
       "<caption>A data.frame: 35 × 4</caption>\n",
       "<thead>\n",
       "\t<tr><th scope=col>REGION</th><th scope=col>personal.income</th><th scope=col>Median.Rent</th><th scope=col>median.sale.price</th></tr>\n",
       "\t<tr><th scope=col>&lt;chr&gt;</th><th scope=col>&lt;int&gt;</th><th scope=col>&lt;dbl&gt;</th><th scope=col>&lt;dbl&gt;</th></tr>\n",
       "</thead>\n",
       "<tbody>\n",
       "\t<tr><td>Atlanta             </td><td> 64107</td><td>2113.00</td><td> 357000</td></tr>\n",
       "\t<tr><td>Austin              </td><td> 75119</td><td>1937.50</td><td> 451250</td></tr>\n",
       "\t<tr><td>Baltimore           </td><td> 71420</td><td>1981.50</td><td> 325500</td></tr>\n",
       "\t<tr><td>Boston              </td><td> 94082</td><td>3939.50</td><td> 600000</td></tr>\n",
       "\t<tr><td>Charlotte           </td><td> 65156</td><td>1923.50</td><td> 365000</td></tr>\n",
       "\t<tr><td>Chicago             </td><td> 72512</td><td>2357.50</td><td> 290000</td></tr>\n",
       "\t<tr><td>Cincinnati          </td><td> 65253</td><td>1646.00</td><td> 247000</td></tr>\n",
       "\t<tr><td>Cleveland           </td><td> 62921</td><td>1471.25</td><td> 179000</td></tr>\n",
       "\t<tr><td>Columbus            </td><td> 61228</td><td>1704.50</td><td> 262510</td></tr>\n",
       "\t<tr><td>Dallas-Fort Worth   </td><td> 70493</td><td>2180.00</td><td> 380000</td></tr>\n",
       "\t<tr><td>Denver              </td><td> 84788</td><td>2677.00</td><td> 556000</td></tr>\n",
       "\t<tr><td>Detroit             </td><td> 61322</td><td>1619.75</td><td> 230000</td></tr>\n",
       "\t<tr><td>Houston             </td><td> 68344</td><td>1578.00</td><td> 325000</td></tr>\n",
       "\t<tr><td>Indianapolis        </td><td> 68719</td><td>1563.50</td><td> 250000</td></tr>\n",
       "\t<tr><td>Kansas City         </td><td> 63417</td><td>1686.25</td><td> 279000</td></tr>\n",
       "\t<tr><td>Las Vegas           </td><td> 59150</td><td>1666.00</td><td> 415000</td></tr>\n",
       "\t<tr><td>Los Angeles         </td><td> 76445</td><td>3587.25</td><td> 920000</td></tr>\n",
       "\t<tr><td>Miami               </td><td> 77732</td><td>3056.50</td><td> 465000</td></tr>\n",
       "\t<tr><td>Minneapolis-St. Paul</td><td> 75164</td><td>1896.50</td><td> 335000</td></tr>\n",
       "\t<tr><td>Nashville           </td><td> 74035</td><td>1903.50</td><td> 419900</td></tr>\n",
       "\t<tr><td>New York            </td><td> 84084</td><td>4120.75</td><td> 565000</td></tr>\n",
       "\t<tr><td>Orlando             </td><td> 53959</td><td>2246.50</td><td> 380000</td></tr>\n",
       "\t<tr><td>Philadelphia        </td><td> 73291</td><td>2340.25</td><td> 301250</td></tr>\n",
       "\t<tr><td>Phoenix             </td><td> 61840</td><td>2182.25</td><td> 449000</td></tr>\n",
       "\t<tr><td>Pittsburgh          </td><td> 65792</td><td>1800.75</td><td> 192500</td></tr>\n",
       "\t<tr><td>Portland            </td><td> 69435</td><td>2333.00</td><td> 515000</td></tr>\n",
       "\t<tr><td>Sacramento          </td><td> 66940</td><td>2614.25</td><td> 542000</td></tr>\n",
       "\t<tr><td>St. Louis           </td><td> 69698</td><td>1680.50</td><td> 218000</td></tr>\n",
       "\t<tr><td>San Antonio         </td><td> 55180</td><td>1463.00</td><td> 297000</td></tr>\n",
       "\t<tr><td>San Diego           </td><td> 74326</td><td>3400.25</td><td> 860000</td></tr>\n",
       "\t<tr><td>San Francisco       </td><td>123736</td><td>3788.75</td><td>1065000</td></tr>\n",
       "\t<tr><td>Seattle             </td><td> 92113</td><td>2946.00</td><td> 665000</td></tr>\n",
       "\t<tr><td>Tampa               </td><td> 60091</td><td>2207.50</td><td> 365000</td></tr>\n",
       "\t<tr><td>Virginia Beach      </td><td> 57873</td><td>1826.00</td><td> 309750</td></tr>\n",
       "\t<tr><td>Washington, DC      </td><td> 83010</td><td>2657.25</td><td> 515000</td></tr>\n",
       "</tbody>\n",
       "</table>\n"
      ],
      "text/latex": [
       "A data.frame: 35 × 4\n",
       "\\begin{tabular}{llll}\n",
       " REGION & personal.income & Median.Rent & median.sale.price\\\\\n",
       " <chr> & <int> & <dbl> & <dbl>\\\\\n",
       "\\hline\n",
       "\t Atlanta              &  64107 & 2113.00 &  357000\\\\\n",
       "\t Austin               &  75119 & 1937.50 &  451250\\\\\n",
       "\t Baltimore            &  71420 & 1981.50 &  325500\\\\\n",
       "\t Boston               &  94082 & 3939.50 &  600000\\\\\n",
       "\t Charlotte            &  65156 & 1923.50 &  365000\\\\\n",
       "\t Chicago              &  72512 & 2357.50 &  290000\\\\\n",
       "\t Cincinnati           &  65253 & 1646.00 &  247000\\\\\n",
       "\t Cleveland            &  62921 & 1471.25 &  179000\\\\\n",
       "\t Columbus             &  61228 & 1704.50 &  262510\\\\\n",
       "\t Dallas-Fort Worth    &  70493 & 2180.00 &  380000\\\\\n",
       "\t Denver               &  84788 & 2677.00 &  556000\\\\\n",
       "\t Detroit              &  61322 & 1619.75 &  230000\\\\\n",
       "\t Houston              &  68344 & 1578.00 &  325000\\\\\n",
       "\t Indianapolis         &  68719 & 1563.50 &  250000\\\\\n",
       "\t Kansas City          &  63417 & 1686.25 &  279000\\\\\n",
       "\t Las Vegas            &  59150 & 1666.00 &  415000\\\\\n",
       "\t Los Angeles          &  76445 & 3587.25 &  920000\\\\\n",
       "\t Miami                &  77732 & 3056.50 &  465000\\\\\n",
       "\t Minneapolis-St. Paul &  75164 & 1896.50 &  335000\\\\\n",
       "\t Nashville            &  74035 & 1903.50 &  419900\\\\\n",
       "\t New York             &  84084 & 4120.75 &  565000\\\\\n",
       "\t Orlando              &  53959 & 2246.50 &  380000\\\\\n",
       "\t Philadelphia         &  73291 & 2340.25 &  301250\\\\\n",
       "\t Phoenix              &  61840 & 2182.25 &  449000\\\\\n",
       "\t Pittsburgh           &  65792 & 1800.75 &  192500\\\\\n",
       "\t Portland             &  69435 & 2333.00 &  515000\\\\\n",
       "\t Sacramento           &  66940 & 2614.25 &  542000\\\\\n",
       "\t St. Louis            &  69698 & 1680.50 &  218000\\\\\n",
       "\t San Antonio          &  55180 & 1463.00 &  297000\\\\\n",
       "\t San Diego            &  74326 & 3400.25 &  860000\\\\\n",
       "\t San Francisco        & 123736 & 3788.75 & 1065000\\\\\n",
       "\t Seattle              &  92113 & 2946.00 &  665000\\\\\n",
       "\t Tampa                &  60091 & 2207.50 &  365000\\\\\n",
       "\t Virginia Beach       &  57873 & 1826.00 &  309750\\\\\n",
       "\t Washington, DC       &  83010 & 2657.25 &  515000\\\\\n",
       "\\end{tabular}\n"
      ],
      "text/markdown": [
       "\n",
       "A data.frame: 35 × 4\n",
       "\n",
       "| REGION &lt;chr&gt; | personal.income &lt;int&gt; | Median.Rent &lt;dbl&gt; | median.sale.price &lt;dbl&gt; |\n",
       "|---|---|---|---|\n",
       "| Atlanta              |  64107 | 2113.00 |  357000 |\n",
       "| Austin               |  75119 | 1937.50 |  451250 |\n",
       "| Baltimore            |  71420 | 1981.50 |  325500 |\n",
       "| Boston               |  94082 | 3939.50 |  600000 |\n",
       "| Charlotte            |  65156 | 1923.50 |  365000 |\n",
       "| Chicago              |  72512 | 2357.50 |  290000 |\n",
       "| Cincinnati           |  65253 | 1646.00 |  247000 |\n",
       "| Cleveland            |  62921 | 1471.25 |  179000 |\n",
       "| Columbus             |  61228 | 1704.50 |  262510 |\n",
       "| Dallas-Fort Worth    |  70493 | 2180.00 |  380000 |\n",
       "| Denver               |  84788 | 2677.00 |  556000 |\n",
       "| Detroit              |  61322 | 1619.75 |  230000 |\n",
       "| Houston              |  68344 | 1578.00 |  325000 |\n",
       "| Indianapolis         |  68719 | 1563.50 |  250000 |\n",
       "| Kansas City          |  63417 | 1686.25 |  279000 |\n",
       "| Las Vegas            |  59150 | 1666.00 |  415000 |\n",
       "| Los Angeles          |  76445 | 3587.25 |  920000 |\n",
       "| Miami                |  77732 | 3056.50 |  465000 |\n",
       "| Minneapolis-St. Paul |  75164 | 1896.50 |  335000 |\n",
       "| Nashville            |  74035 | 1903.50 |  419900 |\n",
       "| New York             |  84084 | 4120.75 |  565000 |\n",
       "| Orlando              |  53959 | 2246.50 |  380000 |\n",
       "| Philadelphia         |  73291 | 2340.25 |  301250 |\n",
       "| Phoenix              |  61840 | 2182.25 |  449000 |\n",
       "| Pittsburgh           |  65792 | 1800.75 |  192500 |\n",
       "| Portland             |  69435 | 2333.00 |  515000 |\n",
       "| Sacramento           |  66940 | 2614.25 |  542000 |\n",
       "| St. Louis            |  69698 | 1680.50 |  218000 |\n",
       "| San Antonio          |  55180 | 1463.00 |  297000 |\n",
       "| San Diego            |  74326 | 3400.25 |  860000 |\n",
       "| San Francisco        | 123736 | 3788.75 | 1065000 |\n",
       "| Seattle              |  92113 | 2946.00 |  665000 |\n",
       "| Tampa                |  60091 | 2207.50 |  365000 |\n",
       "| Virginia Beach       |  57873 | 1826.00 |  309750 |\n",
       "| Washington, DC       |  83010 | 2657.25 |  515000 |\n",
       "\n"
      ],
      "text/plain": [
       "   REGION               personal.income Median.Rent median.sale.price\n",
       "1  Atlanta               64107          2113.00      357000          \n",
       "2  Austin                75119          1937.50      451250          \n",
       "3  Baltimore             71420          1981.50      325500          \n",
       "4  Boston                94082          3939.50      600000          \n",
       "5  Charlotte             65156          1923.50      365000          \n",
       "6  Chicago               72512          2357.50      290000          \n",
       "7  Cincinnati            65253          1646.00      247000          \n",
       "8  Cleveland             62921          1471.25      179000          \n",
       "9  Columbus              61228          1704.50      262510          \n",
       "10 Dallas-Fort Worth     70493          2180.00      380000          \n",
       "11 Denver                84788          2677.00      556000          \n",
       "12 Detroit               61322          1619.75      230000          \n",
       "13 Houston               68344          1578.00      325000          \n",
       "14 Indianapolis          68719          1563.50      250000          \n",
       "15 Kansas City           63417          1686.25      279000          \n",
       "16 Las Vegas             59150          1666.00      415000          \n",
       "17 Los Angeles           76445          3587.25      920000          \n",
       "18 Miami                 77732          3056.50      465000          \n",
       "19 Minneapolis-St. Paul  75164          1896.50      335000          \n",
       "20 Nashville             74035          1903.50      419900          \n",
       "21 New York              84084          4120.75      565000          \n",
       "22 Orlando               53959          2246.50      380000          \n",
       "23 Philadelphia          73291          2340.25      301250          \n",
       "24 Phoenix               61840          2182.25      449000          \n",
       "25 Pittsburgh            65792          1800.75      192500          \n",
       "26 Portland              69435          2333.00      515000          \n",
       "27 Sacramento            66940          2614.25      542000          \n",
       "28 St. Louis             69698          1680.50      218000          \n",
       "29 San Antonio           55180          1463.00      297000          \n",
       "30 San Diego             74326          3400.25      860000          \n",
       "31 San Francisco        123736          3788.75     1065000          \n",
       "32 Seattle               92113          2946.00      665000          \n",
       "33 Tampa                 60091          2207.50      365000          \n",
       "34 Virginia Beach        57873          1826.00      309750          \n",
       "35 Washington, DC        83010          2657.25      515000          "
      ]
     },
     "metadata": {},
     "output_type": "display_data"
    }
   ],
   "source": [
    "df1 <- read.csv(\"../data_partial/rent_sales_income.csv\")\n",
    "df1"
   ]
  },
  {
   "cell_type": "code",
   "execution_count": 3,
   "metadata": {
    "vscode": {
     "languageId": "r"
    }
   },
   "outputs": [
    {
     "data": {
      "text/html": [
       "<table class=\"dataframe\">\n",
       "<caption>A data.frame: 36 × 4</caption>\n",
       "<thead>\n",
       "\t<tr><th scope=col>REGION</th><th scope=col>Walkable</th><th scope=col>Unemployment</th><th scope=col>Purchase_power_100_dollars</th></tr>\n",
       "\t<tr><th scope=col>&lt;chr&gt;</th><th scope=col>&lt;dbl&gt;</th><th scope=col>&lt;dbl&gt;</th><th scope=col>&lt;dbl&gt;</th></tr>\n",
       "</thead>\n",
       "<tbody>\n",
       "\t<tr><td>New York            </td><td>100.0</td><td>4.7</td><td> 87.28</td></tr>\n",
       "\t<tr><td>Boston              </td><td> 74.3</td><td>3.3</td><td> 91.17</td></tr>\n",
       "\t<tr><td>Washington, DC      </td><td> 72.6</td><td>3.0</td><td> 89.82</td></tr>\n",
       "\t<tr><td>Seattle             </td><td> 69.4</td><td>4.7</td><td> 87.28</td></tr>\n",
       "\t<tr><td>Portland            </td><td> 68.5</td><td>4.8</td><td> 94.90</td></tr>\n",
       "\t<tr><td>Portland            </td><td> 68.5</td><td>4.8</td><td> 98.29</td></tr>\n",
       "\t<tr><td>San Francisco       </td><td> 66.2</td><td>4.4</td><td> 83.45</td></tr>\n",
       "\t<tr><td>Chicago             </td><td> 65.9</td><td>5.3</td><td> 94.86</td></tr>\n",
       "\t<tr><td>Los Angeles         </td><td> 59.0</td><td>4.8</td><td> 87.86</td></tr>\n",
       "\t<tr><td>Pittsburgh          </td><td> 57.2</td><td>3.6</td><td>105.09</td></tr>\n",
       "\t<tr><td>Philadelphia        </td><td> 55.1</td><td>3.8</td><td>100.80</td></tr>\n",
       "\t<tr><td>Minneapolis-St. Paul</td><td> 54.4</td><td>3.3</td><td> 96.54</td></tr>\n",
       "\t<tr><td>Miami               </td><td> 54.2</td><td>2.5</td><td> 90.97</td></tr>\n",
       "\t<tr><td>Charlotte           </td><td> 51.7</td><td>3.6</td><td>103.52</td></tr>\n",
       "\t<tr><td>Austin              </td><td> 50.0</td><td>3.7</td><td> 99.96</td></tr>\n",
       "\t<tr><td>Atlanta             </td><td> 49.4</td><td>3.0</td><td>100.89</td></tr>\n",
       "\t<tr><td>Denver              </td><td> 48.7</td><td>4.2</td><td> 91.61</td></tr>\n",
       "\t<tr><td>Cleveland           </td><td> 47.0</td><td>4.6</td><td>106.15</td></tr>\n",
       "\t<tr><td>Cleveland           </td><td> 47.0</td><td>4.6</td><td>113.62</td></tr>\n",
       "\t<tr><td>Houston             </td><td> 46.6</td><td>4.6</td><td>100.26</td></tr>\n",
       "\t<tr><td>Baltimore           </td><td> 44.7</td><td>2.8</td><td> 95.23</td></tr>\n",
       "\t<tr><td>Kansas City         </td><td> 44.1</td><td>3.6</td><td>106.77</td></tr>\n",
       "\t<tr><td>Nashville           </td><td> 43.5</td><td>2.2</td><td>104.68</td></tr>\n",
       "\t<tr><td>St. Louis           </td><td> 43.5</td><td>4.0</td><td>103.90</td></tr>\n",
       "\t<tr><td>Sacramento          </td><td> 40.4</td><td>5.2</td><td> 94.08</td></tr>\n",
       "\t<tr><td>Cincinnati          </td><td> 40.0</td><td>4.1</td><td>106.00</td></tr>\n",
       "\t<tr><td>Detroit             </td><td> 39.2</td><td>4.0</td><td>104.05</td></tr>\n",
       "\t<tr><td>Dallas-Fort Worth   </td><td> 38.9</td><td>4.2</td><td> 96.29</td></tr>\n",
       "\t<tr><td>San Diego           </td><td> 37.0</td><td>4.7</td><td> 86.84</td></tr>\n",
       "\t<tr><td>Indianapolis        </td><td> 36.4</td><td>3.7</td><td>105.23</td></tr>\n",
       "\t<tr><td>Tampa               </td><td> 35.4</td><td>3.3</td><td>101.04</td></tr>\n",
       "\t<tr><td>Virginia Beach      </td><td> 34.5</td><td>3.0</td><td>102.26</td></tr>\n",
       "\t<tr><td>Phoenix             </td><td> 33.6</td><td>3.3</td><td>100.83</td></tr>\n",
       "\t<tr><td>Orlando             </td><td> 32.4</td><td>3.2</td><td>100.19</td></tr>\n",
       "\t<tr><td>San Antonio         </td><td> 29.4</td><td>4.1</td><td>103.76</td></tr>\n",
       "\t<tr><td>Las Vegas           </td><td> 27.5</td><td>5.2</td><td>104.66</td></tr>\n",
       "</tbody>\n",
       "</table>\n"
      ],
      "text/latex": [
       "A data.frame: 36 × 4\n",
       "\\begin{tabular}{llll}\n",
       " REGION & Walkable & Unemployment & Purchase\\_power\\_100\\_dollars\\\\\n",
       " <chr> & <dbl> & <dbl> & <dbl>\\\\\n",
       "\\hline\n",
       "\t New York             & 100.0 & 4.7 &  87.28\\\\\n",
       "\t Boston               &  74.3 & 3.3 &  91.17\\\\\n",
       "\t Washington, DC       &  72.6 & 3.0 &  89.82\\\\\n",
       "\t Seattle              &  69.4 & 4.7 &  87.28\\\\\n",
       "\t Portland             &  68.5 & 4.8 &  94.90\\\\\n",
       "\t Portland             &  68.5 & 4.8 &  98.29\\\\\n",
       "\t San Francisco        &  66.2 & 4.4 &  83.45\\\\\n",
       "\t Chicago              &  65.9 & 5.3 &  94.86\\\\\n",
       "\t Los Angeles          &  59.0 & 4.8 &  87.86\\\\\n",
       "\t Pittsburgh           &  57.2 & 3.6 & 105.09\\\\\n",
       "\t Philadelphia         &  55.1 & 3.8 & 100.80\\\\\n",
       "\t Minneapolis-St. Paul &  54.4 & 3.3 &  96.54\\\\\n",
       "\t Miami                &  54.2 & 2.5 &  90.97\\\\\n",
       "\t Charlotte            &  51.7 & 3.6 & 103.52\\\\\n",
       "\t Austin               &  50.0 & 3.7 &  99.96\\\\\n",
       "\t Atlanta              &  49.4 & 3.0 & 100.89\\\\\n",
       "\t Denver               &  48.7 & 4.2 &  91.61\\\\\n",
       "\t Cleveland            &  47.0 & 4.6 & 106.15\\\\\n",
       "\t Cleveland            &  47.0 & 4.6 & 113.62\\\\\n",
       "\t Houston              &  46.6 & 4.6 & 100.26\\\\\n",
       "\t Baltimore            &  44.7 & 2.8 &  95.23\\\\\n",
       "\t Kansas City          &  44.1 & 3.6 & 106.77\\\\\n",
       "\t Nashville            &  43.5 & 2.2 & 104.68\\\\\n",
       "\t St. Louis            &  43.5 & 4.0 & 103.90\\\\\n",
       "\t Sacramento           &  40.4 & 5.2 &  94.08\\\\\n",
       "\t Cincinnati           &  40.0 & 4.1 & 106.00\\\\\n",
       "\t Detroit              &  39.2 & 4.0 & 104.05\\\\\n",
       "\t Dallas-Fort Worth    &  38.9 & 4.2 &  96.29\\\\\n",
       "\t San Diego            &  37.0 & 4.7 &  86.84\\\\\n",
       "\t Indianapolis         &  36.4 & 3.7 & 105.23\\\\\n",
       "\t Tampa                &  35.4 & 3.3 & 101.04\\\\\n",
       "\t Virginia Beach       &  34.5 & 3.0 & 102.26\\\\\n",
       "\t Phoenix              &  33.6 & 3.3 & 100.83\\\\\n",
       "\t Orlando              &  32.4 & 3.2 & 100.19\\\\\n",
       "\t San Antonio          &  29.4 & 4.1 & 103.76\\\\\n",
       "\t Las Vegas            &  27.5 & 5.2 & 104.66\\\\\n",
       "\\end{tabular}\n"
      ],
      "text/markdown": [
       "\n",
       "A data.frame: 36 × 4\n",
       "\n",
       "| REGION &lt;chr&gt; | Walkable &lt;dbl&gt; | Unemployment &lt;dbl&gt; | Purchase_power_100_dollars &lt;dbl&gt; |\n",
       "|---|---|---|---|\n",
       "| New York             | 100.0 | 4.7 |  87.28 |\n",
       "| Boston               |  74.3 | 3.3 |  91.17 |\n",
       "| Washington, DC       |  72.6 | 3.0 |  89.82 |\n",
       "| Seattle              |  69.4 | 4.7 |  87.28 |\n",
       "| Portland             |  68.5 | 4.8 |  94.90 |\n",
       "| Portland             |  68.5 | 4.8 |  98.29 |\n",
       "| San Francisco        |  66.2 | 4.4 |  83.45 |\n",
       "| Chicago              |  65.9 | 5.3 |  94.86 |\n",
       "| Los Angeles          |  59.0 | 4.8 |  87.86 |\n",
       "| Pittsburgh           |  57.2 | 3.6 | 105.09 |\n",
       "| Philadelphia         |  55.1 | 3.8 | 100.80 |\n",
       "| Minneapolis-St. Paul |  54.4 | 3.3 |  96.54 |\n",
       "| Miami                |  54.2 | 2.5 |  90.97 |\n",
       "| Charlotte            |  51.7 | 3.6 | 103.52 |\n",
       "| Austin               |  50.0 | 3.7 |  99.96 |\n",
       "| Atlanta              |  49.4 | 3.0 | 100.89 |\n",
       "| Denver               |  48.7 | 4.2 |  91.61 |\n",
       "| Cleveland            |  47.0 | 4.6 | 106.15 |\n",
       "| Cleveland            |  47.0 | 4.6 | 113.62 |\n",
       "| Houston              |  46.6 | 4.6 | 100.26 |\n",
       "| Baltimore            |  44.7 | 2.8 |  95.23 |\n",
       "| Kansas City          |  44.1 | 3.6 | 106.77 |\n",
       "| Nashville            |  43.5 | 2.2 | 104.68 |\n",
       "| St. Louis            |  43.5 | 4.0 | 103.90 |\n",
       "| Sacramento           |  40.4 | 5.2 |  94.08 |\n",
       "| Cincinnati           |  40.0 | 4.1 | 106.00 |\n",
       "| Detroit              |  39.2 | 4.0 | 104.05 |\n",
       "| Dallas-Fort Worth    |  38.9 | 4.2 |  96.29 |\n",
       "| San Diego            |  37.0 | 4.7 |  86.84 |\n",
       "| Indianapolis         |  36.4 | 3.7 | 105.23 |\n",
       "| Tampa                |  35.4 | 3.3 | 101.04 |\n",
       "| Virginia Beach       |  34.5 | 3.0 | 102.26 |\n",
       "| Phoenix              |  33.6 | 3.3 | 100.83 |\n",
       "| Orlando              |  32.4 | 3.2 | 100.19 |\n",
       "| San Antonio          |  29.4 | 4.1 | 103.76 |\n",
       "| Las Vegas            |  27.5 | 5.2 | 104.66 |\n",
       "\n"
      ],
      "text/plain": [
       "   REGION               Walkable Unemployment Purchase_power_100_dollars\n",
       "1  New York             100.0    4.7           87.28                    \n",
       "2  Boston                74.3    3.3           91.17                    \n",
       "3  Washington, DC        72.6    3.0           89.82                    \n",
       "4  Seattle               69.4    4.7           87.28                    \n",
       "5  Portland              68.5    4.8           94.90                    \n",
       "6  Portland              68.5    4.8           98.29                    \n",
       "7  San Francisco         66.2    4.4           83.45                    \n",
       "8  Chicago               65.9    5.3           94.86                    \n",
       "9  Los Angeles           59.0    4.8           87.86                    \n",
       "10 Pittsburgh            57.2    3.6          105.09                    \n",
       "11 Philadelphia          55.1    3.8          100.80                    \n",
       "12 Minneapolis-St. Paul  54.4    3.3           96.54                    \n",
       "13 Miami                 54.2    2.5           90.97                    \n",
       "14 Charlotte             51.7    3.6          103.52                    \n",
       "15 Austin                50.0    3.7           99.96                    \n",
       "16 Atlanta               49.4    3.0          100.89                    \n",
       "17 Denver                48.7    4.2           91.61                    \n",
       "18 Cleveland             47.0    4.6          106.15                    \n",
       "19 Cleveland             47.0    4.6          113.62                    \n",
       "20 Houston               46.6    4.6          100.26                    \n",
       "21 Baltimore             44.7    2.8           95.23                    \n",
       "22 Kansas City           44.1    3.6          106.77                    \n",
       "23 Nashville             43.5    2.2          104.68                    \n",
       "24 St. Louis             43.5    4.0          103.90                    \n",
       "25 Sacramento            40.4    5.2           94.08                    \n",
       "26 Cincinnati            40.0    4.1          106.00                    \n",
       "27 Detroit               39.2    4.0          104.05                    \n",
       "28 Dallas-Fort Worth     38.9    4.2           96.29                    \n",
       "29 San Diego             37.0    4.7           86.84                    \n",
       "30 Indianapolis          36.4    3.7          105.23                    \n",
       "31 Tampa                 35.4    3.3          101.04                    \n",
       "32 Virginia Beach        34.5    3.0          102.26                    \n",
       "33 Phoenix               33.6    3.3          100.83                    \n",
       "34 Orlando               32.4    3.2          100.19                    \n",
       "35 San Antonio           29.4    4.1          103.76                    \n",
       "36 Las Vegas             27.5    5.2          104.66                    "
      ]
     },
     "metadata": {},
     "output_type": "display_data"
    }
   ],
   "source": [
    "df2 <- read.csv(\"../data_partial/walk_pp_unemploy.csv\")\n",
    "df2"
   ]
  },
  {
   "cell_type": "code",
   "execution_count": 4,
   "metadata": {
    "vscode": {
     "languageId": "r"
    }
   },
   "outputs": [
    {
     "data": {
      "text/html": [
       "<table class=\"dataframe\">\n",
       "<caption>A data.frame: 34 × 4</caption>\n",
       "<thead>\n",
       "\t<tr><th scope=col>REGION</th><th scope=col>Walkable</th><th scope=col>Unemployment</th><th scope=col>Purchase_power_100_dollars</th></tr>\n",
       "\t<tr><th scope=col>&lt;chr&gt;</th><th scope=col>&lt;dbl&gt;</th><th scope=col>&lt;dbl&gt;</th><th scope=col>&lt;dbl&gt;</th></tr>\n",
       "</thead>\n",
       "<tbody>\n",
       "\t<tr><td>New York            </td><td>100.0</td><td>4.7</td><td> 87.28</td></tr>\n",
       "\t<tr><td>Boston              </td><td> 74.3</td><td>3.3</td><td> 91.17</td></tr>\n",
       "\t<tr><td>Washington, DC      </td><td> 72.6</td><td>3.0</td><td> 89.82</td></tr>\n",
       "\t<tr><td>Seattle             </td><td> 69.4</td><td>4.7</td><td> 87.28</td></tr>\n",
       "\t<tr><td>Portland            </td><td> 68.5</td><td>4.8</td><td> 94.90</td></tr>\n",
       "\t<tr><td>San Francisco       </td><td> 66.2</td><td>4.4</td><td> 83.45</td></tr>\n",
       "\t<tr><td>Chicago             </td><td> 65.9</td><td>5.3</td><td> 94.86</td></tr>\n",
       "\t<tr><td>Los Angeles         </td><td> 59.0</td><td>4.8</td><td> 87.86</td></tr>\n",
       "\t<tr><td>Pittsburgh          </td><td> 57.2</td><td>3.6</td><td>105.09</td></tr>\n",
       "\t<tr><td>Philadelphia        </td><td> 55.1</td><td>3.8</td><td>100.80</td></tr>\n",
       "\t<tr><td>Minneapolis-St. Paul</td><td> 54.4</td><td>3.3</td><td> 96.54</td></tr>\n",
       "\t<tr><td>Miami               </td><td> 54.2</td><td>2.5</td><td> 90.97</td></tr>\n",
       "\t<tr><td>Charlotte           </td><td> 51.7</td><td>3.6</td><td>103.52</td></tr>\n",
       "\t<tr><td>Austin              </td><td> 50.0</td><td>3.7</td><td> 99.96</td></tr>\n",
       "\t<tr><td>Atlanta             </td><td> 49.4</td><td>3.0</td><td>100.89</td></tr>\n",
       "\t<tr><td>Denver              </td><td> 48.7</td><td>4.2</td><td> 91.61</td></tr>\n",
       "\t<tr><td>Cleveland           </td><td> 47.0</td><td>4.6</td><td>106.15</td></tr>\n",
       "\t<tr><td>Houston             </td><td> 46.6</td><td>4.6</td><td>100.26</td></tr>\n",
       "\t<tr><td>Baltimore           </td><td> 44.7</td><td>2.8</td><td> 95.23</td></tr>\n",
       "\t<tr><td>Kansas City         </td><td> 44.1</td><td>3.6</td><td>106.77</td></tr>\n",
       "\t<tr><td>Nashville           </td><td> 43.5</td><td>2.2</td><td>104.68</td></tr>\n",
       "\t<tr><td>St. Louis           </td><td> 43.5</td><td>4.0</td><td>103.90</td></tr>\n",
       "\t<tr><td>Sacramento          </td><td> 40.4</td><td>5.2</td><td> 94.08</td></tr>\n",
       "\t<tr><td>Cincinnati          </td><td> 40.0</td><td>4.1</td><td>106.00</td></tr>\n",
       "\t<tr><td>Detroit             </td><td> 39.2</td><td>4.0</td><td>104.05</td></tr>\n",
       "\t<tr><td>Dallas-Fort Worth   </td><td> 38.9</td><td>4.2</td><td> 96.29</td></tr>\n",
       "\t<tr><td>San Diego           </td><td> 37.0</td><td>4.7</td><td> 86.84</td></tr>\n",
       "\t<tr><td>Indianapolis        </td><td> 36.4</td><td>3.7</td><td>105.23</td></tr>\n",
       "\t<tr><td>Tampa               </td><td> 35.4</td><td>3.3</td><td>101.04</td></tr>\n",
       "\t<tr><td>Virginia Beach      </td><td> 34.5</td><td>3.0</td><td>102.26</td></tr>\n",
       "\t<tr><td>Phoenix             </td><td> 33.6</td><td>3.3</td><td>100.83</td></tr>\n",
       "\t<tr><td>Orlando             </td><td> 32.4</td><td>3.2</td><td>100.19</td></tr>\n",
       "\t<tr><td>San Antonio         </td><td> 29.4</td><td>4.1</td><td>103.76</td></tr>\n",
       "\t<tr><td>Las Vegas           </td><td> 27.5</td><td>5.2</td><td>104.66</td></tr>\n",
       "</tbody>\n",
       "</table>\n"
      ],
      "text/latex": [
       "A data.frame: 34 × 4\n",
       "\\begin{tabular}{llll}\n",
       " REGION & Walkable & Unemployment & Purchase\\_power\\_100\\_dollars\\\\\n",
       " <chr> & <dbl> & <dbl> & <dbl>\\\\\n",
       "\\hline\n",
       "\t New York             & 100.0 & 4.7 &  87.28\\\\\n",
       "\t Boston               &  74.3 & 3.3 &  91.17\\\\\n",
       "\t Washington, DC       &  72.6 & 3.0 &  89.82\\\\\n",
       "\t Seattle              &  69.4 & 4.7 &  87.28\\\\\n",
       "\t Portland             &  68.5 & 4.8 &  94.90\\\\\n",
       "\t San Francisco        &  66.2 & 4.4 &  83.45\\\\\n",
       "\t Chicago              &  65.9 & 5.3 &  94.86\\\\\n",
       "\t Los Angeles          &  59.0 & 4.8 &  87.86\\\\\n",
       "\t Pittsburgh           &  57.2 & 3.6 & 105.09\\\\\n",
       "\t Philadelphia         &  55.1 & 3.8 & 100.80\\\\\n",
       "\t Minneapolis-St. Paul &  54.4 & 3.3 &  96.54\\\\\n",
       "\t Miami                &  54.2 & 2.5 &  90.97\\\\\n",
       "\t Charlotte            &  51.7 & 3.6 & 103.52\\\\\n",
       "\t Austin               &  50.0 & 3.7 &  99.96\\\\\n",
       "\t Atlanta              &  49.4 & 3.0 & 100.89\\\\\n",
       "\t Denver               &  48.7 & 4.2 &  91.61\\\\\n",
       "\t Cleveland            &  47.0 & 4.6 & 106.15\\\\\n",
       "\t Houston              &  46.6 & 4.6 & 100.26\\\\\n",
       "\t Baltimore            &  44.7 & 2.8 &  95.23\\\\\n",
       "\t Kansas City          &  44.1 & 3.6 & 106.77\\\\\n",
       "\t Nashville            &  43.5 & 2.2 & 104.68\\\\\n",
       "\t St. Louis            &  43.5 & 4.0 & 103.90\\\\\n",
       "\t Sacramento           &  40.4 & 5.2 &  94.08\\\\\n",
       "\t Cincinnati           &  40.0 & 4.1 & 106.00\\\\\n",
       "\t Detroit              &  39.2 & 4.0 & 104.05\\\\\n",
       "\t Dallas-Fort Worth    &  38.9 & 4.2 &  96.29\\\\\n",
       "\t San Diego            &  37.0 & 4.7 &  86.84\\\\\n",
       "\t Indianapolis         &  36.4 & 3.7 & 105.23\\\\\n",
       "\t Tampa                &  35.4 & 3.3 & 101.04\\\\\n",
       "\t Virginia Beach       &  34.5 & 3.0 & 102.26\\\\\n",
       "\t Phoenix              &  33.6 & 3.3 & 100.83\\\\\n",
       "\t Orlando              &  32.4 & 3.2 & 100.19\\\\\n",
       "\t San Antonio          &  29.4 & 4.1 & 103.76\\\\\n",
       "\t Las Vegas            &  27.5 & 5.2 & 104.66\\\\\n",
       "\\end{tabular}\n"
      ],
      "text/markdown": [
       "\n",
       "A data.frame: 34 × 4\n",
       "\n",
       "| REGION &lt;chr&gt; | Walkable &lt;dbl&gt; | Unemployment &lt;dbl&gt; | Purchase_power_100_dollars &lt;dbl&gt; |\n",
       "|---|---|---|---|\n",
       "| New York             | 100.0 | 4.7 |  87.28 |\n",
       "| Boston               |  74.3 | 3.3 |  91.17 |\n",
       "| Washington, DC       |  72.6 | 3.0 |  89.82 |\n",
       "| Seattle              |  69.4 | 4.7 |  87.28 |\n",
       "| Portland             |  68.5 | 4.8 |  94.90 |\n",
       "| San Francisco        |  66.2 | 4.4 |  83.45 |\n",
       "| Chicago              |  65.9 | 5.3 |  94.86 |\n",
       "| Los Angeles          |  59.0 | 4.8 |  87.86 |\n",
       "| Pittsburgh           |  57.2 | 3.6 | 105.09 |\n",
       "| Philadelphia         |  55.1 | 3.8 | 100.80 |\n",
       "| Minneapolis-St. Paul |  54.4 | 3.3 |  96.54 |\n",
       "| Miami                |  54.2 | 2.5 |  90.97 |\n",
       "| Charlotte            |  51.7 | 3.6 | 103.52 |\n",
       "| Austin               |  50.0 | 3.7 |  99.96 |\n",
       "| Atlanta              |  49.4 | 3.0 | 100.89 |\n",
       "| Denver               |  48.7 | 4.2 |  91.61 |\n",
       "| Cleveland            |  47.0 | 4.6 | 106.15 |\n",
       "| Houston              |  46.6 | 4.6 | 100.26 |\n",
       "| Baltimore            |  44.7 | 2.8 |  95.23 |\n",
       "| Kansas City          |  44.1 | 3.6 | 106.77 |\n",
       "| Nashville            |  43.5 | 2.2 | 104.68 |\n",
       "| St. Louis            |  43.5 | 4.0 | 103.90 |\n",
       "| Sacramento           |  40.4 | 5.2 |  94.08 |\n",
       "| Cincinnati           |  40.0 | 4.1 | 106.00 |\n",
       "| Detroit              |  39.2 | 4.0 | 104.05 |\n",
       "| Dallas-Fort Worth    |  38.9 | 4.2 |  96.29 |\n",
       "| San Diego            |  37.0 | 4.7 |  86.84 |\n",
       "| Indianapolis         |  36.4 | 3.7 | 105.23 |\n",
       "| Tampa                |  35.4 | 3.3 | 101.04 |\n",
       "| Virginia Beach       |  34.5 | 3.0 | 102.26 |\n",
       "| Phoenix              |  33.6 | 3.3 | 100.83 |\n",
       "| Orlando              |  32.4 | 3.2 | 100.19 |\n",
       "| San Antonio          |  29.4 | 4.1 | 103.76 |\n",
       "| Las Vegas            |  27.5 | 5.2 | 104.66 |\n",
       "\n"
      ],
      "text/plain": [
       "   REGION               Walkable Unemployment Purchase_power_100_dollars\n",
       "1  New York             100.0    4.7           87.28                    \n",
       "2  Boston                74.3    3.3           91.17                    \n",
       "3  Washington, DC        72.6    3.0           89.82                    \n",
       "4  Seattle               69.4    4.7           87.28                    \n",
       "5  Portland              68.5    4.8           94.90                    \n",
       "6  San Francisco         66.2    4.4           83.45                    \n",
       "7  Chicago               65.9    5.3           94.86                    \n",
       "8  Los Angeles           59.0    4.8           87.86                    \n",
       "9  Pittsburgh            57.2    3.6          105.09                    \n",
       "10 Philadelphia          55.1    3.8          100.80                    \n",
       "11 Minneapolis-St. Paul  54.4    3.3           96.54                    \n",
       "12 Miami                 54.2    2.5           90.97                    \n",
       "13 Charlotte             51.7    3.6          103.52                    \n",
       "14 Austin                50.0    3.7           99.96                    \n",
       "15 Atlanta               49.4    3.0          100.89                    \n",
       "16 Denver                48.7    4.2           91.61                    \n",
       "17 Cleveland             47.0    4.6          106.15                    \n",
       "18 Houston               46.6    4.6          100.26                    \n",
       "19 Baltimore             44.7    2.8           95.23                    \n",
       "20 Kansas City           44.1    3.6          106.77                    \n",
       "21 Nashville             43.5    2.2          104.68                    \n",
       "22 St. Louis             43.5    4.0          103.90                    \n",
       "23 Sacramento            40.4    5.2           94.08                    \n",
       "24 Cincinnati            40.0    4.1          106.00                    \n",
       "25 Detroit               39.2    4.0          104.05                    \n",
       "26 Dallas-Fort Worth     38.9    4.2           96.29                    \n",
       "27 San Diego             37.0    4.7           86.84                    \n",
       "28 Indianapolis          36.4    3.7          105.23                    \n",
       "29 Tampa                 35.4    3.3          101.04                    \n",
       "30 Virginia Beach        34.5    3.0          102.26                    \n",
       "31 Phoenix               33.6    3.3          100.83                    \n",
       "32 Orlando               32.4    3.2          100.19                    \n",
       "33 San Antonio           29.4    4.1          103.76                    \n",
       "34 Las Vegas             27.5    5.2          104.66                    "
      ]
     },
     "metadata": {},
     "output_type": "display_data"
    }
   ],
   "source": [
    "df2 <- df2 %>%\n",
    "  slice(-c(6, 19))\n",
    "\n",
    "df2\n"
   ]
  },
  {
   "cell_type": "code",
   "execution_count": 5,
   "metadata": {
    "vscode": {
     "languageId": "r"
    }
   },
   "outputs": [
    {
     "data": {
      "text/html": [
       "<table class=\"dataframe\">\n",
       "<caption>A data.frame: 34 × 4</caption>\n",
       "<thead>\n",
       "\t<tr><th scope=col>REGION</th><th scope=col>personal.income</th><th scope=col>Median.Rent</th><th scope=col>median.sale.price</th></tr>\n",
       "\t<tr><th scope=col>&lt;chr&gt;</th><th scope=col>&lt;int&gt;</th><th scope=col>&lt;dbl&gt;</th><th scope=col>&lt;dbl&gt;</th></tr>\n",
       "</thead>\n",
       "<tbody>\n",
       "\t<tr><td>Atlanta             </td><td> 64107</td><td>2113.00</td><td> 357000</td></tr>\n",
       "\t<tr><td>Austin              </td><td> 75119</td><td>1937.50</td><td> 451250</td></tr>\n",
       "\t<tr><td>Baltimore           </td><td> 71420</td><td>1981.50</td><td> 325500</td></tr>\n",
       "\t<tr><td>Boston              </td><td> 94082</td><td>3939.50</td><td> 600000</td></tr>\n",
       "\t<tr><td>Charlotte           </td><td> 65156</td><td>1923.50</td><td> 365000</td></tr>\n",
       "\t<tr><td>Chicago             </td><td> 72512</td><td>2357.50</td><td> 290000</td></tr>\n",
       "\t<tr><td>Cincinnati          </td><td> 65253</td><td>1646.00</td><td> 247000</td></tr>\n",
       "\t<tr><td>Cleveland           </td><td> 62921</td><td>1471.25</td><td> 179000</td></tr>\n",
       "\t<tr><td>Dallas-Fort Worth   </td><td> 70493</td><td>2180.00</td><td> 380000</td></tr>\n",
       "\t<tr><td>Denver              </td><td> 84788</td><td>2677.00</td><td> 556000</td></tr>\n",
       "\t<tr><td>Detroit             </td><td> 61322</td><td>1619.75</td><td> 230000</td></tr>\n",
       "\t<tr><td>Houston             </td><td> 68344</td><td>1578.00</td><td> 325000</td></tr>\n",
       "\t<tr><td>Indianapolis        </td><td> 68719</td><td>1563.50</td><td> 250000</td></tr>\n",
       "\t<tr><td>Kansas City         </td><td> 63417</td><td>1686.25</td><td> 279000</td></tr>\n",
       "\t<tr><td>Las Vegas           </td><td> 59150</td><td>1666.00</td><td> 415000</td></tr>\n",
       "\t<tr><td>Los Angeles         </td><td> 76445</td><td>3587.25</td><td> 920000</td></tr>\n",
       "\t<tr><td>Miami               </td><td> 77732</td><td>3056.50</td><td> 465000</td></tr>\n",
       "\t<tr><td>Minneapolis-St. Paul</td><td> 75164</td><td>1896.50</td><td> 335000</td></tr>\n",
       "\t<tr><td>Nashville           </td><td> 74035</td><td>1903.50</td><td> 419900</td></tr>\n",
       "\t<tr><td>New York            </td><td> 84084</td><td>4120.75</td><td> 565000</td></tr>\n",
       "\t<tr><td>Orlando             </td><td> 53959</td><td>2246.50</td><td> 380000</td></tr>\n",
       "\t<tr><td>Philadelphia        </td><td> 73291</td><td>2340.25</td><td> 301250</td></tr>\n",
       "\t<tr><td>Phoenix             </td><td> 61840</td><td>2182.25</td><td> 449000</td></tr>\n",
       "\t<tr><td>Pittsburgh          </td><td> 65792</td><td>1800.75</td><td> 192500</td></tr>\n",
       "\t<tr><td>Portland            </td><td> 69435</td><td>2333.00</td><td> 515000</td></tr>\n",
       "\t<tr><td>Sacramento          </td><td> 66940</td><td>2614.25</td><td> 542000</td></tr>\n",
       "\t<tr><td>St. Louis           </td><td> 69698</td><td>1680.50</td><td> 218000</td></tr>\n",
       "\t<tr><td>San Antonio         </td><td> 55180</td><td>1463.00</td><td> 297000</td></tr>\n",
       "\t<tr><td>San Diego           </td><td> 74326</td><td>3400.25</td><td> 860000</td></tr>\n",
       "\t<tr><td>San Francisco       </td><td>123736</td><td>3788.75</td><td>1065000</td></tr>\n",
       "\t<tr><td>Seattle             </td><td> 92113</td><td>2946.00</td><td> 665000</td></tr>\n",
       "\t<tr><td>Tampa               </td><td> 60091</td><td>2207.50</td><td> 365000</td></tr>\n",
       "\t<tr><td>Virginia Beach      </td><td> 57873</td><td>1826.00</td><td> 309750</td></tr>\n",
       "\t<tr><td>Washington, DC      </td><td> 83010</td><td>2657.25</td><td> 515000</td></tr>\n",
       "</tbody>\n",
       "</table>\n"
      ],
      "text/latex": [
       "A data.frame: 34 × 4\n",
       "\\begin{tabular}{llll}\n",
       " REGION & personal.income & Median.Rent & median.sale.price\\\\\n",
       " <chr> & <int> & <dbl> & <dbl>\\\\\n",
       "\\hline\n",
       "\t Atlanta              &  64107 & 2113.00 &  357000\\\\\n",
       "\t Austin               &  75119 & 1937.50 &  451250\\\\\n",
       "\t Baltimore            &  71420 & 1981.50 &  325500\\\\\n",
       "\t Boston               &  94082 & 3939.50 &  600000\\\\\n",
       "\t Charlotte            &  65156 & 1923.50 &  365000\\\\\n",
       "\t Chicago              &  72512 & 2357.50 &  290000\\\\\n",
       "\t Cincinnati           &  65253 & 1646.00 &  247000\\\\\n",
       "\t Cleveland            &  62921 & 1471.25 &  179000\\\\\n",
       "\t Dallas-Fort Worth    &  70493 & 2180.00 &  380000\\\\\n",
       "\t Denver               &  84788 & 2677.00 &  556000\\\\\n",
       "\t Detroit              &  61322 & 1619.75 &  230000\\\\\n",
       "\t Houston              &  68344 & 1578.00 &  325000\\\\\n",
       "\t Indianapolis         &  68719 & 1563.50 &  250000\\\\\n",
       "\t Kansas City          &  63417 & 1686.25 &  279000\\\\\n",
       "\t Las Vegas            &  59150 & 1666.00 &  415000\\\\\n",
       "\t Los Angeles          &  76445 & 3587.25 &  920000\\\\\n",
       "\t Miami                &  77732 & 3056.50 &  465000\\\\\n",
       "\t Minneapolis-St. Paul &  75164 & 1896.50 &  335000\\\\\n",
       "\t Nashville            &  74035 & 1903.50 &  419900\\\\\n",
       "\t New York             &  84084 & 4120.75 &  565000\\\\\n",
       "\t Orlando              &  53959 & 2246.50 &  380000\\\\\n",
       "\t Philadelphia         &  73291 & 2340.25 &  301250\\\\\n",
       "\t Phoenix              &  61840 & 2182.25 &  449000\\\\\n",
       "\t Pittsburgh           &  65792 & 1800.75 &  192500\\\\\n",
       "\t Portland             &  69435 & 2333.00 &  515000\\\\\n",
       "\t Sacramento           &  66940 & 2614.25 &  542000\\\\\n",
       "\t St. Louis            &  69698 & 1680.50 &  218000\\\\\n",
       "\t San Antonio          &  55180 & 1463.00 &  297000\\\\\n",
       "\t San Diego            &  74326 & 3400.25 &  860000\\\\\n",
       "\t San Francisco        & 123736 & 3788.75 & 1065000\\\\\n",
       "\t Seattle              &  92113 & 2946.00 &  665000\\\\\n",
       "\t Tampa                &  60091 & 2207.50 &  365000\\\\\n",
       "\t Virginia Beach       &  57873 & 1826.00 &  309750\\\\\n",
       "\t Washington, DC       &  83010 & 2657.25 &  515000\\\\\n",
       "\\end{tabular}\n"
      ],
      "text/markdown": [
       "\n",
       "A data.frame: 34 × 4\n",
       "\n",
       "| REGION &lt;chr&gt; | personal.income &lt;int&gt; | Median.Rent &lt;dbl&gt; | median.sale.price &lt;dbl&gt; |\n",
       "|---|---|---|---|\n",
       "| Atlanta              |  64107 | 2113.00 |  357000 |\n",
       "| Austin               |  75119 | 1937.50 |  451250 |\n",
       "| Baltimore            |  71420 | 1981.50 |  325500 |\n",
       "| Boston               |  94082 | 3939.50 |  600000 |\n",
       "| Charlotte            |  65156 | 1923.50 |  365000 |\n",
       "| Chicago              |  72512 | 2357.50 |  290000 |\n",
       "| Cincinnati           |  65253 | 1646.00 |  247000 |\n",
       "| Cleveland            |  62921 | 1471.25 |  179000 |\n",
       "| Dallas-Fort Worth    |  70493 | 2180.00 |  380000 |\n",
       "| Denver               |  84788 | 2677.00 |  556000 |\n",
       "| Detroit              |  61322 | 1619.75 |  230000 |\n",
       "| Houston              |  68344 | 1578.00 |  325000 |\n",
       "| Indianapolis         |  68719 | 1563.50 |  250000 |\n",
       "| Kansas City          |  63417 | 1686.25 |  279000 |\n",
       "| Las Vegas            |  59150 | 1666.00 |  415000 |\n",
       "| Los Angeles          |  76445 | 3587.25 |  920000 |\n",
       "| Miami                |  77732 | 3056.50 |  465000 |\n",
       "| Minneapolis-St. Paul |  75164 | 1896.50 |  335000 |\n",
       "| Nashville            |  74035 | 1903.50 |  419900 |\n",
       "| New York             |  84084 | 4120.75 |  565000 |\n",
       "| Orlando              |  53959 | 2246.50 |  380000 |\n",
       "| Philadelphia         |  73291 | 2340.25 |  301250 |\n",
       "| Phoenix              |  61840 | 2182.25 |  449000 |\n",
       "| Pittsburgh           |  65792 | 1800.75 |  192500 |\n",
       "| Portland             |  69435 | 2333.00 |  515000 |\n",
       "| Sacramento           |  66940 | 2614.25 |  542000 |\n",
       "| St. Louis            |  69698 | 1680.50 |  218000 |\n",
       "| San Antonio          |  55180 | 1463.00 |  297000 |\n",
       "| San Diego            |  74326 | 3400.25 |  860000 |\n",
       "| San Francisco        | 123736 | 3788.75 | 1065000 |\n",
       "| Seattle              |  92113 | 2946.00 |  665000 |\n",
       "| Tampa                |  60091 | 2207.50 |  365000 |\n",
       "| Virginia Beach       |  57873 | 1826.00 |  309750 |\n",
       "| Washington, DC       |  83010 | 2657.25 |  515000 |\n",
       "\n"
      ],
      "text/plain": [
       "   REGION               personal.income Median.Rent median.sale.price\n",
       "1  Atlanta               64107          2113.00      357000          \n",
       "2  Austin                75119          1937.50      451250          \n",
       "3  Baltimore             71420          1981.50      325500          \n",
       "4  Boston                94082          3939.50      600000          \n",
       "5  Charlotte             65156          1923.50      365000          \n",
       "6  Chicago               72512          2357.50      290000          \n",
       "7  Cincinnati            65253          1646.00      247000          \n",
       "8  Cleveland             62921          1471.25      179000          \n",
       "9  Dallas-Fort Worth     70493          2180.00      380000          \n",
       "10 Denver                84788          2677.00      556000          \n",
       "11 Detroit               61322          1619.75      230000          \n",
       "12 Houston               68344          1578.00      325000          \n",
       "13 Indianapolis          68719          1563.50      250000          \n",
       "14 Kansas City           63417          1686.25      279000          \n",
       "15 Las Vegas             59150          1666.00      415000          \n",
       "16 Los Angeles           76445          3587.25      920000          \n",
       "17 Miami                 77732          3056.50      465000          \n",
       "18 Minneapolis-St. Paul  75164          1896.50      335000          \n",
       "19 Nashville             74035          1903.50      419900          \n",
       "20 New York              84084          4120.75      565000          \n",
       "21 Orlando               53959          2246.50      380000          \n",
       "22 Philadelphia          73291          2340.25      301250          \n",
       "23 Phoenix               61840          2182.25      449000          \n",
       "24 Pittsburgh            65792          1800.75      192500          \n",
       "25 Portland              69435          2333.00      515000          \n",
       "26 Sacramento            66940          2614.25      542000          \n",
       "27 St. Louis             69698          1680.50      218000          \n",
       "28 San Antonio           55180          1463.00      297000          \n",
       "29 San Diego             74326          3400.25      860000          \n",
       "30 San Francisco        123736          3788.75     1065000          \n",
       "31 Seattle               92113          2946.00      665000          \n",
       "32 Tampa                 60091          2207.50      365000          \n",
       "33 Virginia Beach        57873          1826.00      309750          \n",
       "34 Washington, DC        83010          2657.25      515000          "
      ]
     },
     "metadata": {},
     "output_type": "display_data"
    }
   ],
   "source": [
    "df1 <- df1 %>%\n",
    "    filter(REGION != \"Columbus\")\n",
    "\n",
    "df1\n"
   ]
  },
  {
   "cell_type": "code",
   "execution_count": 6,
   "metadata": {
    "vscode": {
     "languageId": "r"
    }
   },
   "outputs": [
    {
     "data": {
      "text/html": [
       "<table class=\"dataframe\">\n",
       "<caption>A data.frame: 34 × 7</caption>\n",
       "<thead>\n",
       "\t<tr><th scope=col>REGION</th><th scope=col>personal.income</th><th scope=col>Median.Rent</th><th scope=col>median.sale.price</th><th scope=col>Walkable</th><th scope=col>Unemployment</th><th scope=col>Purchase_power_100_dollars</th></tr>\n",
       "\t<tr><th scope=col>&lt;chr&gt;</th><th scope=col>&lt;int&gt;</th><th scope=col>&lt;dbl&gt;</th><th scope=col>&lt;dbl&gt;</th><th scope=col>&lt;dbl&gt;</th><th scope=col>&lt;dbl&gt;</th><th scope=col>&lt;dbl&gt;</th></tr>\n",
       "</thead>\n",
       "<tbody>\n",
       "\t<tr><td>Atlanta             </td><td> 64107</td><td>2113.00</td><td> 357000</td><td> 49.4</td><td>3.0</td><td>100.89</td></tr>\n",
       "\t<tr><td>Austin              </td><td> 75119</td><td>1937.50</td><td> 451250</td><td> 50.0</td><td>3.7</td><td> 99.96</td></tr>\n",
       "\t<tr><td>Baltimore           </td><td> 71420</td><td>1981.50</td><td> 325500</td><td> 44.7</td><td>2.8</td><td> 95.23</td></tr>\n",
       "\t<tr><td>Boston              </td><td> 94082</td><td>3939.50</td><td> 600000</td><td> 74.3</td><td>3.3</td><td> 91.17</td></tr>\n",
       "\t<tr><td>Charlotte           </td><td> 65156</td><td>1923.50</td><td> 365000</td><td> 51.7</td><td>3.6</td><td>103.52</td></tr>\n",
       "\t<tr><td>Chicago             </td><td> 72512</td><td>2357.50</td><td> 290000</td><td> 65.9</td><td>5.3</td><td> 94.86</td></tr>\n",
       "\t<tr><td>Cincinnati          </td><td> 65253</td><td>1646.00</td><td> 247000</td><td> 40.0</td><td>4.1</td><td>106.00</td></tr>\n",
       "\t<tr><td>Cleveland           </td><td> 62921</td><td>1471.25</td><td> 179000</td><td> 47.0</td><td>4.6</td><td>106.15</td></tr>\n",
       "\t<tr><td>Dallas-Fort Worth   </td><td> 70493</td><td>2180.00</td><td> 380000</td><td> 38.9</td><td>4.2</td><td> 96.29</td></tr>\n",
       "\t<tr><td>Denver              </td><td> 84788</td><td>2677.00</td><td> 556000</td><td> 48.7</td><td>4.2</td><td> 91.61</td></tr>\n",
       "\t<tr><td>Detroit             </td><td> 61322</td><td>1619.75</td><td> 230000</td><td> 39.2</td><td>4.0</td><td>104.05</td></tr>\n",
       "\t<tr><td>Houston             </td><td> 68344</td><td>1578.00</td><td> 325000</td><td> 46.6</td><td>4.6</td><td>100.26</td></tr>\n",
       "\t<tr><td>Indianapolis        </td><td> 68719</td><td>1563.50</td><td> 250000</td><td> 36.4</td><td>3.7</td><td>105.23</td></tr>\n",
       "\t<tr><td>Kansas City         </td><td> 63417</td><td>1686.25</td><td> 279000</td><td> 44.1</td><td>3.6</td><td>106.77</td></tr>\n",
       "\t<tr><td>Las Vegas           </td><td> 59150</td><td>1666.00</td><td> 415000</td><td> 27.5</td><td>5.2</td><td>104.66</td></tr>\n",
       "\t<tr><td>Los Angeles         </td><td> 76445</td><td>3587.25</td><td> 920000</td><td> 59.0</td><td>4.8</td><td> 87.86</td></tr>\n",
       "\t<tr><td>Miami               </td><td> 77732</td><td>3056.50</td><td> 465000</td><td> 54.2</td><td>2.5</td><td> 90.97</td></tr>\n",
       "\t<tr><td>Minneapolis-St. Paul</td><td> 75164</td><td>1896.50</td><td> 335000</td><td> 54.4</td><td>3.3</td><td> 96.54</td></tr>\n",
       "\t<tr><td>Nashville           </td><td> 74035</td><td>1903.50</td><td> 419900</td><td> 43.5</td><td>2.2</td><td>104.68</td></tr>\n",
       "\t<tr><td>New York            </td><td> 84084</td><td>4120.75</td><td> 565000</td><td>100.0</td><td>4.7</td><td> 87.28</td></tr>\n",
       "\t<tr><td>Orlando             </td><td> 53959</td><td>2246.50</td><td> 380000</td><td> 32.4</td><td>3.2</td><td>100.19</td></tr>\n",
       "\t<tr><td>Philadelphia        </td><td> 73291</td><td>2340.25</td><td> 301250</td><td> 55.1</td><td>3.8</td><td>100.80</td></tr>\n",
       "\t<tr><td>Phoenix             </td><td> 61840</td><td>2182.25</td><td> 449000</td><td> 33.6</td><td>3.3</td><td>100.83</td></tr>\n",
       "\t<tr><td>Pittsburgh          </td><td> 65792</td><td>1800.75</td><td> 192500</td><td> 57.2</td><td>3.6</td><td>105.09</td></tr>\n",
       "\t<tr><td>Portland            </td><td> 69435</td><td>2333.00</td><td> 515000</td><td> 68.5</td><td>4.8</td><td> 94.90</td></tr>\n",
       "\t<tr><td>Sacramento          </td><td> 66940</td><td>2614.25</td><td> 542000</td><td> 40.4</td><td>5.2</td><td> 94.08</td></tr>\n",
       "\t<tr><td>St. Louis           </td><td> 69698</td><td>1680.50</td><td> 218000</td><td> 43.5</td><td>4.0</td><td>103.90</td></tr>\n",
       "\t<tr><td>San Antonio         </td><td> 55180</td><td>1463.00</td><td> 297000</td><td> 29.4</td><td>4.1</td><td>103.76</td></tr>\n",
       "\t<tr><td>San Diego           </td><td> 74326</td><td>3400.25</td><td> 860000</td><td> 37.0</td><td>4.7</td><td> 86.84</td></tr>\n",
       "\t<tr><td>San Francisco       </td><td>123736</td><td>3788.75</td><td>1065000</td><td> 66.2</td><td>4.4</td><td> 83.45</td></tr>\n",
       "\t<tr><td>Seattle             </td><td> 92113</td><td>2946.00</td><td> 665000</td><td> 69.4</td><td>4.7</td><td> 87.28</td></tr>\n",
       "\t<tr><td>Tampa               </td><td> 60091</td><td>2207.50</td><td> 365000</td><td> 35.4</td><td>3.3</td><td>101.04</td></tr>\n",
       "\t<tr><td>Virginia Beach      </td><td> 57873</td><td>1826.00</td><td> 309750</td><td> 34.5</td><td>3.0</td><td>102.26</td></tr>\n",
       "\t<tr><td>Washington, DC      </td><td> 83010</td><td>2657.25</td><td> 515000</td><td> 72.6</td><td>3.0</td><td> 89.82</td></tr>\n",
       "</tbody>\n",
       "</table>\n"
      ],
      "text/latex": [
       "A data.frame: 34 × 7\n",
       "\\begin{tabular}{lllllll}\n",
       " REGION & personal.income & Median.Rent & median.sale.price & Walkable & Unemployment & Purchase\\_power\\_100\\_dollars\\\\\n",
       " <chr> & <int> & <dbl> & <dbl> & <dbl> & <dbl> & <dbl>\\\\\n",
       "\\hline\n",
       "\t Atlanta              &  64107 & 2113.00 &  357000 &  49.4 & 3.0 & 100.89\\\\\n",
       "\t Austin               &  75119 & 1937.50 &  451250 &  50.0 & 3.7 &  99.96\\\\\n",
       "\t Baltimore            &  71420 & 1981.50 &  325500 &  44.7 & 2.8 &  95.23\\\\\n",
       "\t Boston               &  94082 & 3939.50 &  600000 &  74.3 & 3.3 &  91.17\\\\\n",
       "\t Charlotte            &  65156 & 1923.50 &  365000 &  51.7 & 3.6 & 103.52\\\\\n",
       "\t Chicago              &  72512 & 2357.50 &  290000 &  65.9 & 5.3 &  94.86\\\\\n",
       "\t Cincinnati           &  65253 & 1646.00 &  247000 &  40.0 & 4.1 & 106.00\\\\\n",
       "\t Cleveland            &  62921 & 1471.25 &  179000 &  47.0 & 4.6 & 106.15\\\\\n",
       "\t Dallas-Fort Worth    &  70493 & 2180.00 &  380000 &  38.9 & 4.2 &  96.29\\\\\n",
       "\t Denver               &  84788 & 2677.00 &  556000 &  48.7 & 4.2 &  91.61\\\\\n",
       "\t Detroit              &  61322 & 1619.75 &  230000 &  39.2 & 4.0 & 104.05\\\\\n",
       "\t Houston              &  68344 & 1578.00 &  325000 &  46.6 & 4.6 & 100.26\\\\\n",
       "\t Indianapolis         &  68719 & 1563.50 &  250000 &  36.4 & 3.7 & 105.23\\\\\n",
       "\t Kansas City          &  63417 & 1686.25 &  279000 &  44.1 & 3.6 & 106.77\\\\\n",
       "\t Las Vegas            &  59150 & 1666.00 &  415000 &  27.5 & 5.2 & 104.66\\\\\n",
       "\t Los Angeles          &  76445 & 3587.25 &  920000 &  59.0 & 4.8 &  87.86\\\\\n",
       "\t Miami                &  77732 & 3056.50 &  465000 &  54.2 & 2.5 &  90.97\\\\\n",
       "\t Minneapolis-St. Paul &  75164 & 1896.50 &  335000 &  54.4 & 3.3 &  96.54\\\\\n",
       "\t Nashville            &  74035 & 1903.50 &  419900 &  43.5 & 2.2 & 104.68\\\\\n",
       "\t New York             &  84084 & 4120.75 &  565000 & 100.0 & 4.7 &  87.28\\\\\n",
       "\t Orlando              &  53959 & 2246.50 &  380000 &  32.4 & 3.2 & 100.19\\\\\n",
       "\t Philadelphia         &  73291 & 2340.25 &  301250 &  55.1 & 3.8 & 100.80\\\\\n",
       "\t Phoenix              &  61840 & 2182.25 &  449000 &  33.6 & 3.3 & 100.83\\\\\n",
       "\t Pittsburgh           &  65792 & 1800.75 &  192500 &  57.2 & 3.6 & 105.09\\\\\n",
       "\t Portland             &  69435 & 2333.00 &  515000 &  68.5 & 4.8 &  94.90\\\\\n",
       "\t Sacramento           &  66940 & 2614.25 &  542000 &  40.4 & 5.2 &  94.08\\\\\n",
       "\t St. Louis            &  69698 & 1680.50 &  218000 &  43.5 & 4.0 & 103.90\\\\\n",
       "\t San Antonio          &  55180 & 1463.00 &  297000 &  29.4 & 4.1 & 103.76\\\\\n",
       "\t San Diego            &  74326 & 3400.25 &  860000 &  37.0 & 4.7 &  86.84\\\\\n",
       "\t San Francisco        & 123736 & 3788.75 & 1065000 &  66.2 & 4.4 &  83.45\\\\\n",
       "\t Seattle              &  92113 & 2946.00 &  665000 &  69.4 & 4.7 &  87.28\\\\\n",
       "\t Tampa                &  60091 & 2207.50 &  365000 &  35.4 & 3.3 & 101.04\\\\\n",
       "\t Virginia Beach       &  57873 & 1826.00 &  309750 &  34.5 & 3.0 & 102.26\\\\\n",
       "\t Washington, DC       &  83010 & 2657.25 &  515000 &  72.6 & 3.0 &  89.82\\\\\n",
       "\\end{tabular}\n"
      ],
      "text/markdown": [
       "\n",
       "A data.frame: 34 × 7\n",
       "\n",
       "| REGION &lt;chr&gt; | personal.income &lt;int&gt; | Median.Rent &lt;dbl&gt; | median.sale.price &lt;dbl&gt; | Walkable &lt;dbl&gt; | Unemployment &lt;dbl&gt; | Purchase_power_100_dollars &lt;dbl&gt; |\n",
       "|---|---|---|---|---|---|---|\n",
       "| Atlanta              |  64107 | 2113.00 |  357000 |  49.4 | 3.0 | 100.89 |\n",
       "| Austin               |  75119 | 1937.50 |  451250 |  50.0 | 3.7 |  99.96 |\n",
       "| Baltimore            |  71420 | 1981.50 |  325500 |  44.7 | 2.8 |  95.23 |\n",
       "| Boston               |  94082 | 3939.50 |  600000 |  74.3 | 3.3 |  91.17 |\n",
       "| Charlotte            |  65156 | 1923.50 |  365000 |  51.7 | 3.6 | 103.52 |\n",
       "| Chicago              |  72512 | 2357.50 |  290000 |  65.9 | 5.3 |  94.86 |\n",
       "| Cincinnati           |  65253 | 1646.00 |  247000 |  40.0 | 4.1 | 106.00 |\n",
       "| Cleveland            |  62921 | 1471.25 |  179000 |  47.0 | 4.6 | 106.15 |\n",
       "| Dallas-Fort Worth    |  70493 | 2180.00 |  380000 |  38.9 | 4.2 |  96.29 |\n",
       "| Denver               |  84788 | 2677.00 |  556000 |  48.7 | 4.2 |  91.61 |\n",
       "| Detroit              |  61322 | 1619.75 |  230000 |  39.2 | 4.0 | 104.05 |\n",
       "| Houston              |  68344 | 1578.00 |  325000 |  46.6 | 4.6 | 100.26 |\n",
       "| Indianapolis         |  68719 | 1563.50 |  250000 |  36.4 | 3.7 | 105.23 |\n",
       "| Kansas City          |  63417 | 1686.25 |  279000 |  44.1 | 3.6 | 106.77 |\n",
       "| Las Vegas            |  59150 | 1666.00 |  415000 |  27.5 | 5.2 | 104.66 |\n",
       "| Los Angeles          |  76445 | 3587.25 |  920000 |  59.0 | 4.8 |  87.86 |\n",
       "| Miami                |  77732 | 3056.50 |  465000 |  54.2 | 2.5 |  90.97 |\n",
       "| Minneapolis-St. Paul |  75164 | 1896.50 |  335000 |  54.4 | 3.3 |  96.54 |\n",
       "| Nashville            |  74035 | 1903.50 |  419900 |  43.5 | 2.2 | 104.68 |\n",
       "| New York             |  84084 | 4120.75 |  565000 | 100.0 | 4.7 |  87.28 |\n",
       "| Orlando              |  53959 | 2246.50 |  380000 |  32.4 | 3.2 | 100.19 |\n",
       "| Philadelphia         |  73291 | 2340.25 |  301250 |  55.1 | 3.8 | 100.80 |\n",
       "| Phoenix              |  61840 | 2182.25 |  449000 |  33.6 | 3.3 | 100.83 |\n",
       "| Pittsburgh           |  65792 | 1800.75 |  192500 |  57.2 | 3.6 | 105.09 |\n",
       "| Portland             |  69435 | 2333.00 |  515000 |  68.5 | 4.8 |  94.90 |\n",
       "| Sacramento           |  66940 | 2614.25 |  542000 |  40.4 | 5.2 |  94.08 |\n",
       "| St. Louis            |  69698 | 1680.50 |  218000 |  43.5 | 4.0 | 103.90 |\n",
       "| San Antonio          |  55180 | 1463.00 |  297000 |  29.4 | 4.1 | 103.76 |\n",
       "| San Diego            |  74326 | 3400.25 |  860000 |  37.0 | 4.7 |  86.84 |\n",
       "| San Francisco        | 123736 | 3788.75 | 1065000 |  66.2 | 4.4 |  83.45 |\n",
       "| Seattle              |  92113 | 2946.00 |  665000 |  69.4 | 4.7 |  87.28 |\n",
       "| Tampa                |  60091 | 2207.50 |  365000 |  35.4 | 3.3 | 101.04 |\n",
       "| Virginia Beach       |  57873 | 1826.00 |  309750 |  34.5 | 3.0 | 102.26 |\n",
       "| Washington, DC       |  83010 | 2657.25 |  515000 |  72.6 | 3.0 |  89.82 |\n",
       "\n"
      ],
      "text/plain": [
       "   REGION               personal.income Median.Rent median.sale.price Walkable\n",
       "1  Atlanta               64107          2113.00      357000            49.4   \n",
       "2  Austin                75119          1937.50      451250            50.0   \n",
       "3  Baltimore             71420          1981.50      325500            44.7   \n",
       "4  Boston                94082          3939.50      600000            74.3   \n",
       "5  Charlotte             65156          1923.50      365000            51.7   \n",
       "6  Chicago               72512          2357.50      290000            65.9   \n",
       "7  Cincinnati            65253          1646.00      247000            40.0   \n",
       "8  Cleveland             62921          1471.25      179000            47.0   \n",
       "9  Dallas-Fort Worth     70493          2180.00      380000            38.9   \n",
       "10 Denver                84788          2677.00      556000            48.7   \n",
       "11 Detroit               61322          1619.75      230000            39.2   \n",
       "12 Houston               68344          1578.00      325000            46.6   \n",
       "13 Indianapolis          68719          1563.50      250000            36.4   \n",
       "14 Kansas City           63417          1686.25      279000            44.1   \n",
       "15 Las Vegas             59150          1666.00      415000            27.5   \n",
       "16 Los Angeles           76445          3587.25      920000            59.0   \n",
       "17 Miami                 77732          3056.50      465000            54.2   \n",
       "18 Minneapolis-St. Paul  75164          1896.50      335000            54.4   \n",
       "19 Nashville             74035          1903.50      419900            43.5   \n",
       "20 New York              84084          4120.75      565000           100.0   \n",
       "21 Orlando               53959          2246.50      380000            32.4   \n",
       "22 Philadelphia          73291          2340.25      301250            55.1   \n",
       "23 Phoenix               61840          2182.25      449000            33.6   \n",
       "24 Pittsburgh            65792          1800.75      192500            57.2   \n",
       "25 Portland              69435          2333.00      515000            68.5   \n",
       "26 Sacramento            66940          2614.25      542000            40.4   \n",
       "27 St. Louis             69698          1680.50      218000            43.5   \n",
       "28 San Antonio           55180          1463.00      297000            29.4   \n",
       "29 San Diego             74326          3400.25      860000            37.0   \n",
       "30 San Francisco        123736          3788.75     1065000            66.2   \n",
       "31 Seattle               92113          2946.00      665000            69.4   \n",
       "32 Tampa                 60091          2207.50      365000            35.4   \n",
       "33 Virginia Beach        57873          1826.00      309750            34.5   \n",
       "34 Washington, DC        83010          2657.25      515000            72.6   \n",
       "   Unemployment Purchase_power_100_dollars\n",
       "1  3.0          100.89                    \n",
       "2  3.7           99.96                    \n",
       "3  2.8           95.23                    \n",
       "4  3.3           91.17                    \n",
       "5  3.6          103.52                    \n",
       "6  5.3           94.86                    \n",
       "7  4.1          106.00                    \n",
       "8  4.6          106.15                    \n",
       "9  4.2           96.29                    \n",
       "10 4.2           91.61                    \n",
       "11 4.0          104.05                    \n",
       "12 4.6          100.26                    \n",
       "13 3.7          105.23                    \n",
       "14 3.6          106.77                    \n",
       "15 5.2          104.66                    \n",
       "16 4.8           87.86                    \n",
       "17 2.5           90.97                    \n",
       "18 3.3           96.54                    \n",
       "19 2.2          104.68                    \n",
       "20 4.7           87.28                    \n",
       "21 3.2          100.19                    \n",
       "22 3.8          100.80                    \n",
       "23 3.3          100.83                    \n",
       "24 3.6          105.09                    \n",
       "25 4.8           94.90                    \n",
       "26 5.2           94.08                    \n",
       "27 4.0          103.90                    \n",
       "28 4.1          103.76                    \n",
       "29 4.7           86.84                    \n",
       "30 4.4           83.45                    \n",
       "31 4.7           87.28                    \n",
       "32 3.3          101.04                    \n",
       "33 3.0          102.26                    \n",
       "34 3.0           89.82                    "
      ]
     },
     "metadata": {},
     "output_type": "display_data"
    }
   ],
   "source": [
    "merged_df <- df1 %>%\n",
    "    inner_join(df2, by = \"REGION\")\n",
    "\n",
    "merged_df"
   ]
  },
  {
   "cell_type": "code",
   "execution_count": 7,
   "metadata": {
    "vscode": {
     "languageId": "r"
    }
   },
   "outputs": [],
   "source": [
    "write.csv(merged_df, file = \"../final_data/metro_data.csv\", row.names = FALSE)"
   ]
  },
  {
   "cell_type": "markdown",
   "metadata": {},
   "source": [
    "----"
   ]
  },
  {
   "cell_type": "markdown",
   "metadata": {},
   "source": [
    "# Adding Coordinates"
   ]
  },
  {
   "cell_type": "code",
   "execution_count": 8,
   "metadata": {
    "vscode": {
     "languageId": "r"
    }
   },
   "outputs": [
    {
     "data": {
      "text/html": [
       "<table class=\"dataframe\">\n",
       "<caption>A data.frame: 34 × 7</caption>\n",
       "<thead>\n",
       "\t<tr><th scope=col>REGION</th><th scope=col>personal.income</th><th scope=col>Median.Rent</th><th scope=col>median.sale.price</th><th scope=col>Walkable</th><th scope=col>Unemployment</th><th scope=col>Purchase_power_100_dollars</th></tr>\n",
       "\t<tr><th scope=col>&lt;chr&gt;</th><th scope=col>&lt;int&gt;</th><th scope=col>&lt;dbl&gt;</th><th scope=col>&lt;dbl&gt;</th><th scope=col>&lt;dbl&gt;</th><th scope=col>&lt;dbl&gt;</th><th scope=col>&lt;dbl&gt;</th></tr>\n",
       "</thead>\n",
       "<tbody>\n",
       "\t<tr><td>Atlanta             </td><td> 64107</td><td>2113.00</td><td> 357000</td><td> 49.4</td><td>3.0</td><td>100.89</td></tr>\n",
       "\t<tr><td>Austin              </td><td> 75119</td><td>1937.50</td><td> 451250</td><td> 50.0</td><td>3.7</td><td> 99.96</td></tr>\n",
       "\t<tr><td>Baltimore           </td><td> 71420</td><td>1981.50</td><td> 325500</td><td> 44.7</td><td>2.8</td><td> 95.23</td></tr>\n",
       "\t<tr><td>Boston              </td><td> 94082</td><td>3939.50</td><td> 600000</td><td> 74.3</td><td>3.3</td><td> 91.17</td></tr>\n",
       "\t<tr><td>Charlotte           </td><td> 65156</td><td>1923.50</td><td> 365000</td><td> 51.7</td><td>3.6</td><td>103.52</td></tr>\n",
       "\t<tr><td>Chicago             </td><td> 72512</td><td>2357.50</td><td> 290000</td><td> 65.9</td><td>5.3</td><td> 94.86</td></tr>\n",
       "\t<tr><td>Cincinnati          </td><td> 65253</td><td>1646.00</td><td> 247000</td><td> 40.0</td><td>4.1</td><td>106.00</td></tr>\n",
       "\t<tr><td>Cleveland           </td><td> 62921</td><td>1471.25</td><td> 179000</td><td> 47.0</td><td>4.6</td><td>106.15</td></tr>\n",
       "\t<tr><td>Dallas-Fort Worth   </td><td> 70493</td><td>2180.00</td><td> 380000</td><td> 38.9</td><td>4.2</td><td> 96.29</td></tr>\n",
       "\t<tr><td>Denver              </td><td> 84788</td><td>2677.00</td><td> 556000</td><td> 48.7</td><td>4.2</td><td> 91.61</td></tr>\n",
       "\t<tr><td>Detroit             </td><td> 61322</td><td>1619.75</td><td> 230000</td><td> 39.2</td><td>4.0</td><td>104.05</td></tr>\n",
       "\t<tr><td>Houston             </td><td> 68344</td><td>1578.00</td><td> 325000</td><td> 46.6</td><td>4.6</td><td>100.26</td></tr>\n",
       "\t<tr><td>Indianapolis        </td><td> 68719</td><td>1563.50</td><td> 250000</td><td> 36.4</td><td>3.7</td><td>105.23</td></tr>\n",
       "\t<tr><td>Kansas City         </td><td> 63417</td><td>1686.25</td><td> 279000</td><td> 44.1</td><td>3.6</td><td>106.77</td></tr>\n",
       "\t<tr><td>Las Vegas           </td><td> 59150</td><td>1666.00</td><td> 415000</td><td> 27.5</td><td>5.2</td><td>104.66</td></tr>\n",
       "\t<tr><td>Los Angeles         </td><td> 76445</td><td>3587.25</td><td> 920000</td><td> 59.0</td><td>4.8</td><td> 87.86</td></tr>\n",
       "\t<tr><td>Miami               </td><td> 77732</td><td>3056.50</td><td> 465000</td><td> 54.2</td><td>2.5</td><td> 90.97</td></tr>\n",
       "\t<tr><td>Minneapolis-St. Paul</td><td> 75164</td><td>1896.50</td><td> 335000</td><td> 54.4</td><td>3.3</td><td> 96.54</td></tr>\n",
       "\t<tr><td>Nashville           </td><td> 74035</td><td>1903.50</td><td> 419900</td><td> 43.5</td><td>2.2</td><td>104.68</td></tr>\n",
       "\t<tr><td>New York            </td><td> 84084</td><td>4120.75</td><td> 565000</td><td>100.0</td><td>4.7</td><td> 87.28</td></tr>\n",
       "\t<tr><td>Orlando             </td><td> 53959</td><td>2246.50</td><td> 380000</td><td> 32.4</td><td>3.2</td><td>100.19</td></tr>\n",
       "\t<tr><td>Philadelphia        </td><td> 73291</td><td>2340.25</td><td> 301250</td><td> 55.1</td><td>3.8</td><td>100.80</td></tr>\n",
       "\t<tr><td>Phoenix             </td><td> 61840</td><td>2182.25</td><td> 449000</td><td> 33.6</td><td>3.3</td><td>100.83</td></tr>\n",
       "\t<tr><td>Pittsburgh          </td><td> 65792</td><td>1800.75</td><td> 192500</td><td> 57.2</td><td>3.6</td><td>105.09</td></tr>\n",
       "\t<tr><td>Portland            </td><td> 69435</td><td>2333.00</td><td> 515000</td><td> 68.5</td><td>4.8</td><td> 94.90</td></tr>\n",
       "\t<tr><td>Sacramento          </td><td> 66940</td><td>2614.25</td><td> 542000</td><td> 40.4</td><td>5.2</td><td> 94.08</td></tr>\n",
       "\t<tr><td>St. Louis           </td><td> 69698</td><td>1680.50</td><td> 218000</td><td> 43.5</td><td>4.0</td><td>103.90</td></tr>\n",
       "\t<tr><td>San Antonio         </td><td> 55180</td><td>1463.00</td><td> 297000</td><td> 29.4</td><td>4.1</td><td>103.76</td></tr>\n",
       "\t<tr><td>San Diego           </td><td> 74326</td><td>3400.25</td><td> 860000</td><td> 37.0</td><td>4.7</td><td> 86.84</td></tr>\n",
       "\t<tr><td>San Francisco       </td><td>123736</td><td>3788.75</td><td>1065000</td><td> 66.2</td><td>4.4</td><td> 83.45</td></tr>\n",
       "\t<tr><td>Seattle             </td><td> 92113</td><td>2946.00</td><td> 665000</td><td> 69.4</td><td>4.7</td><td> 87.28</td></tr>\n",
       "\t<tr><td>Tampa               </td><td> 60091</td><td>2207.50</td><td> 365000</td><td> 35.4</td><td>3.3</td><td>101.04</td></tr>\n",
       "\t<tr><td>Virginia Beach      </td><td> 57873</td><td>1826.00</td><td> 309750</td><td> 34.5</td><td>3.0</td><td>102.26</td></tr>\n",
       "\t<tr><td>Washington, DC      </td><td> 83010</td><td>2657.25</td><td> 515000</td><td> 72.6</td><td>3.0</td><td> 89.82</td></tr>\n",
       "</tbody>\n",
       "</table>\n"
      ],
      "text/latex": [
       "A data.frame: 34 × 7\n",
       "\\begin{tabular}{lllllll}\n",
       " REGION & personal.income & Median.Rent & median.sale.price & Walkable & Unemployment & Purchase\\_power\\_100\\_dollars\\\\\n",
       " <chr> & <int> & <dbl> & <dbl> & <dbl> & <dbl> & <dbl>\\\\\n",
       "\\hline\n",
       "\t Atlanta              &  64107 & 2113.00 &  357000 &  49.4 & 3.0 & 100.89\\\\\n",
       "\t Austin               &  75119 & 1937.50 &  451250 &  50.0 & 3.7 &  99.96\\\\\n",
       "\t Baltimore            &  71420 & 1981.50 &  325500 &  44.7 & 2.8 &  95.23\\\\\n",
       "\t Boston               &  94082 & 3939.50 &  600000 &  74.3 & 3.3 &  91.17\\\\\n",
       "\t Charlotte            &  65156 & 1923.50 &  365000 &  51.7 & 3.6 & 103.52\\\\\n",
       "\t Chicago              &  72512 & 2357.50 &  290000 &  65.9 & 5.3 &  94.86\\\\\n",
       "\t Cincinnati           &  65253 & 1646.00 &  247000 &  40.0 & 4.1 & 106.00\\\\\n",
       "\t Cleveland            &  62921 & 1471.25 &  179000 &  47.0 & 4.6 & 106.15\\\\\n",
       "\t Dallas-Fort Worth    &  70493 & 2180.00 &  380000 &  38.9 & 4.2 &  96.29\\\\\n",
       "\t Denver               &  84788 & 2677.00 &  556000 &  48.7 & 4.2 &  91.61\\\\\n",
       "\t Detroit              &  61322 & 1619.75 &  230000 &  39.2 & 4.0 & 104.05\\\\\n",
       "\t Houston              &  68344 & 1578.00 &  325000 &  46.6 & 4.6 & 100.26\\\\\n",
       "\t Indianapolis         &  68719 & 1563.50 &  250000 &  36.4 & 3.7 & 105.23\\\\\n",
       "\t Kansas City          &  63417 & 1686.25 &  279000 &  44.1 & 3.6 & 106.77\\\\\n",
       "\t Las Vegas            &  59150 & 1666.00 &  415000 &  27.5 & 5.2 & 104.66\\\\\n",
       "\t Los Angeles          &  76445 & 3587.25 &  920000 &  59.0 & 4.8 &  87.86\\\\\n",
       "\t Miami                &  77732 & 3056.50 &  465000 &  54.2 & 2.5 &  90.97\\\\\n",
       "\t Minneapolis-St. Paul &  75164 & 1896.50 &  335000 &  54.4 & 3.3 &  96.54\\\\\n",
       "\t Nashville            &  74035 & 1903.50 &  419900 &  43.5 & 2.2 & 104.68\\\\\n",
       "\t New York             &  84084 & 4120.75 &  565000 & 100.0 & 4.7 &  87.28\\\\\n",
       "\t Orlando              &  53959 & 2246.50 &  380000 &  32.4 & 3.2 & 100.19\\\\\n",
       "\t Philadelphia         &  73291 & 2340.25 &  301250 &  55.1 & 3.8 & 100.80\\\\\n",
       "\t Phoenix              &  61840 & 2182.25 &  449000 &  33.6 & 3.3 & 100.83\\\\\n",
       "\t Pittsburgh           &  65792 & 1800.75 &  192500 &  57.2 & 3.6 & 105.09\\\\\n",
       "\t Portland             &  69435 & 2333.00 &  515000 &  68.5 & 4.8 &  94.90\\\\\n",
       "\t Sacramento           &  66940 & 2614.25 &  542000 &  40.4 & 5.2 &  94.08\\\\\n",
       "\t St. Louis            &  69698 & 1680.50 &  218000 &  43.5 & 4.0 & 103.90\\\\\n",
       "\t San Antonio          &  55180 & 1463.00 &  297000 &  29.4 & 4.1 & 103.76\\\\\n",
       "\t San Diego            &  74326 & 3400.25 &  860000 &  37.0 & 4.7 &  86.84\\\\\n",
       "\t San Francisco        & 123736 & 3788.75 & 1065000 &  66.2 & 4.4 &  83.45\\\\\n",
       "\t Seattle              &  92113 & 2946.00 &  665000 &  69.4 & 4.7 &  87.28\\\\\n",
       "\t Tampa                &  60091 & 2207.50 &  365000 &  35.4 & 3.3 & 101.04\\\\\n",
       "\t Virginia Beach       &  57873 & 1826.00 &  309750 &  34.5 & 3.0 & 102.26\\\\\n",
       "\t Washington, DC       &  83010 & 2657.25 &  515000 &  72.6 & 3.0 &  89.82\\\\\n",
       "\\end{tabular}\n"
      ],
      "text/markdown": [
       "\n",
       "A data.frame: 34 × 7\n",
       "\n",
       "| REGION &lt;chr&gt; | personal.income &lt;int&gt; | Median.Rent &lt;dbl&gt; | median.sale.price &lt;dbl&gt; | Walkable &lt;dbl&gt; | Unemployment &lt;dbl&gt; | Purchase_power_100_dollars &lt;dbl&gt; |\n",
       "|---|---|---|---|---|---|---|\n",
       "| Atlanta              |  64107 | 2113.00 |  357000 |  49.4 | 3.0 | 100.89 |\n",
       "| Austin               |  75119 | 1937.50 |  451250 |  50.0 | 3.7 |  99.96 |\n",
       "| Baltimore            |  71420 | 1981.50 |  325500 |  44.7 | 2.8 |  95.23 |\n",
       "| Boston               |  94082 | 3939.50 |  600000 |  74.3 | 3.3 |  91.17 |\n",
       "| Charlotte            |  65156 | 1923.50 |  365000 |  51.7 | 3.6 | 103.52 |\n",
       "| Chicago              |  72512 | 2357.50 |  290000 |  65.9 | 5.3 |  94.86 |\n",
       "| Cincinnati           |  65253 | 1646.00 |  247000 |  40.0 | 4.1 | 106.00 |\n",
       "| Cleveland            |  62921 | 1471.25 |  179000 |  47.0 | 4.6 | 106.15 |\n",
       "| Dallas-Fort Worth    |  70493 | 2180.00 |  380000 |  38.9 | 4.2 |  96.29 |\n",
       "| Denver               |  84788 | 2677.00 |  556000 |  48.7 | 4.2 |  91.61 |\n",
       "| Detroit              |  61322 | 1619.75 |  230000 |  39.2 | 4.0 | 104.05 |\n",
       "| Houston              |  68344 | 1578.00 |  325000 |  46.6 | 4.6 | 100.26 |\n",
       "| Indianapolis         |  68719 | 1563.50 |  250000 |  36.4 | 3.7 | 105.23 |\n",
       "| Kansas City          |  63417 | 1686.25 |  279000 |  44.1 | 3.6 | 106.77 |\n",
       "| Las Vegas            |  59150 | 1666.00 |  415000 |  27.5 | 5.2 | 104.66 |\n",
       "| Los Angeles          |  76445 | 3587.25 |  920000 |  59.0 | 4.8 |  87.86 |\n",
       "| Miami                |  77732 | 3056.50 |  465000 |  54.2 | 2.5 |  90.97 |\n",
       "| Minneapolis-St. Paul |  75164 | 1896.50 |  335000 |  54.4 | 3.3 |  96.54 |\n",
       "| Nashville            |  74035 | 1903.50 |  419900 |  43.5 | 2.2 | 104.68 |\n",
       "| New York             |  84084 | 4120.75 |  565000 | 100.0 | 4.7 |  87.28 |\n",
       "| Orlando              |  53959 | 2246.50 |  380000 |  32.4 | 3.2 | 100.19 |\n",
       "| Philadelphia         |  73291 | 2340.25 |  301250 |  55.1 | 3.8 | 100.80 |\n",
       "| Phoenix              |  61840 | 2182.25 |  449000 |  33.6 | 3.3 | 100.83 |\n",
       "| Pittsburgh           |  65792 | 1800.75 |  192500 |  57.2 | 3.6 | 105.09 |\n",
       "| Portland             |  69435 | 2333.00 |  515000 |  68.5 | 4.8 |  94.90 |\n",
       "| Sacramento           |  66940 | 2614.25 |  542000 |  40.4 | 5.2 |  94.08 |\n",
       "| St. Louis            |  69698 | 1680.50 |  218000 |  43.5 | 4.0 | 103.90 |\n",
       "| San Antonio          |  55180 | 1463.00 |  297000 |  29.4 | 4.1 | 103.76 |\n",
       "| San Diego            |  74326 | 3400.25 |  860000 |  37.0 | 4.7 |  86.84 |\n",
       "| San Francisco        | 123736 | 3788.75 | 1065000 |  66.2 | 4.4 |  83.45 |\n",
       "| Seattle              |  92113 | 2946.00 |  665000 |  69.4 | 4.7 |  87.28 |\n",
       "| Tampa                |  60091 | 2207.50 |  365000 |  35.4 | 3.3 | 101.04 |\n",
       "| Virginia Beach       |  57873 | 1826.00 |  309750 |  34.5 | 3.0 | 102.26 |\n",
       "| Washington, DC       |  83010 | 2657.25 |  515000 |  72.6 | 3.0 |  89.82 |\n",
       "\n"
      ],
      "text/plain": [
       "   REGION               personal.income Median.Rent median.sale.price Walkable\n",
       "1  Atlanta               64107          2113.00      357000            49.4   \n",
       "2  Austin                75119          1937.50      451250            50.0   \n",
       "3  Baltimore             71420          1981.50      325500            44.7   \n",
       "4  Boston                94082          3939.50      600000            74.3   \n",
       "5  Charlotte             65156          1923.50      365000            51.7   \n",
       "6  Chicago               72512          2357.50      290000            65.9   \n",
       "7  Cincinnati            65253          1646.00      247000            40.0   \n",
       "8  Cleveland             62921          1471.25      179000            47.0   \n",
       "9  Dallas-Fort Worth     70493          2180.00      380000            38.9   \n",
       "10 Denver                84788          2677.00      556000            48.7   \n",
       "11 Detroit               61322          1619.75      230000            39.2   \n",
       "12 Houston               68344          1578.00      325000            46.6   \n",
       "13 Indianapolis          68719          1563.50      250000            36.4   \n",
       "14 Kansas City           63417          1686.25      279000            44.1   \n",
       "15 Las Vegas             59150          1666.00      415000            27.5   \n",
       "16 Los Angeles           76445          3587.25      920000            59.0   \n",
       "17 Miami                 77732          3056.50      465000            54.2   \n",
       "18 Minneapolis-St. Paul  75164          1896.50      335000            54.4   \n",
       "19 Nashville             74035          1903.50      419900            43.5   \n",
       "20 New York              84084          4120.75      565000           100.0   \n",
       "21 Orlando               53959          2246.50      380000            32.4   \n",
       "22 Philadelphia          73291          2340.25      301250            55.1   \n",
       "23 Phoenix               61840          2182.25      449000            33.6   \n",
       "24 Pittsburgh            65792          1800.75      192500            57.2   \n",
       "25 Portland              69435          2333.00      515000            68.5   \n",
       "26 Sacramento            66940          2614.25      542000            40.4   \n",
       "27 St. Louis             69698          1680.50      218000            43.5   \n",
       "28 San Antonio           55180          1463.00      297000            29.4   \n",
       "29 San Diego             74326          3400.25      860000            37.0   \n",
       "30 San Francisco        123736          3788.75     1065000            66.2   \n",
       "31 Seattle               92113          2946.00      665000            69.4   \n",
       "32 Tampa                 60091          2207.50      365000            35.4   \n",
       "33 Virginia Beach        57873          1826.00      309750            34.5   \n",
       "34 Washington, DC        83010          2657.25      515000            72.6   \n",
       "   Unemployment Purchase_power_100_dollars\n",
       "1  3.0          100.89                    \n",
       "2  3.7           99.96                    \n",
       "3  2.8           95.23                    \n",
       "4  3.3           91.17                    \n",
       "5  3.6          103.52                    \n",
       "6  5.3           94.86                    \n",
       "7  4.1          106.00                    \n",
       "8  4.6          106.15                    \n",
       "9  4.2           96.29                    \n",
       "10 4.2           91.61                    \n",
       "11 4.0          104.05                    \n",
       "12 4.6          100.26                    \n",
       "13 3.7          105.23                    \n",
       "14 3.6          106.77                    \n",
       "15 5.2          104.66                    \n",
       "16 4.8           87.86                    \n",
       "17 2.5           90.97                    \n",
       "18 3.3           96.54                    \n",
       "19 2.2          104.68                    \n",
       "20 4.7           87.28                    \n",
       "21 3.2          100.19                    \n",
       "22 3.8          100.80                    \n",
       "23 3.3          100.83                    \n",
       "24 3.6          105.09                    \n",
       "25 4.8           94.90                    \n",
       "26 5.2           94.08                    \n",
       "27 4.0          103.90                    \n",
       "28 4.1          103.76                    \n",
       "29 4.7           86.84                    \n",
       "30 4.4           83.45                    \n",
       "31 4.7           87.28                    \n",
       "32 3.3          101.04                    \n",
       "33 3.0          102.26                    \n",
       "34 3.0           89.82                    "
      ]
     },
     "metadata": {},
     "output_type": "display_data"
    }
   ],
   "source": [
    "df <- read.csv(\"../final_data/metro_data.csv\")\n",
    "\n",
    "df"
   ]
  },
  {
   "cell_type": "code",
   "execution_count": 10,
   "metadata": {
    "vscode": {
     "languageId": "r"
    }
   },
   "outputs": [],
   "source": [
    "coordinates <- data.frame(\n",
    "    REGION = c(\"Atlanta\", \"Austin\", \"Baltimore\", \"Boston\", \"Charlotte\", \"Chicago\", \"Cincinnati\", \"Cleveland\", \"Dallas-Fort Worth\", \"Denver\", \"Detroit\", \"Houston\", \"Indianapolis\", \"Kansas City\", \"Las Vegas\", \"Los Angeles\", \"Miami\", \"Minneapolis-St. Paul\", \"Nashville\", \"New York\", \"Orlando\", \"Philadelphia\", \"Phoenix\", \"Pittsburgh\", \"Portland\", \"Sacramento\", \"St. Louis\", \"San Antonio\", \"San Diego\", \"San Francisco\", \"Seattle\", \"Tampa\", \"Virginia Beach\", \"Washington, DC\"),\n",
    "    Latitude = c(33.7490, 30.2672, 39.2904, 42.3601, 35.2271, 41.8781, 39.1031, 41.4993, 32.7767, 39.7392, 42.3314, 29.7604, 39.7684, 39.0997, 36.1699, 34.0522, 25.7617, 44.9778, 36.1627, 40.7128, 28.5383, 39.9526, 33.4484, 40.4406, 45.5051, 38.5816, 38.6270, 29.4241, 32.7157, 37.7749, 47.6062, 27.9506, 36.8529, 38.9072),\n",
    "    Longitude = c(-84.3880, -97.7431, -76.6122, -71.0589, -80.8431, -87.6298, -84.5120, -81.6944, -96.7970, -104.9903, -83.0458, -95.3698, -86.1581, -94.5786, -115.1398, -118.2437, -80.1918, -93.2650, -86.7816, -74.0060, -81.3792, -75.1652, -112.0740, -79.9959, -122.6750, -121.4944, -90.1994, -98.4936, -117.1611, -122.4194, -122.3321, -82.4572, -75.9780, -77.0369)\n",
    ")"
   ]
  },
  {
   "cell_type": "code",
   "execution_count": 11,
   "metadata": {
    "vscode": {
     "languageId": "r"
    }
   },
   "outputs": [
    {
     "data": {
      "text/html": [
       "<table class=\"dataframe\">\n",
       "<caption>A data.frame: 34 × 9</caption>\n",
       "<thead>\n",
       "\t<tr><th scope=col>REGION</th><th scope=col>personal.income</th><th scope=col>Median.Rent</th><th scope=col>median.sale.price</th><th scope=col>Walkable</th><th scope=col>Unemployment</th><th scope=col>Purchase_power_100_dollars</th><th scope=col>Latitude</th><th scope=col>Longitude</th></tr>\n",
       "\t<tr><th scope=col>&lt;chr&gt;</th><th scope=col>&lt;int&gt;</th><th scope=col>&lt;dbl&gt;</th><th scope=col>&lt;dbl&gt;</th><th scope=col>&lt;dbl&gt;</th><th scope=col>&lt;dbl&gt;</th><th scope=col>&lt;dbl&gt;</th><th scope=col>&lt;dbl&gt;</th><th scope=col>&lt;dbl&gt;</th></tr>\n",
       "</thead>\n",
       "<tbody>\n",
       "\t<tr><td>Atlanta             </td><td> 64107</td><td>2113.00</td><td> 357000</td><td> 49.4</td><td>3.0</td><td>100.89</td><td>33.7490</td><td> -84.3880</td></tr>\n",
       "\t<tr><td>Austin              </td><td> 75119</td><td>1937.50</td><td> 451250</td><td> 50.0</td><td>3.7</td><td> 99.96</td><td>30.2672</td><td> -97.7431</td></tr>\n",
       "\t<tr><td>Baltimore           </td><td> 71420</td><td>1981.50</td><td> 325500</td><td> 44.7</td><td>2.8</td><td> 95.23</td><td>39.2904</td><td> -76.6122</td></tr>\n",
       "\t<tr><td>Boston              </td><td> 94082</td><td>3939.50</td><td> 600000</td><td> 74.3</td><td>3.3</td><td> 91.17</td><td>42.3601</td><td> -71.0589</td></tr>\n",
       "\t<tr><td>Charlotte           </td><td> 65156</td><td>1923.50</td><td> 365000</td><td> 51.7</td><td>3.6</td><td>103.52</td><td>35.2271</td><td> -80.8431</td></tr>\n",
       "\t<tr><td>Chicago             </td><td> 72512</td><td>2357.50</td><td> 290000</td><td> 65.9</td><td>5.3</td><td> 94.86</td><td>41.8781</td><td> -87.6298</td></tr>\n",
       "\t<tr><td>Cincinnati          </td><td> 65253</td><td>1646.00</td><td> 247000</td><td> 40.0</td><td>4.1</td><td>106.00</td><td>39.1031</td><td> -84.5120</td></tr>\n",
       "\t<tr><td>Cleveland           </td><td> 62921</td><td>1471.25</td><td> 179000</td><td> 47.0</td><td>4.6</td><td>106.15</td><td>41.4993</td><td> -81.6944</td></tr>\n",
       "\t<tr><td>Dallas-Fort Worth   </td><td> 70493</td><td>2180.00</td><td> 380000</td><td> 38.9</td><td>4.2</td><td> 96.29</td><td>32.7767</td><td> -96.7970</td></tr>\n",
       "\t<tr><td>Denver              </td><td> 84788</td><td>2677.00</td><td> 556000</td><td> 48.7</td><td>4.2</td><td> 91.61</td><td>39.7392</td><td>-104.9903</td></tr>\n",
       "\t<tr><td>Detroit             </td><td> 61322</td><td>1619.75</td><td> 230000</td><td> 39.2</td><td>4.0</td><td>104.05</td><td>42.3314</td><td> -83.0458</td></tr>\n",
       "\t<tr><td>Houston             </td><td> 68344</td><td>1578.00</td><td> 325000</td><td> 46.6</td><td>4.6</td><td>100.26</td><td>29.7604</td><td> -95.3698</td></tr>\n",
       "\t<tr><td>Indianapolis        </td><td> 68719</td><td>1563.50</td><td> 250000</td><td> 36.4</td><td>3.7</td><td>105.23</td><td>39.7684</td><td> -86.1581</td></tr>\n",
       "\t<tr><td>Kansas City         </td><td> 63417</td><td>1686.25</td><td> 279000</td><td> 44.1</td><td>3.6</td><td>106.77</td><td>39.0997</td><td> -94.5786</td></tr>\n",
       "\t<tr><td>Las Vegas           </td><td> 59150</td><td>1666.00</td><td> 415000</td><td> 27.5</td><td>5.2</td><td>104.66</td><td>36.1699</td><td>-115.1398</td></tr>\n",
       "\t<tr><td>Los Angeles         </td><td> 76445</td><td>3587.25</td><td> 920000</td><td> 59.0</td><td>4.8</td><td> 87.86</td><td>34.0522</td><td>-118.2437</td></tr>\n",
       "\t<tr><td>Miami               </td><td> 77732</td><td>3056.50</td><td> 465000</td><td> 54.2</td><td>2.5</td><td> 90.97</td><td>25.7617</td><td> -80.1918</td></tr>\n",
       "\t<tr><td>Minneapolis-St. Paul</td><td> 75164</td><td>1896.50</td><td> 335000</td><td> 54.4</td><td>3.3</td><td> 96.54</td><td>44.9778</td><td> -93.2650</td></tr>\n",
       "\t<tr><td>Nashville           </td><td> 74035</td><td>1903.50</td><td> 419900</td><td> 43.5</td><td>2.2</td><td>104.68</td><td>36.1627</td><td> -86.7816</td></tr>\n",
       "\t<tr><td>New York            </td><td> 84084</td><td>4120.75</td><td> 565000</td><td>100.0</td><td>4.7</td><td> 87.28</td><td>40.7128</td><td> -74.0060</td></tr>\n",
       "\t<tr><td>Orlando             </td><td> 53959</td><td>2246.50</td><td> 380000</td><td> 32.4</td><td>3.2</td><td>100.19</td><td>28.5383</td><td> -81.3792</td></tr>\n",
       "\t<tr><td>Philadelphia        </td><td> 73291</td><td>2340.25</td><td> 301250</td><td> 55.1</td><td>3.8</td><td>100.80</td><td>39.9526</td><td> -75.1652</td></tr>\n",
       "\t<tr><td>Phoenix             </td><td> 61840</td><td>2182.25</td><td> 449000</td><td> 33.6</td><td>3.3</td><td>100.83</td><td>33.4484</td><td>-112.0740</td></tr>\n",
       "\t<tr><td>Pittsburgh          </td><td> 65792</td><td>1800.75</td><td> 192500</td><td> 57.2</td><td>3.6</td><td>105.09</td><td>40.4406</td><td> -79.9959</td></tr>\n",
       "\t<tr><td>Portland            </td><td> 69435</td><td>2333.00</td><td> 515000</td><td> 68.5</td><td>4.8</td><td> 94.90</td><td>45.5051</td><td>-122.6750</td></tr>\n",
       "\t<tr><td>Sacramento          </td><td> 66940</td><td>2614.25</td><td> 542000</td><td> 40.4</td><td>5.2</td><td> 94.08</td><td>38.5816</td><td>-121.4944</td></tr>\n",
       "\t<tr><td>San Antonio         </td><td> 55180</td><td>1463.00</td><td> 297000</td><td> 29.4</td><td>4.1</td><td>103.76</td><td>29.4241</td><td> -98.4936</td></tr>\n",
       "\t<tr><td>San Diego           </td><td> 74326</td><td>3400.25</td><td> 860000</td><td> 37.0</td><td>4.7</td><td> 86.84</td><td>32.7157</td><td>-117.1611</td></tr>\n",
       "\t<tr><td>San Francisco       </td><td>123736</td><td>3788.75</td><td>1065000</td><td> 66.2</td><td>4.4</td><td> 83.45</td><td>37.7749</td><td>-122.4194</td></tr>\n",
       "\t<tr><td>Seattle             </td><td> 92113</td><td>2946.00</td><td> 665000</td><td> 69.4</td><td>4.7</td><td> 87.28</td><td>47.6062</td><td>-122.3321</td></tr>\n",
       "\t<tr><td>St. Louis           </td><td> 69698</td><td>1680.50</td><td> 218000</td><td> 43.5</td><td>4.0</td><td>103.90</td><td>38.6270</td><td> -90.1994</td></tr>\n",
       "\t<tr><td>Tampa               </td><td> 60091</td><td>2207.50</td><td> 365000</td><td> 35.4</td><td>3.3</td><td>101.04</td><td>27.9506</td><td> -82.4572</td></tr>\n",
       "\t<tr><td>Virginia Beach      </td><td> 57873</td><td>1826.00</td><td> 309750</td><td> 34.5</td><td>3.0</td><td>102.26</td><td>36.8529</td><td> -75.9780</td></tr>\n",
       "\t<tr><td>Washington, DC      </td><td> 83010</td><td>2657.25</td><td> 515000</td><td> 72.6</td><td>3.0</td><td> 89.82</td><td>38.9072</td><td> -77.0369</td></tr>\n",
       "</tbody>\n",
       "</table>\n"
      ],
      "text/latex": [
       "A data.frame: 34 × 9\n",
       "\\begin{tabular}{lllllllll}\n",
       " REGION & personal.income & Median.Rent & median.sale.price & Walkable & Unemployment & Purchase\\_power\\_100\\_dollars & Latitude & Longitude\\\\\n",
       " <chr> & <int> & <dbl> & <dbl> & <dbl> & <dbl> & <dbl> & <dbl> & <dbl>\\\\\n",
       "\\hline\n",
       "\t Atlanta              &  64107 & 2113.00 &  357000 &  49.4 & 3.0 & 100.89 & 33.7490 &  -84.3880\\\\\n",
       "\t Austin               &  75119 & 1937.50 &  451250 &  50.0 & 3.7 &  99.96 & 30.2672 &  -97.7431\\\\\n",
       "\t Baltimore            &  71420 & 1981.50 &  325500 &  44.7 & 2.8 &  95.23 & 39.2904 &  -76.6122\\\\\n",
       "\t Boston               &  94082 & 3939.50 &  600000 &  74.3 & 3.3 &  91.17 & 42.3601 &  -71.0589\\\\\n",
       "\t Charlotte            &  65156 & 1923.50 &  365000 &  51.7 & 3.6 & 103.52 & 35.2271 &  -80.8431\\\\\n",
       "\t Chicago              &  72512 & 2357.50 &  290000 &  65.9 & 5.3 &  94.86 & 41.8781 &  -87.6298\\\\\n",
       "\t Cincinnati           &  65253 & 1646.00 &  247000 &  40.0 & 4.1 & 106.00 & 39.1031 &  -84.5120\\\\\n",
       "\t Cleveland            &  62921 & 1471.25 &  179000 &  47.0 & 4.6 & 106.15 & 41.4993 &  -81.6944\\\\\n",
       "\t Dallas-Fort Worth    &  70493 & 2180.00 &  380000 &  38.9 & 4.2 &  96.29 & 32.7767 &  -96.7970\\\\\n",
       "\t Denver               &  84788 & 2677.00 &  556000 &  48.7 & 4.2 &  91.61 & 39.7392 & -104.9903\\\\\n",
       "\t Detroit              &  61322 & 1619.75 &  230000 &  39.2 & 4.0 & 104.05 & 42.3314 &  -83.0458\\\\\n",
       "\t Houston              &  68344 & 1578.00 &  325000 &  46.6 & 4.6 & 100.26 & 29.7604 &  -95.3698\\\\\n",
       "\t Indianapolis         &  68719 & 1563.50 &  250000 &  36.4 & 3.7 & 105.23 & 39.7684 &  -86.1581\\\\\n",
       "\t Kansas City          &  63417 & 1686.25 &  279000 &  44.1 & 3.6 & 106.77 & 39.0997 &  -94.5786\\\\\n",
       "\t Las Vegas            &  59150 & 1666.00 &  415000 &  27.5 & 5.2 & 104.66 & 36.1699 & -115.1398\\\\\n",
       "\t Los Angeles          &  76445 & 3587.25 &  920000 &  59.0 & 4.8 &  87.86 & 34.0522 & -118.2437\\\\\n",
       "\t Miami                &  77732 & 3056.50 &  465000 &  54.2 & 2.5 &  90.97 & 25.7617 &  -80.1918\\\\\n",
       "\t Minneapolis-St. Paul &  75164 & 1896.50 &  335000 &  54.4 & 3.3 &  96.54 & 44.9778 &  -93.2650\\\\\n",
       "\t Nashville            &  74035 & 1903.50 &  419900 &  43.5 & 2.2 & 104.68 & 36.1627 &  -86.7816\\\\\n",
       "\t New York             &  84084 & 4120.75 &  565000 & 100.0 & 4.7 &  87.28 & 40.7128 &  -74.0060\\\\\n",
       "\t Orlando              &  53959 & 2246.50 &  380000 &  32.4 & 3.2 & 100.19 & 28.5383 &  -81.3792\\\\\n",
       "\t Philadelphia         &  73291 & 2340.25 &  301250 &  55.1 & 3.8 & 100.80 & 39.9526 &  -75.1652\\\\\n",
       "\t Phoenix              &  61840 & 2182.25 &  449000 &  33.6 & 3.3 & 100.83 & 33.4484 & -112.0740\\\\\n",
       "\t Pittsburgh           &  65792 & 1800.75 &  192500 &  57.2 & 3.6 & 105.09 & 40.4406 &  -79.9959\\\\\n",
       "\t Portland             &  69435 & 2333.00 &  515000 &  68.5 & 4.8 &  94.90 & 45.5051 & -122.6750\\\\\n",
       "\t Sacramento           &  66940 & 2614.25 &  542000 &  40.4 & 5.2 &  94.08 & 38.5816 & -121.4944\\\\\n",
       "\t San Antonio          &  55180 & 1463.00 &  297000 &  29.4 & 4.1 & 103.76 & 29.4241 &  -98.4936\\\\\n",
       "\t San Diego            &  74326 & 3400.25 &  860000 &  37.0 & 4.7 &  86.84 & 32.7157 & -117.1611\\\\\n",
       "\t San Francisco        & 123736 & 3788.75 & 1065000 &  66.2 & 4.4 &  83.45 & 37.7749 & -122.4194\\\\\n",
       "\t Seattle              &  92113 & 2946.00 &  665000 &  69.4 & 4.7 &  87.28 & 47.6062 & -122.3321\\\\\n",
       "\t St. Louis            &  69698 & 1680.50 &  218000 &  43.5 & 4.0 & 103.90 & 38.6270 &  -90.1994\\\\\n",
       "\t Tampa                &  60091 & 2207.50 &  365000 &  35.4 & 3.3 & 101.04 & 27.9506 &  -82.4572\\\\\n",
       "\t Virginia Beach       &  57873 & 1826.00 &  309750 &  34.5 & 3.0 & 102.26 & 36.8529 &  -75.9780\\\\\n",
       "\t Washington, DC       &  83010 & 2657.25 &  515000 &  72.6 & 3.0 &  89.82 & 38.9072 &  -77.0369\\\\\n",
       "\\end{tabular}\n"
      ],
      "text/markdown": [
       "\n",
       "A data.frame: 34 × 9\n",
       "\n",
       "| REGION &lt;chr&gt; | personal.income &lt;int&gt; | Median.Rent &lt;dbl&gt; | median.sale.price &lt;dbl&gt; | Walkable &lt;dbl&gt; | Unemployment &lt;dbl&gt; | Purchase_power_100_dollars &lt;dbl&gt; | Latitude &lt;dbl&gt; | Longitude &lt;dbl&gt; |\n",
       "|---|---|---|---|---|---|---|---|---|\n",
       "| Atlanta              |  64107 | 2113.00 |  357000 |  49.4 | 3.0 | 100.89 | 33.7490 |  -84.3880 |\n",
       "| Austin               |  75119 | 1937.50 |  451250 |  50.0 | 3.7 |  99.96 | 30.2672 |  -97.7431 |\n",
       "| Baltimore            |  71420 | 1981.50 |  325500 |  44.7 | 2.8 |  95.23 | 39.2904 |  -76.6122 |\n",
       "| Boston               |  94082 | 3939.50 |  600000 |  74.3 | 3.3 |  91.17 | 42.3601 |  -71.0589 |\n",
       "| Charlotte            |  65156 | 1923.50 |  365000 |  51.7 | 3.6 | 103.52 | 35.2271 |  -80.8431 |\n",
       "| Chicago              |  72512 | 2357.50 |  290000 |  65.9 | 5.3 |  94.86 | 41.8781 |  -87.6298 |\n",
       "| Cincinnati           |  65253 | 1646.00 |  247000 |  40.0 | 4.1 | 106.00 | 39.1031 |  -84.5120 |\n",
       "| Cleveland            |  62921 | 1471.25 |  179000 |  47.0 | 4.6 | 106.15 | 41.4993 |  -81.6944 |\n",
       "| Dallas-Fort Worth    |  70493 | 2180.00 |  380000 |  38.9 | 4.2 |  96.29 | 32.7767 |  -96.7970 |\n",
       "| Denver               |  84788 | 2677.00 |  556000 |  48.7 | 4.2 |  91.61 | 39.7392 | -104.9903 |\n",
       "| Detroit              |  61322 | 1619.75 |  230000 |  39.2 | 4.0 | 104.05 | 42.3314 |  -83.0458 |\n",
       "| Houston              |  68344 | 1578.00 |  325000 |  46.6 | 4.6 | 100.26 | 29.7604 |  -95.3698 |\n",
       "| Indianapolis         |  68719 | 1563.50 |  250000 |  36.4 | 3.7 | 105.23 | 39.7684 |  -86.1581 |\n",
       "| Kansas City          |  63417 | 1686.25 |  279000 |  44.1 | 3.6 | 106.77 | 39.0997 |  -94.5786 |\n",
       "| Las Vegas            |  59150 | 1666.00 |  415000 |  27.5 | 5.2 | 104.66 | 36.1699 | -115.1398 |\n",
       "| Los Angeles          |  76445 | 3587.25 |  920000 |  59.0 | 4.8 |  87.86 | 34.0522 | -118.2437 |\n",
       "| Miami                |  77732 | 3056.50 |  465000 |  54.2 | 2.5 |  90.97 | 25.7617 |  -80.1918 |\n",
       "| Minneapolis-St. Paul |  75164 | 1896.50 |  335000 |  54.4 | 3.3 |  96.54 | 44.9778 |  -93.2650 |\n",
       "| Nashville            |  74035 | 1903.50 |  419900 |  43.5 | 2.2 | 104.68 | 36.1627 |  -86.7816 |\n",
       "| New York             |  84084 | 4120.75 |  565000 | 100.0 | 4.7 |  87.28 | 40.7128 |  -74.0060 |\n",
       "| Orlando              |  53959 | 2246.50 |  380000 |  32.4 | 3.2 | 100.19 | 28.5383 |  -81.3792 |\n",
       "| Philadelphia         |  73291 | 2340.25 |  301250 |  55.1 | 3.8 | 100.80 | 39.9526 |  -75.1652 |\n",
       "| Phoenix              |  61840 | 2182.25 |  449000 |  33.6 | 3.3 | 100.83 | 33.4484 | -112.0740 |\n",
       "| Pittsburgh           |  65792 | 1800.75 |  192500 |  57.2 | 3.6 | 105.09 | 40.4406 |  -79.9959 |\n",
       "| Portland             |  69435 | 2333.00 |  515000 |  68.5 | 4.8 |  94.90 | 45.5051 | -122.6750 |\n",
       "| Sacramento           |  66940 | 2614.25 |  542000 |  40.4 | 5.2 |  94.08 | 38.5816 | -121.4944 |\n",
       "| San Antonio          |  55180 | 1463.00 |  297000 |  29.4 | 4.1 | 103.76 | 29.4241 |  -98.4936 |\n",
       "| San Diego            |  74326 | 3400.25 |  860000 |  37.0 | 4.7 |  86.84 | 32.7157 | -117.1611 |\n",
       "| San Francisco        | 123736 | 3788.75 | 1065000 |  66.2 | 4.4 |  83.45 | 37.7749 | -122.4194 |\n",
       "| Seattle              |  92113 | 2946.00 |  665000 |  69.4 | 4.7 |  87.28 | 47.6062 | -122.3321 |\n",
       "| St. Louis            |  69698 | 1680.50 |  218000 |  43.5 | 4.0 | 103.90 | 38.6270 |  -90.1994 |\n",
       "| Tampa                |  60091 | 2207.50 |  365000 |  35.4 | 3.3 | 101.04 | 27.9506 |  -82.4572 |\n",
       "| Virginia Beach       |  57873 | 1826.00 |  309750 |  34.5 | 3.0 | 102.26 | 36.8529 |  -75.9780 |\n",
       "| Washington, DC       |  83010 | 2657.25 |  515000 |  72.6 | 3.0 |  89.82 | 38.9072 |  -77.0369 |\n",
       "\n"
      ],
      "text/plain": [
       "   REGION               personal.income Median.Rent median.sale.price Walkable\n",
       "1  Atlanta               64107          2113.00      357000            49.4   \n",
       "2  Austin                75119          1937.50      451250            50.0   \n",
       "3  Baltimore             71420          1981.50      325500            44.7   \n",
       "4  Boston                94082          3939.50      600000            74.3   \n",
       "5  Charlotte             65156          1923.50      365000            51.7   \n",
       "6  Chicago               72512          2357.50      290000            65.9   \n",
       "7  Cincinnati            65253          1646.00      247000            40.0   \n",
       "8  Cleveland             62921          1471.25      179000            47.0   \n",
       "9  Dallas-Fort Worth     70493          2180.00      380000            38.9   \n",
       "10 Denver                84788          2677.00      556000            48.7   \n",
       "11 Detroit               61322          1619.75      230000            39.2   \n",
       "12 Houston               68344          1578.00      325000            46.6   \n",
       "13 Indianapolis          68719          1563.50      250000            36.4   \n",
       "14 Kansas City           63417          1686.25      279000            44.1   \n",
       "15 Las Vegas             59150          1666.00      415000            27.5   \n",
       "16 Los Angeles           76445          3587.25      920000            59.0   \n",
       "17 Miami                 77732          3056.50      465000            54.2   \n",
       "18 Minneapolis-St. Paul  75164          1896.50      335000            54.4   \n",
       "19 Nashville             74035          1903.50      419900            43.5   \n",
       "20 New York              84084          4120.75      565000           100.0   \n",
       "21 Orlando               53959          2246.50      380000            32.4   \n",
       "22 Philadelphia          73291          2340.25      301250            55.1   \n",
       "23 Phoenix               61840          2182.25      449000            33.6   \n",
       "24 Pittsburgh            65792          1800.75      192500            57.2   \n",
       "25 Portland              69435          2333.00      515000            68.5   \n",
       "26 Sacramento            66940          2614.25      542000            40.4   \n",
       "27 San Antonio           55180          1463.00      297000            29.4   \n",
       "28 San Diego             74326          3400.25      860000            37.0   \n",
       "29 San Francisco        123736          3788.75     1065000            66.2   \n",
       "30 Seattle               92113          2946.00      665000            69.4   \n",
       "31 St. Louis             69698          1680.50      218000            43.5   \n",
       "32 Tampa                 60091          2207.50      365000            35.4   \n",
       "33 Virginia Beach        57873          1826.00      309750            34.5   \n",
       "34 Washington, DC        83010          2657.25      515000            72.6   \n",
       "   Unemployment Purchase_power_100_dollars Latitude Longitude\n",
       "1  3.0          100.89                     33.7490   -84.3880\n",
       "2  3.7           99.96                     30.2672   -97.7431\n",
       "3  2.8           95.23                     39.2904   -76.6122\n",
       "4  3.3           91.17                     42.3601   -71.0589\n",
       "5  3.6          103.52                     35.2271   -80.8431\n",
       "6  5.3           94.86                     41.8781   -87.6298\n",
       "7  4.1          106.00                     39.1031   -84.5120\n",
       "8  4.6          106.15                     41.4993   -81.6944\n",
       "9  4.2           96.29                     32.7767   -96.7970\n",
       "10 4.2           91.61                     39.7392  -104.9903\n",
       "11 4.0          104.05                     42.3314   -83.0458\n",
       "12 4.6          100.26                     29.7604   -95.3698\n",
       "13 3.7          105.23                     39.7684   -86.1581\n",
       "14 3.6          106.77                     39.0997   -94.5786\n",
       "15 5.2          104.66                     36.1699  -115.1398\n",
       "16 4.8           87.86                     34.0522  -118.2437\n",
       "17 2.5           90.97                     25.7617   -80.1918\n",
       "18 3.3           96.54                     44.9778   -93.2650\n",
       "19 2.2          104.68                     36.1627   -86.7816\n",
       "20 4.7           87.28                     40.7128   -74.0060\n",
       "21 3.2          100.19                     28.5383   -81.3792\n",
       "22 3.8          100.80                     39.9526   -75.1652\n",
       "23 3.3          100.83                     33.4484  -112.0740\n",
       "24 3.6          105.09                     40.4406   -79.9959\n",
       "25 4.8           94.90                     45.5051  -122.6750\n",
       "26 5.2           94.08                     38.5816  -121.4944\n",
       "27 4.1          103.76                     29.4241   -98.4936\n",
       "28 4.7           86.84                     32.7157  -117.1611\n",
       "29 4.4           83.45                     37.7749  -122.4194\n",
       "30 4.7           87.28                     47.6062  -122.3321\n",
       "31 4.0          103.90                     38.6270   -90.1994\n",
       "32 3.3          101.04                     27.9506   -82.4572\n",
       "33 3.0          102.26                     36.8529   -75.9780\n",
       "34 3.0           89.82                     38.9072   -77.0369"
      ]
     },
     "metadata": {},
     "output_type": "display_data"
    }
   ],
   "source": [
    "df <- merge(df, coordinates, by = \"REGION\")\n",
    "\n",
    "df"
   ]
  },
  {
   "cell_type": "code",
   "execution_count": 17,
   "metadata": {
    "vscode": {
     "languageId": "r"
    }
   },
   "outputs": [],
   "source": [
    "write.csv(df, file = \"../final_data/metro_data.csv\", row.names = FALSE)"
   ]
  },
  {
   "cell_type": "markdown",
   "metadata": {},
   "source": [
    "----"
   ]
  },
  {
   "cell_type": "markdown",
   "metadata": {},
   "source": [
    "## Cleaning up the column names"
   ]
  },
  {
   "cell_type": "code",
   "execution_count": 8,
   "metadata": {
    "vscode": {
     "languageId": "r"
    }
   },
   "outputs": [
    {
     "data": {
      "text/html": [
       "<table class=\"dataframe\">\n",
       "<caption>A data.frame: 6 × 13</caption>\n",
       "<thead>\n",
       "\t<tr><th></th><th scope=col>REGION</th><th scope=col>personal.income</th><th scope=col>Median.Rent</th><th scope=col>median.sale.price</th><th scope=col>Walkable</th><th scope=col>Unemployment</th><th scope=col>Purchase_power_100_dollars</th><th scope=col>Latitude</th><th scope=col>Longitude</th><th scope=col>Political_Affiliation</th><th scope=col>Year_Fahrenheit</th><th scope=col>Violent_Crime_Rate_per_100k</th><th scope=col>Non_Violent_Crime_Rate_per_100k</th></tr>\n",
       "\t<tr><th></th><th scope=col>&lt;chr&gt;</th><th scope=col>&lt;int&gt;</th><th scope=col>&lt;dbl&gt;</th><th scope=col>&lt;dbl&gt;</th><th scope=col>&lt;dbl&gt;</th><th scope=col>&lt;dbl&gt;</th><th scope=col>&lt;dbl&gt;</th><th scope=col>&lt;dbl&gt;</th><th scope=col>&lt;dbl&gt;</th><th scope=col>&lt;chr&gt;</th><th scope=col>&lt;dbl&gt;</th><th scope=col>&lt;dbl&gt;</th><th scope=col>&lt;dbl&gt;</th></tr>\n",
       "</thead>\n",
       "<tbody>\n",
       "\t<tr><th scope=row>1</th><td>Atlanta  </td><td>64107</td><td>2113.0</td><td>357000</td><td>49.4</td><td>3.0</td><td>100.89</td><td>33.7490</td><td>-84.3880</td><td>D</td><td>62.6</td><td>5727.52</td><td>4776.43</td></tr>\n",
       "\t<tr><th scope=row>2</th><td>Austin   </td><td>75119</td><td>1937.5</td><td>451250</td><td>50.0</td><td>3.7</td><td> 99.96</td><td>30.2672</td><td>-97.7431</td><td>D</td><td>69.3</td><td>3612.23</td><td>3189.57</td></tr>\n",
       "\t<tr><th scope=row>3</th><td>Baltimore</td><td>71420</td><td>1981.5</td><td>325500</td><td>44.7</td><td>2.8</td><td> 95.23</td><td>39.2904</td><td>-76.6122</td><td>D</td><td>55.6</td><td>6997.68</td><td>4928.11</td></tr>\n",
       "\t<tr><th scope=row>4</th><td>Boston   </td><td>94082</td><td>3939.5</td><td>600000</td><td>74.3</td><td>3.3</td><td> 91.17</td><td>42.3601</td><td>-71.0589</td><td>D</td><td>51.7</td><td>2758.22</td><td>2089.02</td></tr>\n",
       "\t<tr><th scope=row>5</th><td>Charlotte</td><td>65156</td><td>1923.5</td><td>365000</td><td>51.7</td><td>3.6</td><td>103.52</td><td>35.2271</td><td>-80.8431</td><td>D</td><td>60.9</td><td>3836.39</td><td>3815.18</td></tr>\n",
       "\t<tr><th scope=row>6</th><td>Chicago  </td><td>72512</td><td>2357.5</td><td>290000</td><td>65.9</td><td>5.3</td><td> 94.86</td><td>41.8781</td><td>-87.6298</td><td>D</td><td>49.7</td><td>4381.65</td><td>3263.80</td></tr>\n",
       "</tbody>\n",
       "</table>\n"
      ],
      "text/latex": [
       "A data.frame: 6 × 13\n",
       "\\begin{tabular}{r|lllllllllllll}\n",
       "  & REGION & personal.income & Median.Rent & median.sale.price & Walkable & Unemployment & Purchase\\_power\\_100\\_dollars & Latitude & Longitude & Political\\_Affiliation & Year\\_Fahrenheit & Violent\\_Crime\\_Rate\\_per\\_100k & Non\\_Violent\\_Crime\\_Rate\\_per\\_100k\\\\\n",
       "  & <chr> & <int> & <dbl> & <dbl> & <dbl> & <dbl> & <dbl> & <dbl> & <dbl> & <chr> & <dbl> & <dbl> & <dbl>\\\\\n",
       "\\hline\n",
       "\t1 & Atlanta   & 64107 & 2113.0 & 357000 & 49.4 & 3.0 & 100.89 & 33.7490 & -84.3880 & D & 62.6 & 5727.52 & 4776.43\\\\\n",
       "\t2 & Austin    & 75119 & 1937.5 & 451250 & 50.0 & 3.7 &  99.96 & 30.2672 & -97.7431 & D & 69.3 & 3612.23 & 3189.57\\\\\n",
       "\t3 & Baltimore & 71420 & 1981.5 & 325500 & 44.7 & 2.8 &  95.23 & 39.2904 & -76.6122 & D & 55.6 & 6997.68 & 4928.11\\\\\n",
       "\t4 & Boston    & 94082 & 3939.5 & 600000 & 74.3 & 3.3 &  91.17 & 42.3601 & -71.0589 & D & 51.7 & 2758.22 & 2089.02\\\\\n",
       "\t5 & Charlotte & 65156 & 1923.5 & 365000 & 51.7 & 3.6 & 103.52 & 35.2271 & -80.8431 & D & 60.9 & 3836.39 & 3815.18\\\\\n",
       "\t6 & Chicago   & 72512 & 2357.5 & 290000 & 65.9 & 5.3 &  94.86 & 41.8781 & -87.6298 & D & 49.7 & 4381.65 & 3263.80\\\\\n",
       "\\end{tabular}\n"
      ],
      "text/markdown": [
       "\n",
       "A data.frame: 6 × 13\n",
       "\n",
       "| <!--/--> | REGION &lt;chr&gt; | personal.income &lt;int&gt; | Median.Rent &lt;dbl&gt; | median.sale.price &lt;dbl&gt; | Walkable &lt;dbl&gt; | Unemployment &lt;dbl&gt; | Purchase_power_100_dollars &lt;dbl&gt; | Latitude &lt;dbl&gt; | Longitude &lt;dbl&gt; | Political_Affiliation &lt;chr&gt; | Year_Fahrenheit &lt;dbl&gt; | Violent_Crime_Rate_per_100k &lt;dbl&gt; | Non_Violent_Crime_Rate_per_100k &lt;dbl&gt; |\n",
       "|---|---|---|---|---|---|---|---|---|---|---|---|---|---|\n",
       "| 1 | Atlanta   | 64107 | 2113.0 | 357000 | 49.4 | 3.0 | 100.89 | 33.7490 | -84.3880 | D | 62.6 | 5727.52 | 4776.43 |\n",
       "| 2 | Austin    | 75119 | 1937.5 | 451250 | 50.0 | 3.7 |  99.96 | 30.2672 | -97.7431 | D | 69.3 | 3612.23 | 3189.57 |\n",
       "| 3 | Baltimore | 71420 | 1981.5 | 325500 | 44.7 | 2.8 |  95.23 | 39.2904 | -76.6122 | D | 55.6 | 6997.68 | 4928.11 |\n",
       "| 4 | Boston    | 94082 | 3939.5 | 600000 | 74.3 | 3.3 |  91.17 | 42.3601 | -71.0589 | D | 51.7 | 2758.22 | 2089.02 |\n",
       "| 5 | Charlotte | 65156 | 1923.5 | 365000 | 51.7 | 3.6 | 103.52 | 35.2271 | -80.8431 | D | 60.9 | 3836.39 | 3815.18 |\n",
       "| 6 | Chicago   | 72512 | 2357.5 | 290000 | 65.9 | 5.3 |  94.86 | 41.8781 | -87.6298 | D | 49.7 | 4381.65 | 3263.80 |\n",
       "\n"
      ],
      "text/plain": [
       "  REGION    personal.income Median.Rent median.sale.price Walkable Unemployment\n",
       "1 Atlanta   64107           2113.0      357000            49.4     3.0         \n",
       "2 Austin    75119           1937.5      451250            50.0     3.7         \n",
       "3 Baltimore 71420           1981.5      325500            44.7     2.8         \n",
       "4 Boston    94082           3939.5      600000            74.3     3.3         \n",
       "5 Charlotte 65156           1923.5      365000            51.7     3.6         \n",
       "6 Chicago   72512           2357.5      290000            65.9     5.3         \n",
       "  Purchase_power_100_dollars Latitude Longitude Political_Affiliation\n",
       "1 100.89                     33.7490  -84.3880  D                    \n",
       "2  99.96                     30.2672  -97.7431  D                    \n",
       "3  95.23                     39.2904  -76.6122  D                    \n",
       "4  91.17                     42.3601  -71.0589  D                    \n",
       "5 103.52                     35.2271  -80.8431  D                    \n",
       "6  94.86                     41.8781  -87.6298  D                    \n",
       "  Year_Fahrenheit Violent_Crime_Rate_per_100k Non_Violent_Crime_Rate_per_100k\n",
       "1 62.6            5727.52                     4776.43                        \n",
       "2 69.3            3612.23                     3189.57                        \n",
       "3 55.6            6997.68                     4928.11                        \n",
       "4 51.7            2758.22                     2089.02                        \n",
       "5 60.9            3836.39                     3815.18                        \n",
       "6 49.7            4381.65                     3263.80                        "
      ]
     },
     "metadata": {},
     "output_type": "display_data"
    }
   ],
   "source": [
    "df <- read.csv(\"../final_data/final_data.csv\")\n",
    "\n",
    "head(df)"
   ]
  },
  {
   "cell_type": "code",
   "execution_count": 9,
   "metadata": {
    "vscode": {
     "languageId": "r"
    }
   },
   "outputs": [
    {
     "data": {
      "text/html": [
       "<table class=\"dataframe\">\n",
       "<caption>A data.frame: 6 × 13</caption>\n",
       "<thead>\n",
       "\t<tr><th></th><th scope=col>REGION</th><th scope=col>personal.income</th><th scope=col>Median.Rent</th><th scope=col>median.sale.price</th><th scope=col>Walkable</th><th scope=col>Unemployment</th><th scope=col>Purchase_power_100_dollars</th><th scope=col>Latitude</th><th scope=col>Longitude</th><th scope=col>Political_Affiliation</th><th scope=col>Year_Fahrenheit</th><th scope=col>Violent_Crime_Rate_per_100k</th><th scope=col>Non_Violent_Crime_Rate_per_100k</th></tr>\n",
       "\t<tr><th></th><th scope=col>&lt;chr&gt;</th><th scope=col>&lt;int&gt;</th><th scope=col>&lt;dbl&gt;</th><th scope=col>&lt;dbl&gt;</th><th scope=col>&lt;dbl&gt;</th><th scope=col>&lt;dbl&gt;</th><th scope=col>&lt;dbl&gt;</th><th scope=col>&lt;dbl&gt;</th><th scope=col>&lt;dbl&gt;</th><th scope=col>&lt;chr&gt;</th><th scope=col>&lt;dbl&gt;</th><th scope=col>&lt;dbl&gt;</th><th scope=col>&lt;dbl&gt;</th></tr>\n",
       "</thead>\n",
       "<tbody>\n",
       "\t<tr><th scope=row>1</th><td>Atlanta  </td><td>64107</td><td>2113.0</td><td>357000</td><td>49.4</td><td>3.0</td><td>100.89</td><td>33.7490</td><td>-84.3880</td><td>Democrat</td><td>62.6</td><td>5727.52</td><td>4776.43</td></tr>\n",
       "\t<tr><th scope=row>2</th><td>Austin   </td><td>75119</td><td>1937.5</td><td>451250</td><td>50.0</td><td>3.7</td><td> 99.96</td><td>30.2672</td><td>-97.7431</td><td>Democrat</td><td>69.3</td><td>3612.23</td><td>3189.57</td></tr>\n",
       "\t<tr><th scope=row>3</th><td>Baltimore</td><td>71420</td><td>1981.5</td><td>325500</td><td>44.7</td><td>2.8</td><td> 95.23</td><td>39.2904</td><td>-76.6122</td><td>Democrat</td><td>55.6</td><td>6997.68</td><td>4928.11</td></tr>\n",
       "\t<tr><th scope=row>4</th><td>Boston   </td><td>94082</td><td>3939.5</td><td>600000</td><td>74.3</td><td>3.3</td><td> 91.17</td><td>42.3601</td><td>-71.0589</td><td>Democrat</td><td>51.7</td><td>2758.22</td><td>2089.02</td></tr>\n",
       "\t<tr><th scope=row>5</th><td>Charlotte</td><td>65156</td><td>1923.5</td><td>365000</td><td>51.7</td><td>3.6</td><td>103.52</td><td>35.2271</td><td>-80.8431</td><td>Democrat</td><td>60.9</td><td>3836.39</td><td>3815.18</td></tr>\n",
       "\t<tr><th scope=row>6</th><td>Chicago  </td><td>72512</td><td>2357.5</td><td>290000</td><td>65.9</td><td>5.3</td><td> 94.86</td><td>41.8781</td><td>-87.6298</td><td>Democrat</td><td>49.7</td><td>4381.65</td><td>3263.80</td></tr>\n",
       "</tbody>\n",
       "</table>\n"
      ],
      "text/latex": [
       "A data.frame: 6 × 13\n",
       "\\begin{tabular}{r|lllllllllllll}\n",
       "  & REGION & personal.income & Median.Rent & median.sale.price & Walkable & Unemployment & Purchase\\_power\\_100\\_dollars & Latitude & Longitude & Political\\_Affiliation & Year\\_Fahrenheit & Violent\\_Crime\\_Rate\\_per\\_100k & Non\\_Violent\\_Crime\\_Rate\\_per\\_100k\\\\\n",
       "  & <chr> & <int> & <dbl> & <dbl> & <dbl> & <dbl> & <dbl> & <dbl> & <dbl> & <chr> & <dbl> & <dbl> & <dbl>\\\\\n",
       "\\hline\n",
       "\t1 & Atlanta   & 64107 & 2113.0 & 357000 & 49.4 & 3.0 & 100.89 & 33.7490 & -84.3880 & Democrat & 62.6 & 5727.52 & 4776.43\\\\\n",
       "\t2 & Austin    & 75119 & 1937.5 & 451250 & 50.0 & 3.7 &  99.96 & 30.2672 & -97.7431 & Democrat & 69.3 & 3612.23 & 3189.57\\\\\n",
       "\t3 & Baltimore & 71420 & 1981.5 & 325500 & 44.7 & 2.8 &  95.23 & 39.2904 & -76.6122 & Democrat & 55.6 & 6997.68 & 4928.11\\\\\n",
       "\t4 & Boston    & 94082 & 3939.5 & 600000 & 74.3 & 3.3 &  91.17 & 42.3601 & -71.0589 & Democrat & 51.7 & 2758.22 & 2089.02\\\\\n",
       "\t5 & Charlotte & 65156 & 1923.5 & 365000 & 51.7 & 3.6 & 103.52 & 35.2271 & -80.8431 & Democrat & 60.9 & 3836.39 & 3815.18\\\\\n",
       "\t6 & Chicago   & 72512 & 2357.5 & 290000 & 65.9 & 5.3 &  94.86 & 41.8781 & -87.6298 & Democrat & 49.7 & 4381.65 & 3263.80\\\\\n",
       "\\end{tabular}\n"
      ],
      "text/markdown": [
       "\n",
       "A data.frame: 6 × 13\n",
       "\n",
       "| <!--/--> | REGION &lt;chr&gt; | personal.income &lt;int&gt; | Median.Rent &lt;dbl&gt; | median.sale.price &lt;dbl&gt; | Walkable &lt;dbl&gt; | Unemployment &lt;dbl&gt; | Purchase_power_100_dollars &lt;dbl&gt; | Latitude &lt;dbl&gt; | Longitude &lt;dbl&gt; | Political_Affiliation &lt;chr&gt; | Year_Fahrenheit &lt;dbl&gt; | Violent_Crime_Rate_per_100k &lt;dbl&gt; | Non_Violent_Crime_Rate_per_100k &lt;dbl&gt; |\n",
       "|---|---|---|---|---|---|---|---|---|---|---|---|---|---|\n",
       "| 1 | Atlanta   | 64107 | 2113.0 | 357000 | 49.4 | 3.0 | 100.89 | 33.7490 | -84.3880 | Democrat | 62.6 | 5727.52 | 4776.43 |\n",
       "| 2 | Austin    | 75119 | 1937.5 | 451250 | 50.0 | 3.7 |  99.96 | 30.2672 | -97.7431 | Democrat | 69.3 | 3612.23 | 3189.57 |\n",
       "| 3 | Baltimore | 71420 | 1981.5 | 325500 | 44.7 | 2.8 |  95.23 | 39.2904 | -76.6122 | Democrat | 55.6 | 6997.68 | 4928.11 |\n",
       "| 4 | Boston    | 94082 | 3939.5 | 600000 | 74.3 | 3.3 |  91.17 | 42.3601 | -71.0589 | Democrat | 51.7 | 2758.22 | 2089.02 |\n",
       "| 5 | Charlotte | 65156 | 1923.5 | 365000 | 51.7 | 3.6 | 103.52 | 35.2271 | -80.8431 | Democrat | 60.9 | 3836.39 | 3815.18 |\n",
       "| 6 | Chicago   | 72512 | 2357.5 | 290000 | 65.9 | 5.3 |  94.86 | 41.8781 | -87.6298 | Democrat | 49.7 | 4381.65 | 3263.80 |\n",
       "\n"
      ],
      "text/plain": [
       "  REGION    personal.income Median.Rent median.sale.price Walkable Unemployment\n",
       "1 Atlanta   64107           2113.0      357000            49.4     3.0         \n",
       "2 Austin    75119           1937.5      451250            50.0     3.7         \n",
       "3 Baltimore 71420           1981.5      325500            44.7     2.8         \n",
       "4 Boston    94082           3939.5      600000            74.3     3.3         \n",
       "5 Charlotte 65156           1923.5      365000            51.7     3.6         \n",
       "6 Chicago   72512           2357.5      290000            65.9     5.3         \n",
       "  Purchase_power_100_dollars Latitude Longitude Political_Affiliation\n",
       "1 100.89                     33.7490  -84.3880  Democrat             \n",
       "2  99.96                     30.2672  -97.7431  Democrat             \n",
       "3  95.23                     39.2904  -76.6122  Democrat             \n",
       "4  91.17                     42.3601  -71.0589  Democrat             \n",
       "5 103.52                     35.2271  -80.8431  Democrat             \n",
       "6  94.86                     41.8781  -87.6298  Democrat             \n",
       "  Year_Fahrenheit Violent_Crime_Rate_per_100k Non_Violent_Crime_Rate_per_100k\n",
       "1 62.6            5727.52                     4776.43                        \n",
       "2 69.3            3612.23                     3189.57                        \n",
       "3 55.6            6997.68                     4928.11                        \n",
       "4 51.7            2758.22                     2089.02                        \n",
       "5 60.9            3836.39                     3815.18                        \n",
       "6 49.7            4381.65                     3263.80                        "
      ]
     },
     "metadata": {},
     "output_type": "display_data"
    }
   ],
   "source": [
    "df$Political_Affiliation <- gsub(\"D\", \"Democrat\", df$Political_Affiliation)\n",
    "df$Political_Affiliation <- gsub(\"R\", \"Republican\", df$Political_Affiliation)\n",
    "df$Political_Affiliation <- gsub(\"I\", \"Independent\", df$Political_Affiliation)\n",
    "\n",
    "head(df)"
   ]
  },
  {
   "cell_type": "code",
   "execution_count": 10,
   "metadata": {
    "vscode": {
     "languageId": "r"
    }
   },
   "outputs": [
    {
     "data": {
      "text/html": [
       "<style>\n",
       ".list-inline {list-style: none; margin:0; padding: 0}\n",
       ".list-inline>li {display: inline-block}\n",
       ".list-inline>li:not(:last-child)::after {content: \"\\00b7\"; padding: 0 .5ex}\n",
       "</style>\n",
       "<ol class=list-inline><li>'REGION'</li><li>'personal.income'</li><li>'Median.Rent'</li><li>'median.sale.price'</li><li>'Walkable'</li><li>'Unemployment'</li><li>'Purchase_power_100_dollars'</li><li>'Latitude'</li><li>'Longitude'</li><li>'Political_Affiliation'</li><li>'Year_Fahrenheit'</li><li>'Violent_Crime_Rate_per_100k'</li><li>'Non_Violent_Crime_Rate_per_100k'</li></ol>\n"
      ],
      "text/latex": [
       "\\begin{enumerate*}\n",
       "\\item 'REGION'\n",
       "\\item 'personal.income'\n",
       "\\item 'Median.Rent'\n",
       "\\item 'median.sale.price'\n",
       "\\item 'Walkable'\n",
       "\\item 'Unemployment'\n",
       "\\item 'Purchase\\_power\\_100\\_dollars'\n",
       "\\item 'Latitude'\n",
       "\\item 'Longitude'\n",
       "\\item 'Political\\_Affiliation'\n",
       "\\item 'Year\\_Fahrenheit'\n",
       "\\item 'Violent\\_Crime\\_Rate\\_per\\_100k'\n",
       "\\item 'Non\\_Violent\\_Crime\\_Rate\\_per\\_100k'\n",
       "\\end{enumerate*}\n"
      ],
      "text/markdown": [
       "1. 'REGION'\n",
       "2. 'personal.income'\n",
       "3. 'Median.Rent'\n",
       "4. 'median.sale.price'\n",
       "5. 'Walkable'\n",
       "6. 'Unemployment'\n",
       "7. 'Purchase_power_100_dollars'\n",
       "8. 'Latitude'\n",
       "9. 'Longitude'\n",
       "10. 'Political_Affiliation'\n",
       "11. 'Year_Fahrenheit'\n",
       "12. 'Violent_Crime_Rate_per_100k'\n",
       "13. 'Non_Violent_Crime_Rate_per_100k'\n",
       "\n",
       "\n"
      ],
      "text/plain": [
       " [1] \"REGION\"                          \"personal.income\"                \n",
       " [3] \"Median.Rent\"                     \"median.sale.price\"              \n",
       " [5] \"Walkable\"                        \"Unemployment\"                   \n",
       " [7] \"Purchase_power_100_dollars\"      \"Latitude\"                       \n",
       " [9] \"Longitude\"                       \"Political_Affiliation\"          \n",
       "[11] \"Year_Fahrenheit\"                 \"Violent_Crime_Rate_per_100k\"    \n",
       "[13] \"Non_Violent_Crime_Rate_per_100k\""
      ]
     },
     "metadata": {},
     "output_type": "display_data"
    },
    {
     "data": {
      "text/html": [
       "<table class=\"dataframe\">\n",
       "<caption>A data.frame: 34 × 13</caption>\n",
       "<thead>\n",
       "\t<tr><th scope=col>Region</th><th scope=col>Personal Income</th><th scope=col>Median Rent</th><th scope=col>Median Sale Price</th><th scope=col>Walkability</th><th scope=col>Unemployment</th><th scope=col>Purchasing Power</th><th scope=col>Latitude</th><th scope=col>Longitude</th><th scope=col>Political Affiliation</th><th scope=col>Average Yearly Temperature(F)</th><th scope=col>Violent Crime Rate</th><th scope=col>Non-Violent Crime Rate</th></tr>\n",
       "\t<tr><th scope=col>&lt;chr&gt;</th><th scope=col>&lt;int&gt;</th><th scope=col>&lt;dbl&gt;</th><th scope=col>&lt;dbl&gt;</th><th scope=col>&lt;dbl&gt;</th><th scope=col>&lt;dbl&gt;</th><th scope=col>&lt;dbl&gt;</th><th scope=col>&lt;dbl&gt;</th><th scope=col>&lt;dbl&gt;</th><th scope=col>&lt;chr&gt;</th><th scope=col>&lt;dbl&gt;</th><th scope=col>&lt;dbl&gt;</th><th scope=col>&lt;dbl&gt;</th></tr>\n",
       "</thead>\n",
       "<tbody>\n",
       "\t<tr><td>Atlanta             </td><td> 64107</td><td>2113.00</td><td> 357000</td><td> 49.4</td><td>3.0</td><td>100.89</td><td>33.7490</td><td> -84.3880</td><td>Democrat   </td><td>62.6</td><td>5727.52</td><td>4776.43</td></tr>\n",
       "\t<tr><td>Austin              </td><td> 75119</td><td>1937.50</td><td> 451250</td><td> 50.0</td><td>3.7</td><td> 99.96</td><td>30.2672</td><td> -97.7431</td><td>Democrat   </td><td>69.3</td><td>3612.23</td><td>3189.57</td></tr>\n",
       "\t<tr><td>Baltimore           </td><td> 71420</td><td>1981.50</td><td> 325500</td><td> 44.7</td><td>2.8</td><td> 95.23</td><td>39.2904</td><td> -76.6122</td><td>Democrat   </td><td>55.6</td><td>6997.68</td><td>4928.11</td></tr>\n",
       "\t<tr><td>Boston              </td><td> 94082</td><td>3939.50</td><td> 600000</td><td> 74.3</td><td>3.3</td><td> 91.17</td><td>42.3601</td><td> -71.0589</td><td>Democrat   </td><td>51.7</td><td>2758.22</td><td>2089.02</td></tr>\n",
       "\t<tr><td>Charlotte           </td><td> 65156</td><td>1923.50</td><td> 365000</td><td> 51.7</td><td>3.6</td><td>103.52</td><td>35.2271</td><td> -80.8431</td><td>Democrat   </td><td>60.9</td><td>3836.39</td><td>3815.18</td></tr>\n",
       "\t<tr><td>Chicago             </td><td> 72512</td><td>2357.50</td><td> 290000</td><td> 65.9</td><td>5.3</td><td> 94.86</td><td>41.8781</td><td> -87.6298</td><td>Democrat   </td><td>49.7</td><td>4381.65</td><td>3263.80</td></tr>\n",
       "\t<tr><td>Cincinnati          </td><td> 65253</td><td>1646.00</td><td> 247000</td><td> 40.0</td><td>4.1</td><td>106.00</td><td>39.1031</td><td> -84.5120</td><td>Democrat   </td><td>56.5</td><td>5997.00</td><td>5049.88</td></tr>\n",
       "\t<tr><td>Cleveland           </td><td> 62921</td><td>1471.25</td><td> 179000</td><td> 47.0</td><td>4.6</td><td>106.15</td><td>41.4993</td><td> -81.6944</td><td>Democrat   </td><td>51.5</td><td>6538.45</td><td>4916.04</td></tr>\n",
       "\t<tr><td>Dallas-Fort Worth   </td><td> 70493</td><td>2180.00</td><td> 380000</td><td> 38.9</td><td>4.2</td><td> 96.29</td><td>32.7767</td><td> -96.7970</td><td>Republican </td><td>66.2</td><td>3985.95</td><td>3185.09</td></tr>\n",
       "\t<tr><td>Denver              </td><td> 84788</td><td>2677.00</td><td> 556000</td><td> 48.7</td><td>4.2</td><td> 91.61</td><td>39.7392</td><td>-104.9903</td><td>Democrat   </td><td>50.7</td><td>4360.93</td><td>3667.06</td></tr>\n",
       "\t<tr><td>Detroit             </td><td> 61322</td><td>1619.75</td><td> 230000</td><td> 39.2</td><td>4.0</td><td>104.05</td><td>42.3314</td><td> -83.0458</td><td>Democrat   </td><td>50.0</td><td>6726.82</td><td>4540.60</td></tr>\n",
       "\t<tr><td>Houston             </td><td> 68344</td><td>1578.00</td><td> 325000</td><td> 46.6</td><td>4.6</td><td>100.26</td><td>29.7604</td><td> -95.3698</td><td>Democrat   </td><td>69.4</td><td>5252.08</td><td>4128.41</td></tr>\n",
       "\t<tr><td>Indianapolis        </td><td> 68719</td><td>1563.50</td><td> 250000</td><td> 36.4</td><td>3.7</td><td>105.23</td><td>39.7684</td><td> -86.1581</td><td>Democrat   </td><td>53.2</td><td>5775.23</td><td>4411.87</td></tr>\n",
       "\t<tr><td>Kansas City         </td><td> 63417</td><td>1686.25</td><td> 279000</td><td> 44.1</td><td>3.6</td><td>106.77</td><td>39.0997</td><td> -94.5786</td><td>Democrat   </td><td>54.5</td><td>6309.55</td><td>4543.79</td></tr>\n",
       "\t<tr><td>Las Vegas           </td><td> 59150</td><td>1666.00</td><td> 415000</td><td> 27.5</td><td>5.2</td><td>104.66</td><td>36.1699</td><td>-115.1398</td><td>Nonpartisan</td><td>68.5</td><td>3567.87</td><td>2943.38</td></tr>\n",
       "\t<tr><td>Los Angeles         </td><td> 76445</td><td>3587.25</td><td> 920000</td><td> 59.0</td><td>4.8</td><td> 87.86</td><td>34.0522</td><td>-118.2437</td><td>Democrat   </td><td>65.4</td><td>3332.52</td><td>2535.92</td></tr>\n",
       "\t<tr><td>Miami               </td><td> 77732</td><td>3056.50</td><td> 465000</td><td> 54.2</td><td>2.5</td><td> 90.97</td><td>25.7617</td><td> -80.1918</td><td>Republican </td><td>76.9</td><td>4750.89</td><td>4014.18</td></tr>\n",
       "\t<tr><td>Minneapolis-St. Paul</td><td> 75164</td><td>1896.50</td><td> 335000</td><td> 54.4</td><td>3.3</td><td> 96.54</td><td>44.9778</td><td> -93.2650</td><td>Democrat   </td><td>46.1</td><td>5768.18</td><td>4641.37</td></tr>\n",
       "\t<tr><td>Nashville           </td><td> 74035</td><td>1903.50</td><td> 419900</td><td> 43.5</td><td>2.2</td><td>104.68</td><td>36.1627</td><td> -86.7816</td><td>Democrat   </td><td>59.8</td><td>4966.50</td><td>3817.96</td></tr>\n",
       "\t<tr><td>New York            </td><td> 84084</td><td>4120.75</td><td> 565000</td><td>100.0</td><td>4.7</td><td> 87.28</td><td>40.7128</td><td> -74.0060</td><td>Democrat   </td><td>55.3</td><td>1987.49</td><td>1448.59</td></tr>\n",
       "\t<tr><td>Orlando             </td><td> 53959</td><td>2246.50</td><td> 380000</td><td> 32.4</td><td>3.2</td><td>100.19</td><td>28.5383</td><td> -81.3792</td><td>Democrat   </td><td>73.5</td><td>6206.38</td><td>5454.57</td></tr>\n",
       "\t<tr><td>Philadelphia        </td><td> 73291</td><td>2340.25</td><td> 301250</td><td> 55.1</td><td>3.8</td><td>100.80</td><td>39.9526</td><td> -75.1652</td><td>Democrat   </td><td>55.8</td><td>4037.27</td><td>3063.48</td></tr>\n",
       "\t<tr><td>Phoenix             </td><td> 61840</td><td>2182.25</td><td> 449000</td><td> 33.6</td><td>3.3</td><td>100.83</td><td>33.4484</td><td>-112.0740</td><td>Democrat   </td><td>75.0</td><td>4443.20</td><td>3670.71</td></tr>\n",
       "\t<tr><td>Pittsburgh          </td><td> 65792</td><td>1800.75</td><td> 192500</td><td> 57.2</td><td>3.6</td><td>105.09</td><td>40.4406</td><td> -79.9959</td><td>Democrat   </td><td>51.4</td><td>3815.23</td><td>3114.42</td></tr>\n",
       "\t<tr><td>Portland            </td><td> 69435</td><td>2333.00</td><td> 515000</td><td> 68.5</td><td>4.8</td><td> 94.90</td><td>45.5051</td><td>-122.6750</td><td>Democrat   </td><td>54.4</td><td>6239.99</td><td>5677.02</td></tr>\n",
       "\t<tr><td>Sacramento          </td><td> 66940</td><td>2614.25</td><td> 542000</td><td> 40.4</td><td>5.2</td><td> 94.08</td><td>38.5816</td><td>-121.4944</td><td>Democrat   </td><td>61.3</td><td>3654.02</td><td>2936.62</td></tr>\n",
       "\t<tr><td>San Antonio         </td><td> 55180</td><td>1463.00</td><td> 297000</td><td> 29.4</td><td>4.1</td><td>103.76</td><td>29.4241</td><td> -98.4936</td><td>Independent</td><td>69.5</td><td>5565.95</td><td>4844.84</td></tr>\n",
       "\t<tr><td>San Diego           </td><td> 74326</td><td>3400.25</td><td> 860000</td><td> 37.0</td><td>4.7</td><td> 86.84</td><td>32.7157</td><td>-117.1611</td><td>Democrat   </td><td>64.1</td><td>2220.67</td><td>1842.97</td></tr>\n",
       "\t<tr><td>San Francisco       </td><td>123736</td><td>3788.75</td><td>1065000</td><td> 66.2</td><td>4.4</td><td> 83.45</td><td>37.7749</td><td>-122.4194</td><td>Democrat   </td><td>59.5</td><td>6917.40</td><td>6168.02</td></tr>\n",
       "\t<tr><td>Seattle             </td><td> 92113</td><td>2946.00</td><td> 665000</td><td> 69.4</td><td>4.7</td><td> 87.28</td><td>47.6062</td><td>-122.3321</td><td>Democrat   </td><td>52.4</td><td>5911.99</td><td>5258.64</td></tr>\n",
       "\t<tr><td>St. Louis           </td><td> 69698</td><td>1680.50</td><td> 218000</td><td> 43.5</td><td>4.0</td><td>103.90</td><td>38.6270</td><td> -90.1994</td><td>Democrat   </td><td>57.0</td><td>8188.31</td><td>6041.24</td></tr>\n",
       "\t<tr><td>Tampa               </td><td> 60091</td><td>2207.50</td><td> 365000</td><td> 35.4</td><td>3.3</td><td>101.04</td><td>27.9506</td><td> -82.4572</td><td>Democrat   </td><td>73.2</td><td>2218.24</td><td>1743.68</td></tr>\n",
       "\t<tr><td>Virginia Beach      </td><td> 57873</td><td>1826.00</td><td> 309750</td><td> 34.5</td><td>3.0</td><td>102.26</td><td>36.8529</td><td> -75.9780</td><td>Republican </td><td>65.0</td><td>2083.40</td><td>1934.62</td></tr>\n",
       "\t<tr><td>Washington, DC      </td><td> 83010</td><td>2657.25</td><td> 515000</td><td> 72.6</td><td>3.0</td><td> 89.82</td><td>38.9072</td><td> -77.0369</td><td>Democrat   </td><td>58.2</td><td>5104.96</td><td>4156.22</td></tr>\n",
       "</tbody>\n",
       "</table>\n"
      ],
      "text/latex": [
       "A data.frame: 34 × 13\n",
       "\\begin{tabular}{lllllllllllll}\n",
       " Region & Personal Income & Median Rent & Median Sale Price & Walkability & Unemployment & Purchasing Power & Latitude & Longitude & Political Affiliation & Average Yearly Temperature(F) & Violent Crime Rate & Non-Violent Crime Rate\\\\\n",
       " <chr> & <int> & <dbl> & <dbl> & <dbl> & <dbl> & <dbl> & <dbl> & <dbl> & <chr> & <dbl> & <dbl> & <dbl>\\\\\n",
       "\\hline\n",
       "\t Atlanta              &  64107 & 2113.00 &  357000 &  49.4 & 3.0 & 100.89 & 33.7490 &  -84.3880 & Democrat    & 62.6 & 5727.52 & 4776.43\\\\\n",
       "\t Austin               &  75119 & 1937.50 &  451250 &  50.0 & 3.7 &  99.96 & 30.2672 &  -97.7431 & Democrat    & 69.3 & 3612.23 & 3189.57\\\\\n",
       "\t Baltimore            &  71420 & 1981.50 &  325500 &  44.7 & 2.8 &  95.23 & 39.2904 &  -76.6122 & Democrat    & 55.6 & 6997.68 & 4928.11\\\\\n",
       "\t Boston               &  94082 & 3939.50 &  600000 &  74.3 & 3.3 &  91.17 & 42.3601 &  -71.0589 & Democrat    & 51.7 & 2758.22 & 2089.02\\\\\n",
       "\t Charlotte            &  65156 & 1923.50 &  365000 &  51.7 & 3.6 & 103.52 & 35.2271 &  -80.8431 & Democrat    & 60.9 & 3836.39 & 3815.18\\\\\n",
       "\t Chicago              &  72512 & 2357.50 &  290000 &  65.9 & 5.3 &  94.86 & 41.8781 &  -87.6298 & Democrat    & 49.7 & 4381.65 & 3263.80\\\\\n",
       "\t Cincinnati           &  65253 & 1646.00 &  247000 &  40.0 & 4.1 & 106.00 & 39.1031 &  -84.5120 & Democrat    & 56.5 & 5997.00 & 5049.88\\\\\n",
       "\t Cleveland            &  62921 & 1471.25 &  179000 &  47.0 & 4.6 & 106.15 & 41.4993 &  -81.6944 & Democrat    & 51.5 & 6538.45 & 4916.04\\\\\n",
       "\t Dallas-Fort Worth    &  70493 & 2180.00 &  380000 &  38.9 & 4.2 &  96.29 & 32.7767 &  -96.7970 & Republican  & 66.2 & 3985.95 & 3185.09\\\\\n",
       "\t Denver               &  84788 & 2677.00 &  556000 &  48.7 & 4.2 &  91.61 & 39.7392 & -104.9903 & Democrat    & 50.7 & 4360.93 & 3667.06\\\\\n",
       "\t Detroit              &  61322 & 1619.75 &  230000 &  39.2 & 4.0 & 104.05 & 42.3314 &  -83.0458 & Democrat    & 50.0 & 6726.82 & 4540.60\\\\\n",
       "\t Houston              &  68344 & 1578.00 &  325000 &  46.6 & 4.6 & 100.26 & 29.7604 &  -95.3698 & Democrat    & 69.4 & 5252.08 & 4128.41\\\\\n",
       "\t Indianapolis         &  68719 & 1563.50 &  250000 &  36.4 & 3.7 & 105.23 & 39.7684 &  -86.1581 & Democrat    & 53.2 & 5775.23 & 4411.87\\\\\n",
       "\t Kansas City          &  63417 & 1686.25 &  279000 &  44.1 & 3.6 & 106.77 & 39.0997 &  -94.5786 & Democrat    & 54.5 & 6309.55 & 4543.79\\\\\n",
       "\t Las Vegas            &  59150 & 1666.00 &  415000 &  27.5 & 5.2 & 104.66 & 36.1699 & -115.1398 & Nonpartisan & 68.5 & 3567.87 & 2943.38\\\\\n",
       "\t Los Angeles          &  76445 & 3587.25 &  920000 &  59.0 & 4.8 &  87.86 & 34.0522 & -118.2437 & Democrat    & 65.4 & 3332.52 & 2535.92\\\\\n",
       "\t Miami                &  77732 & 3056.50 &  465000 &  54.2 & 2.5 &  90.97 & 25.7617 &  -80.1918 & Republican  & 76.9 & 4750.89 & 4014.18\\\\\n",
       "\t Minneapolis-St. Paul &  75164 & 1896.50 &  335000 &  54.4 & 3.3 &  96.54 & 44.9778 &  -93.2650 & Democrat    & 46.1 & 5768.18 & 4641.37\\\\\n",
       "\t Nashville            &  74035 & 1903.50 &  419900 &  43.5 & 2.2 & 104.68 & 36.1627 &  -86.7816 & Democrat    & 59.8 & 4966.50 & 3817.96\\\\\n",
       "\t New York             &  84084 & 4120.75 &  565000 & 100.0 & 4.7 &  87.28 & 40.7128 &  -74.0060 & Democrat    & 55.3 & 1987.49 & 1448.59\\\\\n",
       "\t Orlando              &  53959 & 2246.50 &  380000 &  32.4 & 3.2 & 100.19 & 28.5383 &  -81.3792 & Democrat    & 73.5 & 6206.38 & 5454.57\\\\\n",
       "\t Philadelphia         &  73291 & 2340.25 &  301250 &  55.1 & 3.8 & 100.80 & 39.9526 &  -75.1652 & Democrat    & 55.8 & 4037.27 & 3063.48\\\\\n",
       "\t Phoenix              &  61840 & 2182.25 &  449000 &  33.6 & 3.3 & 100.83 & 33.4484 & -112.0740 & Democrat    & 75.0 & 4443.20 & 3670.71\\\\\n",
       "\t Pittsburgh           &  65792 & 1800.75 &  192500 &  57.2 & 3.6 & 105.09 & 40.4406 &  -79.9959 & Democrat    & 51.4 & 3815.23 & 3114.42\\\\\n",
       "\t Portland             &  69435 & 2333.00 &  515000 &  68.5 & 4.8 &  94.90 & 45.5051 & -122.6750 & Democrat    & 54.4 & 6239.99 & 5677.02\\\\\n",
       "\t Sacramento           &  66940 & 2614.25 &  542000 &  40.4 & 5.2 &  94.08 & 38.5816 & -121.4944 & Democrat    & 61.3 & 3654.02 & 2936.62\\\\\n",
       "\t San Antonio          &  55180 & 1463.00 &  297000 &  29.4 & 4.1 & 103.76 & 29.4241 &  -98.4936 & Independent & 69.5 & 5565.95 & 4844.84\\\\\n",
       "\t San Diego            &  74326 & 3400.25 &  860000 &  37.0 & 4.7 &  86.84 & 32.7157 & -117.1611 & Democrat    & 64.1 & 2220.67 & 1842.97\\\\\n",
       "\t San Francisco        & 123736 & 3788.75 & 1065000 &  66.2 & 4.4 &  83.45 & 37.7749 & -122.4194 & Democrat    & 59.5 & 6917.40 & 6168.02\\\\\n",
       "\t Seattle              &  92113 & 2946.00 &  665000 &  69.4 & 4.7 &  87.28 & 47.6062 & -122.3321 & Democrat    & 52.4 & 5911.99 & 5258.64\\\\\n",
       "\t St. Louis            &  69698 & 1680.50 &  218000 &  43.5 & 4.0 & 103.90 & 38.6270 &  -90.1994 & Democrat    & 57.0 & 8188.31 & 6041.24\\\\\n",
       "\t Tampa                &  60091 & 2207.50 &  365000 &  35.4 & 3.3 & 101.04 & 27.9506 &  -82.4572 & Democrat    & 73.2 & 2218.24 & 1743.68\\\\\n",
       "\t Virginia Beach       &  57873 & 1826.00 &  309750 &  34.5 & 3.0 & 102.26 & 36.8529 &  -75.9780 & Republican  & 65.0 & 2083.40 & 1934.62\\\\\n",
       "\t Washington, DC       &  83010 & 2657.25 &  515000 &  72.6 & 3.0 &  89.82 & 38.9072 &  -77.0369 & Democrat    & 58.2 & 5104.96 & 4156.22\\\\\n",
       "\\end{tabular}\n"
      ],
      "text/markdown": [
       "\n",
       "A data.frame: 34 × 13\n",
       "\n",
       "| Region &lt;chr&gt; | Personal Income &lt;int&gt; | Median Rent &lt;dbl&gt; | Median Sale Price &lt;dbl&gt; | Walkability &lt;dbl&gt; | Unemployment &lt;dbl&gt; | Purchasing Power &lt;dbl&gt; | Latitude &lt;dbl&gt; | Longitude &lt;dbl&gt; | Political Affiliation &lt;chr&gt; | Average Yearly Temperature(F) &lt;dbl&gt; | Violent Crime Rate &lt;dbl&gt; | Non-Violent Crime Rate &lt;dbl&gt; |\n",
       "|---|---|---|---|---|---|---|---|---|---|---|---|---|\n",
       "| Atlanta              |  64107 | 2113.00 |  357000 |  49.4 | 3.0 | 100.89 | 33.7490 |  -84.3880 | Democrat    | 62.6 | 5727.52 | 4776.43 |\n",
       "| Austin               |  75119 | 1937.50 |  451250 |  50.0 | 3.7 |  99.96 | 30.2672 |  -97.7431 | Democrat    | 69.3 | 3612.23 | 3189.57 |\n",
       "| Baltimore            |  71420 | 1981.50 |  325500 |  44.7 | 2.8 |  95.23 | 39.2904 |  -76.6122 | Democrat    | 55.6 | 6997.68 | 4928.11 |\n",
       "| Boston               |  94082 | 3939.50 |  600000 |  74.3 | 3.3 |  91.17 | 42.3601 |  -71.0589 | Democrat    | 51.7 | 2758.22 | 2089.02 |\n",
       "| Charlotte            |  65156 | 1923.50 |  365000 |  51.7 | 3.6 | 103.52 | 35.2271 |  -80.8431 | Democrat    | 60.9 | 3836.39 | 3815.18 |\n",
       "| Chicago              |  72512 | 2357.50 |  290000 |  65.9 | 5.3 |  94.86 | 41.8781 |  -87.6298 | Democrat    | 49.7 | 4381.65 | 3263.80 |\n",
       "| Cincinnati           |  65253 | 1646.00 |  247000 |  40.0 | 4.1 | 106.00 | 39.1031 |  -84.5120 | Democrat    | 56.5 | 5997.00 | 5049.88 |\n",
       "| Cleveland            |  62921 | 1471.25 |  179000 |  47.0 | 4.6 | 106.15 | 41.4993 |  -81.6944 | Democrat    | 51.5 | 6538.45 | 4916.04 |\n",
       "| Dallas-Fort Worth    |  70493 | 2180.00 |  380000 |  38.9 | 4.2 |  96.29 | 32.7767 |  -96.7970 | Republican  | 66.2 | 3985.95 | 3185.09 |\n",
       "| Denver               |  84788 | 2677.00 |  556000 |  48.7 | 4.2 |  91.61 | 39.7392 | -104.9903 | Democrat    | 50.7 | 4360.93 | 3667.06 |\n",
       "| Detroit              |  61322 | 1619.75 |  230000 |  39.2 | 4.0 | 104.05 | 42.3314 |  -83.0458 | Democrat    | 50.0 | 6726.82 | 4540.60 |\n",
       "| Houston              |  68344 | 1578.00 |  325000 |  46.6 | 4.6 | 100.26 | 29.7604 |  -95.3698 | Democrat    | 69.4 | 5252.08 | 4128.41 |\n",
       "| Indianapolis         |  68719 | 1563.50 |  250000 |  36.4 | 3.7 | 105.23 | 39.7684 |  -86.1581 | Democrat    | 53.2 | 5775.23 | 4411.87 |\n",
       "| Kansas City          |  63417 | 1686.25 |  279000 |  44.1 | 3.6 | 106.77 | 39.0997 |  -94.5786 | Democrat    | 54.5 | 6309.55 | 4543.79 |\n",
       "| Las Vegas            |  59150 | 1666.00 |  415000 |  27.5 | 5.2 | 104.66 | 36.1699 | -115.1398 | Nonpartisan | 68.5 | 3567.87 | 2943.38 |\n",
       "| Los Angeles          |  76445 | 3587.25 |  920000 |  59.0 | 4.8 |  87.86 | 34.0522 | -118.2437 | Democrat    | 65.4 | 3332.52 | 2535.92 |\n",
       "| Miami                |  77732 | 3056.50 |  465000 |  54.2 | 2.5 |  90.97 | 25.7617 |  -80.1918 | Republican  | 76.9 | 4750.89 | 4014.18 |\n",
       "| Minneapolis-St. Paul |  75164 | 1896.50 |  335000 |  54.4 | 3.3 |  96.54 | 44.9778 |  -93.2650 | Democrat    | 46.1 | 5768.18 | 4641.37 |\n",
       "| Nashville            |  74035 | 1903.50 |  419900 |  43.5 | 2.2 | 104.68 | 36.1627 |  -86.7816 | Democrat    | 59.8 | 4966.50 | 3817.96 |\n",
       "| New York             |  84084 | 4120.75 |  565000 | 100.0 | 4.7 |  87.28 | 40.7128 |  -74.0060 | Democrat    | 55.3 | 1987.49 | 1448.59 |\n",
       "| Orlando              |  53959 | 2246.50 |  380000 |  32.4 | 3.2 | 100.19 | 28.5383 |  -81.3792 | Democrat    | 73.5 | 6206.38 | 5454.57 |\n",
       "| Philadelphia         |  73291 | 2340.25 |  301250 |  55.1 | 3.8 | 100.80 | 39.9526 |  -75.1652 | Democrat    | 55.8 | 4037.27 | 3063.48 |\n",
       "| Phoenix              |  61840 | 2182.25 |  449000 |  33.6 | 3.3 | 100.83 | 33.4484 | -112.0740 | Democrat    | 75.0 | 4443.20 | 3670.71 |\n",
       "| Pittsburgh           |  65792 | 1800.75 |  192500 |  57.2 | 3.6 | 105.09 | 40.4406 |  -79.9959 | Democrat    | 51.4 | 3815.23 | 3114.42 |\n",
       "| Portland             |  69435 | 2333.00 |  515000 |  68.5 | 4.8 |  94.90 | 45.5051 | -122.6750 | Democrat    | 54.4 | 6239.99 | 5677.02 |\n",
       "| Sacramento           |  66940 | 2614.25 |  542000 |  40.4 | 5.2 |  94.08 | 38.5816 | -121.4944 | Democrat    | 61.3 | 3654.02 | 2936.62 |\n",
       "| San Antonio          |  55180 | 1463.00 |  297000 |  29.4 | 4.1 | 103.76 | 29.4241 |  -98.4936 | Independent | 69.5 | 5565.95 | 4844.84 |\n",
       "| San Diego            |  74326 | 3400.25 |  860000 |  37.0 | 4.7 |  86.84 | 32.7157 | -117.1611 | Democrat    | 64.1 | 2220.67 | 1842.97 |\n",
       "| San Francisco        | 123736 | 3788.75 | 1065000 |  66.2 | 4.4 |  83.45 | 37.7749 | -122.4194 | Democrat    | 59.5 | 6917.40 | 6168.02 |\n",
       "| Seattle              |  92113 | 2946.00 |  665000 |  69.4 | 4.7 |  87.28 | 47.6062 | -122.3321 | Democrat    | 52.4 | 5911.99 | 5258.64 |\n",
       "| St. Louis            |  69698 | 1680.50 |  218000 |  43.5 | 4.0 | 103.90 | 38.6270 |  -90.1994 | Democrat    | 57.0 | 8188.31 | 6041.24 |\n",
       "| Tampa                |  60091 | 2207.50 |  365000 |  35.4 | 3.3 | 101.04 | 27.9506 |  -82.4572 | Democrat    | 73.2 | 2218.24 | 1743.68 |\n",
       "| Virginia Beach       |  57873 | 1826.00 |  309750 |  34.5 | 3.0 | 102.26 | 36.8529 |  -75.9780 | Republican  | 65.0 | 2083.40 | 1934.62 |\n",
       "| Washington, DC       |  83010 | 2657.25 |  515000 |  72.6 | 3.0 |  89.82 | 38.9072 |  -77.0369 | Democrat    | 58.2 | 5104.96 | 4156.22 |\n",
       "\n"
      ],
      "text/plain": [
       "   Region               Personal Income Median Rent Median Sale Price\n",
       "1  Atlanta               64107          2113.00      357000          \n",
       "2  Austin                75119          1937.50      451250          \n",
       "3  Baltimore             71420          1981.50      325500          \n",
       "4  Boston                94082          3939.50      600000          \n",
       "5  Charlotte             65156          1923.50      365000          \n",
       "6  Chicago               72512          2357.50      290000          \n",
       "7  Cincinnati            65253          1646.00      247000          \n",
       "8  Cleveland             62921          1471.25      179000          \n",
       "9  Dallas-Fort Worth     70493          2180.00      380000          \n",
       "10 Denver                84788          2677.00      556000          \n",
       "11 Detroit               61322          1619.75      230000          \n",
       "12 Houston               68344          1578.00      325000          \n",
       "13 Indianapolis          68719          1563.50      250000          \n",
       "14 Kansas City           63417          1686.25      279000          \n",
       "15 Las Vegas             59150          1666.00      415000          \n",
       "16 Los Angeles           76445          3587.25      920000          \n",
       "17 Miami                 77732          3056.50      465000          \n",
       "18 Minneapolis-St. Paul  75164          1896.50      335000          \n",
       "19 Nashville             74035          1903.50      419900          \n",
       "20 New York              84084          4120.75      565000          \n",
       "21 Orlando               53959          2246.50      380000          \n",
       "22 Philadelphia          73291          2340.25      301250          \n",
       "23 Phoenix               61840          2182.25      449000          \n",
       "24 Pittsburgh            65792          1800.75      192500          \n",
       "25 Portland              69435          2333.00      515000          \n",
       "26 Sacramento            66940          2614.25      542000          \n",
       "27 San Antonio           55180          1463.00      297000          \n",
       "28 San Diego             74326          3400.25      860000          \n",
       "29 San Francisco        123736          3788.75     1065000          \n",
       "30 Seattle               92113          2946.00      665000          \n",
       "31 St. Louis             69698          1680.50      218000          \n",
       "32 Tampa                 60091          2207.50      365000          \n",
       "33 Virginia Beach        57873          1826.00      309750          \n",
       "34 Washington, DC        83010          2657.25      515000          \n",
       "   Walkability Unemployment Purchasing Power Latitude Longitude\n",
       "1   49.4       3.0          100.89           33.7490   -84.3880\n",
       "2   50.0       3.7           99.96           30.2672   -97.7431\n",
       "3   44.7       2.8           95.23           39.2904   -76.6122\n",
       "4   74.3       3.3           91.17           42.3601   -71.0589\n",
       "5   51.7       3.6          103.52           35.2271   -80.8431\n",
       "6   65.9       5.3           94.86           41.8781   -87.6298\n",
       "7   40.0       4.1          106.00           39.1031   -84.5120\n",
       "8   47.0       4.6          106.15           41.4993   -81.6944\n",
       "9   38.9       4.2           96.29           32.7767   -96.7970\n",
       "10  48.7       4.2           91.61           39.7392  -104.9903\n",
       "11  39.2       4.0          104.05           42.3314   -83.0458\n",
       "12  46.6       4.6          100.26           29.7604   -95.3698\n",
       "13  36.4       3.7          105.23           39.7684   -86.1581\n",
       "14  44.1       3.6          106.77           39.0997   -94.5786\n",
       "15  27.5       5.2          104.66           36.1699  -115.1398\n",
       "16  59.0       4.8           87.86           34.0522  -118.2437\n",
       "17  54.2       2.5           90.97           25.7617   -80.1918\n",
       "18  54.4       3.3           96.54           44.9778   -93.2650\n",
       "19  43.5       2.2          104.68           36.1627   -86.7816\n",
       "20 100.0       4.7           87.28           40.7128   -74.0060\n",
       "21  32.4       3.2          100.19           28.5383   -81.3792\n",
       "22  55.1       3.8          100.80           39.9526   -75.1652\n",
       "23  33.6       3.3          100.83           33.4484  -112.0740\n",
       "24  57.2       3.6          105.09           40.4406   -79.9959\n",
       "25  68.5       4.8           94.90           45.5051  -122.6750\n",
       "26  40.4       5.2           94.08           38.5816  -121.4944\n",
       "27  29.4       4.1          103.76           29.4241   -98.4936\n",
       "28  37.0       4.7           86.84           32.7157  -117.1611\n",
       "29  66.2       4.4           83.45           37.7749  -122.4194\n",
       "30  69.4       4.7           87.28           47.6062  -122.3321\n",
       "31  43.5       4.0          103.90           38.6270   -90.1994\n",
       "32  35.4       3.3          101.04           27.9506   -82.4572\n",
       "33  34.5       3.0          102.26           36.8529   -75.9780\n",
       "34  72.6       3.0           89.82           38.9072   -77.0369\n",
       "   Political Affiliation Average Yearly Temperature(F) Violent Crime Rate\n",
       "1  Democrat              62.6                          5727.52           \n",
       "2  Democrat              69.3                          3612.23           \n",
       "3  Democrat              55.6                          6997.68           \n",
       "4  Democrat              51.7                          2758.22           \n",
       "5  Democrat              60.9                          3836.39           \n",
       "6  Democrat              49.7                          4381.65           \n",
       "7  Democrat              56.5                          5997.00           \n",
       "8  Democrat              51.5                          6538.45           \n",
       "9  Republican            66.2                          3985.95           \n",
       "10 Democrat              50.7                          4360.93           \n",
       "11 Democrat              50.0                          6726.82           \n",
       "12 Democrat              69.4                          5252.08           \n",
       "13 Democrat              53.2                          5775.23           \n",
       "14 Democrat              54.5                          6309.55           \n",
       "15 Nonpartisan           68.5                          3567.87           \n",
       "16 Democrat              65.4                          3332.52           \n",
       "17 Republican            76.9                          4750.89           \n",
       "18 Democrat              46.1                          5768.18           \n",
       "19 Democrat              59.8                          4966.50           \n",
       "20 Democrat              55.3                          1987.49           \n",
       "21 Democrat              73.5                          6206.38           \n",
       "22 Democrat              55.8                          4037.27           \n",
       "23 Democrat              75.0                          4443.20           \n",
       "24 Democrat              51.4                          3815.23           \n",
       "25 Democrat              54.4                          6239.99           \n",
       "26 Democrat              61.3                          3654.02           \n",
       "27 Independent           69.5                          5565.95           \n",
       "28 Democrat              64.1                          2220.67           \n",
       "29 Democrat              59.5                          6917.40           \n",
       "30 Democrat              52.4                          5911.99           \n",
       "31 Democrat              57.0                          8188.31           \n",
       "32 Democrat              73.2                          2218.24           \n",
       "33 Republican            65.0                          2083.40           \n",
       "34 Democrat              58.2                          5104.96           \n",
       "   Non-Violent Crime Rate\n",
       "1  4776.43               \n",
       "2  3189.57               \n",
       "3  4928.11               \n",
       "4  2089.02               \n",
       "5  3815.18               \n",
       "6  3263.80               \n",
       "7  5049.88               \n",
       "8  4916.04               \n",
       "9  3185.09               \n",
       "10 3667.06               \n",
       "11 4540.60               \n",
       "12 4128.41               \n",
       "13 4411.87               \n",
       "14 4543.79               \n",
       "15 2943.38               \n",
       "16 2535.92               \n",
       "17 4014.18               \n",
       "18 4641.37               \n",
       "19 3817.96               \n",
       "20 1448.59               \n",
       "21 5454.57               \n",
       "22 3063.48               \n",
       "23 3670.71               \n",
       "24 3114.42               \n",
       "25 5677.02               \n",
       "26 2936.62               \n",
       "27 4844.84               \n",
       "28 1842.97               \n",
       "29 6168.02               \n",
       "30 5258.64               \n",
       "31 6041.24               \n",
       "32 1743.68               \n",
       "33 1934.62               \n",
       "34 4156.22               "
      ]
     },
     "metadata": {},
     "output_type": "display_data"
    }
   ],
   "source": [
    "colnames(df)\n",
    "\n",
    "colnames(df) <- c(\"Region\", \"Personal Income\", \"Median Rent\", \"Median Sale Price\", \"Walkability\", \"Unemployment\", \"Purchasing Power\", \"Latitude\", \"Longitude\", \"Political Affiliation\", \"Average Yearly Temperature(F)\", \"Violent Crime Rate\", \"Non-Violent Crime Rate\")\n",
    "\n",
    "df"
   ]
  },
  {
   "cell_type": "code",
   "execution_count": 11,
   "metadata": {
    "vscode": {
     "languageId": "r"
    }
   },
   "outputs": [],
   "source": [
    "write.csv(df, file = \"../final_data/final_data.csv\", row.names = FALSE)"
   ]
  }
 ],
 "metadata": {
  "kernelspec": {
   "display_name": "R",
   "language": "R",
   "name": "ir"
  },
  "language_info": {
   "codemirror_mode": "r",
   "file_extension": ".r",
   "mimetype": "text/x-r-source",
   "name": "R",
   "pygments_lexer": "r",
   "version": "4.3.1"
  }
 },
 "nbformat": 4,
 "nbformat_minor": 2
}
