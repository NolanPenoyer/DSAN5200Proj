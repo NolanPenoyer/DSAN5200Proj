{
 "cells": [
  {
   "cell_type": "markdown",
   "metadata": {},
   "source": [
    "# Import Libraries"
   ]
  },
  {
   "cell_type": "code",
   "execution_count": 4,
   "metadata": {},
   "outputs": [],
   "source": [
    "import pandas as pd\n",
    "import numpy as np\n",
    "import matplotlib.pyplot as plt\n",
    "import seaborn as sns\n",
    "import streamlit as st\n"
   ]
  },
  {
   "cell_type": "markdown",
   "metadata": {},
   "source": [
    "# Load in dataset"
   ]
  },
  {
   "cell_type": "code",
   "execution_count": 5,
   "metadata": {},
   "outputs": [
    {
     "data": {
      "text/html": [
       "<div>\n",
       "<style scoped>\n",
       "    .dataframe tbody tr th:only-of-type {\n",
       "        vertical-align: middle;\n",
       "    }\n",
       "\n",
       "    .dataframe tbody tr th {\n",
       "        vertical-align: top;\n",
       "    }\n",
       "\n",
       "    .dataframe thead th {\n",
       "        text-align: right;\n",
       "    }\n",
       "</style>\n",
       "<table border=\"1\" class=\"dataframe\">\n",
       "  <thead>\n",
       "    <tr style=\"text-align: right;\">\n",
       "      <th></th>\n",
       "      <th>REGION</th>\n",
       "      <th>personal.income</th>\n",
       "      <th>Median.Rent</th>\n",
       "      <th>median.sale.price</th>\n",
       "      <th>Walkable</th>\n",
       "      <th>Unemployment</th>\n",
       "      <th>Purchase_power_100_dollars</th>\n",
       "    </tr>\n",
       "  </thead>\n",
       "  <tbody>\n",
       "    <tr>\n",
       "      <th>0</th>\n",
       "      <td>Atlanta</td>\n",
       "      <td>64107</td>\n",
       "      <td>2113.0</td>\n",
       "      <td>357000.0</td>\n",
       "      <td>49.4</td>\n",
       "      <td>3.0</td>\n",
       "      <td>100.89</td>\n",
       "    </tr>\n",
       "    <tr>\n",
       "      <th>1</th>\n",
       "      <td>Austin</td>\n",
       "      <td>75119</td>\n",
       "      <td>1937.5</td>\n",
       "      <td>451250.0</td>\n",
       "      <td>50.0</td>\n",
       "      <td>3.7</td>\n",
       "      <td>99.96</td>\n",
       "    </tr>\n",
       "    <tr>\n",
       "      <th>2</th>\n",
       "      <td>Baltimore</td>\n",
       "      <td>71420</td>\n",
       "      <td>1981.5</td>\n",
       "      <td>325500.0</td>\n",
       "      <td>44.7</td>\n",
       "      <td>2.8</td>\n",
       "      <td>95.23</td>\n",
       "    </tr>\n",
       "    <tr>\n",
       "      <th>3</th>\n",
       "      <td>Boston</td>\n",
       "      <td>94082</td>\n",
       "      <td>3939.5</td>\n",
       "      <td>600000.0</td>\n",
       "      <td>74.3</td>\n",
       "      <td>3.3</td>\n",
       "      <td>91.17</td>\n",
       "    </tr>\n",
       "    <tr>\n",
       "      <th>4</th>\n",
       "      <td>Charlotte</td>\n",
       "      <td>65156</td>\n",
       "      <td>1923.5</td>\n",
       "      <td>365000.0</td>\n",
       "      <td>51.7</td>\n",
       "      <td>3.6</td>\n",
       "      <td>103.52</td>\n",
       "    </tr>\n",
       "  </tbody>\n",
       "</table>\n",
       "</div>"
      ],
      "text/plain": [
       "      REGION  personal.income  Median.Rent  median.sale.price  Walkable  \\\n",
       "0    Atlanta            64107       2113.0           357000.0      49.4   \n",
       "1     Austin            75119       1937.5           451250.0      50.0   \n",
       "2  Baltimore            71420       1981.5           325500.0      44.7   \n",
       "3     Boston            94082       3939.5           600000.0      74.3   \n",
       "4  Charlotte            65156       1923.5           365000.0      51.7   \n",
       "\n",
       "   Unemployment  Purchase_power_100_dollars  \n",
       "0           3.0                      100.89  \n",
       "1           3.7                       99.96  \n",
       "2           2.8                       95.23  \n",
       "3           3.3                       91.17  \n",
       "4           3.6                      103.52  "
      ]
     },
     "execution_count": 5,
     "metadata": {},
     "output_type": "execute_result"
    }
   ],
   "source": [
    "df = pd.read_csv('../final_data/metro_data.csv')\n",
    "\n",
    "df.head()"
   ]
  }
 ],
 "metadata": {
  "kernelspec": {
   "display_name": "Python 3",
   "language": "python",
   "name": "python3"
  },
  "language_info": {
   "codemirror_mode": {
    "name": "ipython",
    "version": 3
   },
   "file_extension": ".py",
   "mimetype": "text/x-python",
   "name": "python",
   "nbconvert_exporter": "python",
   "pygments_lexer": "ipython3",
   "version": "3.11.5"
  }
 },
 "nbformat": 4,
 "nbformat_minor": 2
}
