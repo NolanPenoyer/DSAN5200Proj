{
  "cells": [
    {
      "cell_type": "raw",
      "metadata": {},
      "source": [
        "---\n",
        "title: \"About\"\n",
        "format: html\n",
        "bibliography: ./reference.bib\n",
        "---"
      ]
    },
    {
      "cell_type": "markdown",
      "metadata": {},
      "source": [
        "## About this site\n",
        "\n",
        "## Ethics Statement ???\n",
        "\n",
        "\n",
        "## Code\n",
        "[GitHub Repository](https://github.com/NolanPenoyer/DSAN5200Proj)\n",
        "\n",
        "## Contributors\n",
        "Nolan Penoyer - [GitHub](https://github.com/NolanPenoyer)<br>\n",
        "Shingai Nindi - [GitHub](https://github.com/shingi7)<br>\n",
        "Eric Dapkus - [GitHub](https://github.com/emdapkus)<br>\n",
        "\n",
        "## Data\n",
        "\n",
        "Median Sale Price - [-@ZillowData]<br>\n",
        "Median Rent Price - [-@Rent]<br>\n",
        "Unemployment rate - [-@unemploy]<br>\n",
        "Walkability - [-@walk]<br>\n",
        "Personal Income - [-@income]<br>\n",
        "Purchasing Power - [-@pp]<br>\n",
        "Crime Stats - [-@crime]<br>\n",
        "Party Affiliation - [-@party]<br>\n",
        "Weather - [-@weather]<br>"
      ]
    }
  ],
  "metadata": {
    "kernelspec": {
      "display_name": "Python 3 (ipykernel)",
      "language": "python",
      "name": "python3"
    }
  },
  "nbformat": 4,
  "nbformat_minor": 4
}
